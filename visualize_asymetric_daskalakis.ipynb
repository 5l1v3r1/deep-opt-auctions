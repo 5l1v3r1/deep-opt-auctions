{
 "cells": [
  {
   "cell_type": "code",
   "execution_count": 1,
   "metadata": {
    "collapsed": true
   },
   "outputs": [],
   "source": [
    "from __future__ import absolute_import\n",
    "from __future__ import division\n",
    "from __future__ import print_function\n",
    "\n",
    "import os\n",
    "import sys\n",
    "import numpy as np\n",
    "import tensorflow as tf\n",
    "import matplotlib.pyplot as plt\n",
    "\n",
    "from nets import *\n",
    "from cfgs import *\n",
    "from data import *\n",
    "from clip_ops.clip_ops import *\n",
    "from trainer import *"
   ]
  },
  {
   "cell_type": "code",
   "execution_count": 2,
   "metadata": {},
   "outputs": [
    {
     "name": "stdout",
     "output_type": "stream",
     "text": [
      "(40401, 1, 2)\n"
     ]
    }
   ],
   "source": [
    "%matplotlib inline\n",
    "save_plot = True\n",
    "plt.rcParams.update({'font.size': 10, 'axes.labelsize': 'x-large'})\n",
    "D = 201\n",
    "\n",
    "x = np.linspace(0, 1.0, D)\n",
    "X_tst = np.stack([v.flatten() for v in np.meshgrid(x,x)], axis = -1)\n",
    "X_tst = np.expand_dims(X_tst, 1)\n",
    "X_tst[:,:,0] = X_tst[:,:,0] * 12.0 + 4.0\n",
    "X_tst[:,:,1] = X_tst[:,:,1] * 3.0 + 4.0\n",
    "print(X_tst.shape)\n",
    "\n",
    "cfg = additive_1x2_uniform_416_47_config.cfg\n",
    "cfg.test.num_misreports = 1\n",
    "cfg.test.gd_iter = 0\n",
    "cfg.test.batch_size = D\n",
    "cfg.test.num_batches = int(X_tst.shape[0]/cfg.test.batch_size)\n",
    "cfg.test.save_output = True"
   ]
  },
  {
   "cell_type": "code",
   "execution_count": 3,
   "metadata": {
    "collapsed": true
   },
   "outputs": [],
   "source": [
    "Net = additive_net.Net\n",
    "Generator = uniform_416_47_generator.Generator\n",
    "clip_op_lambda = (lambda x: clip_op_416_47(x))\n",
    "Trainer = trainer.Trainer"
   ]
  },
  {
   "cell_type": "code",
   "execution_count": 4,
   "metadata": {},
   "outputs": [
    {
     "name": "stdout",
     "output_type": "stream",
     "text": [
      "INFO:tensorflow:Restoring parameters from experiments/additive_1x2_uniform_416_47/model-400000\n"
     ]
    },
    {
     "name": "stderr",
     "output_type": "stream",
     "text": [
      "2019-01-22 00:02:37,330:INFO:Restoring parameters from experiments/additive_1x2_uniform_416_47/model-400000\n",
      "2019-01-22 00:02:41,154:INFO:TEST BATCH-0: t = 3.7863, Revenue: 7.943060, Regret: 0.000000, IRP: 0.000000\n",
      "2019-01-22 00:02:41,164:INFO:TEST BATCH-1: t = 3.7917, Revenue: 7.959988, Regret: 0.000000, IRP: 0.000000\n",
      "2019-01-22 00:02:41,173:INFO:TEST BATCH-2: t = 3.7967, Revenue: 7.976921, Regret: 0.000000, IRP: 0.000000\n",
      "2019-01-22 00:02:41,182:INFO:TEST BATCH-3: t = 3.8016, Revenue: 7.993859, Regret: 0.000000, IRP: 0.000000\n",
      "2019-01-22 00:02:41,189:INFO:TEST BATCH-4: t = 3.8061, Revenue: 8.010807, Regret: 0.000000, IRP: 0.000000\n",
      "2019-01-22 00:02:41,197:INFO:TEST BATCH-5: t = 3.8105, Revenue: 8.027761, Regret: 0.000000, IRP: 0.000000\n",
      "2019-01-22 00:02:41,204:INFO:TEST BATCH-6: t = 3.8147, Revenue: 8.044725, Regret: 0.000000, IRP: 0.000000\n",
      "2019-01-22 00:02:41,211:INFO:TEST BATCH-7: t = 3.8189, Revenue: 8.061701, Regret: 0.000000, IRP: 0.000000\n",
      "2019-01-22 00:02:41,218:INFO:TEST BATCH-8: t = 3.8229, Revenue: 8.078689, Regret: 0.000000, IRP: 0.000000\n",
      "2019-01-22 00:02:41,225:INFO:TEST BATCH-9: t = 3.8269, Revenue: 8.095689, Regret: 0.000000, IRP: 0.000000\n",
      "2019-01-22 00:02:41,232:INFO:TEST BATCH-10: t = 3.8309, Revenue: 8.112704, Regret: 0.000000, IRP: 0.000000\n",
      "2019-01-22 00:02:41,239:INFO:TEST BATCH-11: t = 3.8352, Revenue: 8.129735, Regret: 0.000000, IRP: 0.000000\n",
      "2019-01-22 00:02:41,247:INFO:TEST BATCH-12: t = 3.8396, Revenue: 8.146782, Regret: 0.000000, IRP: 0.000000\n",
      "2019-01-22 00:02:41,254:INFO:TEST BATCH-13: t = 3.8439, Revenue: 8.163849, Regret: 0.000000, IRP: 0.000000\n",
      "2019-01-22 00:02:41,261:INFO:TEST BATCH-14: t = 3.8483, Revenue: 8.180934, Regret: 0.000000, IRP: 0.000000\n",
      "2019-01-22 00:02:41,269:INFO:TEST BATCH-15: t = 3.8526, Revenue: 8.198041, Regret: 0.000000, IRP: 0.000000\n",
      "2019-01-22 00:02:41,276:INFO:TEST BATCH-16: t = 3.8569, Revenue: 8.215170, Regret: 0.000000, IRP: 0.000000\n",
      "2019-01-22 00:02:41,283:INFO:TEST BATCH-17: t = 3.8612, Revenue: 8.232324, Regret: 0.000000, IRP: 0.000000\n",
      "2019-01-22 00:02:41,290:INFO:TEST BATCH-18: t = 3.8656, Revenue: 8.249502, Regret: 0.000000, IRP: 0.000000\n",
      "2019-01-22 00:02:41,298:INFO:TEST BATCH-19: t = 3.8701, Revenue: 8.266709, Regret: 0.000000, IRP: 0.000000\n",
      "2019-01-22 00:02:41,305:INFO:TEST BATCH-20: t = 3.8743, Revenue: 8.283944, Regret: 0.000000, IRP: 0.000000\n",
      "2019-01-22 00:02:41,312:INFO:TEST BATCH-21: t = 3.8787, Revenue: 8.301208, Regret: 0.000000, IRP: 0.000000\n",
      "2019-01-22 00:02:41,319:INFO:TEST BATCH-22: t = 3.8829, Revenue: 8.318505, Regret: 0.000001, IRP: 0.000000\n",
      "2019-01-22 00:02:41,326:INFO:TEST BATCH-23: t = 3.8873, Revenue: 8.335835, Regret: 0.000000, IRP: 0.000000\n",
      "2019-01-22 00:02:41,333:INFO:TEST BATCH-24: t = 3.8916, Revenue: 8.353200, Regret: 0.000000, IRP: 0.000000\n",
      "2019-01-22 00:02:41,341:INFO:TEST BATCH-25: t = 3.8958, Revenue: 8.370602, Regret: 0.000000, IRP: 0.000000\n",
      "2019-01-22 00:02:41,348:INFO:TEST BATCH-26: t = 3.9001, Revenue: 8.388041, Regret: 0.000000, IRP: 0.000000\n",
      "2019-01-22 00:02:41,355:INFO:TEST BATCH-27: t = 3.9046, Revenue: 8.405519, Regret: 0.000000, IRP: 0.000000\n",
      "2019-01-22 00:02:41,362:INFO:TEST BATCH-28: t = 3.9089, Revenue: 8.423040, Regret: 0.000000, IRP: 0.000000\n",
      "2019-01-22 00:02:41,369:INFO:TEST BATCH-29: t = 3.9131, Revenue: 8.440603, Regret: 0.000000, IRP: 0.000000\n",
      "2019-01-22 00:02:41,377:INFO:TEST BATCH-30: t = 3.9176, Revenue: 8.458211, Regret: 0.000000, IRP: 0.000000\n",
      "2019-01-22 00:02:41,384:INFO:TEST BATCH-31: t = 3.9223, Revenue: 8.475864, Regret: 0.000000, IRP: 0.000000\n",
      "2019-01-22 00:02:41,392:INFO:TEST BATCH-32: t = 3.9272, Revenue: 8.493567, Regret: 0.000000, IRP: 0.000000\n",
      "2019-01-22 00:02:41,400:INFO:TEST BATCH-33: t = 3.9318, Revenue: 8.511316, Regret: 0.000000, IRP: 0.000000\n",
      "2019-01-22 00:02:41,413:INFO:TEST BATCH-34: t = 3.9421, Revenue: 8.529118, Regret: 0.000000, IRP: 0.000000\n",
      "2019-01-22 00:02:41,420:INFO:TEST BATCH-35: t = 3.9466, Revenue: 8.546971, Regret: 0.000000, IRP: 0.000000\n",
      "2019-01-22 00:02:41,428:INFO:TEST BATCH-36: t = 3.9518, Revenue: 8.564877, Regret: 0.000000, IRP: 0.000000\n",
      "2019-01-22 00:02:41,436:INFO:TEST BATCH-37: t = 3.9568, Revenue: 8.582838, Regret: 0.000000, IRP: 0.000000\n",
      "2019-01-22 00:02:41,443:INFO:TEST BATCH-38: t = 3.9611, Revenue: 8.600856, Regret: 0.000000, IRP: 0.000000\n",
      "2019-01-22 00:02:41,450:INFO:TEST BATCH-39: t = 3.9656, Revenue: 8.618930, Regret: 0.000000, IRP: 0.000000\n",
      "2019-01-22 00:02:41,458:INFO:TEST BATCH-40: t = 3.9701, Revenue: 8.637061, Regret: 0.000000, IRP: 0.000000\n",
      "2019-01-22 00:02:41,465:INFO:TEST BATCH-41: t = 3.9745, Revenue: 8.655254, Regret: 0.000000, IRP: 0.000000\n",
      "2019-01-22 00:02:41,472:INFO:TEST BATCH-42: t = 3.9788, Revenue: 8.673508, Regret: 0.000000, IRP: 0.000000\n",
      "2019-01-22 00:02:41,479:INFO:TEST BATCH-43: t = 3.9832, Revenue: 8.691822, Regret: 0.000000, IRP: 0.000000\n",
      "2019-01-22 00:02:41,487:INFO:TEST BATCH-44: t = 3.9875, Revenue: 8.710199, Regret: 0.000000, IRP: 0.000000\n",
      "2019-01-22 00:02:41,494:INFO:TEST BATCH-45: t = 3.9919, Revenue: 8.728640, Regret: 0.000000, IRP: 0.000000\n",
      "2019-01-22 00:02:41,501:INFO:TEST BATCH-46: t = 3.9965, Revenue: 8.747143, Regret: 0.000000, IRP: 0.000000\n",
      "2019-01-22 00:02:41,509:INFO:TEST BATCH-47: t = 4.0007, Revenue: 8.765712, Regret: 0.000000, IRP: 0.000000\n",
      "2019-01-22 00:02:41,517:INFO:TEST BATCH-48: t = 4.0049, Revenue: 8.784346, Regret: 0.000000, IRP: 0.000000\n",
      "2019-01-22 00:02:41,524:INFO:TEST BATCH-49: t = 4.0091, Revenue: 8.803046, Regret: 0.000000, IRP: 0.000000\n",
      "2019-01-22 00:02:41,531:INFO:TEST BATCH-50: t = 4.0134, Revenue: 8.821812, Regret: 0.000000, IRP: 0.000000\n",
      "2019-01-22 00:02:41,538:INFO:TEST BATCH-51: t = 4.0176, Revenue: 8.840642, Regret: 0.000000, IRP: 0.000000\n",
      "2019-01-22 00:02:41,545:INFO:TEST BATCH-52: t = 4.0218, Revenue: 8.859540, Regret: 0.000000, IRP: 0.000000\n",
      "2019-01-22 00:02:41,553:INFO:TEST BATCH-53: t = 4.0261, Revenue: 8.878504, Regret: 0.000000, IRP: 0.000000\n",
      "2019-01-22 00:02:41,560:INFO:TEST BATCH-54: t = 4.0303, Revenue: 8.897534, Regret: 0.000000, IRP: 0.000000\n",
      "2019-01-22 00:02:41,567:INFO:TEST BATCH-55: t = 4.0345, Revenue: 8.916632, Regret: 0.000000, IRP: 0.000000\n",
      "2019-01-22 00:02:41,574:INFO:TEST BATCH-56: t = 4.0387, Revenue: 8.935795, Regret: 0.000000, IRP: 0.000000\n",
      "2019-01-22 00:02:41,582:INFO:TEST BATCH-57: t = 4.0429, Revenue: 8.955024, Regret: 0.000000, IRP: 0.000000\n",
      "2019-01-22 00:02:41,589:INFO:TEST BATCH-58: t = 4.0471, Revenue: 8.974318, Regret: 0.000000, IRP: 0.000000\n",
      "2019-01-22 00:02:41,597:INFO:TEST BATCH-59: t = 4.0514, Revenue: 8.993676, Regret: 0.000000, IRP: 0.000000\n",
      "2019-01-22 00:02:41,604:INFO:TEST BATCH-60: t = 4.0556, Revenue: 9.013101, Regret: 0.000000, IRP: 0.000000\n",
      "2019-01-22 00:02:41,611:INFO:TEST BATCH-61: t = 4.0599, Revenue: 9.032587, Regret: 0.000000, IRP: 0.000000\n",
      "2019-01-22 00:02:41,619:INFO:TEST BATCH-62: t = 4.0641, Revenue: 9.052138, Regret: 0.000000, IRP: 0.000000\n",
      "2019-01-22 00:02:41,627:INFO:TEST BATCH-63: t = 4.0683, Revenue: 9.071751, Regret: 0.000000, IRP: 0.000000\n",
      "2019-01-22 00:02:41,635:INFO:TEST BATCH-64: t = 4.0725, Revenue: 9.091425, Regret: 0.000000, IRP: 0.000000\n",
      "2019-01-22 00:02:41,644:INFO:TEST BATCH-65: t = 4.0774, Revenue: 9.111159, Regret: 0.000000, IRP: 0.000000\n",
      "2019-01-22 00:02:41,651:INFO:TEST BATCH-66: t = 4.0816, Revenue: 9.130954, Regret: 0.000000, IRP: 0.000000\n",
      "2019-01-22 00:02:41,658:INFO:TEST BATCH-67: t = 4.0863, Revenue: 9.150807, Regret: 0.000000, IRP: 0.000000\n",
      "2019-01-22 00:02:41,666:INFO:TEST BATCH-68: t = 4.0907, Revenue: 9.170717, Regret: 0.000000, IRP: 0.000000\n",
      "2019-01-22 00:02:41,673:INFO:TEST BATCH-69: t = 4.0949, Revenue: 9.190684, Regret: 0.000000, IRP: 0.000000\n",
      "2019-01-22 00:02:41,680:INFO:TEST BATCH-70: t = 4.0992, Revenue: 9.210708, Regret: 0.000000, IRP: 0.000000\n",
      "2019-01-22 00:02:41,687:INFO:TEST BATCH-71: t = 4.1035, Revenue: 9.230783, Regret: 0.000000, IRP: 0.000000\n",
      "2019-01-22 00:02:41,694:INFO:TEST BATCH-72: t = 4.1079, Revenue: 9.250912, Regret: 0.000000, IRP: 0.000000\n",
      "2019-01-22 00:02:41,702:INFO:TEST BATCH-73: t = 4.1124, Revenue: 9.271091, Regret: 0.000000, IRP: 0.000000\n",
      "2019-01-22 00:02:41,709:INFO:TEST BATCH-74: t = 4.1166, Revenue: 9.291321, Regret: 0.000000, IRP: 0.000000\n",
      "2019-01-22 00:02:41,717:INFO:TEST BATCH-75: t = 4.1213, Revenue: 9.311600, Regret: 0.000000, IRP: 0.000000\n"
     ]
    },
    {
     "name": "stderr",
     "output_type": "stream",
     "text": [
      "2019-01-22 00:02:41,724:INFO:TEST BATCH-76: t = 4.1257, Revenue: 9.331925, Regret: 0.000000, IRP: 0.000000\n",
      "2019-01-22 00:02:41,732:INFO:TEST BATCH-77: t = 4.1301, Revenue: 9.352296, Regret: 0.000000, IRP: 0.000000\n",
      "2019-01-22 00:02:41,739:INFO:TEST BATCH-78: t = 4.1344, Revenue: 9.372710, Regret: 0.000000, IRP: 0.000000\n",
      "2019-01-22 00:02:41,746:INFO:TEST BATCH-79: t = 4.1388, Revenue: 9.393168, Regret: 0.000000, IRP: 0.000000\n",
      "2019-01-22 00:02:41,753:INFO:TEST BATCH-80: t = 4.1431, Revenue: 9.413666, Regret: 0.000000, IRP: 0.000000\n",
      "2019-01-22 00:02:41,761:INFO:TEST BATCH-81: t = 4.1477, Revenue: 9.434205, Regret: 0.000000, IRP: 0.000000\n",
      "2019-01-22 00:02:41,768:INFO:TEST BATCH-82: t = 4.1520, Revenue: 9.454781, Regret: 0.000000, IRP: 0.000000\n",
      "2019-01-22 00:02:41,775:INFO:TEST BATCH-83: t = 4.1563, Revenue: 9.475392, Regret: 0.000000, IRP: 0.000000\n",
      "2019-01-22 00:02:41,782:INFO:TEST BATCH-84: t = 4.1608, Revenue: 9.496040, Regret: 0.000000, IRP: 0.000000\n",
      "2019-01-22 00:02:41,789:INFO:TEST BATCH-85: t = 4.1650, Revenue: 9.516722, Regret: 0.000000, IRP: 0.000000\n",
      "2019-01-22 00:02:41,797:INFO:TEST BATCH-86: t = 4.1701, Revenue: 9.537435, Regret: 0.000000, IRP: 0.000000\n",
      "2019-01-22 00:02:41,805:INFO:TEST BATCH-87: t = 4.1748, Revenue: 9.558179, Regret: 0.000000, IRP: 0.000000\n",
      "2019-01-22 00:02:41,812:INFO:TEST BATCH-88: t = 4.1791, Revenue: 9.578953, Regret: 0.000000, IRP: 0.000000\n",
      "2019-01-22 00:02:41,819:INFO:TEST BATCH-89: t = 4.1832, Revenue: 9.599754, Regret: 0.000000, IRP: 0.000000\n",
      "2019-01-22 00:02:41,826:INFO:TEST BATCH-90: t = 4.1876, Revenue: 9.620584, Regret: 0.000000, IRP: 0.000000\n",
      "2019-01-22 00:02:41,833:INFO:TEST BATCH-91: t = 4.1919, Revenue: 9.641440, Regret: 0.000000, IRP: 0.000000\n",
      "2019-01-22 00:02:41,841:INFO:TEST BATCH-92: t = 4.1968, Revenue: 9.662321, Regret: 0.000000, IRP: 0.000000\n",
      "2019-01-22 00:02:41,848:INFO:TEST BATCH-93: t = 4.2010, Revenue: 9.683227, Regret: 0.000000, IRP: 0.000000\n",
      "2019-01-22 00:02:41,855:INFO:TEST BATCH-94: t = 4.2052, Revenue: 9.704156, Regret: 0.000000, IRP: 0.000000\n",
      "2019-01-22 00:02:41,863:INFO:TEST BATCH-95: t = 4.2095, Revenue: 9.725110, Regret: 0.000000, IRP: 0.000000\n",
      "2019-01-22 00:02:41,870:INFO:TEST BATCH-96: t = 4.2136, Revenue: 9.746086, Regret: 0.000000, IRP: 0.000000\n",
      "2019-01-22 00:02:41,877:INFO:TEST BATCH-97: t = 4.2178, Revenue: 9.767085, Regret: 0.000000, IRP: 0.000000\n",
      "2019-01-22 00:02:41,885:INFO:TEST BATCH-98: t = 4.2219, Revenue: 9.788108, Regret: 0.000000, IRP: 0.000000\n",
      "2019-01-22 00:02:41,892:INFO:TEST BATCH-99: t = 4.2262, Revenue: 9.809153, Regret: 0.000000, IRP: 0.000000\n",
      "2019-01-22 00:02:41,899:INFO:TEST BATCH-100: t = 4.2304, Revenue: 9.830221, Regret: 0.000000, IRP: 0.000000\n",
      "2019-01-22 00:02:41,906:INFO:TEST BATCH-101: t = 4.2349, Revenue: 9.851311, Regret: 0.000000, IRP: 0.000000\n",
      "2019-01-22 00:02:41,913:INFO:TEST BATCH-102: t = 4.2392, Revenue: 9.872427, Regret: 0.000000, IRP: 0.000000\n",
      "2019-01-22 00:02:41,920:INFO:TEST BATCH-103: t = 4.2436, Revenue: 9.893566, Regret: 0.000000, IRP: 0.000000\n",
      "2019-01-22 00:02:41,928:INFO:TEST BATCH-104: t = 4.2482, Revenue: 9.914730, Regret: 0.000000, IRP: 0.000000\n",
      "2019-01-22 00:02:41,935:INFO:TEST BATCH-105: t = 4.2527, Revenue: 9.935921, Regret: 0.000000, IRP: 0.000000\n",
      "2019-01-22 00:02:41,941:INFO:TEST BATCH-106: t = 4.2566, Revenue: 9.957136, Regret: 0.000000, IRP: 0.000000\n",
      "2019-01-22 00:02:41,946:INFO:TEST BATCH-107: t = 4.2596, Revenue: 9.978377, Regret: 0.000000, IRP: 0.000000\n",
      "2019-01-22 00:02:41,951:INFO:TEST BATCH-108: t = 4.2625, Revenue: 9.999644, Regret: 0.000000, IRP: 0.000000\n",
      "2019-01-22 00:02:41,956:INFO:TEST BATCH-109: t = 4.2653, Revenue: 10.020936, Regret: 0.000000, IRP: 0.000000\n",
      "2019-01-22 00:02:41,962:INFO:TEST BATCH-110: t = 4.2691, Revenue: 10.042247, Regret: 0.000000, IRP: 0.000000\n",
      "2019-01-22 00:02:41,967:INFO:TEST BATCH-111: t = 4.2718, Revenue: 10.063575, Regret: 0.000001, IRP: 0.000000\n",
      "2019-01-22 00:02:41,972:INFO:TEST BATCH-112: t = 4.2746, Revenue: 10.084908, Regret: 0.000000, IRP: 0.000000\n",
      "2019-01-22 00:02:41,977:INFO:TEST BATCH-113: t = 4.2778, Revenue: 10.106237, Regret: 0.000000, IRP: 0.000000\n",
      "2019-01-22 00:02:41,982:INFO:TEST BATCH-114: t = 4.2805, Revenue: 10.127545, Regret: 0.000000, IRP: 0.000000\n",
      "2019-01-22 00:02:41,986:INFO:TEST BATCH-115: t = 4.2832, Revenue: 10.148813, Regret: 0.000000, IRP: 0.000000\n",
      "2019-01-22 00:02:41,991:INFO:TEST BATCH-116: t = 4.2865, Revenue: 10.170016, Regret: 0.000000, IRP: 0.000000\n",
      "2019-01-22 00:02:41,996:INFO:TEST BATCH-117: t = 4.2892, Revenue: 10.191123, Regret: 0.000000, IRP: 0.000000\n",
      "2019-01-22 00:02:42,001:INFO:TEST BATCH-118: t = 4.2919, Revenue: 10.212097, Regret: 0.000000, IRP: 0.000000\n",
      "2019-01-22 00:02:42,007:INFO:TEST BATCH-119: t = 4.2955, Revenue: 10.232894, Regret: 0.000000, IRP: 0.000000\n",
      "2019-01-22 00:02:42,011:INFO:TEST BATCH-120: t = 4.2982, Revenue: 10.253455, Regret: 0.000000, IRP: 0.000000\n",
      "2019-01-22 00:02:42,016:INFO:TEST BATCH-121: t = 4.3008, Revenue: 10.273713, Regret: 0.000000, IRP: 0.000000\n",
      "2019-01-22 00:02:42,029:INFO:TEST BATCH-122: t = 4.3122, Revenue: 10.293580, Regret: 0.000000, IRP: 0.000000\n",
      "2019-01-22 00:02:42,034:INFO:TEST BATCH-123: t = 4.3153, Revenue: 10.312956, Regret: 0.000000, IRP: 0.000000\n",
      "2019-01-22 00:02:42,038:INFO:TEST BATCH-124: t = 4.3181, Revenue: 10.331730, Regret: 0.000000, IRP: 0.000000\n",
      "2019-01-22 00:02:42,043:INFO:TEST BATCH-125: t = 4.3209, Revenue: 10.349781, Regret: 0.000000, IRP: 0.000000\n",
      "2019-01-22 00:02:42,048:INFO:TEST BATCH-126: t = 4.3238, Revenue: 10.366993, Regret: 0.000000, IRP: 0.000000\n",
      "2019-01-22 00:02:42,052:INFO:TEST BATCH-127: t = 4.3266, Revenue: 10.383265, Regret: 0.000000, IRP: 0.000000\n",
      "2019-01-22 00:02:42,058:INFO:TEST BATCH-128: t = 4.3301, Revenue: 10.398518, Regret: 0.000000, IRP: 0.000000\n",
      "2019-01-22 00:02:42,062:INFO:TEST BATCH-129: t = 4.3328, Revenue: 10.412713, Regret: 0.000000, IRP: 0.000000\n",
      "2019-01-22 00:02:42,067:INFO:TEST BATCH-130: t = 4.3357, Revenue: 10.425838, Regret: 0.000000, IRP: 0.000000\n",
      "2019-01-22 00:02:42,072:INFO:TEST BATCH-131: t = 4.3390, Revenue: 10.437910, Regret: 0.000000, IRP: 0.000000\n",
      "2019-01-22 00:02:42,077:INFO:TEST BATCH-132: t = 4.3418, Revenue: 10.448976, Regret: 0.000000, IRP: 0.000000\n",
      "2019-01-22 00:02:42,082:INFO:TEST BATCH-133: t = 4.3446, Revenue: 10.459089, Regret: 0.000000, IRP: 0.000000\n",
      "2019-01-22 00:02:42,087:INFO:TEST BATCH-134: t = 4.3479, Revenue: 10.468316, Regret: 0.000000, IRP: 0.000000\n",
      "2019-01-22 00:02:42,091:INFO:TEST BATCH-135: t = 4.3507, Revenue: 10.476730, Regret: 0.000000, IRP: 0.000000\n",
      "2019-01-22 00:02:42,096:INFO:TEST BATCH-136: t = 4.3535, Revenue: 10.484401, Regret: 0.000000, IRP: 0.000000\n",
      "2019-01-22 00:02:42,101:INFO:TEST BATCH-137: t = 4.3566, Revenue: 10.491396, Regret: 0.000000, IRP: 0.000000\n",
      "2019-01-22 00:02:42,105:INFO:TEST BATCH-138: t = 4.3595, Revenue: 10.497784, Regret: 0.000000, IRP: 0.000000\n",
      "2019-01-22 00:02:42,110:INFO:TEST BATCH-139: t = 4.3623, Revenue: 10.503627, Regret: 0.000000, IRP: 0.000000\n",
      "2019-01-22 00:02:42,115:INFO:TEST BATCH-140: t = 4.3656, Revenue: 10.508983, Regret: 0.000001, IRP: 0.000000\n",
      "2019-01-22 00:02:42,120:INFO:TEST BATCH-141: t = 4.3684, Revenue: 10.513903, Regret: 0.000000, IRP: 0.000000\n",
      "2019-01-22 00:02:42,124:INFO:TEST BATCH-142: t = 4.3711, Revenue: 10.518435, Regret: 0.000000, IRP: 0.000000\n",
      "2019-01-22 00:02:42,130:INFO:TEST BATCH-143: t = 4.3747, Revenue: 10.522630, Regret: 0.000000, IRP: 0.000000\n",
      "2019-01-22 00:02:42,134:INFO:TEST BATCH-144: t = 4.3774, Revenue: 10.526522, Regret: 0.000000, IRP: 0.000000\n",
      "2019-01-22 00:02:42,139:INFO:TEST BATCH-145: t = 4.3801, Revenue: 10.530148, Regret: 0.000000, IRP: 0.000000\n",
      "2019-01-22 00:02:42,143:INFO:TEST BATCH-146: t = 4.3830, Revenue: 10.533539, Regret: 0.000000, IRP: 0.000000\n",
      "2019-01-22 00:02:42,148:INFO:TEST BATCH-147: t = 4.3861, Revenue: 10.536724, Regret: 0.000000, IRP: 0.000000\n",
      "2019-01-22 00:02:42,153:INFO:TEST BATCH-148: t = 4.3892, Revenue: 10.539730, Regret: 0.000000, IRP: 0.000000\n",
      "2019-01-22 00:02:42,158:INFO:TEST BATCH-149: t = 4.3926, Revenue: 10.542578, Regret: 0.000000, IRP: 0.000000\n",
      "2019-01-22 00:02:42,163:INFO:TEST BATCH-150: t = 4.3954, Revenue: 10.545285, Regret: 0.000000, IRP: 0.000000\n",
      "2019-01-22 00:02:42,168:INFO:TEST BATCH-151: t = 4.3986, Revenue: 10.547871, Regret: 0.000000, IRP: 0.000000\n"
     ]
    },
    {
     "name": "stderr",
     "output_type": "stream",
     "text": [
      "2019-01-22 00:02:42,173:INFO:TEST BATCH-152: t = 4.4021, Revenue: 10.550349, Regret: 0.000000, IRP: 0.000000\n",
      "2019-01-22 00:02:42,178:INFO:TEST BATCH-153: t = 4.4056, Revenue: 10.552732, Regret: 0.000000, IRP: 0.000000\n",
      "2019-01-22 00:02:42,183:INFO:TEST BATCH-154: t = 4.4083, Revenue: 10.555030, Regret: 0.000001, IRP: 0.000000\n",
      "2019-01-22 00:02:42,187:INFO:TEST BATCH-155: t = 4.4115, Revenue: 10.557252, Regret: 0.000000, IRP: 0.000000\n",
      "2019-01-22 00:02:42,193:INFO:TEST BATCH-156: t = 4.4149, Revenue: 10.559407, Regret: 0.000000, IRP: 0.000000\n",
      "2019-01-22 00:02:42,197:INFO:TEST BATCH-157: t = 4.4177, Revenue: 10.561502, Regret: 0.000000, IRP: 0.000000\n",
      "2019-01-22 00:02:42,202:INFO:TEST BATCH-158: t = 4.4211, Revenue: 10.563543, Regret: 0.000000, IRP: 0.000000\n",
      "2019-01-22 00:02:42,207:INFO:TEST BATCH-159: t = 4.4238, Revenue: 10.565536, Regret: 0.000000, IRP: 0.000000\n",
      "2019-01-22 00:02:42,211:INFO:TEST BATCH-160: t = 4.4265, Revenue: 10.567485, Regret: 0.000000, IRP: 0.000000\n",
      "2019-01-22 00:02:42,216:INFO:TEST BATCH-161: t = 4.4293, Revenue: 10.569393, Regret: 0.000000, IRP: 0.000000\n",
      "2019-01-22 00:02:42,220:INFO:TEST BATCH-162: t = 4.4321, Revenue: 10.571265, Regret: 0.000000, IRP: 0.000000\n",
      "2019-01-22 00:02:42,225:INFO:TEST BATCH-163: t = 4.4349, Revenue: 10.573104, Regret: 0.000000, IRP: 0.000000\n",
      "2019-01-22 00:02:42,229:INFO:TEST BATCH-164: t = 4.4376, Revenue: 10.574912, Regret: 0.000000, IRP: 0.000000\n",
      "2019-01-22 00:02:42,234:INFO:TEST BATCH-165: t = 4.4405, Revenue: 10.576694, Regret: 0.000000, IRP: 0.000000\n",
      "2019-01-22 00:02:42,238:INFO:TEST BATCH-166: t = 4.4433, Revenue: 10.578450, Regret: 0.000000, IRP: 0.000000\n",
      "2019-01-22 00:02:42,243:INFO:TEST BATCH-167: t = 4.4461, Revenue: 10.580184, Regret: 0.000000, IRP: 0.000000\n",
      "2019-01-22 00:02:42,247:INFO:TEST BATCH-168: t = 4.4488, Revenue: 10.581898, Regret: 0.000003, IRP: 0.000000\n",
      "2019-01-22 00:02:42,252:INFO:TEST BATCH-169: t = 4.4516, Revenue: 10.583592, Regret: 0.000001, IRP: 0.000000\n",
      "2019-01-22 00:02:42,257:INFO:TEST BATCH-170: t = 4.4543, Revenue: 10.585270, Regret: 0.000001, IRP: 0.000000\n",
      "2019-01-22 00:02:42,262:INFO:TEST BATCH-171: t = 4.4571, Revenue: 10.586931, Regret: 0.000000, IRP: 0.000000\n",
      "2019-01-22 00:02:42,266:INFO:TEST BATCH-172: t = 4.4598, Revenue: 10.588582, Regret: 0.000000, IRP: 0.000000\n",
      "2019-01-22 00:02:42,272:INFO:TEST BATCH-173: t = 4.4626, Revenue: 10.590219, Regret: 0.000000, IRP: 0.000000\n",
      "2019-01-22 00:02:42,277:INFO:TEST BATCH-174: t = 4.4654, Revenue: 10.591846, Regret: 0.000000, IRP: 0.000000\n",
      "2019-01-22 00:02:42,281:INFO:TEST BATCH-175: t = 4.4682, Revenue: 10.593467, Regret: 0.000000, IRP: 0.000000\n",
      "2019-01-22 00:02:42,286:INFO:TEST BATCH-176: t = 4.4711, Revenue: 10.595078, Regret: 0.000000, IRP: 0.000000\n",
      "2019-01-22 00:02:42,291:INFO:TEST BATCH-177: t = 4.4738, Revenue: 10.596685, Regret: 0.000000, IRP: 0.000000\n",
      "2019-01-22 00:02:42,295:INFO:TEST BATCH-178: t = 4.4766, Revenue: 10.598286, Regret: 0.000000, IRP: 0.000000\n",
      "2019-01-22 00:02:42,300:INFO:TEST BATCH-179: t = 4.4793, Revenue: 10.599885, Regret: 0.000000, IRP: 0.000000\n",
      "2019-01-22 00:02:42,305:INFO:TEST BATCH-180: t = 4.4821, Revenue: 10.601480, Regret: 0.000000, IRP: 0.000000\n",
      "2019-01-22 00:02:42,310:INFO:TEST BATCH-181: t = 4.4848, Revenue: 10.603073, Regret: 0.000000, IRP: 0.000000\n",
      "2019-01-22 00:02:42,314:INFO:TEST BATCH-182: t = 4.4876, Revenue: 10.604669, Regret: 0.000000, IRP: 0.000000\n",
      "2019-01-22 00:02:42,319:INFO:TEST BATCH-183: t = 4.4904, Revenue: 10.606264, Regret: 0.000000, IRP: 0.000000\n",
      "2019-01-22 00:02:42,324:INFO:TEST BATCH-184: t = 4.4933, Revenue: 10.607858, Regret: 0.000000, IRP: 0.000000\n",
      "2019-01-22 00:02:42,328:INFO:TEST BATCH-185: t = 4.4960, Revenue: 10.609456, Regret: 0.000000, IRP: 0.000000\n",
      "2019-01-22 00:02:42,334:INFO:TEST BATCH-186: t = 4.4988, Revenue: 10.611054, Regret: 0.000000, IRP: 0.000000\n",
      "2019-01-22 00:02:42,338:INFO:TEST BATCH-187: t = 4.5016, Revenue: 10.612657, Regret: 0.000000, IRP: 0.000000\n",
      "2019-01-22 00:02:42,343:INFO:TEST BATCH-188: t = 4.5043, Revenue: 10.614259, Regret: 0.000000, IRP: 0.000000\n",
      "2019-01-22 00:02:42,348:INFO:TEST BATCH-189: t = 4.5071, Revenue: 10.615864, Regret: 0.000001, IRP: 0.000000\n",
      "2019-01-22 00:02:42,353:INFO:TEST BATCH-190: t = 4.5099, Revenue: 10.617467, Regret: 0.000000, IRP: 0.000000\n",
      "2019-01-22 00:02:42,357:INFO:TEST BATCH-191: t = 4.5127, Revenue: 10.619069, Regret: 0.000001, IRP: 0.000000\n",
      "2019-01-22 00:02:42,367:INFO:TEST BATCH-192: t = 4.5155, Revenue: 10.620670, Regret: 0.000000, IRP: 0.000000\n",
      "2019-01-22 00:02:42,372:INFO:TEST BATCH-193: t = 4.5183, Revenue: 10.622265, Regret: 0.000008, IRP: 0.000000\n",
      "2019-01-22 00:02:42,377:INFO:TEST BATCH-194: t = 4.5210, Revenue: 10.623855, Regret: 0.000001, IRP: 0.000000\n",
      "2019-01-22 00:02:42,382:INFO:TEST BATCH-195: t = 4.5238, Revenue: 10.625436, Regret: 0.000000, IRP: 0.000000\n",
      "2019-01-22 00:02:42,387:INFO:TEST BATCH-196: t = 4.5266, Revenue: 10.627009, Regret: 0.000001, IRP: 0.000000\n",
      "2019-01-22 00:02:42,392:INFO:TEST BATCH-197: t = 4.5295, Revenue: 10.628569, Regret: 0.000001, IRP: 0.000000\n",
      "2019-01-22 00:02:42,397:INFO:TEST BATCH-198: t = 4.5322, Revenue: 10.630117, Regret: 0.000000, IRP: 0.000000\n",
      "2019-01-22 00:02:42,401:INFO:TEST BATCH-199: t = 4.5350, Revenue: 10.631654, Regret: 0.000000, IRP: 0.000000\n",
      "2019-01-22 00:02:42,406:INFO:TEST BATCH-200: t = 4.5378, Revenue: 10.633181, Regret: 0.000001, IRP: 0.000000\n",
      "2019-01-22 00:02:42,408:INFO:TEST ALL-400000: t = 4.5378, Revenue: 9.640755, Regret: 0.000000, IRP: 0.000000\n"
     ]
    },
    {
     "name": "stdout",
     "output_type": "stream",
     "text": [
      "DEBUG: xsum = 626215.500000\n"
     ]
    }
   ],
   "source": [
    "net = Net(cfg)\n",
    "generator = Generator(cfg, 'test', X_tst)\n",
    "clip_op_lambda = (lambda x: tf.assign(x, tf.clip_by_value(x, 0.0, 1.0)))\n",
    "m = Trainer(cfg, \"test\", net, clip_op_lambda)\n",
    "m.test(generator)"
   ]
  },
  {
   "cell_type": "code",
   "execution_count": 5,
   "metadata": {
    "collapsed": true
   },
   "outputs": [],
   "source": [
    "alloc = np.load(os.path.join(cfg.dir_name, \"alloc_tst_\" + str(cfg.test.restore_iter) + \".npy\")).reshape(D,D,2)\n",
    "pay = np.load(os.path.join(cfg.dir_name, \"pay_tst_\" + str(cfg.test.restore_iter) + \".npy\")).reshape(D,D,1)"
   ]
  },
  {
   "cell_type": "code",
   "execution_count": 6,
   "metadata": {},
   "outputs": [
    {
     "data": {
      "image/png": "[encoded data removed]",
      "text/plain": [
       "<matplotlib.figure.Figure at 0x2b5ff0375b50>"
      ]
     },
     "metadata": {},
     "output_type": "display_data"
    }
   ],
   "source": [
    "points = [(4, 6), (8, 4), (8, 7)]\n",
    "x = list(map(lambda x: x[0], points))\n",
    "y = list(map(lambda x: x[1], points))\n",
    "        \n",
    "fig, ax = plt.subplots(ncols = 1, nrows = 1, figsize=(8,6))\n",
    "\n",
    "plt.plot(x, y, linewidth = 2, linestyle = '--', c='black')\n",
    "img = ax.imshow(alloc[::-1, :, 0], extent=[4,16,4,7], vmin = 0.0, vmax=1.0, cmap = 'YlOrRd', aspect=4)\n",
    "                    \n",
    "plt.text(5, 4.5, s='0', color='black', fontsize='10', fontweight='bold')\n",
    "plt.text(5.25, 6, s='0.5', color='black', fontsize='10', fontweight='bold')\n",
    "plt.text(11.5, 5.5, s='1', color='black', fontsize='10', fontweight='bold')\n",
    "\n",
    "ax.set_xlabel('$v_1$')\n",
    "ax.set_ylabel('$v_2$')\n",
    "plt.title('Prob. of allocating item 1')\n",
    "plt.colorbar(img, fraction=0.046, pad=0.04)\n",
    "if save_plot:\n",
    "    fig.set_size_inches(4, 3)\n",
    "    plt.savefig(os.path.join(cfg.dir_name, 'alloc1.pdf'), bbox_inches = 'tight', pad_inches = 0.05)"
   ]
  },
  {
   "cell_type": "code",
   "execution_count": 7,
   "metadata": {},
   "outputs": [
    {
     "data": {
      "image/png": "[encoded data removed]",
      "text/plain": [
       "<matplotlib.figure.Figure at 0x2b5ff2848990>"
      ]
     },
     "metadata": {},
     "output_type": "display_data"
    }
   ],
   "source": [
    "points = [(4, 6), (8, 4)]\n",
    "\n",
    "x = list(map(lambda x: x[0], points))\n",
    "y = list(map(lambda x: x[1], points))\n",
    "        \n",
    "fig, ax = plt.subplots(ncols = 1, nrows = 1, figsize=(8,6))\n",
    "\n",
    "plt.plot(x, y, linewidth = 2, linestyle = '--', c='black')\n",
    "img = ax.imshow(alloc[::-1, :, 1], extent=[4,16,4,7], vmin = 0.0, vmax=1.0, cmap = 'YlOrRd', aspect=4)\n",
    "                    \n",
    "plt.text(5, 4.5, s='0', color='black', fontsize='10', fontweight='bold')\n",
    "plt.text(11.5, 5.5, s='1', color='black', fontsize='10', fontweight='bold')\n",
    "\n",
    "ax.set_xlabel('$v_1$')\n",
    "ax.set_ylabel('$v_2$')\n",
    "plt.title('Prob. of allocating item 2')\n",
    "plt.colorbar(img, fraction=0.046, pad=0.04)\n",
    "if save_plot:\n",
    "    fig.set_size_inches(4, 3)\n",
    "    plt.savefig(os.path.join(cfg.dir_name, 'alloc2.pdf'), bbox_inches = 'tight', pad_inches = 0.05)"
   ]
  }
 ],
 "metadata": {
  "kernelspec": {
   "display_name": "Python 2",
   "language": "python",
   "name": "python2"
  },
  "language_info": {
   "codemirror_mode": {
    "name": "ipython",
    "version": 2
   },
   "file_extension": ".py",
   "mimetype": "text/x-python",
   "name": "python",
   "nbconvert_exporter": "python",
   "pygments_lexer": "ipython2",
   "version": "2.7.13"
  }
 },
 "nbformat": 4,
 "nbformat_minor": 2
}
