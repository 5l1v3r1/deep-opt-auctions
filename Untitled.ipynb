{
 "cells": [
  {
   "cell_type": "code",
   "execution_count": 1,
   "metadata": {
    "collapsed": true
   },
   "outputs": [],
   "source": [
    "import tensorflow as tf\n",
    "\n",
    "from cfgs.config import cfg\n",
    "from nets.additive_net import Net\n",
    "from data.uniform_01_generator import Generator\n",
    "from trainer.trainer import BaseTrainer"
   ]
  },
  {
   "cell_type": "code",
   "execution_count": 2,
   "metadata": {},
   "outputs": [
    {
     "name": "stderr",
     "output_type": "stream",
     "text": [
      "2019-01-18 13:24:43,834:INFO:TRAIN-BATCH Iter: 1000, t = 87.8284, Revenue: 0.604716, Regret: 0.005804, Reg_Loss: 0.000185, Lag_Loss: 0.030972, Net_Loss: -0.573559, w_rgt_mean: 5.336601, update_rate: 11.000000\n",
      "2019-01-18 13:26:11,594:INFO:TRAIN-BATCH Iter: 2000, t = 175.4794, Revenue: 0.563895, Regret: 0.005623, Reg_Loss: 0.000332, Lag_Loss: 0.033638, Net_Loss: -0.529925, w_rgt_mean: 5.981761, update_rate: 21.000000\n",
      "2019-01-18 13:27:39,394:INFO:TRAIN-BATCH Iter: 3000, t = 263.1801, Revenue: 0.639045, Regret: 0.003574, Reg_Loss: 0.000198, Lag_Loss: 0.024866, Net_Loss: -0.613981, w_rgt_mean: 6.957379, update_rate: 31.000000\n",
      "2019-01-18 13:29:07,168:INFO:TRAIN-BATCH Iter: 4000, t = 350.8405, Revenue: 0.573900, Regret: 0.004341, Reg_Loss: 0.000386, Lag_Loss: 0.036002, Net_Loss: -0.537512, w_rgt_mean: 8.293539, update_rate: 41.000000\n",
      "2019-01-18 13:30:34,909:INFO:TRAIN-BATCH Iter: 5000, t = 438.4761, Revenue: 0.570368, Regret: 0.003424, Reg_Loss: 0.000299, Lag_Loss: 0.032181, Net_Loss: -0.537888, w_rgt_mean: 9.399440, update_rate: 51.000000\n",
      "2019-01-18 13:32:02,038:INFO:TRAIN-BATCH Iter: 6000, t = 525.4820, Revenue: 0.544277, Regret: 0.001519, Reg_Loss: 0.000070, Lag_Loss: 0.016227, Net_Loss: -0.527980, w_rgt_mean: 10.683156, update_rate: 61.000000\n",
      "2019-01-18 13:33:27,615:INFO:TRAIN-BATCH Iter: 7000, t = 610.9707, Revenue: 0.619359, Regret: 0.001992, Reg_Loss: 0.000141, Lag_Loss: 0.024023, Net_Loss: -0.595196, w_rgt_mean: 12.059660, update_rate: 71.000000\n",
      "2019-01-18 13:34:54,644:INFO:TRAIN-BATCH Iter: 8000, t = 697.8984, Revenue: 0.612739, Regret: 0.001527, Reg_Loss: 0.000094, Lag_Loss: 0.020440, Net_Loss: -0.592204, w_rgt_mean: 13.384726, update_rate: 81.000000\n",
      "2019-01-18 13:36:22,405:INFO:TRAIN-BATCH Iter: 9000, t = 785.5558, Revenue: 0.580032, Regret: 0.002243, Reg_Loss: 0.000229, Lag_Loss: 0.033413, Net_Loss: -0.546390, w_rgt_mean: 14.894677, update_rate: 91.000000\n",
      "2019-01-18 13:37:50,298:INFO:TRAIN-BATCH Iter: 10000, t = 873.3403, Revenue: 0.565560, Regret: 0.000823, Reg_Loss: 0.000034, Lag_Loss: 0.013216, Net_Loss: -0.552310, w_rgt_mean: 16.060762, update_rate: 101.000000\n",
      "2019-01-18 13:39:58,656:INFO:VAL-10000, Revenue: 0.583274, Regret: 0.002612, Reg_Loss: 0.000347, Lag_Loss: 0.041945, Net_Loss: -0.540982, w_rgt_mean: 16.060762, update_rate: 101.000000\n",
      "2019-01-18 13:41:26,449:INFO:TRAIN-BATCH Iter: 11000, t = 961.0012, Revenue: 0.547443, Regret: 0.001106, Reg_Loss: 0.000068, Lag_Loss: 0.019145, Net_Loss: -0.528231, w_rgt_mean: 17.315815, update_rate: 111.000000\n",
      "2019-01-18 13:42:54,087:INFO:TRAIN-BATCH Iter: 12000, t = 1048.5398, Revenue: 0.526279, Regret: 0.000790, Reg_Loss: 0.000038, Lag_Loss: 0.014386, Net_Loss: -0.511856, w_rgt_mean: 18.218880, update_rate: 121.000000\n",
      "2019-01-18 13:44:19,646:INFO:TRAIN-BATCH Iter: 13000, t = 1134.0086, Revenue: 0.588611, Regret: 0.000517, Reg_Loss: 0.000017, Lag_Loss: 0.010046, Net_Loss: -0.578547, w_rgt_mean: 19.441887, update_rate: 131.000000\n",
      "2019-01-18 13:45:45,909:INFO:TRAIN-BATCH Iter: 14000, t = 1220.1754, Revenue: 0.596912, Regret: 0.000639, Reg_Loss: 0.000029, Lag_Loss: 0.013076, Net_Loss: -0.583808, w_rgt_mean: 20.452400, update_rate: 141.000000\n",
      "2019-01-18 13:47:13,740:INFO:TRAIN-BATCH Iter: 15000, t = 1307.8965, Revenue: 0.523429, Regret: 0.000509, Reg_Loss: 0.000020, Lag_Loss: 0.010983, Net_Loss: -0.512427, w_rgt_mean: 21.589462, update_rate: 151.000000\n",
      "2019-01-18 13:48:41,473:INFO:TRAIN-BATCH Iter: 16000, t = 1395.5096, Revenue: 0.551830, Regret: 0.000914, Reg_Loss: 0.000067, Lag_Loss: 0.020903, Net_Loss: -0.530860, w_rgt_mean: 22.879072, update_rate: 161.000000\n",
      "2019-01-18 13:50:09,282:INFO:TRAIN-BATCH Iter: 17000, t = 1483.2113, Revenue: 0.530299, Regret: 0.000614, Reg_Loss: 0.000032, Lag_Loss: 0.014811, Net_Loss: -0.515455, w_rgt_mean: 24.121836, update_rate: 171.000000\n",
      "2019-01-18 13:51:37,204:INFO:TRAIN-BATCH Iter: 18000, t = 1571.0281, Revenue: 0.562359, Regret: 0.000617, Reg_Loss: 0.000034, Lag_Loss: 0.015551, Net_Loss: -0.546773, w_rgt_mean: 25.214392, update_rate: 181.000000\n",
      "2019-01-18 13:53:05,077:INFO:TRAIN-BATCH Iter: 19000, t = 1658.7974, Revenue: 0.592658, Regret: 0.000629, Reg_Loss: 0.000038, Lag_Loss: 0.016597, Net_Loss: -0.576023, w_rgt_mean: 26.370783, update_rate: 191.000000\n",
      "2019-01-18 13:54:31,274:INFO:TRAIN-BATCH Iter: 20000, t = 1744.9032, Revenue: 0.533387, Regret: 0.000641, Reg_Loss: 0.000041, Lag_Loss: 0.017599, Net_Loss: -0.515747, w_rgt_mean: 27.440781, update_rate: 201.000000\n",
      "2019-01-18 13:56:37,781:INFO:VAL-20000, Revenue: 0.584363, Regret: 0.002228, Reg_Loss: 0.000506, Lag_Loss: 0.061136, Net_Loss: -0.522720, w_rgt_mean: 27.440781, update_rate: 201.000000\n",
      "2019-01-18 13:58:05,657:INFO:TRAIN-BATCH Iter: 21000, t = 1832.6482, Revenue: 0.635256, Regret: 0.000754, Reg_Loss: 0.000060, Lag_Loss: 0.021541, Net_Loss: -0.613655, w_rgt_mean: 28.576147, update_rate: 211.000000\n",
      "2019-01-18 13:59:33,440:INFO:TRAIN-BATCH Iter: 22000, t = 1920.3298, Revenue: 0.541129, Regret: 0.000370, Reg_Loss: 0.000015, Lag_Loss: 0.010920, Net_Loss: -0.530193, w_rgt_mean: 29.483778, update_rate: 221.000000\n",
      "2019-01-18 14:01:01,237:INFO:TRAIN-BATCH Iter: 23000, t = 2008.0234, Revenue: 0.618378, Regret: 0.000582, Reg_Loss: 0.000039, Lag_Loss: 0.017824, Net_Loss: -0.600515, w_rgt_mean: 30.620956, update_rate: 231.000000\n",
      "2019-01-18 14:02:29,056:INFO:TRAIN-BATCH Iter: 24000, t = 2095.7423, Revenue: 0.600156, Regret: 0.000204, Reg_Loss: 0.000005, Lag_Loss: 0.006420, Net_Loss: -0.593732, w_rgt_mean: 31.423340, update_rate: 241.000000\n",
      "2019-01-18 14:03:56,872:INFO:TRAIN-BATCH Iter: 25000, t = 2183.4498, Revenue: 0.567205, Regret: 0.000368, Reg_Loss: 0.000017, Lag_Loss: 0.011922, Net_Loss: -0.555266, w_rgt_mean: 32.383324, update_rate: 251.000000\n",
      "2019-01-18 14:05:23,477:INFO:TRAIN-BATCH Iter: 26000, t = 2269.9424, Revenue: 0.596296, Regret: 0.000519, Reg_Loss: 0.000035, Lag_Loss: 0.017300, Net_Loss: -0.578961, w_rgt_mean: 33.354324, update_rate: 261.000000\n",
      "2019-01-18 14:06:49,152:INFO:TRAIN-BATCH Iter: 27000, t = 2355.5271, Revenue: 0.535726, Regret: 0.000445, Reg_Loss: 0.000027, Lag_Loss: 0.015257, Net_Loss: -0.520442, w_rgt_mean: 34.274834, update_rate: 271.000000\n",
      "2019-01-18 14:08:17,083:INFO:TRAIN-BATCH Iter: 28000, t = 2443.3584, Revenue: 0.561247, Regret: 0.000405, Reg_Loss: 0.000023, Lag_Loss: 0.014305, Net_Loss: -0.546919, w_rgt_mean: 35.306992, update_rate: 281.000000\n",
      "2019-01-18 14:09:44,997:INFO:TRAIN-BATCH Iter: 29000, t = 2531.1670, Revenue: 0.574579, Regret: 0.000309, Reg_Loss: 0.000014, Lag_Loss: 0.011198, Net_Loss: -0.563367, w_rgt_mean: 36.277313, update_rate: 291.000000\n",
      "2019-01-18 14:11:12,862:INFO:TRAIN-BATCH Iter: 30000, t = 2618.9315, Revenue: 0.508131, Regret: 0.000192, Reg_Loss: 0.000006, Lag_Loss: 0.007122, Net_Loss: -0.501003, w_rgt_mean: 37.050617, update_rate: 301.000000\n",
      "2019-01-18 14:13:21,242:INFO:VAL-30000, Revenue: 0.576029, Regret: 0.001115, Reg_Loss: 0.000190, Lag_Loss: 0.041329, Net_Loss: -0.534510, w_rgt_mean: 37.050617, update_rate: 301.000000\n",
      "2019-01-18 14:14:49,291:INFO:TRAIN-BATCH Iter: 31000, t = 2706.8531, Revenue: 0.536710, Regret: 0.000375, Reg_Loss: 0.000022, Lag_Loss: 0.014304, Net_Loss: -0.522384, w_rgt_mean: 38.159718, update_rate: 311.000000\n",
      "2019-01-18 14:16:16,132:INFO:TRAIN-BATCH Iter: 32000, t = 2793.6008, Revenue: 0.579802, Regret: 0.000529, Reg_Loss: 0.000045, Lag_Loss: 0.020715, Net_Loss: -0.559043, w_rgt_mean: 39.193344, update_rate: 321.000000\n",
      "2019-01-18 14:17:41,794:INFO:TRAIN-BATCH Iter: 33000, t = 2879.1691, Revenue: 0.547159, Regret: 0.000548, Reg_Loss: 0.000050, Lag_Loss: 0.022051, Net_Loss: -0.525058, w_rgt_mean: 40.215996, update_rate: 331.000000\n",
      "2019-01-18 14:19:09,066:INFO:TRAIN-BATCH Iter: 34000, t = 2966.3451, Revenue: 0.564600, Regret: 0.000418, Reg_Loss: 0.000030, Lag_Loss: 0.017259, Net_Loss: -0.547311, w_rgt_mean: 41.291569, update_rate: 341.000000\n",
      "2019-01-18 14:20:36,843:INFO:TRAIN-BATCH Iter: 35000, t = 3054.0092, Revenue: 0.592906, Regret: 0.000267, Reg_Loss: 0.000012, Lag_Loss: 0.011231, Net_Loss: -0.581662, w_rgt_mean: 42.088898, update_rate: 351.000000\n",
      "2019-01-18 14:22:04,730:INFO:TRAIN-BATCH Iter: 36000, t = 3141.7796, Revenue: 0.551474, Regret: 0.000115, Reg_Loss: 0.000002, Lag_Loss: 0.004924, Net_Loss: -0.546548, w_rgt_mean: 42.857494, update_rate: 361.000000\n"
     ]
    },
    {
     "name": "stderr",
     "output_type": "stream",
     "text": [
      "2019-01-18 14:23:32,603:INFO:TRAIN-BATCH Iter: 37000, t = 3229.5474, Revenue: 0.623002, Regret: 0.000256, Reg_Loss: 0.000012, Lag_Loss: 0.011203, Net_Loss: -0.611786, w_rgt_mean: 43.723824, update_rate: 371.000000\n",
      "2019-01-18 14:25:00,330:INFO:TRAIN-BATCH Iter: 38000, t = 3317.1731, Revenue: 0.556540, Regret: 0.000389, Reg_Loss: 0.000029, Lag_Loss: 0.017450, Net_Loss: -0.539061, w_rgt_mean: 44.865063, update_rate: 381.000000\n",
      "2019-01-18 14:26:28,168:INFO:TRAIN-BATCH Iter: 39000, t = 3404.9009, Revenue: 0.562599, Regret: 0.000131, Reg_Loss: 0.000003, Lag_Loss: 0.005985, Net_Loss: -0.556611, w_rgt_mean: 45.798126, update_rate: 391.000000\n",
      "2019-01-18 14:27:54,964:INFO:TRAIN-BATCH Iter: 40000, t = 3491.6064, Revenue: 0.546946, Regret: 0.000454, Reg_Loss: 0.000041, Lag_Loss: 0.021320, Net_Loss: -0.525585, w_rgt_mean: 47.010441, update_rate: 401.000000\n",
      "2019-01-18 14:30:01,114:INFO:VAL-40000, Revenue: 0.577219, Regret: 0.001279, Reg_Loss: 0.000332, Lag_Loss: 0.060136, Net_Loss: -0.516751, w_rgt_mean: 47.010441, update_rate: 401.000000\n",
      "2019-01-18 14:31:28,981:INFO:TRAIN-BATCH Iter: 41000, t = 3579.3451, Revenue: 0.529947, Regret: 0.000412, Reg_Loss: 0.000035, Lag_Loss: 0.019878, Net_Loss: -0.510034, w_rgt_mean: 48.287361, update_rate: 411.000000\n",
      "2019-01-18 14:32:56,887:INFO:TRAIN-BATCH Iter: 42000, t = 3667.1460, Revenue: 0.520632, Regret: 0.000190, Reg_Loss: 0.000008, Lag_Loss: 0.009313, Net_Loss: -0.511311, w_rgt_mean: 49.071270, update_rate: 421.000000\n",
      "2019-01-18 14:34:24,802:INFO:TRAIN-BATCH Iter: 43000, t = 3754.9523, Revenue: 0.553186, Regret: 0.000179, Reg_Loss: 0.000007, Lag_Loss: 0.008967, Net_Loss: -0.544212, w_rgt_mean: 49.973732, update_rate: 431.000000\n",
      "2019-01-18 14:35:52,678:INFO:TRAIN-BATCH Iter: 44000, t = 3842.7271, Revenue: 0.539179, Regret: 0.000126, Reg_Loss: 0.000003, Lag_Loss: 0.006404, Net_Loss: -0.532772, w_rgt_mean: 50.861382, update_rate: 441.000000\n",
      "2019-01-18 14:37:20,554:INFO:TRAIN-BATCH Iter: 45000, t = 3930.4956, Revenue: 0.549172, Regret: 0.000315, Reg_Loss: 0.000022, Lag_Loss: 0.016350, Net_Loss: -0.532799, w_rgt_mean: 51.823132, update_rate: 451.000000\n",
      "2019-01-18 14:38:47,419:INFO:TRAIN-BATCH Iter: 46000, t = 4017.2473, Revenue: 0.577110, Regret: 0.000156, Reg_Loss: 0.000006, Lag_Loss: 0.008234, Net_Loss: -0.568870, w_rgt_mean: 52.701904, update_rate: 461.000000\n",
      "2019-01-18 14:40:10,617:INFO:TRAIN-BATCH Iter: 47000, t = 4100.3561, Revenue: 0.604860, Regret: 0.000261, Reg_Loss: 0.000016, Lag_Loss: 0.014011, Net_Loss: -0.590833, w_rgt_mean: 53.595684, update_rate: 471.000000\n",
      "2019-01-18 14:41:33,826:INFO:TRAIN-BATCH Iter: 48000, t = 4183.4803, Revenue: 0.548738, Regret: 0.000289, Reg_Loss: 0.000020, Lag_Loss: 0.015700, Net_Loss: -0.533018, w_rgt_mean: 54.369904, update_rate: 481.000000\n",
      "2019-01-18 14:42:56,952:INFO:TRAIN-BATCH Iter: 49000, t = 4266.5168, Revenue: 0.514741, Regret: 0.000182, Reg_Loss: 0.000008, Lag_Loss: 0.010019, Net_Loss: -0.504714, w_rgt_mean: 55.117496, update_rate: 491.000000\n",
      "2019-01-18 14:44:20,278:INFO:TRAIN-BATCH Iter: 50000, t = 4349.4710, Revenue: 0.553440, Regret: 0.000054, Reg_Loss: 0.000001, Lag_Loss: 0.003040, Net_Loss: -0.550400, w_rgt_mean: 55.830940, update_rate: 501.000000\n",
      "2019-01-18 14:46:22,353:INFO:VAL-50000, Revenue: 0.569931, Regret: 0.000398, Reg_Loss: 0.000041, Lag_Loss: 0.022244, Net_Loss: -0.547645, w_rgt_mean: 55.830940, update_rate: 501.000000\n",
      "2019-01-18 14:47:45,580:INFO:TRAIN-BATCH Iter: 51000, t = 4432.5866, Revenue: 0.593011, Regret: 0.000324, Reg_Loss: 0.000027, Lag_Loss: 0.018382, Net_Loss: -0.574602, w_rgt_mean: 56.740723, update_rate: 511.000000\n",
      "2019-01-18 14:49:08,766:INFO:TRAIN-BATCH Iter: 52000, t = 4515.6879, Revenue: 0.574891, Regret: 0.000197, Reg_Loss: 0.000010, Lag_Loss: 0.011355, Net_Loss: -0.563526, w_rgt_mean: 57.753075, update_rate: 521.000000\n",
      "2019-01-18 14:50:31,875:INFO:TRAIN-BATCH Iter: 53000, t = 4598.7106, Revenue: 0.621406, Regret: 0.000203, Reg_Loss: 0.000011, Lag_Loss: 0.011918, Net_Loss: -0.609477, w_rgt_mean: 58.673084, update_rate: 531.000000\n",
      "2019-01-18 14:51:55,108:INFO:TRAIN-BATCH Iter: 54000, t = 4681.8585, Revenue: 0.524037, Regret: 0.000152, Reg_Loss: 0.000006, Lag_Loss: 0.009027, Net_Loss: -0.515003, w_rgt_mean: 59.327415, update_rate: 541.000000\n"
     ]
    },
    {
     "ename": "KeyboardInterrupt",
     "evalue": "",
     "output_type": "error",
     "traceback": [
      "\u001b[0;31m---------------------------------------------------------------------------\u001b[0m",
      "\u001b[0;31mKeyboardInterrupt\u001b[0m                         Traceback (most recent call last)",
      "\u001b[0;32m<ipython-input-2-f7573b654215>\u001b[0m in \u001b[0;36m<module>\u001b[0;34m()\u001b[0m\n\u001b[1;32m      3\u001b[0m \u001b[0mclip_op_lambda\u001b[0m \u001b[0;34m=\u001b[0m \u001b[0;34m(\u001b[0m\u001b[0;32mlambda\u001b[0m \u001b[0mx\u001b[0m\u001b[0;34m:\u001b[0m \u001b[0mtf\u001b[0m\u001b[0;34m.\u001b[0m\u001b[0massign\u001b[0m\u001b[0;34m(\u001b[0m\u001b[0mx\u001b[0m\u001b[0;34m,\u001b[0m \u001b[0mtf\u001b[0m\u001b[0;34m.\u001b[0m\u001b[0mclip_by_value\u001b[0m\u001b[0;34m(\u001b[0m\u001b[0mx\u001b[0m\u001b[0;34m,\u001b[0m \u001b[0;36m0.0\u001b[0m\u001b[0;34m,\u001b[0m \u001b[0;36m1.0\u001b[0m\u001b[0;34m)\u001b[0m\u001b[0;34m)\u001b[0m\u001b[0;34m)\u001b[0m\u001b[0;34m\u001b[0m\u001b[0m\n\u001b[1;32m      4\u001b[0m \u001b[0mm\u001b[0m \u001b[0;34m=\u001b[0m \u001b[0mBaseTrainer\u001b[0m\u001b[0;34m(\u001b[0m\u001b[0mcfg\u001b[0m\u001b[0;34m,\u001b[0m \u001b[0;34m\"train\"\u001b[0m\u001b[0;34m,\u001b[0m \u001b[0mnet\u001b[0m\u001b[0;34m,\u001b[0m \u001b[0mclip_op_lambda\u001b[0m\u001b[0;34m)\u001b[0m\u001b[0;34m\u001b[0m\u001b[0m\n\u001b[0;32m----> 5\u001b[0;31m \u001b[0mm\u001b[0m\u001b[0;34m.\u001b[0m\u001b[0mtrain\u001b[0m\u001b[0;34m(\u001b[0m\u001b[0mgenerator\u001b[0m\u001b[0;34m)\u001b[0m\u001b[0;34m\u001b[0m\u001b[0m\n\u001b[0m",
      "\u001b[0;32m/n/home13/sravindranath/deep-amd/trainer/trainer.pyc\u001b[0m in \u001b[0;36mtrain\u001b[0;34m(self, generator)\u001b[0m\n\u001b[1;32m    262\u001b[0m             \u001b[0msess\u001b[0m\u001b[0;34m.\u001b[0m\u001b[0mrun\u001b[0m\u001b[0;34m(\u001b[0m\u001b[0mself\u001b[0m\u001b[0;34m.\u001b[0m\u001b[0massign_op\u001b[0m\u001b[0;34m,\u001b[0m \u001b[0mfeed_dict\u001b[0m \u001b[0;34m=\u001b[0m \u001b[0;34m{\u001b[0m\u001b[0mself\u001b[0m\u001b[0;34m.\u001b[0m\u001b[0madv_init\u001b[0m\u001b[0;34m:\u001b[0m \u001b[0mADV\u001b[0m\u001b[0;34m}\u001b[0m\u001b[0;34m)\u001b[0m\u001b[0;34m\u001b[0m\u001b[0m\n\u001b[1;32m    263\u001b[0m             \u001b[0;32mfor\u001b[0m \u001b[0m_\u001b[0m \u001b[0;32min\u001b[0m \u001b[0mrange\u001b[0m\u001b[0;34m(\u001b[0m\u001b[0mself\u001b[0m\u001b[0;34m.\u001b[0m\u001b[0mconfig\u001b[0m\u001b[0;34m.\u001b[0m\u001b[0mtrain\u001b[0m\u001b[0;34m.\u001b[0m\u001b[0mgd_iter\u001b[0m\u001b[0;34m)\u001b[0m\u001b[0;34m:\u001b[0m\u001b[0;34m\u001b[0m\u001b[0m\n\u001b[0;32m--> 264\u001b[0;31m                 \u001b[0msess\u001b[0m\u001b[0;34m.\u001b[0m\u001b[0mrun\u001b[0m\u001b[0;34m(\u001b[0m\u001b[0mself\u001b[0m\u001b[0;34m.\u001b[0m\u001b[0mtrain_mis_step\u001b[0m\u001b[0;34m,\u001b[0m \u001b[0mfeed_dict\u001b[0m \u001b[0;34m=\u001b[0m \u001b[0;34m{\u001b[0m\u001b[0mself\u001b[0m\u001b[0;34m.\u001b[0m\u001b[0mx\u001b[0m\u001b[0;34m:\u001b[0m \u001b[0mX\u001b[0m\u001b[0;34m}\u001b[0m\u001b[0;34m)\u001b[0m\u001b[0;34m\u001b[0m\u001b[0m\n\u001b[0m\u001b[1;32m    265\u001b[0m                 \u001b[0msess\u001b[0m\u001b[0;34m.\u001b[0m\u001b[0mrun\u001b[0m\u001b[0;34m(\u001b[0m\u001b[0mself\u001b[0m\u001b[0;34m.\u001b[0m\u001b[0mclip_op\u001b[0m\u001b[0;34m)\u001b[0m\u001b[0;34m\u001b[0m\u001b[0m\n\u001b[1;32m    266\u001b[0m             \u001b[0msess\u001b[0m\u001b[0;34m.\u001b[0m\u001b[0mrun\u001b[0m\u001b[0;34m(\u001b[0m\u001b[0mself\u001b[0m\u001b[0;34m.\u001b[0m\u001b[0mreset_train_mis_opt\u001b[0m\u001b[0;34m)\u001b[0m\u001b[0;34m\u001b[0m\u001b[0m\n",
      "\u001b[0;32m/n/home13/sravindranath/.conda/envs/tf/lib/python2.7/site-packages/tensorflow/python/client/session.pyc\u001b[0m in \u001b[0;36mrun\u001b[0;34m(self, fetches, feed_dict, options, run_metadata)\u001b[0m\n\u001b[1;32m    903\u001b[0m     \u001b[0;32mtry\u001b[0m\u001b[0;34m:\u001b[0m\u001b[0;34m\u001b[0m\u001b[0m\n\u001b[1;32m    904\u001b[0m       result = self._run(None, fetches, feed_dict, options_ptr,\n\u001b[0;32m--> 905\u001b[0;31m                          run_metadata_ptr)\n\u001b[0m\u001b[1;32m    906\u001b[0m       \u001b[0;32mif\u001b[0m \u001b[0mrun_metadata\u001b[0m\u001b[0;34m:\u001b[0m\u001b[0;34m\u001b[0m\u001b[0m\n\u001b[1;32m    907\u001b[0m         \u001b[0mproto_data\u001b[0m \u001b[0;34m=\u001b[0m \u001b[0mtf_session\u001b[0m\u001b[0;34m.\u001b[0m\u001b[0mTF_GetBuffer\u001b[0m\u001b[0;34m(\u001b[0m\u001b[0mrun_metadata_ptr\u001b[0m\u001b[0;34m)\u001b[0m\u001b[0;34m\u001b[0m\u001b[0m\n",
      "\u001b[0;32m/n/home13/sravindranath/.conda/envs/tf/lib/python2.7/site-packages/tensorflow/python/client/session.pyc\u001b[0m in \u001b[0;36m_run\u001b[0;34m(self, handle, fetches, feed_dict, options, run_metadata)\u001b[0m\n\u001b[1;32m   1138\u001b[0m     \u001b[0;32mif\u001b[0m \u001b[0mfinal_fetches\u001b[0m \u001b[0;32mor\u001b[0m \u001b[0mfinal_targets\u001b[0m \u001b[0;32mor\u001b[0m \u001b[0;34m(\u001b[0m\u001b[0mhandle\u001b[0m \u001b[0;32mand\u001b[0m \u001b[0mfeed_dict_tensor\u001b[0m\u001b[0;34m)\u001b[0m\u001b[0;34m:\u001b[0m\u001b[0;34m\u001b[0m\u001b[0m\n\u001b[1;32m   1139\u001b[0m       results = self._do_run(handle, final_targets, final_fetches,\n\u001b[0;32m-> 1140\u001b[0;31m                              feed_dict_tensor, options, run_metadata)\n\u001b[0m\u001b[1;32m   1141\u001b[0m     \u001b[0;32melse\u001b[0m\u001b[0;34m:\u001b[0m\u001b[0;34m\u001b[0m\u001b[0m\n\u001b[1;32m   1142\u001b[0m       \u001b[0mresults\u001b[0m \u001b[0;34m=\u001b[0m \u001b[0;34m[\u001b[0m\u001b[0;34m]\u001b[0m\u001b[0;34m\u001b[0m\u001b[0m\n",
      "\u001b[0;32m/n/home13/sravindranath/.conda/envs/tf/lib/python2.7/site-packages/tensorflow/python/client/session.pyc\u001b[0m in \u001b[0;36m_do_run\u001b[0;34m(self, handle, target_list, fetch_list, feed_dict, options, run_metadata)\u001b[0m\n\u001b[1;32m   1319\u001b[0m     \u001b[0;32mif\u001b[0m \u001b[0mhandle\u001b[0m \u001b[0;32mis\u001b[0m \u001b[0mNone\u001b[0m\u001b[0;34m:\u001b[0m\u001b[0;34m\u001b[0m\u001b[0m\n\u001b[1;32m   1320\u001b[0m       return self._do_call(_run_fn, feeds, fetches, targets, options,\n\u001b[0;32m-> 1321\u001b[0;31m                            run_metadata)\n\u001b[0m\u001b[1;32m   1322\u001b[0m     \u001b[0;32melse\u001b[0m\u001b[0;34m:\u001b[0m\u001b[0;34m\u001b[0m\u001b[0m\n\u001b[1;32m   1323\u001b[0m       \u001b[0;32mreturn\u001b[0m \u001b[0mself\u001b[0m\u001b[0;34m.\u001b[0m\u001b[0m_do_call\u001b[0m\u001b[0;34m(\u001b[0m\u001b[0m_prun_fn\u001b[0m\u001b[0;34m,\u001b[0m \u001b[0mhandle\u001b[0m\u001b[0;34m,\u001b[0m \u001b[0mfeeds\u001b[0m\u001b[0;34m,\u001b[0m \u001b[0mfetches\u001b[0m\u001b[0;34m)\u001b[0m\u001b[0;34m\u001b[0m\u001b[0m\n",
      "\u001b[0;32m/n/home13/sravindranath/.conda/envs/tf/lib/python2.7/site-packages/tensorflow/python/client/session.pyc\u001b[0m in \u001b[0;36m_do_call\u001b[0;34m(self, fn, *args)\u001b[0m\n\u001b[1;32m   1325\u001b[0m   \u001b[0;32mdef\u001b[0m \u001b[0m_do_call\u001b[0m\u001b[0;34m(\u001b[0m\u001b[0mself\u001b[0m\u001b[0;34m,\u001b[0m \u001b[0mfn\u001b[0m\u001b[0;34m,\u001b[0m \u001b[0;34m*\u001b[0m\u001b[0margs\u001b[0m\u001b[0;34m)\u001b[0m\u001b[0;34m:\u001b[0m\u001b[0;34m\u001b[0m\u001b[0m\n\u001b[1;32m   1326\u001b[0m     \u001b[0;32mtry\u001b[0m\u001b[0;34m:\u001b[0m\u001b[0;34m\u001b[0m\u001b[0m\n\u001b[0;32m-> 1327\u001b[0;31m       \u001b[0;32mreturn\u001b[0m \u001b[0mfn\u001b[0m\u001b[0;34m(\u001b[0m\u001b[0;34m*\u001b[0m\u001b[0margs\u001b[0m\u001b[0;34m)\u001b[0m\u001b[0;34m\u001b[0m\u001b[0m\n\u001b[0m\u001b[1;32m   1328\u001b[0m     \u001b[0;32mexcept\u001b[0m \u001b[0merrors\u001b[0m\u001b[0;34m.\u001b[0m\u001b[0mOpError\u001b[0m \u001b[0;32mas\u001b[0m \u001b[0me\u001b[0m\u001b[0;34m:\u001b[0m\u001b[0;34m\u001b[0m\u001b[0m\n\u001b[1;32m   1329\u001b[0m       \u001b[0mmessage\u001b[0m \u001b[0;34m=\u001b[0m \u001b[0mcompat\u001b[0m\u001b[0;34m.\u001b[0m\u001b[0mas_text\u001b[0m\u001b[0;34m(\u001b[0m\u001b[0me\u001b[0m\u001b[0;34m.\u001b[0m\u001b[0mmessage\u001b[0m\u001b[0;34m)\u001b[0m\u001b[0;34m\u001b[0m\u001b[0m\n",
      "\u001b[0;32m/n/home13/sravindranath/.conda/envs/tf/lib/python2.7/site-packages/tensorflow/python/client/session.pyc\u001b[0m in \u001b[0;36m_run_fn\u001b[0;34m(feed_dict, fetch_list, target_list, options, run_metadata)\u001b[0m\n\u001b[1;32m   1310\u001b[0m       \u001b[0mself\u001b[0m\u001b[0;34m.\u001b[0m\u001b[0m_extend_graph\u001b[0m\u001b[0;34m(\u001b[0m\u001b[0;34m)\u001b[0m\u001b[0;34m\u001b[0m\u001b[0m\n\u001b[1;32m   1311\u001b[0m       return self._call_tf_sessionrun(\n\u001b[0;32m-> 1312\u001b[0;31m           options, feed_dict, fetch_list, target_list, run_metadata)\n\u001b[0m\u001b[1;32m   1313\u001b[0m \u001b[0;34m\u001b[0m\u001b[0m\n\u001b[1;32m   1314\u001b[0m     \u001b[0;32mdef\u001b[0m \u001b[0m_prun_fn\u001b[0m\u001b[0;34m(\u001b[0m\u001b[0mhandle\u001b[0m\u001b[0;34m,\u001b[0m \u001b[0mfeed_dict\u001b[0m\u001b[0;34m,\u001b[0m \u001b[0mfetch_list\u001b[0m\u001b[0;34m)\u001b[0m\u001b[0;34m:\u001b[0m\u001b[0;34m\u001b[0m\u001b[0m\n",
      "\u001b[0;32m/n/home13/sravindranath/.conda/envs/tf/lib/python2.7/site-packages/tensorflow/python/client/session.pyc\u001b[0m in \u001b[0;36m_call_tf_sessionrun\u001b[0;34m(self, options, feed_dict, fetch_list, target_list, run_metadata)\u001b[0m\n\u001b[1;32m   1418\u001b[0m         return tf_session.TF_Run(\n\u001b[1;32m   1419\u001b[0m             \u001b[0mself\u001b[0m\u001b[0;34m.\u001b[0m\u001b[0m_session\u001b[0m\u001b[0;34m,\u001b[0m \u001b[0moptions\u001b[0m\u001b[0;34m,\u001b[0m \u001b[0mfeed_dict\u001b[0m\u001b[0;34m,\u001b[0m \u001b[0mfetch_list\u001b[0m\u001b[0;34m,\u001b[0m \u001b[0mtarget_list\u001b[0m\u001b[0;34m,\u001b[0m\u001b[0;34m\u001b[0m\u001b[0m\n\u001b[0;32m-> 1420\u001b[0;31m             status, run_metadata)\n\u001b[0m\u001b[1;32m   1421\u001b[0m \u001b[0;34m\u001b[0m\u001b[0m\n\u001b[1;32m   1422\u001b[0m   \u001b[0;32mdef\u001b[0m \u001b[0m_call_tf_sessionprun\u001b[0m\u001b[0;34m(\u001b[0m\u001b[0mself\u001b[0m\u001b[0;34m,\u001b[0m \u001b[0mhandle\u001b[0m\u001b[0;34m,\u001b[0m \u001b[0mfeed_dict\u001b[0m\u001b[0;34m,\u001b[0m \u001b[0mfetch_list\u001b[0m\u001b[0;34m)\u001b[0m\u001b[0;34m:\u001b[0m\u001b[0;34m\u001b[0m\u001b[0m\n",
      "\u001b[0;31mKeyboardInterrupt\u001b[0m: "
     ]
    }
   ],
   "source": [
    "net = Net(cfg)\n",
    "generator = [Generator(cfg, 'train'), Generator(cfg, 'val')]\n",
    "clip_op_lambda = (lambda x: tf.assign(x, tf.clip_by_value(x, 0.0, 1.0)))\n",
    "m = BaseTrainer(cfg, \"train\", net, clip_op_lambda)\n",
    "m.train(generator)"
   ]
  },
  {
   "cell_type": "code",
   "execution_count": 3,
   "metadata": {
    "collapsed": true
   },
   "outputs": [],
   "source": [
    "import numpy as np"
   ]
  },
  {
   "cell_type": "code",
   "execution_count": 4,
   "metadata": {
    "collapsed": true
   },
   "outputs": [],
   "source": [
    "x = np.random.rand(100,1,2)"
   ]
  },
  {
   "cell_type": "code",
   "execution_count": 5,
   "metadata": {},
   "outputs": [
    {
     "data": {
      "text/plain": [
       "(100, 2)"
      ]
     },
     "execution_count": 5,
     "metadata": {},
     "output_type": "execute_result"
    }
   ],
   "source": [
    "np.squeeze(x,1).shape"
   ]
  },
  {
   "cell_type": "code",
   "execution_count": 1,
   "metadata": {},
   "outputs": [
    {
     "name": "stdout",
     "output_type": "stream",
     "text": [
      "Tensor(\"alloc_out:0\", shape=(192, 2, 2), dtype=float32)\n",
      "Tensor(\"mul_3:0\", shape=(192, 2), dtype=float32)\n",
      "Tensor(\"concat:0\", shape=(128, 2, 3), dtype=float32)\n"
     ]
    },
    {
     "ename": "ValueError",
     "evalue": "Dimensions must be equal, but are 192 and 128 for 'Mul' (op: 'Mul') with input shapes: [192,2,2], [128,2,3].",
     "output_type": "error",
     "traceback": [
      "\u001b[0;31m---------------------------------------------------------------------------\u001b[0m",
      "\u001b[0;31mValueError\u001b[0m                                Traceback (most recent call last)",
      "\u001b[0;32m<ipython-input-1-9fc5f355415b>\u001b[0m in \u001b[0;36m<module>\u001b[0;34m()\u001b[0m\n\u001b[1;32m     15\u001b[0m \u001b[0mgenerator\u001b[0m \u001b[0;34m=\u001b[0m \u001b[0;34m[\u001b[0m\u001b[0mGenerator\u001b[0m\u001b[0;34m(\u001b[0m\u001b[0mcfg\u001b[0m\u001b[0;34m,\u001b[0m \u001b[0;34m'train'\u001b[0m\u001b[0;34m)\u001b[0m\u001b[0;34m,\u001b[0m \u001b[0mGenerator\u001b[0m\u001b[0;34m(\u001b[0m\u001b[0mcfg\u001b[0m\u001b[0;34m,\u001b[0m \u001b[0;34m'val'\u001b[0m\u001b[0;34m)\u001b[0m\u001b[0;34m]\u001b[0m\u001b[0;34m\u001b[0m\u001b[0m\n\u001b[1;32m     16\u001b[0m \u001b[0mclip_op_lambda\u001b[0m \u001b[0;34m=\u001b[0m \u001b[0;34m(\u001b[0m\u001b[0;32mlambda\u001b[0m \u001b[0mx\u001b[0m\u001b[0;34m:\u001b[0m \u001b[0mtf\u001b[0m\u001b[0;34m.\u001b[0m\u001b[0massign\u001b[0m\u001b[0;34m(\u001b[0m\u001b[0mx\u001b[0m\u001b[0;34m,\u001b[0m \u001b[0mtf\u001b[0m\u001b[0;34m.\u001b[0m\u001b[0mclip_by_value\u001b[0m\u001b[0;34m(\u001b[0m\u001b[0mx\u001b[0m\u001b[0;34m,\u001b[0m \u001b[0;36m0.0\u001b[0m\u001b[0;34m,\u001b[0m \u001b[0;36m1.0\u001b[0m\u001b[0;34m)\u001b[0m\u001b[0;34m)\u001b[0m\u001b[0;34m)\u001b[0m\u001b[0;34m\u001b[0m\u001b[0m\n\u001b[0;32m---> 17\u001b[0;31m \u001b[0mm\u001b[0m \u001b[0;34m=\u001b[0m \u001b[0mTrainer\u001b[0m\u001b[0;34m(\u001b[0m\u001b[0mcfg\u001b[0m\u001b[0;34m,\u001b[0m \u001b[0;34m\"train\"\u001b[0m\u001b[0;34m,\u001b[0m \u001b[0mnet\u001b[0m\u001b[0;34m,\u001b[0m \u001b[0mclip_op_lambda\u001b[0m\u001b[0;34m)\u001b[0m\u001b[0;34m\u001b[0m\u001b[0m\n\u001b[0m\u001b[1;32m     18\u001b[0m \u001b[0mm\u001b[0m\u001b[0;34m.\u001b[0m\u001b[0mtrain\u001b[0m\u001b[0;34m(\u001b[0m\u001b[0mgenerator\u001b[0m\u001b[0;34m)\u001b[0m\u001b[0;34m\u001b[0m\u001b[0m\n",
      "\u001b[0;32m/n/home13/sravindranath/deep-amd/trainer/ca12_2x2.pyc\u001b[0m in \u001b[0;36m__init__\u001b[0;34m(self, config, mode, net, clip_op_lambda)\u001b[0m\n\u001b[1;32m     38\u001b[0m \u001b[0;34m\u001b[0m\u001b[0m\n\u001b[1;32m     39\u001b[0m         \u001b[0;31m# Init TF-graph\u001b[0m\u001b[0;34m\u001b[0m\u001b[0;34m\u001b[0m\u001b[0m\n\u001b[0;32m---> 40\u001b[0;31m         \u001b[0mself\u001b[0m\u001b[0;34m.\u001b[0m\u001b[0minit_graph\u001b[0m\u001b[0;34m(\u001b[0m\u001b[0;34m)\u001b[0m\u001b[0;34m\u001b[0m\u001b[0m\n\u001b[0m\u001b[1;32m     41\u001b[0m \u001b[0;34m\u001b[0m\u001b[0m\n\u001b[1;32m     42\u001b[0m     \u001b[0;32mdef\u001b[0m \u001b[0mget_clip_op\u001b[0m\u001b[0;34m(\u001b[0m\u001b[0mself\u001b[0m\u001b[0;34m,\u001b[0m \u001b[0madv_var\u001b[0m\u001b[0;34m)\u001b[0m\u001b[0;34m:\u001b[0m\u001b[0;34m\u001b[0m\u001b[0m\n",
      "\u001b[0;32m/n/home13/sravindranath/deep-amd/trainer/ca12_2x2.pyc\u001b[0m in \u001b[0;36minit_graph\u001b[0;34m(self)\u001b[0m\n\u001b[1;32m    145\u001b[0m \u001b[0;34m\u001b[0m\u001b[0m\n\u001b[1;32m    146\u001b[0m         \u001b[0;31m# Utility\u001b[0m\u001b[0;34m\u001b[0m\u001b[0;34m\u001b[0m\u001b[0m\n\u001b[0;32m--> 147\u001b[0;31m         \u001b[0mutility\u001b[0m \u001b[0;34m=\u001b[0m \u001b[0mself\u001b[0m\u001b[0;34m.\u001b[0m\u001b[0mcompute_utility\u001b[0m\u001b[0;34m(\u001b[0m\u001b[0mx_in\u001b[0m\u001b[0;34m,\u001b[0m \u001b[0mself\u001b[0m\u001b[0;34m.\u001b[0m\u001b[0malloc\u001b[0m\u001b[0;34m,\u001b[0m \u001b[0mself\u001b[0m\u001b[0;34m.\u001b[0m\u001b[0mpay\u001b[0m\u001b[0;34m)\u001b[0m\u001b[0;34m\u001b[0m\u001b[0m\n\u001b[0m\u001b[1;32m    148\u001b[0m         \u001b[0mutility_mis\u001b[0m \u001b[0;34m=\u001b[0m \u001b[0mself\u001b[0m\u001b[0;34m.\u001b[0m\u001b[0mcompute_utility\u001b[0m\u001b[0;34m(\u001b[0m\u001b[0mx_mis_in\u001b[0m\u001b[0;34m,\u001b[0m \u001b[0ma_mis\u001b[0m\u001b[0;34m,\u001b[0m \u001b[0mp_mis\u001b[0m\u001b[0;34m)\u001b[0m\u001b[0;34m\u001b[0m\u001b[0m\n\u001b[1;32m    149\u001b[0m \u001b[0;34m\u001b[0m\u001b[0m\n",
      "\u001b[0;32m/n/home13/sravindranath/deep-amd/trainer/ca12_2x2.pyc\u001b[0m in \u001b[0;36mcompute_utility\u001b[0;34m(self, x, alloc, pay)\u001b[0m\n\u001b[1;32m     83\u001b[0m                 \u001b[0mutility\u001b[0m\u001b[0;34m:\u001b[0m \u001b[0;34m[\u001b[0m\u001b[0mnum_batches\u001b[0m\u001b[0;34m,\u001b[0m \u001b[0mnum_agents\u001b[0m\u001b[0;34m]\u001b[0m\u001b[0;34m\u001b[0m\u001b[0m\n\u001b[1;32m     84\u001b[0m         \"\"\"\n\u001b[0;32m---> 85\u001b[0;31m         \u001b[0;32mreturn\u001b[0m \u001b[0mtf\u001b[0m\u001b[0;34m.\u001b[0m\u001b[0mreduce_sum\u001b[0m\u001b[0;34m(\u001b[0m\u001b[0mtf\u001b[0m\u001b[0;34m.\u001b[0m\u001b[0mmultiply\u001b[0m\u001b[0;34m(\u001b[0m\u001b[0malloc\u001b[0m\u001b[0;34m,\u001b[0m \u001b[0mx\u001b[0m\u001b[0;34m)\u001b[0m\u001b[0;34m,\u001b[0m \u001b[0maxis\u001b[0m\u001b[0;34m=\u001b[0m\u001b[0;34m-\u001b[0m\u001b[0;36m1\u001b[0m\u001b[0;34m)\u001b[0m \u001b[0;34m-\u001b[0m \u001b[0mpay\u001b[0m\u001b[0;34m\u001b[0m\u001b[0m\n\u001b[0m\u001b[1;32m     86\u001b[0m \u001b[0;34m\u001b[0m\u001b[0m\n\u001b[1;32m     87\u001b[0m \u001b[0;34m\u001b[0m\u001b[0m\n",
      "\u001b[0;32m/n/home13/sravindranath/.conda/envs/tf/lib/python2.7/site-packages/tensorflow/python/ops/math_ops.pyc\u001b[0m in \u001b[0;36mmultiply\u001b[0;34m(x, y, name)\u001b[0m\n\u001b[1;32m    329\u001b[0m \u001b[0;34m@\u001b[0m\u001b[0mtf_export\u001b[0m\u001b[0;34m(\u001b[0m\u001b[0;34m\"multiply\"\u001b[0m\u001b[0;34m)\u001b[0m\u001b[0;34m\u001b[0m\u001b[0m\n\u001b[1;32m    330\u001b[0m \u001b[0;32mdef\u001b[0m \u001b[0mmultiply\u001b[0m\u001b[0;34m(\u001b[0m\u001b[0mx\u001b[0m\u001b[0;34m,\u001b[0m \u001b[0my\u001b[0m\u001b[0;34m,\u001b[0m \u001b[0mname\u001b[0m\u001b[0;34m=\u001b[0m\u001b[0mNone\u001b[0m\u001b[0;34m)\u001b[0m\u001b[0;34m:\u001b[0m\u001b[0;34m\u001b[0m\u001b[0m\n\u001b[0;32m--> 331\u001b[0;31m   \u001b[0;32mreturn\u001b[0m \u001b[0mgen_math_ops\u001b[0m\u001b[0;34m.\u001b[0m\u001b[0mmul\u001b[0m\u001b[0;34m(\u001b[0m\u001b[0mx\u001b[0m\u001b[0;34m,\u001b[0m \u001b[0my\u001b[0m\u001b[0;34m,\u001b[0m \u001b[0mname\u001b[0m\u001b[0;34m)\u001b[0m\u001b[0;34m\u001b[0m\u001b[0m\n\u001b[0m\u001b[1;32m    332\u001b[0m \u001b[0;34m\u001b[0m\u001b[0m\n\u001b[1;32m    333\u001b[0m \u001b[0;34m\u001b[0m\u001b[0m\n",
      "\u001b[0;32m/n/home13/sravindranath/.conda/envs/tf/lib/python2.7/site-packages/tensorflow/python/ops/gen_math_ops.pyc\u001b[0m in \u001b[0;36mmul\u001b[0;34m(x, y, name)\u001b[0m\n\u001b[1;32m   4687\u001b[0m   \u001b[0;32mif\u001b[0m \u001b[0;32mnot\u001b[0m \u001b[0m_ctx\u001b[0m\u001b[0;34m.\u001b[0m\u001b[0mexecuting_eagerly\u001b[0m\u001b[0;34m(\u001b[0m\u001b[0;34m)\u001b[0m\u001b[0;34m:\u001b[0m\u001b[0;34m\u001b[0m\u001b[0m\n\u001b[1;32m   4688\u001b[0m     _, _, _op = _op_def_lib._apply_op_helper(\n\u001b[0;32m-> 4689\u001b[0;31m         \"Mul\", x=x, y=y, name=name)\n\u001b[0m\u001b[1;32m   4690\u001b[0m     \u001b[0m_result\u001b[0m \u001b[0;34m=\u001b[0m \u001b[0m_op\u001b[0m\u001b[0;34m.\u001b[0m\u001b[0moutputs\u001b[0m\u001b[0;34m[\u001b[0m\u001b[0;34m:\u001b[0m\u001b[0;34m]\u001b[0m\u001b[0;34m\u001b[0m\u001b[0m\n\u001b[1;32m   4691\u001b[0m     \u001b[0m_inputs_flat\u001b[0m \u001b[0;34m=\u001b[0m \u001b[0m_op\u001b[0m\u001b[0;34m.\u001b[0m\u001b[0minputs\u001b[0m\u001b[0;34m\u001b[0m\u001b[0m\n",
      "\u001b[0;32m/n/home13/sravindranath/.conda/envs/tf/lib/python2.7/site-packages/tensorflow/python/framework/op_def_library.pyc\u001b[0m in \u001b[0;36m_apply_op_helper\u001b[0;34m(self, op_type_name, name, **keywords)\u001b[0m\n\u001b[1;32m    785\u001b[0m         op = g.create_op(op_type_name, inputs, output_types, name=scope,\n\u001b[1;32m    786\u001b[0m                          \u001b[0minput_types\u001b[0m\u001b[0;34m=\u001b[0m\u001b[0minput_types\u001b[0m\u001b[0;34m,\u001b[0m \u001b[0mattrs\u001b[0m\u001b[0;34m=\u001b[0m\u001b[0mattr_protos\u001b[0m\u001b[0;34m,\u001b[0m\u001b[0;34m\u001b[0m\u001b[0m\n\u001b[0;32m--> 787\u001b[0;31m                          op_def=op_def)\n\u001b[0m\u001b[1;32m    788\u001b[0m       \u001b[0;32mreturn\u001b[0m \u001b[0moutput_structure\u001b[0m\u001b[0;34m,\u001b[0m \u001b[0mop_def\u001b[0m\u001b[0;34m.\u001b[0m\u001b[0mis_stateful\u001b[0m\u001b[0;34m,\u001b[0m \u001b[0mop\u001b[0m\u001b[0;34m\u001b[0m\u001b[0m\n\u001b[1;32m    789\u001b[0m \u001b[0;34m\u001b[0m\u001b[0m\n",
      "\u001b[0;32m/n/home13/sravindranath/.conda/envs/tf/lib/python2.7/site-packages/tensorflow/python/framework/ops.pyc\u001b[0m in \u001b[0;36mcreate_op\u001b[0;34m(self, op_type, inputs, dtypes, input_types, name, attrs, op_def, compute_shapes, compute_device)\u001b[0m\n\u001b[1;32m   3290\u001b[0m           op_def=op_def)\n\u001b[1;32m   3291\u001b[0m       self._create_op_helper(ret, compute_shapes=compute_shapes,\n\u001b[0;32m-> 3292\u001b[0;31m                              compute_device=compute_device)\n\u001b[0m\u001b[1;32m   3293\u001b[0m     \u001b[0;32mreturn\u001b[0m \u001b[0mret\u001b[0m\u001b[0;34m\u001b[0m\u001b[0m\n\u001b[1;32m   3294\u001b[0m \u001b[0;34m\u001b[0m\u001b[0m\n",
      "\u001b[0;32m/n/home13/sravindranath/.conda/envs/tf/lib/python2.7/site-packages/tensorflow/python/framework/ops.pyc\u001b[0m in \u001b[0;36m_create_op_helper\u001b[0;34m(self, op, compute_shapes, compute_device)\u001b[0m\n\u001b[1;32m   3330\u001b[0m     \u001b[0;31m# compute_shapes argument.\u001b[0m\u001b[0;34m\u001b[0m\u001b[0;34m\u001b[0m\u001b[0m\n\u001b[1;32m   3331\u001b[0m     \u001b[0;32mif\u001b[0m \u001b[0mop\u001b[0m\u001b[0;34m.\u001b[0m\u001b[0m_c_op\u001b[0m \u001b[0;32mor\u001b[0m \u001b[0mcompute_shapes\u001b[0m\u001b[0;34m:\u001b[0m  \u001b[0;31m# pylint: disable=protected-access\u001b[0m\u001b[0;34m\u001b[0m\u001b[0m\n\u001b[0;32m-> 3332\u001b[0;31m       \u001b[0mset_shapes_for_outputs\u001b[0m\u001b[0;34m(\u001b[0m\u001b[0mop\u001b[0m\u001b[0;34m)\u001b[0m\u001b[0;34m\u001b[0m\u001b[0m\n\u001b[0m\u001b[1;32m   3333\u001b[0m     \u001b[0;31m# TODO(b/XXXX): move to Operation.__init__ once _USE_C_API flag is removed.\u001b[0m\u001b[0;34m\u001b[0m\u001b[0;34m\u001b[0m\u001b[0m\n\u001b[1;32m   3334\u001b[0m     \u001b[0mself\u001b[0m\u001b[0;34m.\u001b[0m\u001b[0m_add_op\u001b[0m\u001b[0;34m(\u001b[0m\u001b[0mop\u001b[0m\u001b[0;34m)\u001b[0m\u001b[0;34m\u001b[0m\u001b[0m\n",
      "\u001b[0;32m/n/home13/sravindranath/.conda/envs/tf/lib/python2.7/site-packages/tensorflow/python/framework/ops.pyc\u001b[0m in \u001b[0;36mset_shapes_for_outputs\u001b[0;34m(op)\u001b[0m\n\u001b[1;32m   2494\u001b[0m     \u001b[0;32mreturn\u001b[0m \u001b[0m_set_shapes_for_outputs_c_api\u001b[0m\u001b[0;34m(\u001b[0m\u001b[0mop\u001b[0m\u001b[0;34m)\u001b[0m\u001b[0;34m\u001b[0m\u001b[0m\n\u001b[1;32m   2495\u001b[0m   \u001b[0;32melse\u001b[0m\u001b[0;34m:\u001b[0m\u001b[0;34m\u001b[0m\u001b[0m\n\u001b[0;32m-> 2496\u001b[0;31m     \u001b[0;32mreturn\u001b[0m \u001b[0m_set_shapes_for_outputs\u001b[0m\u001b[0;34m(\u001b[0m\u001b[0mop\u001b[0m\u001b[0;34m)\u001b[0m\u001b[0;34m\u001b[0m\u001b[0m\n\u001b[0m\u001b[1;32m   2497\u001b[0m \u001b[0;34m\u001b[0m\u001b[0m\n\u001b[1;32m   2498\u001b[0m \u001b[0;34m\u001b[0m\u001b[0m\n",
      "\u001b[0;32m/n/home13/sravindranath/.conda/envs/tf/lib/python2.7/site-packages/tensorflow/python/framework/ops.pyc\u001b[0m in \u001b[0;36m_set_shapes_for_outputs\u001b[0;34m(op)\u001b[0m\n\u001b[1;32m   2467\u001b[0m       \u001b[0mshape_func\u001b[0m \u001b[0;34m=\u001b[0m \u001b[0m_call_cpp_shape_fn_and_require_op\u001b[0m\u001b[0;34m\u001b[0m\u001b[0m\n\u001b[1;32m   2468\u001b[0m \u001b[0;34m\u001b[0m\u001b[0m\n\u001b[0;32m-> 2469\u001b[0;31m   \u001b[0mshapes\u001b[0m \u001b[0;34m=\u001b[0m \u001b[0mshape_func\u001b[0m\u001b[0;34m(\u001b[0m\u001b[0mop\u001b[0m\u001b[0;34m)\u001b[0m\u001b[0;34m\u001b[0m\u001b[0m\n\u001b[0m\u001b[1;32m   2470\u001b[0m   \u001b[0;32mif\u001b[0m \u001b[0mshapes\u001b[0m \u001b[0;32mis\u001b[0m \u001b[0mNone\u001b[0m\u001b[0;34m:\u001b[0m\u001b[0;34m\u001b[0m\u001b[0m\n\u001b[1;32m   2471\u001b[0m     raise RuntimeError(\n",
      "\u001b[0;32m/n/home13/sravindranath/.conda/envs/tf/lib/python2.7/site-packages/tensorflow/python/framework/ops.pyc\u001b[0m in \u001b[0;36mcall_with_requiring\u001b[0;34m(op)\u001b[0m\n\u001b[1;32m   2397\u001b[0m \u001b[0;34m\u001b[0m\u001b[0m\n\u001b[1;32m   2398\u001b[0m   \u001b[0;32mdef\u001b[0m \u001b[0mcall_with_requiring\u001b[0m\u001b[0;34m(\u001b[0m\u001b[0mop\u001b[0m\u001b[0;34m)\u001b[0m\u001b[0;34m:\u001b[0m\u001b[0;34m\u001b[0m\u001b[0m\n\u001b[0;32m-> 2399\u001b[0;31m     \u001b[0;32mreturn\u001b[0m \u001b[0mcall_cpp_shape_fn\u001b[0m\u001b[0;34m(\u001b[0m\u001b[0mop\u001b[0m\u001b[0;34m,\u001b[0m \u001b[0mrequire_shape_fn\u001b[0m\u001b[0;34m=\u001b[0m\u001b[0mTrue\u001b[0m\u001b[0;34m)\u001b[0m\u001b[0;34m\u001b[0m\u001b[0m\n\u001b[0m\u001b[1;32m   2400\u001b[0m \u001b[0;34m\u001b[0m\u001b[0m\n\u001b[1;32m   2401\u001b[0m   \u001b[0m_call_cpp_shape_fn_and_require_op\u001b[0m \u001b[0;34m=\u001b[0m \u001b[0mcall_with_requiring\u001b[0m\u001b[0;34m\u001b[0m\u001b[0m\n",
      "\u001b[0;32m/n/home13/sravindranath/.conda/envs/tf/lib/python2.7/site-packages/tensorflow/python/framework/common_shapes.pyc\u001b[0m in \u001b[0;36mcall_cpp_shape_fn\u001b[0;34m(op, require_shape_fn)\u001b[0m\n\u001b[1;32m    625\u001b[0m     res = _call_cpp_shape_fn_impl(op, input_tensors_needed,\n\u001b[1;32m    626\u001b[0m                                   \u001b[0minput_tensors_as_shapes_needed\u001b[0m\u001b[0;34m,\u001b[0m\u001b[0;34m\u001b[0m\u001b[0m\n\u001b[0;32m--> 627\u001b[0;31m                                   require_shape_fn)\n\u001b[0m\u001b[1;32m    628\u001b[0m     \u001b[0;32mif\u001b[0m \u001b[0;32mnot\u001b[0m \u001b[0misinstance\u001b[0m\u001b[0;34m(\u001b[0m\u001b[0mres\u001b[0m\u001b[0;34m,\u001b[0m \u001b[0mdict\u001b[0m\u001b[0;34m)\u001b[0m\u001b[0;34m:\u001b[0m\u001b[0;34m\u001b[0m\u001b[0m\n\u001b[1;32m    629\u001b[0m       \u001b[0;31m# Handles the case where _call_cpp_shape_fn_impl calls unknown_shape(op).\u001b[0m\u001b[0;34m\u001b[0m\u001b[0;34m\u001b[0m\u001b[0m\n",
      "\u001b[0;32m/n/home13/sravindranath/.conda/envs/tf/lib/python2.7/site-packages/tensorflow/python/framework/common_shapes.pyc\u001b[0m in \u001b[0;36m_call_cpp_shape_fn_impl\u001b[0;34m(op, input_tensors_needed, input_tensors_as_shapes_needed, require_shape_fn)\u001b[0m\n\u001b[1;32m    689\u001b[0m       \u001b[0mmissing_shape_fn\u001b[0m \u001b[0;34m=\u001b[0m \u001b[0mTrue\u001b[0m\u001b[0;34m\u001b[0m\u001b[0m\n\u001b[1;32m    690\u001b[0m     \u001b[0;32melse\u001b[0m\u001b[0;34m:\u001b[0m\u001b[0;34m\u001b[0m\u001b[0m\n\u001b[0;32m--> 691\u001b[0;31m       \u001b[0;32mraise\u001b[0m \u001b[0mValueError\u001b[0m\u001b[0;34m(\u001b[0m\u001b[0merr\u001b[0m\u001b[0;34m.\u001b[0m\u001b[0mmessage\u001b[0m\u001b[0;34m)\u001b[0m\u001b[0;34m\u001b[0m\u001b[0m\n\u001b[0m\u001b[1;32m    692\u001b[0m \u001b[0;34m\u001b[0m\u001b[0m\n\u001b[1;32m    693\u001b[0m   \u001b[0;32mif\u001b[0m \u001b[0mmissing_shape_fn\u001b[0m\u001b[0;34m:\u001b[0m\u001b[0;34m\u001b[0m\u001b[0m\n",
      "\u001b[0;31mValueError\u001b[0m: Dimensions must be equal, but are 192 and 128 for 'Mul' (op: 'Mul') with input shapes: [192,2,2], [128,2,3]."
     ]
    }
   ],
   "source": [
    "from __future__ import absolute_import\n",
    "from __future__ import division\n",
    "from __future__ import print_function\n",
    "\n",
    "import numpy as np\n",
    "import tensorflow as tf\n",
    "\n",
    "from cfgs.config_ca12 import cfg\n",
    "from nets.additive_net import Net\n",
    "from data.ca_sym_uniform_12_generator import Generator\n",
    "from trainer.ca12_2x2 import Trainer\n",
    "\n",
    "\n",
    "net = Net(cfg)\n",
    "generator = [Generator(cfg, 'train'), Generator(cfg, 'val')]\n",
    "clip_op_lambda = (lambda x: tf.assign(x, tf.clip_by_value(x, 0.0, 1.0)))\n",
    "m = Trainer(cfg, \"train\", net, clip_op_lambda)\n",
    "m.train(generator)"
   ]
  },
  {
   "cell_type": "code",
   "execution_count": null,
   "metadata": {
    "collapsed": true
   },
   "outputs": [],
   "source": []
  }
 ],
 "metadata": {
  "kernelspec": {
   "display_name": "Python 2",
   "language": "python",
   "name": "python2"
  }
 },
 "nbformat": 4,
 "nbformat_minor": 2
}
