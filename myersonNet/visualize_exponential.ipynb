{
 "cells": [
  {
   "cell_type": "code",
   "execution_count": 1,
   "metadata": {
    "collapsed": true
   },
   "outputs": [],
   "source": [
    "from __future__ import absolute_import\n",
    "from __future__ import division\n",
    "from __future__ import print_function\n",
    "\n",
    "import os\n",
    "import sys\n",
    "import numpy as np\n",
    "import tensorflow as tf\n",
    "\n",
    "\n",
    "from nets import *\n",
    "from cfgs import *\n",
    "from data import *\n",
    "from trainer import *\n",
    "from baseline import *\n",
    "\n",
    "import matplotlib.pyplot as plt"
   ]
  },
  {
   "cell_type": "code",
   "execution_count": 2,
   "metadata": {
    "collapsed": true
   },
   "outputs": [],
   "source": [
    "cfg = m_3x1_exp_3_config.cfg\n",
    "Generator = exp_3.Generator\n",
    "%matplotlib inline\n",
    "save_plot = True\n",
    "plt.rcParams.update({'font.size': 10, 'axes.labelsize': 'x-large'})\n",
    "D = 201\n",
    "X_tst = np.tile(np.linspace(0, 25.0, D)[:, np.newaxis], cfg.num_agents)"
   ]
  },
  {
   "cell_type": "code",
   "execution_count": 3,
   "metadata": {
    "collapsed": true
   },
   "outputs": [],
   "source": [
    "cfg.test.batch_size = D\n",
    "cfg.test.num_batches = int(X_tst.shape[0]/cfg.test.batch_size)\n",
    "cfg.test.save_output = True"
   ]
  },
  {
   "cell_type": "code",
   "execution_count": 4,
   "metadata": {},
   "outputs": [
    {
     "name": "stdout",
     "output_type": "stream",
     "text": [
      "INFO:tensorflow:Restoring parameters from experiments/m_3x1_exp_3/model-40000\n"
     ]
    },
    {
     "name": "stderr",
     "output_type": "stream",
     "text": [
      "2019-02-02 14:29:11,426:INFO:Restoring parameters from experiments/m_3x1_exp_3/model-40000\n",
      "2019-02-02 14:29:14,262:INFO:TEST BATCH-0: t = 2.8061, Net_Loss: -12.127761, Revenue: 12.127761\n",
      "2019-02-02 14:29:14,264:INFO:TEST ALL-40000: t = 2.8061, Net_Loss: -12.127761, Revenue: 12.127761\n"
     ]
    }
   ],
   "source": [
    "net = net.Net(cfg, \"test\")\n",
    "generator = Generator(cfg, 'test', X_tst)\n",
    "m = trainer.Trainer(cfg, \"test\", net)\n",
    "m.test(generator)"
   ]
  },
  {
   "cell_type": "code",
   "execution_count": 5,
   "metadata": {
    "collapsed": true
   },
   "outputs": [],
   "source": [
    "alloc = np.load(os.path.join(cfg.dir_name, \"alloc_tst_\" + str(cfg.test.restore_iter) + \".npy\"))\n",
    "pay = np.load(os.path.join(cfg.dir_name, \"pay_tst_\" + str(cfg.test.restore_iter) + \".npy\"))\n",
    "vv = np.load(os.path.join(cfg.dir_name, \"vv_tst_\" + str(cfg.test.restore_iter) + \".npy\"))"
   ]
  },
  {
   "cell_type": "code",
   "execution_count": 6,
   "metadata": {},
   "outputs": [
    {
     "data": {
      "image/png": "[encoded data removed]",
      "text/plain": [
       "<matplotlib.figure.Figure at 0x2ad200b65d10>"
      ]
     },
     "metadata": {},
     "output_type": "display_data"
    }
   ],
   "source": [
    "fig, ax = plt.subplots(ncols = 1, nrows = 1, figsize = (8, 6))\n",
    "\n",
    "vv_true = plt.plot(X_tst[:, 0], baseline.OptRevOneItem(cfg, X_tst).compute_vv(X_tst[:, 0], 0), \n",
    "                   c = \"r\", linewidth = 2, linestyle = '--', label = \"Myerson\\nTransformation\")\n",
    "for i in range(cfg.num_agents):\n",
    "    plt.plot(X_tst[:, i], vv[:, i], linewidth = 2, linestyle = '-', label = 'Agent ' + str(i+1)) \n",
    "plt.xlabel('v')\n",
    "plt.ylabel('$\\phi(v)$')\n",
    "plt.title(\"uniform\")\n",
    "plt.xlim(X_tst[0,0], X_tst[-1,0])\n",
    "\n",
    "plt.legend(loc=4)\n",
    "\n",
    "if save_plot:\n",
    "    fig.set_size_inches(4, 3)\n",
    "    plt.savefig(os.path.join(cfg.dir_name, 'phi.pdf'), bbox_inches = 'tight', pad_inches = 0.05)"
   ]
  },
  {
   "cell_type": "code",
   "execution_count": null,
   "metadata": {
    "collapsed": true
   },
   "outputs": [],
   "source": []
  }
 ],
 "metadata": {
  "kernelspec": {
   "display_name": "Python 2",
   "language": "python",
   "name": "python2"
  },
  "language_info": {
   "codemirror_mode": {
    "name": "ipython",
    "version": 2
   },
   "file_extension": ".py",
   "mimetype": "text/x-python",
   "name": "python",
   "nbconvert_exporter": "python",
   "pygments_lexer": "ipython2",
   "version": "2.7.13"
  }
 },
 "nbformat": 4,
 "nbformat_minor": 2
}
