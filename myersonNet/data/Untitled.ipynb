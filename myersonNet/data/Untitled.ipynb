{
 "cells": [
  {
   "cell_type": "code",
   "execution_count": 20,
   "metadata": {
    "collapsed": true
   },
   "outputs": [],
   "source": [
    "import numpy as np"
   ]
  },
  {
   "cell_type": "code",
   "execution_count": 8,
   "metadata": {
    "collapsed": true
   },
   "outputs": [],
   "source": [
    "shape = [102,46, 22]"
   ]
  },
  {
   "cell_type": "code",
   "execution_count": 9,
   "metadata": {
    "collapsed": true
   },
   "outputs": [],
   "source": [
    "r = np.random.rand(*shape)\n",
    "X = np.zeros(shape)"
   ]
  },
  {
   "cell_type": "code",
   "execution_count": 18,
   "metadata": {
    "collapsed": true
   },
   "outputs": [],
   "source": [
    "X[r<0.75] = np.random.uniform(-1111, -1110, X[r<0.75].shape)"
   ]
  },
  {
   "cell_type": "code",
   "execution_count": 19,
   "metadata": {},
   "outputs": [
    {
     "data": {
      "text/plain": [
       "array([[[    0.        , -1110.8673083 , -1110.41761841, ...,\n",
       "         -1110.49060394, -1110.67585298,     0.        ],\n",
       "        [-1110.28248201,     0.        , -1110.39698438, ...,\n",
       "             0.        ,     0.        , -1110.70699402],\n",
       "        [-1110.03610764, -1110.03709629, -1110.63304162, ...,\n",
       "         -1110.23479105, -1110.76495533,     0.        ],\n",
       "        ..., \n",
       "        [    0.        , -1110.38327269, -1110.92078016, ...,\n",
       "         -1110.2396013 , -1110.26390374, -1110.43661305],\n",
       "        [    0.        ,     0.        , -1110.01959273, ...,\n",
       "         -1110.8841552 , -1110.74471225, -1110.09064218],\n",
       "        [-1110.7732823 , -1110.22976333, -1110.02704919, ...,\n",
       "             0.        , -1110.42897436, -1110.51638911]],\n",
       "\n",
       "       [[-1110.33363909, -1110.35256235, -1110.39674583, ...,\n",
       "         -1110.9097853 , -1110.07767672, -1110.33850339],\n",
       "        [-1110.16838872, -1110.642052  ,     0.        , ...,\n",
       "             0.        , -1110.79913524, -1110.80153103],\n",
       "        [    0.        ,     0.        , -1110.48389742, ...,\n",
       "         -1110.25198706, -1110.57615287, -1110.93545557],\n",
       "        ..., \n",
       "        [    0.        , -1110.56503875, -1110.29215704, ...,\n",
       "         -1110.56224038,     0.        , -1110.3410562 ],\n",
       "        [-1110.92763389, -1110.07709792,     0.        , ...,\n",
       "         -1110.65977446, -1110.43704373, -1110.13530008],\n",
       "        [-1110.72215368,     0.        , -1110.92018629, ...,\n",
       "         -1110.65727339, -1110.06177021, -1110.7012985 ]],\n",
       "\n",
       "       [[-1110.01749127, -1110.91480615, -1110.87849211, ...,\n",
       "         -1110.26729319, -1110.76573842, -1110.11618047],\n",
       "        [-1110.74048943,     0.        ,     0.        , ...,\n",
       "         -1110.55474739, -1110.44122279, -1110.04210503],\n",
       "        [-1110.45705253, -1110.34976894,     0.        , ...,\n",
       "         -1110.93894908, -1110.47911828, -1110.37162551],\n",
       "        ..., \n",
       "        [-1110.10746835, -1110.06966787,     0.        , ...,\n",
       "             0.        , -1110.813989  ,     0.        ],\n",
       "        [-1110.4166965 , -1110.47732398, -1110.75018926, ...,\n",
       "         -1110.80951721, -1110.3416225 , -1110.38496074],\n",
       "        [-1110.42102817, -1110.68772493, -1110.99199373, ...,\n",
       "             0.        , -1110.71073023, -1110.3875427 ]],\n",
       "\n",
       "       ..., \n",
       "       [[    0.        , -1110.24739822,     0.        , ...,\n",
       "         -1110.83004422, -1110.98174538, -1110.28523496],\n",
       "        [-1110.5024367 , -1110.18803548, -1110.38986091, ...,\n",
       "         -1110.07643331,     0.        , -1110.57658614],\n",
       "        [    0.        , -1110.09626943, -1110.23927971, ...,\n",
       "             0.        , -1110.11614225, -1110.99886759],\n",
       "        ..., \n",
       "        [-1110.45226419,     0.        ,     0.        , ...,\n",
       "         -1110.75244872, -1110.59040541, -1110.94688402],\n",
       "        [-1110.02589765, -1110.70963399, -1110.98629372, ...,\n",
       "         -1110.96658161, -1110.73592374, -1110.91620472],\n",
       "        [-1110.97264145,     0.        , -1110.20933166, ...,\n",
       "             0.        , -1110.68710274, -1110.50862189]],\n",
       "\n",
       "       [[    0.        , -1110.55947762, -1110.08894013, ...,\n",
       "         -1110.10575575, -1110.54326408,     0.        ],\n",
       "        [-1110.13965042, -1110.75359946, -1110.50278126, ...,\n",
       "         -1110.98818189,     0.        ,     0.        ],\n",
       "        [    0.        ,     0.        , -1110.40962158, ...,\n",
       "         -1110.36445926,     0.        ,     0.        ],\n",
       "        ..., \n",
       "        [-1110.88407226, -1110.79700079,     0.        , ...,\n",
       "         -1110.83502969,     0.        , -1110.24578098],\n",
       "        [    0.        ,     0.        , -1110.77796491, ...,\n",
       "             0.        , -1110.13429437, -1110.35266131],\n",
       "        [    0.        ,     0.        ,     0.        , ...,\n",
       "         -1110.05998283, -1110.00253716, -1110.35160554]],\n",
       "\n",
       "       [[-1110.78149849, -1110.81899612, -1110.52615498, ...,\n",
       "         -1110.33438065,     0.        , -1110.06153976],\n",
       "        [-1110.39981966, -1110.3026766 ,     0.        , ...,\n",
       "         -1110.2664495 , -1110.64192051, -1110.25857373],\n",
       "        [-1110.85277163, -1110.30569069,     0.        , ...,\n",
       "             0.        , -1110.22863003,     0.        ],\n",
       "        ..., \n",
       "        [-1110.35475128, -1110.61285127, -1110.6589546 , ...,\n",
       "         -1110.35968652, -1110.98485809, -1110.79915286],\n",
       "        [-1110.32154681, -1110.94303284,     0.        , ...,\n",
       "             0.        , -1110.02574014, -1110.09027973],\n",
       "        [-1110.44991518, -1110.87363353, -1110.63377909, ...,\n",
       "             0.        , -1110.93628192,     0.        ]]])"
      ]
     },
     "execution_count": 19,
     "metadata": {},
     "output_type": "execute_result"
    }
   ],
   "source": [
    "X"
   ]
  },
  {
   "cell_type": "code",
   "execution_count": 13,
   "metadata": {},
   "outputs": [
    {
     "data": {
      "text/plain": [
       "(77266,)"
      ]
     },
     "execution_count": 13,
     "metadata": {},
     "output_type": "execute_result"
    }
   ],
   "source": [
    "X[r<0.75].shape"
   ]
  },
  {
   "cell_type": "code",
   "execution_count": 15,
   "metadata": {},
   "outputs": [
    {
     "data": {
      "text/plain": [
       "(array([  0,   0,   0, ..., 101, 101, 101]),\n",
       " array([ 0,  0,  0, ..., 45, 45, 45]),\n",
       " array([ 1,  2,  3, ..., 17, 18, 20]))"
      ]
     },
     "execution_count": 15,
     "metadata": {},
     "output_type": "execute_result"
    }
   ],
   "source": [
    "np.where(r < 0.75)"
   ]
  },
  {
   "cell_type": "code",
   "execution_count": 21,
   "metadata": {},
   "outputs": [
    {
     "data": {
      "text/plain": [
       "array([[ 1.,  0.,  0.,  0.,  0.],\n",
       "       [ 0.,  1.,  0.,  0.,  0.],\n",
       "       [ 0.,  0.,  1.,  0.,  0.],\n",
       "       [ 0.,  0.,  0.,  1.,  0.],\n",
       "       [ 0.,  0.,  0.,  0.,  1.]])"
      ]
     },
     "execution_count": 21,
     "metadata": {},
     "output_type": "execute_result"
    }
   ],
   "source": [
    "np.identity(5)"
   ]
  },
  {
   "cell_type": "code",
   "execution_count": 22,
   "metadata": {},
   "outputs": [
    {
     "data": {
      "text/plain": [
       "array([[ 1.,  0.,  0.,  0.,  0.,  0.],\n",
       "       [ 0.,  1.,  0.,  0.,  0.,  0.],\n",
       "       [ 0.,  0.,  1.,  0.,  0.,  0.],\n",
       "       [ 0.,  0.,  0.,  1.,  0.,  0.],\n",
       "       [ 0.,  0.,  0.,  0.,  1.,  0.]], dtype=float32)"
      ]
     },
     "execution_count": 22,
     "metadata": {},
     "output_type": "execute_result"
    }
   ],
   "source": [
    "np.float32(np.append(np.identity(5), np.zeros([5, 1]), 1))"
   ]
  },
  {
   "cell_type": "code",
   "execution_count": 23,
   "metadata": {
    "collapsed": true
   },
   "outputs": [],
   "source": [
    "a = np.random.rand(10,2,3)\n",
    "b = np.random.rand(3,1)"
   ]
  },
  {
   "cell_type": "code",
   "execution_count": 26,
   "metadata": {
    "collapsed": true
   },
   "outputs": [],
   "source": [
    "c = a * b[:,:,np.newaxis].T"
   ]
  },
  {
   "cell_type": "code",
   "execution_count": 27,
   "metadata": {},
   "outputs": [
    {
     "data": {
      "text/plain": [
       "(10, 2, 3)"
      ]
     },
     "execution_count": 27,
     "metadata": {},
     "output_type": "execute_result"
    }
   ],
   "source": [
    "c.shape"
   ]
  },
  {
   "cell_type": "code",
   "execution_count": 30,
   "metadata": {},
   "outputs": [
    {
     "data": {
      "text/plain": [
       "array([[ True,  True],\n",
       "       [ True,  True],\n",
       "       [ True,  True],\n",
       "       [ True,  True],\n",
       "       [ True,  True],\n",
       "       [ True,  True],\n",
       "       [ True,  True],\n",
       "       [ True,  True],\n",
       "       [ True,  True],\n",
       "       [ True,  True]], dtype=bool)"
      ]
     },
     "execution_count": 30,
     "metadata": {},
     "output_type": "execute_result"
    }
   ],
   "source": [
    "a[..., 0] * b[0] == c[...,0]"
   ]
  },
  {
   "cell_type": "code",
   "execution_count": 29,
   "metadata": {},
   "outputs": [
    {
     "data": {
      "text/plain": [
       "array([[ 0.07250769,  0.00071089],\n",
       "       [ 0.03906824,  0.09093782],\n",
       "       [ 0.09840578,  0.10850073],\n",
       "       [ 0.01253854,  0.06005405],\n",
       "       [ 0.00635429,  0.02405075],\n",
       "       [ 0.04357959,  0.0915284 ],\n",
       "       [ 0.02159493,  0.06410345],\n",
       "       [ 0.00248041,  0.02662878],\n",
       "       [ 0.08751435,  0.04037163],\n",
       "       [ 0.05212227,  0.09910217]])"
      ]
     },
     "execution_count": 29,
     "metadata": {},
     "output_type": "execute_result"
    }
   ],
   "source": []
  },
  {
   "cell_type": "code",
   "execution_count": 31,
   "metadata": {
    "collapsed": true
   },
   "outputs": [],
   "source": [
    "b = np.random.rand(100,3)"
   ]
  },
  {
   "cell_type": "code",
   "execution_count": 35,
   "metadata": {
    "collapsed": true
   },
   "outputs": [],
   "source": [
    "w = np.random.rand(3,6*7)"
   ]
  },
  {
   "cell_type": "code",
   "execution_count": 38,
   "metadata": {},
   "outputs": [
    {
     "data": {
      "text/plain": [
       "array([[ 0.01053198,  0.4531398 ,  0.15559207, ...,  0.14101534,\n",
       "         0.00304404,  0.41640273],\n",
       "       [ 0.01843064,  0.79298066,  0.27228132, ...,  0.24677248,\n",
       "         0.00532697,  0.72869191],\n",
       "       [ 0.00885642,  0.38104849,  0.13083848, ...,  0.1185808 ,\n",
       "         0.00255975,  0.35015602],\n",
       "       ..., \n",
       "       [ 0.01452648,  0.62500355,  0.21460397, ...,  0.19449866,\n",
       "         0.00419856,  0.57433309],\n",
       "       [ 0.00788648,  0.33931685,  0.11650932, ...,  0.10559408,\n",
       "         0.00227941,  0.31180766],\n",
       "       [ 0.0086685 ,  0.37296346,  0.12806237, ...,  0.11606477,\n",
       "         0.00250544,  0.34272646]])"
      ]
     },
     "execution_count": 38,
     "metadata": {},
     "output_type": "execute_result"
    }
   ],
   "source": [
    "b[:,0] * w[0:1].T"
   ]
  },
  {
   "cell_type": "code",
   "execution_count": 39,
   "metadata": {},
   "outputs": [
    {
     "data": {
      "text/plain": [
       "(42, 100)"
      ]
     },
     "execution_count": 39,
     "metadata": {},
     "output_type": "execute_result"
    }
   ],
   "source": [
    "_.shape"
   ]
  },
  {
   "cell_type": "code",
   "execution_count": 40,
   "metadata": {},
   "outputs": [
    {
     "data": {
      "text/plain": [
       "(100,)"
      ]
     },
     "execution_count": 40,
     "metadata": {},
     "output_type": "execute_result"
    }
   ],
   "source": [
    "b[:,0].shape"
   ]
  },
  {
   "cell_type": "code",
   "execution_count": 41,
   "metadata": {},
   "outputs": [
    {
     "data": {
      "text/plain": [
       "(42, 1)"
      ]
     },
     "execution_count": 41,
     "metadata": {},
     "output_type": "execute_result"
    }
   ],
   "source": [
    "w[0:1].T.shape"
   ]
  },
  {
   "cell_type": "code",
   "execution_count": 42,
   "metadata": {
    "collapsed": true
   },
   "outputs": [],
   "source": [
    "import tensorflow as tf"
   ]
  },
  {
   "cell_type": "code",
   "execution_count": 43,
   "metadata": {
    "collapsed": true
   },
   "outputs": [],
   "source": [
    "x = tf.Variable(np.random.rand(100,2))"
   ]
  },
  {
   "cell_type": "code",
   "execution_count": 44,
   "metadata": {
    "collapsed": true
   },
   "outputs": [],
   "source": [
    "y = x[:, tf.newaxis, tf.newaxis, :]"
   ]
  },
  {
   "cell_type": "code",
   "execution_count": 45,
   "metadata": {},
   "outputs": [
    {
     "data": {
      "text/plain": [
       "<tf.Variable 'Variable:0' shape=(100, 2) dtype=float64_ref>"
      ]
     },
     "execution_count": 45,
     "metadata": {},
     "output_type": "execute_result"
    }
   ],
   "source": [
    "x"
   ]
  },
  {
   "cell_type": "code",
   "execution_count": 47,
   "metadata": {},
   "outputs": [],
   "source": [
    "y = tf.Variable(np.random.rand(100,1))"
   ]
  },
  {
   "cell_type": "code",
   "execution_count": 49,
   "metadata": {},
   "outputs": [
    {
     "data": {
      "text/plain": [
       "<tf.Tensor 'Pad:0' shape=(100, 3) dtype=float64>"
      ]
     },
     "execution_count": 49,
     "metadata": {},
     "output_type": "execute_result"
    }
   ],
   "source": [
    "tf.pad(x, [[0,0],[0,1]], \"CONSTANT\")"
   ]
  },
  {
   "cell_type": "code",
   "execution_count": 50,
   "metadata": {},
   "outputs": [
    {
     "data": {
      "text/plain": [
       "array([[ 0.,  1.,  1.,  1.,  1.],\n",
       "       [ 1.,  0.,  1.,  1.,  1.],\n",
       "       [ 1.,  1.,  0.,  1.,  1.],\n",
       "       [ 1.,  1.,  1.,  0.,  1.],\n",
       "       [ 1.,  1.,  1.,  1.,  0.]])"
      ]
     },
     "execution_count": 50,
     "metadata": {},
     "output_type": "execute_result"
    }
   ],
   "source": [
    "np.ones((5, 5)) - np.identity(5)"
   ]
  },
  {
   "cell_type": "code",
   "execution_count": 51,
   "metadata": {},
   "outputs": [
    {
     "name": "stdout",
     "output_type": "stream",
     "text": [
      "Help on function matrix_diag in module tensorflow.python.ops.gen_array_ops:\n",
      "\n",
      "matrix_diag(diagonal, name=None)\n",
      "    Returns a batched diagonal tensor with a given batched diagonal values.\n",
      "    \n",
      "    Given a `diagonal`, this operation returns a tensor with the `diagonal` and\n",
      "    everything else padded with zeros. The diagonal is computed as follows:\n",
      "    \n",
      "    Assume `diagonal` has `k` dimensions `[I, J, K, ..., N]`, then the output is a\n",
      "    tensor of rank `k+1` with dimensions [I, J, K, ..., N, N]` where:\n",
      "    \n",
      "    `output[i, j, k, ..., m, n] = 1{m=n} * diagonal[i, j, k, ..., n]`.\n",
      "    \n",
      "    For example:\n",
      "    \n",
      "    ```\n",
      "    # 'diagonal' is [[1, 2, 3, 4], [5, 6, 7, 8]]\n",
      "    \n",
      "    and diagonal.shape = (2, 4)\n",
      "    \n",
      "    tf.matrix_diag(diagonal) ==> [[[1, 0, 0, 0]\n",
      "                                         [0, 2, 0, 0]\n",
      "                                         [0, 0, 3, 0]\n",
      "                                         [0, 0, 0, 4]],\n",
      "                                        [[5, 0, 0, 0]\n",
      "                                         [0, 6, 0, 0]\n",
      "                                         [0, 0, 7, 0]\n",
      "                                         [0, 0, 0, 8]]]\n",
      "    \n",
      "    which has shape (2, 4, 4)\n",
      "    ```\n",
      "    \n",
      "    Args:\n",
      "      diagonal: A `Tensor`. Rank `k`, where `k >= 1`.\n",
      "      name: A name for the operation (optional).\n",
      "    \n",
      "    Returns:\n",
      "      A `Tensor`. Has the same type as `diagonal`.\n",
      "\n"
     ]
    }
   ],
   "source": [
    "help(tf.matrix_diag)"
   ]
  },
  {
   "cell_type": "code",
   "execution_count": 54,
   "metadata": {},
   "outputs": [],
   "source": [
    "m = tf.matrix_diag(np.float32(np.ones((num_agents, num_agents)) - np.identity(num_agents)))"
   ]
  },
  {
   "cell_type": "code",
   "execution_count": 53,
   "metadata": {
    "collapsed": true
   },
   "outputs": [],
   "source": [
    "num_agents = 5"
   ]
  },
  {
   "cell_type": "code",
   "execution_count": 55,
   "metadata": {},
   "outputs": [
    {
     "data": {
      "text/plain": [
       "<tf.Tensor 'MatrixDiag:0' shape=(5, 5, 5) dtype=float32>"
      ]
     },
     "execution_count": 55,
     "metadata": {},
     "output_type": "execute_result"
    }
   ],
   "source": [
    "m"
   ]
  },
  {
   "cell_type": "code",
   "execution_count": 56,
   "metadata": {
    "collapsed": true
   },
   "outputs": [],
   "source": [
    "sess = tf.InteractiveSession()"
   ]
  },
  {
   "cell_type": "code",
   "execution_count": 62,
   "metadata": {},
   "outputs": [],
   "source": [
    "m = sess.run(m)"
   ]
  },
  {
   "cell_type": "code",
   "execution_count": 58,
   "metadata": {
    "collapsed": true
   },
   "outputs": [],
   "source": [
    "a = np.random.rand(3,5)"
   ]
  },
  {
   "cell_type": "code",
   "execution_count": 64,
   "metadata": {},
   "outputs": [
    {
     "data": {
      "text/plain": [
       "array([[ 0.25483529,  0.41485706,  0.        ,  0.98024201,  0.81785613],\n",
       "       [ 0.4133716 ,  0.52512081,  0.        ,  0.1778869 ,  0.47538863],\n",
       "       [ 0.04949664,  0.22042945,  0.        ,  0.91068207,  0.14047805]])"
      ]
     },
     "execution_count": 64,
     "metadata": {},
     "output_type": "execute_result"
    }
   ],
   "source": [
    "np.matmul(a, m[2])"
   ]
  },
  {
   "cell_type": "code",
   "execution_count": 60,
   "metadata": {},
   "outputs": [
    {
     "data": {
      "text/plain": [
       "array([[ 0.25483529,  0.41485706,  0.31445759,  0.98024201,  0.81785613],\n",
       "       [ 0.4133716 ,  0.52512081,  0.78051709,  0.1778869 ,  0.47538863],\n",
       "       [ 0.04949664,  0.22042945,  0.95728169,  0.91068207,  0.14047805]])"
      ]
     },
     "execution_count": 60,
     "metadata": {},
     "output_type": "execute_result"
    }
   ],
   "source": [
    "a"
   ]
  },
  {
   "cell_type": "code",
   "execution_count": 61,
   "metadata": {},
   "outputs": [
    {
     "data": {
      "text/plain": [
       "<tf.Tensor 'strided_slice_2:0' shape=(5, 5) dtype=float32>"
      ]
     },
     "execution_count": 61,
     "metadata": {},
     "output_type": "execute_result"
    }
   ],
   "source": [
    "m[1]"
   ]
  },
  {
   "cell_type": "code",
   "execution_count": null,
   "metadata": {
    "collapsed": true
   },
   "outputs": [],
   "source": []
  }
 ],
 "metadata": {
  "kernelspec": {
   "display_name": "Python 2",
   "language": "python",
   "name": "python2"
  },
  "language_info": {
   "codemirror_mode": {
    "name": "ipython",
    "version": 2
   },
   "file_extension": ".py",
   "mimetype": "text/x-python",
   "name": "python",
   "nbconvert_exporter": "python",
   "pygments_lexer": "ipython2",
   "version": "2.7.13"
  }
 },
 "nbformat": 4,
 "nbformat_minor": 2
}
