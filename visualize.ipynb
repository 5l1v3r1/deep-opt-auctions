{
 "cells": [
  {
   "cell_type": "code",
   "execution_count": 1,
   "metadata": {
    "collapsed": true
   },
   "outputs": [],
   "source": [
    "import os\n",
    "import numpy as np\n",
    "import matplotlib.pyplot as plt\n",
    "\n",
    "from cfgs.config import cfg\n",
    "from trainer.uniform_additive import Trainer\n",
    "\n",
    "%matplotlib inline\n",
    "plt.rcParams.update({'font.size': 10, 'axes.labelsize': 'x-large'})"
   ]
  },
  {
   "cell_type": "code",
   "execution_count": 2,
   "metadata": {},
   "outputs": [
    {
     "name": "stdout",
     "output_type": "stream",
     "text": [
      "(40401, 1, 2)\n"
     ]
    }
   ],
   "source": [
    "D = 201\n",
    "x = np.linspace(0, 1.0, D)\n",
    "X_tst = np.stack([v.flatten() for v in np.meshgrid(x,x)], axis = -1)\n",
    "X_tst = np.expand_dims(X_tst, 1)\n",
    "print(X_tst.shape)"
   ]
  },
  {
   "cell_type": "code",
   "execution_count": 3,
   "metadata": {},
   "outputs": [
    {
     "name": "stdout",
     "output_type": "stream",
     "text": [
      "INFO:tensorflow:Restoring parameters from 1x2/1x2_up_add_10.0/model-400000\n"
     ]
    },
    {
     "name": "stderr",
     "output_type": "stream",
     "text": [
      "2019-01-18 02:24:43,734:INFO:Restoring parameters from 1x2/1x2_up_add_10.0/model-400000\n"
     ]
    },
    {
     "ename": "ValueError",
     "evalue": "could not broadcast input array from shape (201,1,2) into shape (1,40401,1,2)",
     "output_type": "error",
     "traceback": [
      "\u001b[0;31m---------------------------------------------------------------------------\u001b[0m",
      "\u001b[0;31mValueError\u001b[0m                                Traceback (most recent call last)",
      "\u001b[0;32m<ipython-input-3-1e4ccae1945b>\u001b[0m in \u001b[0;36m<module>\u001b[0;34m()\u001b[0m\n\u001b[1;32m      7\u001b[0m \u001b[0;34m\u001b[0m\u001b[0m\n\u001b[1;32m      8\u001b[0m \u001b[0mm\u001b[0m \u001b[0;34m=\u001b[0m \u001b[0mTrainer\u001b[0m\u001b[0;34m(\u001b[0m\u001b[0mcfg\u001b[0m\u001b[0;34m,\u001b[0m \u001b[0;34m\"test\"\u001b[0m\u001b[0;34m)\u001b[0m\u001b[0;34m\u001b[0m\u001b[0m\n\u001b[0;32m----> 9\u001b[0;31m \u001b[0mm\u001b[0m\u001b[0;34m.\u001b[0m\u001b[0mtest\u001b[0m\u001b[0;34m(\u001b[0m\u001b[0mX_tst\u001b[0m\u001b[0;34m)\u001b[0m\u001b[0;34m\u001b[0m\u001b[0m\n\u001b[0m",
      "\u001b[0;32m/n/home13/sravindranath/deep-amd/base/base_trainer.pyc\u001b[0m in \u001b[0;36mtest\u001b[0;34m(self, X_tst, ADV_tst)\u001b[0m\n\u001b[1;32m    371\u001b[0m             \u001b[0;32mif\u001b[0m \u001b[0mX_tst\u001b[0m \u001b[0;32mis\u001b[0m \u001b[0;32mnot\u001b[0m \u001b[0mNone\u001b[0m\u001b[0;34m:\u001b[0m\u001b[0;34m\u001b[0m\u001b[0m\n\u001b[1;32m    372\u001b[0m                 \u001b[0mA\u001b[0m\u001b[0;34m,\u001b[0m \u001b[0mP\u001b[0m \u001b[0;34m=\u001b[0m \u001b[0msess\u001b[0m\u001b[0;34m.\u001b[0m\u001b[0mrun\u001b[0m\u001b[0;34m(\u001b[0m\u001b[0;34m[\u001b[0m\u001b[0mself\u001b[0m\u001b[0;34m.\u001b[0m\u001b[0malloc\u001b[0m\u001b[0;34m,\u001b[0m \u001b[0mself\u001b[0m\u001b[0;34m.\u001b[0m\u001b[0mpay\u001b[0m\u001b[0;34m]\u001b[0m\u001b[0;34m,\u001b[0m \u001b[0mfeed_dict\u001b[0m \u001b[0;34m=\u001b[0m \u001b[0;34m{\u001b[0m\u001b[0mself\u001b[0m\u001b[0;34m.\u001b[0m\u001b[0mx\u001b[0m\u001b[0;34m:\u001b[0m\u001b[0mX\u001b[0m\u001b[0;34m}\u001b[0m\u001b[0;34m)\u001b[0m\u001b[0;34m\u001b[0m\u001b[0m\n\u001b[0;32m--> 373\u001b[0;31m                 \u001b[0malloc_tst\u001b[0m\u001b[0;34m[\u001b[0m\u001b[0mperm\u001b[0m\u001b[0;34m,\u001b[0m \u001b[0;34m:\u001b[0m\u001b[0;34m,\u001b[0m \u001b[0;34m:\u001b[0m\u001b[0;34m]\u001b[0m \u001b[0;34m=\u001b[0m \u001b[0mA\u001b[0m\u001b[0;34m\u001b[0m\u001b[0m\n\u001b[0m\u001b[1;32m    374\u001b[0m                 \u001b[0mpay_tst\u001b[0m\u001b[0;34m[\u001b[0m\u001b[0mperm\u001b[0m\u001b[0;34m,\u001b[0m \u001b[0;34m:\u001b[0m\u001b[0;34m]\u001b[0m \u001b[0;34m=\u001b[0m \u001b[0mP\u001b[0m\u001b[0;34m\u001b[0m\u001b[0m\n\u001b[1;32m    375\u001b[0m \u001b[0;34m\u001b[0m\u001b[0m\n",
      "\u001b[0;31mValueError\u001b[0m: could not broadcast input array from shape (201,1,2) into shape (1,40401,1,2)"
     ]
    }
   ],
   "source": [
    "cfg.test.gd_iter = 0\n",
    "cfg.test.num_misreports = 1\n",
    "cfg.test.batch_size = D\n",
    "cfg.test.num_batches = X_tst.shape[0]/cfg.test.batch_size\n",
    "cfg.test.restore_iter = 400000\n",
    "cfg.test.data = \"fixed\"\n",
    "\n",
    "m = Trainer(cfg, \"test\")\n",
    "m.test(X_tst)"
   ]
  },
  {
   "cell_type": "code",
   "execution_count": null,
   "metadata": {
    "collapsed": true
   },
   "outputs": [],
   "source": [
    "alloc = np.load(cfg.dir_name + \"/alloc_tst_400000.npy\").reshape(D,D,2)\n",
    "pay = np.load(cfg.dir_name + \"/pay_tst_400000.npy\").reshape(D,D,1)"
   ]
  },
  {
   "cell_type": "code",
   "execution_count": null,
   "metadata": {},
   "outputs": [],
   "source": [
    "x1 = (2.0 - np.sqrt(2.0))/3.0\n",
    "x2 = 2.0/3.0\n",
    "points = [(x1, 1.0), (x1, x2), (x2, x1), (x2, 0)]\n",
    "x = list(map(lambda x: x[0], points))\n",
    "y = list(map(lambda x: x[1], points))\n",
    "\n",
    "\n",
    "fig, ax = plt.subplots(ncols = 1, nrows = 1, figsize=(8,6))\n",
    "\n",
    "plt.plot(x, y, linewidth = 2, linestyle = '--', c='black')\n",
    "img = ax.imshow(alloc[::-1, :, 0], extent=[0,1,0,1], vmin = 0.0, vmax=1.0, cmap = 'YlOrRd')\n",
    "                    \n",
    "plt.text(0.25, 0.25, s='0', color='black', fontsize='10', fontweight='bold')\n",
    "plt.text(0.65, 0.65, s='1', color='black', fontsize='10', fontweight='bold')\n",
    "\n",
    "ax.set_xlabel('$v_1$')\n",
    "ax.set_ylabel('$v_2$')\n",
    "plt.title('Prob. of allocating item 1')\n",
    "plt.colorbar(img, fraction=0.046, pad=0.04)\n",
    "\n",
    "#plt.savefig('A01_alloc1.pdf', bbox_inches = 'tight', pad_inches = 0.05)"
   ]
  },
  {
   "cell_type": "code",
   "execution_count": null,
   "metadata": {},
   "outputs": [],
   "source": [
    "x1 = (2.0 - np.sqrt(2.0))/3.0\n",
    "x2 = 2.0/3.0\n",
    "points = [(0.0, x2), (x1, x2), (x2, x1), (1.0, x1)]\n",
    "\n",
    "x = list(map(lambda x: x[0], points))\n",
    "y = list(map(lambda x: x[1], points))\n",
    "\n",
    "plt.rcParams.update({'font.size': 10, 'axes.labelsize': 'x-large'})\n",
    "fig, ax = plt.subplots(ncols = 1, nrows = 1, figsize=(8,6))\n",
    "\n",
    "plt.plot(x, y, linewidth = 2, linestyle = '--', c='black')\n",
    "img = ax.imshow(alloc[::-1, :, 1], extent=[0,1,0,1], vmin = 0.0, vmax=1.0, cmap = 'YlOrRd')\n",
    "              \n",
    "plt.text(0.25, 0.25, s='0', color='black', fontsize='10', fontweight='bold')\n",
    "plt.text(0.65, 0.65, s='1', color='black', fontsize='10', fontweight='bold')\n",
    "    \n",
    "ax.set_xlabel('$v_1$')\n",
    "ax.set_ylabel('$v_2$')\n",
    "plt.title('Prob. of allocating item 2')\n",
    "plt.colorbar(img, fraction=0.046, pad=0.04)\n",
    "\n",
    "#plt.savefig('A01_alloc2.pdf', bbox_inches = 'tight', pad_inches = 0.05)"
   ]
  },
  {
   "cell_type": "code",
   "execution_count": null,
   "metadata": {
    "collapsed": true
   },
   "outputs": [],
   "source": []
  }
 ],
 "metadata": {
  "kernelspec": {
   "display_name": "Python 2",
   "language": "python",
   "name": "python2"
  },
  "language_info": {
   "codemirror_mode": {
    "name": "ipython",
    "version": 2
   },
   "file_extension": ".py",
   "mimetype": "text/x-python",
   "name": "python",
   "nbconvert_exporter": "python",
   "pygments_lexer": "ipython2",
   "version": "2.7.13"
  }
 },
 "nbformat": 4,
 "nbformat_minor": 2
}
