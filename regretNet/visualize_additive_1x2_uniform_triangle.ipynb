{
 "cells": [
  {
   "cell_type": "code",
   "execution_count": 1,
   "metadata": {
    "collapsed": true
   },
   "outputs": [],
   "source": [
    "from __future__ import absolute_import\n",
    "from __future__ import division\n",
    "from __future__ import print_function\n",
    "\n",
    "import os\n",
    "import sys\n",
    "import numpy as np\n",
    "import tensorflow as tf\n",
    "import matplotlib.pyplot as plt\n",
    "\n",
    "from nets import *\n",
    "from cfgs import *\n",
    "from data import *\n",
    "from clip_ops.clip_ops import *\n",
    "from trainer import *"
   ]
  },
  {
   "cell_type": "code",
   "execution_count": 2,
   "metadata": {},
   "outputs": [
    {
     "name": "stdout",
     "output_type": "stream",
     "text": [
      "(40401, 1, 2)\n"
     ]
    }
   ],
   "source": [
    "%matplotlib inline\n",
    "save_plot = True\n",
    "plt.rcParams.update({'font.size': 10, 'axes.labelsize': 'x-large'})\n",
    "D = 201\n",
    "\n",
    "x = np.linspace(0, 1.0, D)\n",
    "X_tst = np.stack([v.flatten() for v in np.meshgrid(x,x)], axis = -1)\n",
    "X_tst[np.where(X_tst.sum(-1) >= 1)] = 0.0\n",
    "X_tst = np.expand_dims(X_tst, 1)\n",
    "print(X_tst.shape)\n",
    "\n",
    "cfg = additive_1x2_uniform_triangle_config.cfg\n",
    "cfg.test.num_misreports = 1\n",
    "cfg.test.gd_iter = 0\n",
    "cfg.test.batch_size = D\n",
    "cfg.test.num_batches = int(X_tst.shape[0]/cfg.test.batch_size)\n",
    "cfg.test.save_output = True"
   ]
  },
  {
   "cell_type": "code",
   "execution_count": 3,
   "metadata": {
    "collapsed": true
   },
   "outputs": [],
   "source": [
    "Net = additive_net.Net\n",
    "Generator = uniform_triangle_01_generator.Generator\n",
    "clip_op_lambda = (lambda x: clip_op_triangle_01(x))\n",
    "Trainer = trainer.Trainer"
   ]
  },
  {
   "cell_type": "code",
   "execution_count": 4,
   "metadata": {},
   "outputs": [
    {
     "name": "stdout",
     "output_type": "stream",
     "text": [
      "INFO:tensorflow:Restoring parameters from experiments/additive_1x2_uniform_triangle/model-400000\n"
     ]
    },
    {
     "name": "stderr",
     "output_type": "stream",
     "text": [
      "2019-02-26 22:57:26,261:INFO:Restoring parameters from experiments/additive_1x2_uniform_triangle/model-400000\n",
      "2019-02-26 22:57:30,239:INFO:TEST BATCH-0: t = 3.9390, Revenue: 0.247435, Regret: 0.000007, IRP: 0.000000\n",
      "2019-02-26 22:57:30,248:INFO:TEST BATCH-1: t = 3.9436, Revenue: 0.247751, Regret: 0.000015, IRP: 0.000000\n",
      "2019-02-26 22:57:30,255:INFO:TEST BATCH-2: t = 3.9478, Revenue: 0.248070, Regret: 0.000003, IRP: 0.000000\n",
      "2019-02-26 22:57:30,262:INFO:TEST BATCH-3: t = 3.9519, Revenue: 0.248392, Regret: 0.000013, IRP: 0.000000\n",
      "2019-02-26 22:57:30,269:INFO:TEST BATCH-4: t = 3.9559, Revenue: 0.248713, Regret: 0.000001, IRP: 0.000000\n",
      "2019-02-26 22:57:30,276:INFO:TEST BATCH-5: t = 3.9598, Revenue: 0.249032, Regret: 0.000009, IRP: 0.000000\n",
      "2019-02-26 22:57:30,282:INFO:TEST BATCH-6: t = 3.9638, Revenue: 0.249348, Regret: 0.000021, IRP: 0.000000\n",
      "2019-02-26 22:57:30,289:INFO:TEST BATCH-7: t = 3.9677, Revenue: 0.249658, Regret: 0.000005, IRP: 0.000000\n",
      "2019-02-26 22:57:30,296:INFO:TEST BATCH-8: t = 3.9716, Revenue: 0.249963, Regret: 0.000003, IRP: 0.000000\n",
      "2019-02-26 22:57:30,302:INFO:TEST BATCH-9: t = 3.9754, Revenue: 0.250260, Regret: 0.000012, IRP: 0.000000\n",
      "2019-02-26 22:57:30,309:INFO:TEST BATCH-10: t = 3.9792, Revenue: 0.250549, Regret: 0.000006, IRP: 0.000000\n",
      "2019-02-26 22:57:30,316:INFO:TEST BATCH-11: t = 3.9832, Revenue: 0.250829, Regret: 0.000011, IRP: 0.000000\n",
      "2019-02-26 22:57:30,322:INFO:TEST BATCH-12: t = 3.9873, Revenue: 0.251098, Regret: 0.000006, IRP: 0.000000\n",
      "2019-02-26 22:57:30,329:INFO:TEST BATCH-13: t = 3.9915, Revenue: 0.251357, Regret: 0.000016, IRP: 0.000000\n",
      "2019-02-26 22:57:30,336:INFO:TEST BATCH-14: t = 3.9957, Revenue: 0.251605, Regret: 0.000012, IRP: 0.000000\n",
      "2019-02-26 22:57:30,343:INFO:TEST BATCH-15: t = 3.9998, Revenue: 0.251841, Regret: 0.000014, IRP: 0.000000\n",
      "2019-02-26 22:57:30,350:INFO:TEST BATCH-16: t = 4.0040, Revenue: 0.252066, Regret: 0.000001, IRP: 0.000000\n",
      "2019-02-26 22:57:30,357:INFO:TEST BATCH-17: t = 4.0081, Revenue: 0.252279, Regret: 0.000024, IRP: 0.000000\n",
      "2019-02-26 22:57:30,364:INFO:TEST BATCH-18: t = 4.0123, Revenue: 0.252480, Regret: 0.000005, IRP: 0.000000\n",
      "2019-02-26 22:57:30,371:INFO:TEST BATCH-19: t = 4.0164, Revenue: 0.252670, Regret: 0.000030, IRP: 0.000000\n",
      "2019-02-26 22:57:30,378:INFO:TEST BATCH-20: t = 4.0206, Revenue: 0.252848, Regret: 0.000016, IRP: 0.000000\n",
      "2019-02-26 22:57:30,385:INFO:TEST BATCH-21: t = 4.0247, Revenue: 0.253014, Regret: 0.000013, IRP: 0.000000\n",
      "2019-02-26 22:57:30,392:INFO:TEST BATCH-22: t = 4.0289, Revenue: 0.253170, Regret: 0.000017, IRP: 0.000000\n",
      "2019-02-26 22:57:30,398:INFO:TEST BATCH-23: t = 4.0330, Revenue: 0.253315, Regret: 0.000015, IRP: 0.000000\n",
      "2019-02-26 22:57:30,405:INFO:TEST BATCH-24: t = 4.0372, Revenue: 0.253450, Regret: 0.000033, IRP: 0.000000\n",
      "2019-02-26 22:57:30,412:INFO:TEST BATCH-25: t = 4.0413, Revenue: 0.253575, Regret: 0.000022, IRP: 0.000000\n",
      "2019-02-26 22:57:30,419:INFO:TEST BATCH-26: t = 4.0455, Revenue: 0.253691, Regret: 0.000027, IRP: 0.000000\n",
      "2019-02-26 22:57:30,426:INFO:TEST BATCH-27: t = 4.0496, Revenue: 0.253799, Regret: 0.000040, IRP: 0.000000\n",
      "2019-02-26 22:57:30,433:INFO:TEST BATCH-28: t = 4.0538, Revenue: 0.253899, Regret: 0.000021, IRP: 0.000000\n",
      "2019-02-26 22:57:30,441:INFO:TEST BATCH-29: t = 4.0589, Revenue: 0.253991, Regret: 0.000038, IRP: 0.000000\n",
      "2019-02-26 22:57:30,448:INFO:TEST BATCH-30: t = 4.0634, Revenue: 0.254077, Regret: 0.000035, IRP: 0.000000\n",
      "2019-02-26 22:57:30,455:INFO:TEST BATCH-31: t = 4.0680, Revenue: 0.254157, Regret: 0.000000, IRP: 0.000000\n",
      "2019-02-26 22:57:30,462:INFO:TEST BATCH-32: t = 4.0722, Revenue: 0.254231, Regret: 0.000028, IRP: 0.000000\n",
      "2019-02-26 22:57:30,470:INFO:TEST BATCH-33: t = 4.0773, Revenue: 0.254301, Regret: 0.000005, IRP: 0.000000\n",
      "2019-02-26 22:57:30,478:INFO:TEST BATCH-34: t = 4.0824, Revenue: 0.254367, Regret: 0.000036, IRP: 0.000000\n",
      "2019-02-26 22:57:30,486:INFO:TEST BATCH-35: t = 4.0874, Revenue: 0.254429, Regret: 0.000032, IRP: 0.000000\n",
      "2019-02-26 22:57:30,494:INFO:TEST BATCH-36: t = 4.0915, Revenue: 0.254488, Regret: 0.000040, IRP: 0.000000\n",
      "2019-02-26 22:57:30,501:INFO:TEST BATCH-37: t = 4.0956, Revenue: 0.254544, Regret: 0.000019, IRP: 0.000000\n",
      "2019-02-26 22:57:30,509:INFO:TEST BATCH-38: t = 4.1004, Revenue: 0.254599, Regret: 0.000047, IRP: 0.000000\n",
      "2019-02-26 22:57:30,517:INFO:TEST BATCH-39: t = 4.1053, Revenue: 0.254653, Regret: 0.000041, IRP: 0.000000\n",
      "2019-02-26 22:57:30,524:INFO:TEST BATCH-40: t = 4.1095, Revenue: 0.254706, Regret: 0.000065, IRP: 0.000000\n",
      "2019-02-26 22:57:30,531:INFO:TEST BATCH-41: t = 4.1137, Revenue: 0.254758, Regret: 0.000033, IRP: 0.000000\n",
      "2019-02-26 22:57:30,538:INFO:TEST BATCH-42: t = 4.1179, Revenue: 0.254811, Regret: 0.000001, IRP: 0.000000\n",
      "2019-02-26 22:57:30,546:INFO:TEST BATCH-43: t = 4.1230, Revenue: 0.254863, Regret: 0.000038, IRP: 0.000000\n",
      "2019-02-26 22:57:30,553:INFO:TEST BATCH-44: t = 4.1272, Revenue: 0.254917, Regret: 0.000010, IRP: 0.000000\n",
      "2019-02-26 22:57:30,560:INFO:TEST BATCH-45: t = 4.1323, Revenue: 0.254971, Regret: 0.000102, IRP: 0.000000\n",
      "2019-02-26 22:57:30,567:INFO:TEST BATCH-46: t = 4.1365, Revenue: 0.255027, Regret: 0.000048, IRP: 0.000000\n",
      "2019-02-26 22:57:30,574:INFO:TEST BATCH-47: t = 4.1406, Revenue: 0.255084, Regret: 0.000058, IRP: 0.000000\n",
      "2019-02-26 22:57:30,581:INFO:TEST BATCH-48: t = 4.1448, Revenue: 0.255142, Regret: 0.000061, IRP: 0.000000\n",
      "2019-02-26 22:57:30,588:INFO:TEST BATCH-49: t = 4.1490, Revenue: 0.255202, Regret: 0.000022, IRP: 0.000000\n",
      "2019-02-26 22:57:30,595:INFO:TEST BATCH-50: t = 4.1531, Revenue: 0.255264, Regret: 0.000027, IRP: 0.000000\n",
      "2019-02-26 22:57:30,602:INFO:TEST BATCH-51: t = 4.1573, Revenue: 0.255328, Regret: 0.000069, IRP: 0.000000\n",
      "2019-02-26 22:57:30,609:INFO:TEST BATCH-52: t = 4.1614, Revenue: 0.255394, Regret: 0.000060, IRP: 0.000000\n",
      "2019-02-26 22:57:30,616:INFO:TEST BATCH-53: t = 4.1656, Revenue: 0.255461, Regret: 0.000060, IRP: 0.000000\n",
      "2019-02-26 22:57:30,623:INFO:TEST BATCH-54: t = 4.1698, Revenue: 0.255530, Regret: 0.000038, IRP: 0.000000\n",
      "2019-02-26 22:57:30,630:INFO:TEST BATCH-55: t = 4.1740, Revenue: 0.255601, Regret: 0.000038, IRP: 0.000000\n",
      "2019-02-26 22:57:30,636:INFO:TEST BATCH-56: t = 4.1781, Revenue: 0.255674, Regret: 0.000041, IRP: 0.000000\n",
      "2019-02-26 22:57:30,644:INFO:TEST BATCH-57: t = 4.1832, Revenue: 0.255748, Regret: 0.000056, IRP: 0.000000\n",
      "2019-02-26 22:57:30,652:INFO:TEST BATCH-58: t = 4.1877, Revenue: 0.255823, Regret: 0.000040, IRP: 0.000000\n",
      "2019-02-26 22:57:30,659:INFO:TEST BATCH-59: t = 4.1923, Revenue: 0.255900, Regret: 0.000017, IRP: 0.000000\n",
      "2019-02-26 22:57:30,666:INFO:TEST BATCH-60: t = 4.1965, Revenue: 0.255978, Regret: 0.000033, IRP: 0.000000\n",
      "2019-02-26 22:57:30,673:INFO:TEST BATCH-61: t = 4.2007, Revenue: 0.256056, Regret: 0.000058, IRP: 0.000000\n",
      "2019-02-26 22:57:30,681:INFO:TEST BATCH-62: t = 4.2058, Revenue: 0.256134, Regret: 0.000070, IRP: 0.000000\n",
      "2019-02-26 22:57:30,688:INFO:TEST BATCH-63: t = 4.2107, Revenue: 0.256213, Regret: 0.000035, IRP: 0.000000\n",
      "2019-02-26 22:57:30,696:INFO:TEST BATCH-64: t = 4.2157, Revenue: 0.256291, Regret: 0.000062, IRP: 0.000000\n",
      "2019-02-26 22:57:30,703:INFO:TEST BATCH-65: t = 4.2205, Revenue: 0.256369, Regret: 0.000016, IRP: 0.000000\n",
      "2019-02-26 22:57:30,711:INFO:TEST BATCH-66: t = 4.2250, Revenue: 0.256446, Regret: 0.000051, IRP: 0.000000\n",
      "2019-02-26 22:57:30,718:INFO:TEST BATCH-67: t = 4.2299, Revenue: 0.256521, Regret: 0.000049, IRP: 0.000000\n",
      "2019-02-26 22:57:30,725:INFO:TEST BATCH-68: t = 4.2341, Revenue: 0.256594, Regret: 0.000049, IRP: 0.000000\n",
      "2019-02-26 22:57:30,732:INFO:TEST BATCH-69: t = 4.2383, Revenue: 0.256664, Regret: 0.000071, IRP: 0.000000\n",
      "2019-02-26 22:57:30,739:INFO:TEST BATCH-70: t = 4.2425, Revenue: 0.256731, Regret: 0.000066, IRP: 0.000000\n",
      "2019-02-26 22:57:30,746:INFO:TEST BATCH-71: t = 4.2466, Revenue: 0.256795, Regret: 0.000058, IRP: 0.000000\n",
      "2019-02-26 22:57:30,753:INFO:TEST BATCH-72: t = 4.2507, Revenue: 0.256853, Regret: 0.000057, IRP: 0.000000\n",
      "2019-02-26 22:57:30,761:INFO:TEST BATCH-73: t = 4.2557, Revenue: 0.256906, Regret: 0.000042, IRP: 0.000000\n",
      "2019-02-26 22:57:30,783:INFO:TEST BATCH-74: t = 4.2752, Revenue: 0.256953, Regret: 0.000044, IRP: 0.000000\n",
      "2019-02-26 22:57:30,789:INFO:TEST BATCH-75: t = 4.2798, Revenue: 0.256994, Regret: 0.000067, IRP: 0.000000\n"
     ]
    },
    {
     "name": "stderr",
     "output_type": "stream",
     "text": [
      "2019-02-26 22:57:30,794:INFO:TEST BATCH-76: t = 4.2839, Revenue: 0.257027, Regret: 0.000073, IRP: 0.000000\n",
      "2019-02-26 22:57:30,800:INFO:TEST BATCH-77: t = 4.2885, Revenue: 0.257053, Regret: 0.000076, IRP: 0.000000\n",
      "2019-02-26 22:57:30,808:INFO:TEST BATCH-78: t = 4.2949, Revenue: 0.257069, Regret: 0.000043, IRP: 0.000000\n",
      "2019-02-26 22:57:30,813:INFO:TEST BATCH-79: t = 4.2990, Revenue: 0.257075, Regret: 0.000064, IRP: 0.000000\n",
      "2019-02-26 22:57:30,819:INFO:TEST BATCH-80: t = 4.3035, Revenue: 0.257071, Regret: 0.000062, IRP: 0.000000\n",
      "2019-02-26 22:57:30,825:INFO:TEST BATCH-81: t = 4.3084, Revenue: 0.257056, Regret: 0.000033, IRP: 0.000000\n",
      "2019-02-26 22:57:30,832:INFO:TEST BATCH-82: t = 4.3147, Revenue: 0.257028, Regret: 0.000007, IRP: 0.000000\n",
      "2019-02-26 22:57:30,854:INFO:TEST BATCH-83: t = 4.3348, Revenue: 0.256985, Regret: 0.000038, IRP: 0.000000\n",
      "2019-02-26 22:57:30,864:INFO:TEST BATCH-84: t = 4.3437, Revenue: 0.256928, Regret: 0.000014, IRP: 0.000000\n",
      "2019-02-26 22:57:30,871:INFO:TEST BATCH-85: t = 4.3502, Revenue: 0.256854, Regret: 0.000064, IRP: 0.000000\n",
      "2019-02-26 22:57:30,879:INFO:TEST BATCH-86: t = 4.3564, Revenue: 0.256762, Regret: 0.000032, IRP: 0.000000\n",
      "2019-02-26 22:57:30,889:INFO:TEST BATCH-87: t = 4.3639, Revenue: 0.256649, Regret: 0.000023, IRP: 0.000000\n",
      "2019-02-26 22:57:30,897:INFO:TEST BATCH-88: t = 4.3712, Revenue: 0.256514, Regret: 0.000044, IRP: 0.000000\n",
      "2019-02-26 22:57:30,907:INFO:TEST BATCH-89: t = 4.3800, Revenue: 0.256354, Regret: 0.000078, IRP: 0.000000\n",
      "2019-02-26 22:57:30,914:INFO:TEST BATCH-90: t = 4.3866, Revenue: 0.256166, Regret: 0.000031, IRP: 0.000000\n",
      "2019-02-26 22:57:30,923:INFO:TEST BATCH-91: t = 4.3938, Revenue: 0.255947, Regret: 0.000053, IRP: 0.000000\n",
      "2019-02-26 22:57:30,930:INFO:TEST BATCH-92: t = 4.4004, Revenue: 0.255695, Regret: 0.000016, IRP: 0.000000\n",
      "2019-02-26 22:57:30,940:INFO:TEST BATCH-93: t = 4.4094, Revenue: 0.255404, Regret: 0.000046, IRP: 0.000000\n",
      "2019-02-26 22:57:30,949:INFO:TEST BATCH-94: t = 4.4170, Revenue: 0.255070, Regret: 0.000022, IRP: 0.000000\n",
      "2019-02-26 22:57:30,958:INFO:TEST BATCH-95: t = 4.4247, Revenue: 0.254689, Regret: 0.000046, IRP: 0.000000\n",
      "2019-02-26 22:57:30,966:INFO:TEST BATCH-96: t = 4.4315, Revenue: 0.254254, Regret: 0.000053, IRP: 0.000000\n",
      "2019-02-26 22:57:30,972:INFO:TEST BATCH-97: t = 4.4373, Revenue: 0.253761, Regret: 0.000031, IRP: 0.000000\n",
      "2019-02-26 22:57:30,980:INFO:TEST BATCH-98: t = 4.4441, Revenue: 0.253204, Regret: 0.000024, IRP: 0.000000\n",
      "2019-02-26 22:57:30,990:INFO:TEST BATCH-99: t = 4.4519, Revenue: 0.252576, Regret: 0.000026, IRP: 0.000000\n",
      "2019-02-26 22:57:30,998:INFO:TEST BATCH-100: t = 4.4589, Revenue: 0.251871, Regret: 0.000047, IRP: 0.000000\n",
      "2019-02-26 22:57:31,004:INFO:TEST BATCH-101: t = 4.4641, Revenue: 0.251085, Regret: 0.000020, IRP: 0.000000\n",
      "2019-02-26 22:57:31,010:INFO:TEST BATCH-102: t = 4.4701, Revenue: 0.250214, Regret: 0.000030, IRP: 0.000000\n",
      "2019-02-26 22:57:31,016:INFO:TEST BATCH-103: t = 4.4750, Revenue: 0.249257, Regret: 0.000098, IRP: 0.000000\n",
      "2019-02-26 22:57:31,022:INFO:TEST BATCH-104: t = 4.4798, Revenue: 0.248214, Regret: 0.000056, IRP: 0.000000\n",
      "2019-02-26 22:57:31,028:INFO:TEST BATCH-105: t = 4.4853, Revenue: 0.247085, Regret: 0.000014, IRP: 0.000000\n",
      "2019-02-26 22:57:31,035:INFO:TEST BATCH-106: t = 4.4919, Revenue: 0.245867, Regret: 0.000051, IRP: 0.000000\n",
      "2019-02-26 22:57:31,041:INFO:TEST BATCH-107: t = 4.4967, Revenue: 0.244563, Regret: 0.000058, IRP: 0.000000\n",
      "2019-02-26 22:57:31,046:INFO:TEST BATCH-108: t = 4.5010, Revenue: 0.243173, Regret: 0.000002, IRP: 0.000000\n",
      "2019-02-26 22:57:31,051:INFO:TEST BATCH-109: t = 4.5049, Revenue: 0.241703, Regret: 0.000038, IRP: 0.000000\n",
      "2019-02-26 22:57:31,058:INFO:TEST BATCH-110: t = 4.5114, Revenue: 0.240157, Regret: 0.000021, IRP: 0.000000\n",
      "2019-02-26 22:57:31,064:INFO:TEST BATCH-111: t = 4.5173, Revenue: 0.238537, Regret: 0.000026, IRP: 0.000000\n",
      "2019-02-26 22:57:31,069:INFO:TEST BATCH-112: t = 4.5217, Revenue: 0.236849, Regret: 0.000023, IRP: 0.000000\n",
      "2019-02-26 22:57:31,075:INFO:TEST BATCH-113: t = 4.5264, Revenue: 0.235094, Regret: 0.000010, IRP: 0.000000\n",
      "2019-02-26 22:57:31,081:INFO:TEST BATCH-114: t = 4.5316, Revenue: 0.233276, Regret: 0.000008, IRP: 0.000000\n",
      "2019-02-26 22:57:31,086:INFO:TEST BATCH-115: t = 4.5363, Revenue: 0.231397, Regret: 0.000032, IRP: 0.000000\n",
      "2019-02-26 22:57:31,091:INFO:TEST BATCH-116: t = 4.5405, Revenue: 0.229461, Regret: 0.000030, IRP: 0.000000\n",
      "2019-02-26 22:57:31,096:INFO:TEST BATCH-117: t = 4.5452, Revenue: 0.227469, Regret: 0.000020, IRP: 0.000000\n",
      "2019-02-26 22:57:31,102:INFO:TEST BATCH-118: t = 4.5496, Revenue: 0.225425, Regret: 0.000031, IRP: 0.000000\n",
      "2019-02-26 22:57:31,108:INFO:TEST BATCH-119: t = 4.5549, Revenue: 0.223330, Regret: 0.000030, IRP: 0.000000\n",
      "2019-02-26 22:57:31,113:INFO:TEST BATCH-120: t = 4.5597, Revenue: 0.221187, Regret: 0.000070, IRP: 0.000000\n",
      "2019-02-26 22:57:31,120:INFO:TEST BATCH-121: t = 4.5645, Revenue: 0.218998, Regret: 0.000024, IRP: 0.000000\n",
      "2019-02-26 22:57:31,126:INFO:TEST BATCH-122: t = 4.5706, Revenue: 0.216764, Regret: 0.000032, IRP: 0.000000\n",
      "2019-02-26 22:57:31,132:INFO:TEST BATCH-123: t = 4.5756, Revenue: 0.214487, Regret: 0.000039, IRP: 0.000000\n",
      "2019-02-26 22:57:31,137:INFO:TEST BATCH-124: t = 4.5802, Revenue: 0.212168, Regret: 0.000038, IRP: 0.000000\n",
      "2019-02-26 22:57:31,144:INFO:TEST BATCH-125: t = 4.5857, Revenue: 0.209808, Regret: 0.000045, IRP: 0.000000\n",
      "2019-02-26 22:57:31,148:INFO:TEST BATCH-126: t = 4.5897, Revenue: 0.207410, Regret: 0.000039, IRP: 0.000000\n",
      "2019-02-26 22:57:31,153:INFO:TEST BATCH-127: t = 4.5940, Revenue: 0.204975, Regret: 0.000023, IRP: 0.000000\n",
      "2019-02-26 22:57:31,159:INFO:TEST BATCH-128: t = 4.5985, Revenue: 0.202504, Regret: 0.000030, IRP: 0.000000\n",
      "2019-02-26 22:57:31,163:INFO:TEST BATCH-129: t = 4.6026, Revenue: 0.199999, Regret: 0.000064, IRP: 0.000000\n",
      "2019-02-26 22:57:31,168:INFO:TEST BATCH-130: t = 4.6067, Revenue: 0.197463, Regret: 0.000004, IRP: 0.000000\n",
      "2019-02-26 22:57:31,173:INFO:TEST BATCH-131: t = 4.6109, Revenue: 0.194897, Regret: 0.000021, IRP: 0.000000\n",
      "2019-02-26 22:57:31,178:INFO:TEST BATCH-132: t = 4.6151, Revenue: 0.192304, Regret: 0.000054, IRP: 0.000000\n",
      "2019-02-26 22:57:31,183:INFO:TEST BATCH-133: t = 4.6197, Revenue: 0.189685, Regret: 0.000013, IRP: 0.000000\n",
      "2019-02-26 22:57:31,188:INFO:TEST BATCH-134: t = 4.6237, Revenue: 0.187044, Regret: 0.000040, IRP: 0.000000\n",
      "2019-02-26 22:57:31,193:INFO:TEST BATCH-135: t = 4.6280, Revenue: 0.184381, Regret: 0.000035, IRP: 0.000000\n",
      "2019-02-26 22:57:31,200:INFO:TEST BATCH-136: t = 4.6327, Revenue: 0.181699, Regret: 0.000041, IRP: 0.000000\n",
      "2019-02-26 22:57:31,205:INFO:TEST BATCH-137: t = 4.6368, Revenue: 0.179000, Regret: 0.000020, IRP: 0.000000\n",
      "2019-02-26 22:57:31,212:INFO:TEST BATCH-138: t = 4.6423, Revenue: 0.176285, Regret: 0.000026, IRP: 0.000000\n",
      "2019-02-26 22:57:31,217:INFO:TEST BATCH-139: t = 4.6468, Revenue: 0.173557, Regret: 0.000034, IRP: 0.000000\n",
      "2019-02-26 22:57:31,223:INFO:TEST BATCH-140: t = 4.6519, Revenue: 0.170815, Regret: 0.000012, IRP: 0.000000\n",
      "2019-02-26 22:57:31,228:INFO:TEST BATCH-141: t = 4.6563, Revenue: 0.168063, Regret: 0.000004, IRP: 0.000000\n",
      "2019-02-26 22:57:31,233:INFO:TEST BATCH-142: t = 4.6606, Revenue: 0.165300, Regret: 0.000026, IRP: 0.000000\n",
      "2019-02-26 22:57:31,238:INFO:TEST BATCH-143: t = 4.6652, Revenue: 0.162528, Regret: 0.000008, IRP: 0.000000\n",
      "2019-02-26 22:57:31,243:INFO:TEST BATCH-144: t = 4.6700, Revenue: 0.159747, Regret: 0.000001, IRP: 0.000000\n",
      "2019-02-26 22:57:31,249:INFO:TEST BATCH-145: t = 4.6744, Revenue: 0.156959, Regret: 0.000048, IRP: 0.000000\n",
      "2019-02-26 22:57:31,255:INFO:TEST BATCH-146: t = 4.6800, Revenue: 0.154165, Regret: 0.000013, IRP: 0.000000\n",
      "2019-02-26 22:57:31,260:INFO:TEST BATCH-147: t = 4.6846, Revenue: 0.151364, Regret: 0.000010, IRP: 0.000000\n",
      "2019-02-26 22:57:31,266:INFO:TEST BATCH-148: t = 4.6897, Revenue: 0.148558, Regret: 0.000006, IRP: 0.000000\n",
      "2019-02-26 22:57:31,271:INFO:TEST BATCH-149: t = 4.6945, Revenue: 0.145747, Regret: 0.000004, IRP: 0.000000\n",
      "2019-02-26 22:57:31,278:INFO:TEST BATCH-150: t = 4.7000, Revenue: 0.142931, Regret: 0.000015, IRP: 0.000000\n",
      "2019-02-26 22:57:31,283:INFO:TEST BATCH-151: t = 4.7046, Revenue: 0.140111, Regret: 0.000002, IRP: 0.000000\n",
      "2019-02-26 22:57:31,289:INFO:TEST BATCH-152: t = 4.7090, Revenue: 0.137288, Regret: 0.000016, IRP: 0.000000\n"
     ]
    },
    {
     "name": "stderr",
     "output_type": "stream",
     "text": [
      "2019-02-26 22:57:31,295:INFO:TEST BATCH-153: t = 4.7127, Revenue: 0.134461, Regret: 0.000000, IRP: 0.000000\n",
      "2019-02-26 22:57:31,302:INFO:TEST BATCH-154: t = 4.7179, Revenue: 0.131631, Regret: 0.000014, IRP: 0.000000\n",
      "2019-02-26 22:57:31,307:INFO:TEST BATCH-155: t = 4.7222, Revenue: 0.128798, Regret: 0.000014, IRP: 0.000000\n",
      "2019-02-26 22:57:31,312:INFO:TEST BATCH-156: t = 4.7264, Revenue: 0.125962, Regret: 0.000007, IRP: 0.000000\n",
      "2019-02-26 22:57:31,318:INFO:TEST BATCH-157: t = 4.7309, Revenue: 0.123124, Regret: 0.000000, IRP: 0.000000\n",
      "2019-02-26 22:57:31,323:INFO:TEST BATCH-158: t = 4.7354, Revenue: 0.120283, Regret: 0.000001, IRP: 0.000000\n",
      "2019-02-26 22:57:31,336:INFO:TEST BATCH-159: t = 4.7475, Revenue: 0.117440, Regret: 0.000000, IRP: 0.000000\n",
      "2019-02-26 22:57:31,341:INFO:TEST BATCH-160: t = 4.7519, Revenue: 0.114596, Regret: 0.000000, IRP: 0.000000\n",
      "2019-02-26 22:57:31,347:INFO:TEST BATCH-161: t = 4.7570, Revenue: 0.111749, Regret: 0.000000, IRP: 0.000000\n",
      "2019-02-26 22:57:31,352:INFO:TEST BATCH-162: t = 4.7620, Revenue: 0.108900, Regret: 0.000002, IRP: 0.000000\n",
      "2019-02-26 22:57:31,358:INFO:TEST BATCH-163: t = 4.7663, Revenue: 0.106050, Regret: 0.000000, IRP: 0.000000\n",
      "2019-02-26 22:57:31,364:INFO:TEST BATCH-164: t = 4.7711, Revenue: 0.103199, Regret: 0.000000, IRP: 0.000000\n",
      "2019-02-26 22:57:31,369:INFO:TEST BATCH-165: t = 4.7754, Revenue: 0.100346, Regret: 0.000000, IRP: 0.000000\n",
      "2019-02-26 22:57:31,375:INFO:TEST BATCH-166: t = 4.7806, Revenue: 0.097491, Regret: 0.000000, IRP: 0.000000\n",
      "2019-02-26 22:57:31,380:INFO:TEST BATCH-167: t = 4.7853, Revenue: 0.094635, Regret: 0.000002, IRP: 0.000000\n",
      "2019-02-26 22:57:31,385:INFO:TEST BATCH-168: t = 4.7898, Revenue: 0.091778, Regret: 0.000000, IRP: 0.000000\n",
      "2019-02-26 22:57:31,390:INFO:TEST BATCH-169: t = 4.7941, Revenue: 0.088919, Regret: 0.000000, IRP: 0.000000\n",
      "2019-02-26 22:57:31,396:INFO:TEST BATCH-170: t = 4.7984, Revenue: 0.086059, Regret: 0.000000, IRP: 0.000000\n",
      "2019-02-26 22:57:31,402:INFO:TEST BATCH-171: t = 4.8032, Revenue: 0.083199, Regret: 0.000000, IRP: 0.000000\n",
      "2019-02-26 22:57:31,410:INFO:TEST BATCH-172: t = 4.8072, Revenue: 0.080337, Regret: 0.000000, IRP: 0.000000\n",
      "2019-02-26 22:57:31,415:INFO:TEST BATCH-173: t = 4.8118, Revenue: 0.077474, Regret: 0.000000, IRP: 0.000000\n",
      "2019-02-26 22:57:31,421:INFO:TEST BATCH-174: t = 4.8169, Revenue: 0.074610, Regret: 0.000000, IRP: 0.000000\n",
      "2019-02-26 22:57:31,426:INFO:TEST BATCH-175: t = 4.8215, Revenue: 0.071746, Regret: 0.000000, IRP: 0.000000\n",
      "2019-02-26 22:57:31,431:INFO:TEST BATCH-176: t = 4.8257, Revenue: 0.068881, Regret: 0.000000, IRP: 0.000000\n",
      "2019-02-26 22:57:31,436:INFO:TEST BATCH-177: t = 4.8298, Revenue: 0.066014, Regret: 0.000000, IRP: 0.000000\n",
      "2019-02-26 22:57:31,443:INFO:TEST BATCH-178: t = 4.8338, Revenue: 0.063148, Regret: 0.000000, IRP: 0.000000\n",
      "2019-02-26 22:57:31,448:INFO:TEST BATCH-179: t = 4.8377, Revenue: 0.060280, Regret: 0.000000, IRP: 0.000000\n",
      "2019-02-26 22:57:31,454:INFO:TEST BATCH-180: t = 4.8426, Revenue: 0.057412, Regret: 0.000000, IRP: 0.000000\n",
      "2019-02-26 22:57:31,460:INFO:TEST BATCH-181: t = 4.8475, Revenue: 0.054544, Regret: 0.000000, IRP: 0.000000\n",
      "2019-02-26 22:57:31,467:INFO:TEST BATCH-182: t = 4.8535, Revenue: 0.051675, Regret: 0.000000, IRP: 0.000000\n",
      "2019-02-26 22:57:31,472:INFO:TEST BATCH-183: t = 4.8579, Revenue: 0.048806, Regret: 0.000000, IRP: 0.000000\n",
      "2019-02-26 22:57:31,477:INFO:TEST BATCH-184: t = 4.8622, Revenue: 0.045936, Regret: 0.000000, IRP: 0.000000\n",
      "2019-02-26 22:57:31,482:INFO:TEST BATCH-185: t = 4.8665, Revenue: 0.043066, Regret: 0.000000, IRP: 0.000000\n",
      "2019-02-26 22:57:31,488:INFO:TEST BATCH-186: t = 4.8708, Revenue: 0.040196, Regret: 0.000000, IRP: 0.000000\n",
      "2019-02-26 22:57:31,494:INFO:TEST BATCH-187: t = 4.8750, Revenue: 0.037326, Regret: 0.000000, IRP: 0.000000\n",
      "2019-02-26 22:57:31,498:INFO:TEST BATCH-188: t = 4.8791, Revenue: 0.034455, Regret: 0.000000, IRP: 0.000000\n",
      "2019-02-26 22:57:31,505:INFO:TEST BATCH-189: t = 4.8848, Revenue: 0.031584, Regret: 0.000000, IRP: 0.000000\n",
      "2019-02-26 22:57:31,511:INFO:TEST BATCH-190: t = 4.8904, Revenue: 0.028713, Regret: 0.000000, IRP: 0.000000\n",
      "2019-02-26 22:57:31,517:INFO:TEST BATCH-191: t = 4.8948, Revenue: 0.025842, Regret: 0.000000, IRP: 0.000000\n",
      "2019-02-26 22:57:31,524:INFO:TEST BATCH-192: t = 4.9004, Revenue: 0.022971, Regret: 0.000000, IRP: 0.000000\n",
      "2019-02-26 22:57:31,529:INFO:TEST BATCH-193: t = 4.9048, Revenue: 0.020100, Regret: 0.000000, IRP: 0.000000\n",
      "2019-02-26 22:57:31,534:INFO:TEST BATCH-194: t = 4.9090, Revenue: 0.017229, Regret: 0.000000, IRP: 0.000000\n",
      "2019-02-26 22:57:31,539:INFO:TEST BATCH-195: t = 4.9139, Revenue: 0.014357, Regret: 0.000000, IRP: 0.000000\n",
      "2019-02-26 22:57:31,545:INFO:TEST BATCH-196: t = 4.9187, Revenue: 0.011486, Regret: 0.000000, IRP: 0.000000\n",
      "2019-02-26 22:57:31,550:INFO:TEST BATCH-197: t = 4.9233, Revenue: 0.008614, Regret: 0.000000, IRP: 0.000000\n",
      "2019-02-26 22:57:31,556:INFO:TEST BATCH-198: t = 4.9281, Revenue: 0.005743, Regret: 0.000000, IRP: 0.000000\n",
      "2019-02-26 22:57:31,561:INFO:TEST BATCH-199: t = 4.9329, Revenue: 0.002872, Regret: 0.000000, IRP: 0.000000\n",
      "2019-02-26 22:57:31,566:INFO:TEST BATCH-200: t = 4.9370, Revenue: 0.000000, Regret: 0.000000, IRP: 0.000000\n",
      "2019-02-26 22:57:31,567:INFO:TEST ALL-400000: t = 4.9370, Revenue: 0.196185, Regret: 0.000025, IRP: 0.000000\n"
     ]
    }
   ],
   "source": [
    "net = Net(cfg)\n",
    "generator = Generator(cfg, 'test', X_tst)\n",
    "clip_op_lambda = (lambda x: tf.assign(x, tf.clip_by_value(x, 0.0, 1.0)))\n",
    "m = Trainer(cfg, \"test\", net, clip_op_lambda)\n",
    "m.test(generator)"
   ]
  },
  {
   "cell_type": "code",
   "execution_count": 5,
   "metadata": {
    "collapsed": true
   },
   "outputs": [],
   "source": [
    "alloc = np.load(os.path.join(cfg.dir_name, \"alloc_tst_\" + str(cfg.test.restore_iter) + \".npy\")).reshape(D,D,2)\n",
    "pay = np.load(os.path.join(cfg.dir_name, \"pay_tst_\" + str(cfg.test.restore_iter) + \".npy\")).reshape(D,D,1)"
   ]
  },
  {
   "cell_type": "code",
   "execution_count": 6,
   "metadata": {
    "collapsed": true
   },
   "outputs": [],
   "source": [
    "from copy import copy\n",
    "palette = copy(plt.cm.YlOrRd)\n",
    "palette.set_over('w')\n",
    "x = np.linspace(0, 1.0, D)\n",
    "m = np.stack([v.flatten() for v in np.meshgrid(x,x)], axis = -1).reshape(D,D,2)\n",
    "mask = m.sum(-1)>1.0"
   ]
  },
  {
   "cell_type": "code",
   "execution_count": 7,
   "metadata": {},
   "outputs": [
    {
     "data": {
      "image/png": "[encoded data removed]",
      "text/plain": [
       "<matplotlib.figure.Figure at 0x2b451fddc610>"
      ]
     },
     "metadata": {},
     "output_type": "display_data"
    }
   ],
   "source": [
    "x1 = np.sqrt(1.0/3.0)\n",
    "points = [(x1, 0), (0, x1)]\n",
    "x = list(map(lambda x: x[0], points))\n",
    "y = list(map(lambda x: x[1], points))\n",
    "\n",
    "fig, ax = plt.subplots(ncols = 1, nrows = 1, figsize=(8,6))\n",
    "plt.plot(x, y, linewidth = 2, linestyle = '--', c='black')\n",
    "\n",
    "plt.axis([0, 1.0, 0, 1.0])\n",
    "plt.plot(x, y, linewidth = 2, linestyle = '--', c='black')\n",
    "a1 = alloc[:, :, 0]\n",
    "a1[mask] = 10.0\n",
    "img = ax.imshow(a1[::-1,:], extent=[0,1,0,1], vmin = 0.0, vmax=1.0, cmap = palette)\n",
    "\n",
    "plt.text(0.15, 0.15, s='0', color='black', fontsize='10', fontweight='bold')\n",
    "plt.text(0.4, 0.4, s='1', color='black', fontsize='10', fontweight='bold')\n",
    "\n",
    "ax.set_xlabel('$v_1$')\n",
    "ax.set_ylabel('$v_2$')\n",
    "plt.title('Prob. of allocating item 1')\n",
    "_ = plt.colorbar(img, fraction=0.046, pad=0.04)\n",
    "if save_plot:\n",
    "    fig.set_size_inches(4, 3)\n",
    "    plt.savefig(os.path.join(cfg.dir_name, 'alloc1.pdf'), bbox_inches = 'tight', pad_inches = 0.05)"
   ]
  },
  {
   "cell_type": "code",
   "execution_count": 8,
   "metadata": {},
   "outputs": [
    {
     "data": {
      "image/png": "[encoded data removed]",
      "text/plain": [
       "<matplotlib.figure.Figure at 0x2b458bcc7f10>"
      ]
     },
     "metadata": {},
     "output_type": "display_data"
    }
   ],
   "source": [
    "x1 = np.sqrt(1.0/3.0)\n",
    "points = [(x1, 0), (0, x1)]\n",
    "x = list(map(lambda x: x[0], points))\n",
    "y = list(map(lambda x: x[1], points))\n",
    "\n",
    "fig, ax = plt.subplots(ncols = 1, nrows = 1, figsize=(8,6))\n",
    "\n",
    "plt.axis([0, 1.0, 0, 1.0])\n",
    "plt.plot(x, y, linewidth = 2, linestyle = '--', c='black')\n",
    "a2 = alloc[:, :, 1]\n",
    "a2[mask] = 10.0\n",
    "img = ax.imshow(a2[::-1, :], extent=[0,1,0,1], vmin = 0.0, vmax=1.0, cmap = palette)\n",
    "\n",
    "\n",
    "plt.text(0.15, 0.15, s='0', color='black', fontsize='10', fontweight='bold')\n",
    "plt.text(0.4, 0.4, s='1', color='black', fontsize='10', fontweight='bold')\n",
    "\n",
    "ax.set_xlabel('$v_1$')\n",
    "ax.set_ylabel('$v_2$')\n",
    "plt.title('Prob. of allocating item 2')\n",
    "_ = plt.colorbar(img, fraction=0.046, pad=0.04)\n",
    "if save_plot:\n",
    "    fig.set_size_inches(4, 3)\n",
    "    plt.savefig(os.path.join(cfg.dir_name, 'alloc2.pdf'), bbox_inches = 'tight', pad_inches = 0.05)"
   ]
  },
  {
   "cell_type": "code",
   "execution_count": null,
   "metadata": {
    "collapsed": true
   },
   "outputs": [],
   "source": []
  }
 ],
 "metadata": {
  "kernelspec": {
   "display_name": "Python 2",
   "language": "python",
   "name": "python2"
  },
  "language_info": {
   "codemirror_mode": {
    "name": "ipython",
    "version": 2
   },
   "file_extension": ".py",
   "mimetype": "text/x-python",
   "name": "python",
   "nbconvert_exporter": "python",
   "pygments_lexer": "ipython2",
   "version": "2.7.13"
  }
 },
 "nbformat": 4,
 "nbformat_minor": 2
}
