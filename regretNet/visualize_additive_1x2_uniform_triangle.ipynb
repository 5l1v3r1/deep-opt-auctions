{
 "cells": [
  {
   "cell_type": "code",
   "execution_count": 1,
   "metadata": {
    "collapsed": true
   },
   "outputs": [],
   "source": [
    "from __future__ import absolute_import\n",
    "from __future__ import division\n",
    "from __future__ import print_function\n",
    "\n",
    "import os\n",
    "import sys\n",
    "import numpy as np\n",
    "import tensorflow as tf\n",
    "import matplotlib.pyplot as plt\n",
    "\n",
    "from nets import *\n",
    "from cfgs import *\n",
    "from data import *\n",
    "from clip_ops.clip_ops import *\n",
    "from trainer import *"
   ]
  },
  {
   "cell_type": "code",
   "execution_count": 2,
   "metadata": {},
   "outputs": [
    {
     "name": "stdout",
     "output_type": "stream",
     "text": [
      "(40401, 1, 2)\n"
     ]
    }
   ],
   "source": [
    "%matplotlib inline\n",
    "save_plot = True\n",
    "plt.rcParams.update({'font.size': 10, 'axes.labelsize': 'x-large'})\n",
    "D = 201\n",
    "\n",
    "x = np.linspace(0, 1.0, D)\n",
    "X_tst = np.stack([v.flatten() for v in np.meshgrid(x,x)], axis = -1)\n",
    "X_tst[np.where(X_tst.sum(-1) >= 1)] = 0.0\n",
    "X_tst = np.expand_dims(X_tst, 1)\n",
    "print(X_tst.shape)\n",
    "\n",
    "cfg = additive_1x2_uniform_triangle_config.cfg\n",
    "cfg.test.num_misreports = 1\n",
    "cfg.test.gd_iter = 0\n",
    "cfg.test.batch_size = D\n",
    "cfg.test.num_batches = int(X_tst.shape[0]/cfg.test.batch_size)\n",
    "cfg.test.save_output = True"
   ]
  },
  {
   "cell_type": "code",
   "execution_count": 3,
   "metadata": {
    "collapsed": true
   },
   "outputs": [],
   "source": [
    "Net = additive_net.Net\n",
    "Generator = uniform_triangle_01_generator.Generator\n",
    "clip_op_lambda = (lambda x: clip_op_triangle_01(x))\n",
    "Trainer = trainer.Trainer"
   ]
  },
  {
   "cell_type": "code",
   "execution_count": 4,
   "metadata": {},
   "outputs": [
    {
     "name": "stdout",
     "output_type": "stream",
     "text": [
      "INFO:tensorflow:Restoring parameters from experiments/additive_1x2_uniform_triangle/model-400000\n"
     ]
    },
    {
     "name": "stderr",
     "output_type": "stream",
     "text": [
      "2019-01-22 14:50:24,794:INFO:Restoring parameters from experiments/additive_1x2_uniform_triangle/model-400000\n",
      "2019-01-22 14:50:28,191:INFO:TEST BATCH-0: t = 3.3663, Revenue: 0.247435, Regret: 0.000008, IRP: 0.000000, Welfare: 0.338431\n",
      "2019-01-22 14:50:28,200:INFO:TEST BATCH-1: t = 3.3711, Revenue: 0.247751, Regret: 0.000004, IRP: 0.000000, Welfare: 0.338579\n",
      "2019-01-22 14:50:28,208:INFO:TEST BATCH-2: t = 3.3757, Revenue: 0.248070, Regret: 0.000001, IRP: 0.000000, Welfare: 0.338742\n",
      "2019-01-22 14:50:28,215:INFO:TEST BATCH-3: t = 3.3800, Revenue: 0.248392, Regret: 0.000010, IRP: 0.000000, Welfare: 0.338915\n",
      "2019-01-22 14:50:28,223:INFO:TEST BATCH-4: t = 3.3843, Revenue: 0.248713, Regret: 0.000026, IRP: 0.000000, Welfare: 0.339097\n",
      "2019-01-22 14:50:28,230:INFO:TEST BATCH-5: t = 3.3885, Revenue: 0.249032, Regret: 0.000007, IRP: 0.000000, Welfare: 0.339286\n",
      "2019-01-22 14:50:28,237:INFO:TEST BATCH-6: t = 3.3924, Revenue: 0.249348, Regret: 0.000031, IRP: 0.000000, Welfare: 0.339479\n",
      "2019-01-22 14:50:28,243:INFO:TEST BATCH-7: t = 3.3964, Revenue: 0.249658, Regret: 0.000009, IRP: 0.000000, Welfare: 0.339674\n",
      "2019-01-22 14:50:28,250:INFO:TEST BATCH-8: t = 3.4003, Revenue: 0.249963, Regret: 0.000002, IRP: 0.000000, Welfare: 0.339871\n",
      "2019-01-22 14:50:28,257:INFO:TEST BATCH-9: t = 3.4042, Revenue: 0.250260, Regret: 0.000025, IRP: 0.000000, Welfare: 0.340066\n",
      "2019-01-22 14:50:28,263:INFO:TEST BATCH-10: t = 3.4080, Revenue: 0.250549, Regret: 0.000012, IRP: 0.000000, Welfare: 0.340260\n",
      "2019-01-22 14:50:28,270:INFO:TEST BATCH-11: t = 3.4119, Revenue: 0.250829, Regret: 0.000016, IRP: 0.000000, Welfare: 0.340450\n",
      "2019-01-22 14:50:28,277:INFO:TEST BATCH-12: t = 3.4157, Revenue: 0.251098, Regret: 0.000018, IRP: 0.000000, Welfare: 0.340636\n",
      "2019-01-22 14:50:28,284:INFO:TEST BATCH-13: t = 3.4197, Revenue: 0.251357, Regret: 0.000008, IRP: 0.000000, Welfare: 0.340816\n",
      "2019-01-22 14:50:28,291:INFO:TEST BATCH-14: t = 3.4240, Revenue: 0.251605, Regret: 0.000004, IRP: 0.000000, Welfare: 0.340990\n",
      "2019-01-22 14:50:28,298:INFO:TEST BATCH-15: t = 3.4283, Revenue: 0.251841, Regret: 0.000016, IRP: 0.000000, Welfare: 0.341157\n",
      "2019-01-22 14:50:28,305:INFO:TEST BATCH-16: t = 3.4326, Revenue: 0.252066, Regret: 0.000040, IRP: 0.000000, Welfare: 0.341317\n",
      "2019-01-22 14:50:28,312:INFO:TEST BATCH-17: t = 3.4369, Revenue: 0.252279, Regret: 0.000022, IRP: 0.000000, Welfare: 0.341469\n",
      "2019-01-22 14:50:28,319:INFO:TEST BATCH-18: t = 3.4412, Revenue: 0.252480, Regret: 0.000025, IRP: 0.000000, Welfare: 0.341614\n",
      "2019-01-22 14:50:28,326:INFO:TEST BATCH-19: t = 3.4455, Revenue: 0.252670, Regret: 0.000025, IRP: 0.000000, Welfare: 0.341750\n",
      "2019-01-22 14:50:28,333:INFO:TEST BATCH-20: t = 3.4498, Revenue: 0.252848, Regret: 0.000028, IRP: 0.000000, Welfare: 0.341878\n",
      "2019-01-22 14:50:28,340:INFO:TEST BATCH-21: t = 3.4541, Revenue: 0.253014, Regret: 0.000009, IRP: 0.000000, Welfare: 0.341998\n",
      "2019-01-22 14:50:28,347:INFO:TEST BATCH-22: t = 3.4584, Revenue: 0.253170, Regret: 0.000011, IRP: 0.000000, Welfare: 0.342111\n",
      "2019-01-22 14:50:28,355:INFO:TEST BATCH-23: t = 3.4629, Revenue: 0.253315, Regret: 0.000030, IRP: 0.000000, Welfare: 0.342215\n",
      "2019-01-22 14:50:28,362:INFO:TEST BATCH-24: t = 3.4672, Revenue: 0.253450, Regret: 0.000023, IRP: 0.000000, Welfare: 0.342312\n",
      "2019-01-22 14:50:28,369:INFO:TEST BATCH-25: t = 3.4715, Revenue: 0.253575, Regret: 0.000002, IRP: 0.000000, Welfare: 0.342402\n",
      "2019-01-22 14:50:28,376:INFO:TEST BATCH-26: t = 3.4758, Revenue: 0.253691, Regret: 0.000023, IRP: 0.000000, Welfare: 0.342485\n",
      "2019-01-22 14:50:28,383:INFO:TEST BATCH-27: t = 3.4800, Revenue: 0.253799, Regret: 0.000023, IRP: 0.000000, Welfare: 0.342562\n",
      "2019-01-22 14:50:28,390:INFO:TEST BATCH-28: t = 3.4843, Revenue: 0.253899, Regret: 0.000040, IRP: 0.000000, Welfare: 0.342633\n",
      "2019-01-22 14:50:28,398:INFO:TEST BATCH-29: t = 3.4886, Revenue: 0.253991, Regret: 0.000036, IRP: 0.000000, Welfare: 0.342699\n",
      "2019-01-22 14:50:28,405:INFO:TEST BATCH-30: t = 3.4930, Revenue: 0.254077, Regret: 0.000044, IRP: 0.000000, Welfare: 0.342760\n",
      "2019-01-22 14:50:28,413:INFO:TEST BATCH-31: t = 3.4972, Revenue: 0.254157, Regret: 0.000031, IRP: 0.000000, Welfare: 0.342816\n",
      "2019-01-22 14:50:28,420:INFO:TEST BATCH-32: t = 3.5015, Revenue: 0.254231, Regret: 0.000028, IRP: 0.000000, Welfare: 0.342869\n",
      "2019-01-22 14:50:28,427:INFO:TEST BATCH-33: t = 3.5058, Revenue: 0.254301, Regret: 0.000032, IRP: 0.000000, Welfare: 0.342919\n",
      "2019-01-22 14:50:28,435:INFO:TEST BATCH-34: t = 3.5101, Revenue: 0.254367, Regret: 0.000034, IRP: 0.000000, Welfare: 0.342966\n",
      "2019-01-22 14:50:28,442:INFO:TEST BATCH-35: t = 3.5144, Revenue: 0.254429, Regret: 0.000022, IRP: 0.000000, Welfare: 0.343011\n",
      "2019-01-22 14:50:28,449:INFO:TEST BATCH-36: t = 3.5187, Revenue: 0.254488, Regret: 0.000010, IRP: 0.000000, Welfare: 0.343054\n",
      "2019-01-22 14:50:28,457:INFO:TEST BATCH-37: t = 3.5236, Revenue: 0.254544, Regret: 0.000041, IRP: 0.000000, Welfare: 0.343096\n",
      "2019-01-22 14:50:28,465:INFO:TEST BATCH-38: t = 3.5285, Revenue: 0.254599, Regret: 0.000026, IRP: 0.000000, Welfare: 0.343137\n",
      "2019-01-22 14:50:28,473:INFO:TEST BATCH-39: t = 3.5334, Revenue: 0.254653, Regret: 0.000023, IRP: 0.000000, Welfare: 0.343178\n",
      "2019-01-22 14:50:28,480:INFO:TEST BATCH-40: t = 3.5382, Revenue: 0.254706, Regret: 0.000067, IRP: 0.000000, Welfare: 0.343219\n",
      "2019-01-22 14:50:28,488:INFO:TEST BATCH-41: t = 3.5426, Revenue: 0.254758, Regret: 0.000053, IRP: 0.000000, Welfare: 0.343260\n",
      "2019-01-22 14:50:28,495:INFO:TEST BATCH-42: t = 3.5468, Revenue: 0.254811, Regret: 0.000041, IRP: 0.000000, Welfare: 0.343303\n",
      "2019-01-22 14:50:28,503:INFO:TEST BATCH-43: t = 3.5511, Revenue: 0.254863, Regret: 0.000036, IRP: 0.000000, Welfare: 0.343346\n",
      "2019-01-22 14:50:28,510:INFO:TEST BATCH-44: t = 3.5553, Revenue: 0.254917, Regret: 0.000087, IRP: 0.000000, Welfare: 0.343392\n",
      "2019-01-22 14:50:28,517:INFO:TEST BATCH-45: t = 3.5596, Revenue: 0.254971, Regret: 0.000047, IRP: 0.000000, Welfare: 0.343438\n",
      "2019-01-22 14:50:28,524:INFO:TEST BATCH-46: t = 3.5638, Revenue: 0.255027, Regret: 0.000017, IRP: 0.000000, Welfare: 0.343487\n",
      "2019-01-22 14:50:28,531:INFO:TEST BATCH-47: t = 3.5682, Revenue: 0.255084, Regret: 0.000025, IRP: 0.000000, Welfare: 0.343538\n",
      "2019-01-22 14:50:28,538:INFO:TEST BATCH-48: t = 3.5724, Revenue: 0.255142, Regret: 0.000050, IRP: 0.000000, Welfare: 0.343591\n",
      "2019-01-22 14:50:28,545:INFO:TEST BATCH-49: t = 3.5767, Revenue: 0.255202, Regret: 0.000036, IRP: 0.000000, Welfare: 0.343647\n",
      "2019-01-22 14:50:28,552:INFO:TEST BATCH-50: t = 3.5809, Revenue: 0.255264, Regret: 0.000050, IRP: 0.000000, Welfare: 0.343705\n",
      "2019-01-22 14:50:28,560:INFO:TEST BATCH-51: t = 3.5851, Revenue: 0.255328, Regret: 0.000079, IRP: 0.000000, Welfare: 0.343765\n",
      "2019-01-22 14:50:28,567:INFO:TEST BATCH-52: t = 3.5894, Revenue: 0.255394, Regret: 0.000026, IRP: 0.000000, Welfare: 0.343828\n",
      "2019-01-22 14:50:28,574:INFO:TEST BATCH-53: t = 3.5936, Revenue: 0.255461, Regret: 0.000033, IRP: 0.000000, Welfare: 0.343893\n",
      "2019-01-22 14:50:28,581:INFO:TEST BATCH-54: t = 3.5979, Revenue: 0.255530, Regret: 0.000031, IRP: 0.000000, Welfare: 0.343960\n",
      "2019-01-22 14:50:28,588:INFO:TEST BATCH-55: t = 3.6021, Revenue: 0.255601, Regret: 0.000029, IRP: 0.000000, Welfare: 0.344030\n",
      "2019-01-22 14:50:28,596:INFO:TEST BATCH-56: t = 3.6072, Revenue: 0.255674, Regret: 0.000020, IRP: 0.000000, Welfare: 0.344102\n",
      "2019-01-22 14:50:28,603:INFO:TEST BATCH-57: t = 3.6115, Revenue: 0.255748, Regret: 0.000021, IRP: 0.000000, Welfare: 0.344176\n",
      "2019-01-22 14:50:28,610:INFO:TEST BATCH-58: t = 3.6158, Revenue: 0.255823, Regret: 0.000032, IRP: 0.000000, Welfare: 0.344252\n",
      "2019-01-22 14:50:28,617:INFO:TEST BATCH-59: t = 3.6200, Revenue: 0.255900, Regret: 0.000044, IRP: 0.000000, Welfare: 0.344329\n",
      "2019-01-22 14:50:28,625:INFO:TEST BATCH-60: t = 3.6243, Revenue: 0.255978, Regret: 0.000059, IRP: 0.000000, Welfare: 0.344408\n",
      "2019-01-22 14:50:28,632:INFO:TEST BATCH-61: t = 3.6285, Revenue: 0.256056, Regret: 0.000021, IRP: 0.000000, Welfare: 0.344488\n",
      "2019-01-22 14:50:28,639:INFO:TEST BATCH-62: t = 3.6327, Revenue: 0.256134, Regret: 0.000057, IRP: 0.000000, Welfare: 0.344569\n",
      "2019-01-22 14:50:28,647:INFO:TEST BATCH-63: t = 3.6370, Revenue: 0.256213, Regret: 0.000067, IRP: 0.000000, Welfare: 0.344650\n",
      "2019-01-22 14:50:28,654:INFO:TEST BATCH-64: t = 3.6412, Revenue: 0.256291, Regret: 0.000042, IRP: 0.000000, Welfare: 0.344732\n"
     ]
    },
    {
     "name": "stderr",
     "output_type": "stream",
     "text": [
      "2019-01-22 14:50:28,661:INFO:TEST BATCH-65: t = 3.6457, Revenue: 0.256369, Regret: 0.000053, IRP: 0.000000, Welfare: 0.344813\n",
      "2019-01-22 14:50:28,669:INFO:TEST BATCH-66: t = 3.6506, Revenue: 0.256446, Regret: 0.000070, IRP: 0.000000, Welfare: 0.344894\n",
      "2019-01-22 14:50:28,676:INFO:TEST BATCH-67: t = 3.6554, Revenue: 0.256521, Regret: 0.000048, IRP: 0.000000, Welfare: 0.344974\n",
      "2019-01-22 14:50:28,684:INFO:TEST BATCH-68: t = 3.6603, Revenue: 0.256594, Regret: 0.000064, IRP: 0.000000, Welfare: 0.345052\n",
      "2019-01-22 14:50:28,692:INFO:TEST BATCH-69: t = 3.6654, Revenue: 0.256664, Regret: 0.000119, IRP: 0.000000, Welfare: 0.345128\n",
      "2019-01-22 14:50:28,699:INFO:TEST BATCH-70: t = 3.6697, Revenue: 0.256731, Regret: 0.000118, IRP: 0.000000, Welfare: 0.345201\n",
      "2019-01-22 14:50:28,706:INFO:TEST BATCH-71: t = 3.6741, Revenue: 0.256795, Regret: 0.000092, IRP: 0.000000, Welfare: 0.345270\n",
      "2019-01-22 14:50:28,714:INFO:TEST BATCH-72: t = 3.6784, Revenue: 0.256853, Regret: 0.000088, IRP: 0.000000, Welfare: 0.345335\n",
      "2019-01-22 14:50:28,722:INFO:TEST BATCH-73: t = 3.6826, Revenue: 0.256906, Regret: 0.000046, IRP: 0.000000, Welfare: 0.345396\n",
      "2019-01-22 14:50:28,729:INFO:TEST BATCH-74: t = 3.6869, Revenue: 0.256953, Regret: 0.000055, IRP: 0.000000, Welfare: 0.345451\n",
      "2019-01-22 14:50:28,736:INFO:TEST BATCH-75: t = 3.6911, Revenue: 0.256994, Regret: 0.000059, IRP: 0.000000, Welfare: 0.345500\n",
      "2019-01-22 14:50:28,743:INFO:TEST BATCH-76: t = 3.6954, Revenue: 0.257027, Regret: 0.000053, IRP: 0.000000, Welfare: 0.345542\n",
      "2019-01-22 14:50:28,750:INFO:TEST BATCH-77: t = 3.6997, Revenue: 0.257053, Regret: 0.000051, IRP: 0.000000, Welfare: 0.345577\n",
      "2019-01-22 14:50:28,757:INFO:TEST BATCH-78: t = 3.7039, Revenue: 0.257069, Regret: 0.000052, IRP: 0.000000, Welfare: 0.345603\n",
      "2019-01-22 14:50:28,764:INFO:TEST BATCH-79: t = 3.7081, Revenue: 0.257075, Regret: 0.000083, IRP: 0.000000, Welfare: 0.345620\n",
      "2019-01-22 14:50:28,771:INFO:TEST BATCH-80: t = 3.7123, Revenue: 0.257071, Regret: 0.000076, IRP: 0.000000, Welfare: 0.345628\n",
      "2019-01-22 14:50:28,779:INFO:TEST BATCH-81: t = 3.7165, Revenue: 0.257056, Regret: 0.000043, IRP: 0.000000, Welfare: 0.345624\n",
      "2019-01-22 14:50:28,786:INFO:TEST BATCH-82: t = 3.7207, Revenue: 0.257028, Regret: 0.000025, IRP: 0.000000, Welfare: 0.345608\n",
      "2019-01-22 14:50:28,793:INFO:TEST BATCH-83: t = 3.7250, Revenue: 0.256985, Regret: 0.000055, IRP: 0.000000, Welfare: 0.345579\n",
      "2019-01-22 14:50:28,800:INFO:TEST BATCH-84: t = 3.7292, Revenue: 0.256928, Regret: 0.000078, IRP: 0.000000, Welfare: 0.345536\n",
      "2019-01-22 14:50:28,808:INFO:TEST BATCH-85: t = 3.7334, Revenue: 0.256854, Regret: 0.000050, IRP: 0.000000, Welfare: 0.345477\n",
      "2019-01-22 14:50:28,815:INFO:TEST BATCH-86: t = 3.7376, Revenue: 0.256762, Regret: 0.000030, IRP: 0.000000, Welfare: 0.345400\n",
      "2019-01-22 14:50:28,821:INFO:TEST BATCH-87: t = 3.7411, Revenue: 0.256649, Regret: 0.000064, IRP: 0.000000, Welfare: 0.345304\n",
      "2019-01-22 14:50:28,827:INFO:TEST BATCH-88: t = 3.7447, Revenue: 0.256514, Regret: 0.000106, IRP: 0.000000, Welfare: 0.345186\n",
      "2019-01-22 14:50:28,832:INFO:TEST BATCH-89: t = 3.7476, Revenue: 0.256354, Regret: 0.000024, IRP: 0.000000, Welfare: 0.345045\n",
      "2019-01-22 14:50:28,837:INFO:TEST BATCH-90: t = 3.7505, Revenue: 0.256166, Regret: 0.000035, IRP: 0.000000, Welfare: 0.344876\n",
      "2019-01-22 14:50:28,842:INFO:TEST BATCH-91: t = 3.7533, Revenue: 0.255947, Regret: 0.000131, IRP: 0.000000, Welfare: 0.344679\n",
      "2019-01-22 14:50:28,848:INFO:TEST BATCH-92: t = 3.7568, Revenue: 0.255695, Regret: 0.000033, IRP: 0.000000, Welfare: 0.344448\n",
      "2019-01-22 14:50:28,852:INFO:TEST BATCH-93: t = 3.7596, Revenue: 0.255404, Regret: 0.000095, IRP: 0.000000, Welfare: 0.344179\n",
      "2019-01-22 14:50:28,858:INFO:TEST BATCH-94: t = 3.7624, Revenue: 0.255070, Regret: 0.000066, IRP: 0.000000, Welfare: 0.343870\n",
      "2019-01-22 14:50:28,863:INFO:TEST BATCH-95: t = 3.7655, Revenue: 0.254689, Regret: 0.000039, IRP: 0.000000, Welfare: 0.343514\n",
      "2019-01-22 14:50:28,868:INFO:TEST BATCH-96: t = 3.7683, Revenue: 0.254254, Regret: 0.000077, IRP: 0.000000, Welfare: 0.343106\n",
      "2019-01-22 14:50:28,873:INFO:TEST BATCH-97: t = 3.7711, Revenue: 0.253761, Regret: 0.000090, IRP: 0.000000, Welfare: 0.342641\n",
      "2019-01-22 14:50:28,878:INFO:TEST BATCH-98: t = 3.7746, Revenue: 0.253204, Regret: 0.000090, IRP: 0.000000, Welfare: 0.342112\n",
      "2019-01-22 14:50:28,883:INFO:TEST BATCH-99: t = 3.7773, Revenue: 0.252576, Regret: 0.000020, IRP: 0.000000, Welfare: 0.341514\n",
      "2019-01-22 14:50:28,888:INFO:TEST BATCH-100: t = 3.7800, Revenue: 0.251871, Regret: 0.000022, IRP: 0.000000, Welfare: 0.340841\n",
      "2019-01-22 14:50:28,893:INFO:TEST BATCH-101: t = 3.7829, Revenue: 0.251085, Regret: 0.000069, IRP: 0.000000, Welfare: 0.340088\n",
      "2019-01-22 14:50:28,897:INFO:TEST BATCH-102: t = 3.7857, Revenue: 0.250214, Regret: 0.000013, IRP: 0.000000, Welfare: 0.339249\n",
      "2019-01-22 14:50:28,902:INFO:TEST BATCH-103: t = 3.7885, Revenue: 0.249257, Regret: 0.000021, IRP: 0.000000, Welfare: 0.338322\n",
      "2019-01-22 14:50:28,907:INFO:TEST BATCH-104: t = 3.7916, Revenue: 0.248214, Regret: 0.000054, IRP: 0.000000, Welfare: 0.337302\n",
      "2019-01-22 14:50:28,912:INFO:TEST BATCH-105: t = 3.7944, Revenue: 0.247085, Regret: 0.000057, IRP: 0.000000, Welfare: 0.336190\n",
      "2019-01-22 14:50:28,917:INFO:TEST BATCH-106: t = 3.7971, Revenue: 0.245867, Regret: 0.000068, IRP: 0.000000, Welfare: 0.334983\n",
      "2019-01-22 14:50:28,923:INFO:TEST BATCH-107: t = 3.8006, Revenue: 0.244563, Regret: 0.000051, IRP: 0.000000, Welfare: 0.333683\n",
      "2019-01-22 14:50:28,927:INFO:TEST BATCH-108: t = 3.8034, Revenue: 0.243173, Regret: 0.000015, IRP: 0.000000, Welfare: 0.332291\n",
      "2019-01-22 14:50:28,932:INFO:TEST BATCH-109: t = 3.8061, Revenue: 0.241703, Regret: 0.000020, IRP: 0.000000, Welfare: 0.330808\n",
      "2019-01-22 14:50:28,937:INFO:TEST BATCH-110: t = 3.8093, Revenue: 0.240157, Regret: 0.000042, IRP: 0.000000, Welfare: 0.329237\n",
      "2019-01-22 14:50:28,941:INFO:TEST BATCH-111: t = 3.8120, Revenue: 0.238537, Regret: 0.000067, IRP: 0.000000, Welfare: 0.327581\n",
      "2019-01-22 14:50:28,946:INFO:TEST BATCH-112: t = 3.8148, Revenue: 0.236849, Regret: 0.000029, IRP: 0.000000, Welfare: 0.325841\n",
      "2019-01-22 14:50:28,951:INFO:TEST BATCH-113: t = 3.8179, Revenue: 0.235094, Regret: 0.000037, IRP: 0.000000, Welfare: 0.324021\n",
      "2019-01-22 14:50:28,956:INFO:TEST BATCH-114: t = 3.8207, Revenue: 0.233276, Regret: 0.000074, IRP: 0.000000, Welfare: 0.322124\n",
      "2019-01-22 14:50:28,961:INFO:TEST BATCH-115: t = 3.8235, Revenue: 0.231397, Regret: 0.000053, IRP: 0.000000, Welfare: 0.320151\n",
      "2019-01-22 14:50:28,965:INFO:TEST BATCH-116: t = 3.8265, Revenue: 0.229461, Regret: 0.000099, IRP: 0.000000, Welfare: 0.318104\n",
      "2019-01-22 14:50:28,970:INFO:TEST BATCH-117: t = 3.8293, Revenue: 0.227469, Regret: 0.000068, IRP: 0.000000, Welfare: 0.315987\n",
      "2019-01-22 14:50:28,975:INFO:TEST BATCH-118: t = 3.8321, Revenue: 0.225425, Regret: 0.000036, IRP: 0.000000, Welfare: 0.313801\n",
      "2019-01-22 14:50:28,980:INFO:TEST BATCH-119: t = 3.8351, Revenue: 0.223330, Regret: 0.000031, IRP: 0.000000, Welfare: 0.311547\n",
      "2019-01-22 14:50:28,984:INFO:TEST BATCH-120: t = 3.8379, Revenue: 0.221187, Regret: 0.000033, IRP: 0.000000, Welfare: 0.309227\n",
      "2019-01-22 14:50:28,989:INFO:TEST BATCH-121: t = 3.8407, Revenue: 0.218998, Regret: 0.000021, IRP: 0.000000, Welfare: 0.306842\n",
      "2019-01-22 14:50:28,994:INFO:TEST BATCH-122: t = 3.8437, Revenue: 0.216764, Regret: 0.000031, IRP: 0.000000, Welfare: 0.304394\n",
      "2019-01-22 14:50:28,998:INFO:TEST BATCH-123: t = 3.8464, Revenue: 0.214487, Regret: 0.000047, IRP: 0.000000, Welfare: 0.301884\n",
      "2019-01-22 14:50:29,004:INFO:TEST BATCH-124: t = 3.8492, Revenue: 0.212168, Regret: 0.000048, IRP: 0.000000, Welfare: 0.299313\n",
      "2019-01-22 14:50:29,009:INFO:TEST BATCH-125: t = 3.8528, Revenue: 0.209808, Regret: 0.000077, IRP: 0.000000, Welfare: 0.296682\n",
      "2019-01-22 14:50:29,013:INFO:TEST BATCH-126: t = 3.8555, Revenue: 0.207410, Regret: 0.000021, IRP: 0.000000, Welfare: 0.293992\n",
      "2019-01-22 14:50:29,018:INFO:TEST BATCH-127: t = 3.8582, Revenue: 0.204975, Regret: 0.000005, IRP: 0.000000, Welfare: 0.291245\n",
      "2019-01-22 14:50:29,023:INFO:TEST BATCH-128: t = 3.8618, Revenue: 0.202504, Regret: 0.000046, IRP: 0.000000, Welfare: 0.288442\n",
      "2019-01-22 14:50:29,028:INFO:TEST BATCH-129: t = 3.8648, Revenue: 0.199999, Regret: 0.000039, IRP: 0.000000, Welfare: 0.285586\n"
     ]
    },
    {
     "name": "stderr",
     "output_type": "stream",
     "text": [
      "2019-01-22 14:50:29,033:INFO:TEST BATCH-130: t = 3.8675, Revenue: 0.197463, Regret: 0.000022, IRP: 0.000000, Welfare: 0.282677\n",
      "2019-01-22 14:50:29,038:INFO:TEST BATCH-131: t = 3.8705, Revenue: 0.194897, Regret: 0.000015, IRP: 0.000000, Welfare: 0.279717\n",
      "2019-01-22 14:50:29,042:INFO:TEST BATCH-132: t = 3.8732, Revenue: 0.192304, Regret: 0.000046, IRP: 0.000000, Welfare: 0.276709\n",
      "2019-01-22 14:50:29,047:INFO:TEST BATCH-133: t = 3.8760, Revenue: 0.189685, Regret: 0.000028, IRP: 0.000000, Welfare: 0.273654\n",
      "2019-01-22 14:50:29,052:INFO:TEST BATCH-134: t = 3.8787, Revenue: 0.187044, Regret: 0.000039, IRP: 0.000000, Welfare: 0.270555\n",
      "2019-01-22 14:50:29,057:INFO:TEST BATCH-135: t = 3.8815, Revenue: 0.184381, Regret: 0.000049, IRP: 0.000000, Welfare: 0.267413\n",
      "2019-01-22 14:50:29,061:INFO:TEST BATCH-136: t = 3.8842, Revenue: 0.181699, Regret: 0.000024, IRP: 0.000000, Welfare: 0.264229\n",
      "2019-01-22 14:50:29,066:INFO:TEST BATCH-137: t = 3.8870, Revenue: 0.179000, Regret: 0.000022, IRP: 0.000000, Welfare: 0.261007\n",
      "2019-01-22 14:50:29,071:INFO:TEST BATCH-138: t = 3.8898, Revenue: 0.176285, Regret: 0.000011, IRP: 0.000000, Welfare: 0.257746\n",
      "2019-01-22 14:50:29,076:INFO:TEST BATCH-139: t = 3.8925, Revenue: 0.173557, Regret: 0.000016, IRP: 0.000000, Welfare: 0.254449\n",
      "2019-01-22 14:50:29,081:INFO:TEST BATCH-140: t = 3.8953, Revenue: 0.170815, Regret: 0.000015, IRP: 0.000000, Welfare: 0.251117\n",
      "2019-01-22 14:50:29,086:INFO:TEST BATCH-141: t = 3.8981, Revenue: 0.168063, Regret: 0.000022, IRP: 0.000000, Welfare: 0.247750\n",
      "2019-01-22 14:50:29,091:INFO:TEST BATCH-142: t = 3.9009, Revenue: 0.165300, Regret: 0.000032, IRP: 0.000000, Welfare: 0.244350\n",
      "2019-01-22 14:50:29,096:INFO:TEST BATCH-143: t = 3.9036, Revenue: 0.162528, Regret: 0.000005, IRP: 0.000000, Welfare: 0.240917\n",
      "2019-01-22 14:50:29,101:INFO:TEST BATCH-144: t = 3.9064, Revenue: 0.159747, Regret: 0.000020, IRP: 0.000000, Welfare: 0.237453\n",
      "2019-01-22 14:50:29,105:INFO:TEST BATCH-145: t = 3.9091, Revenue: 0.156959, Regret: 0.000010, IRP: 0.000000, Welfare: 0.233957\n",
      "2019-01-22 14:50:29,110:INFO:TEST BATCH-146: t = 3.9119, Revenue: 0.154165, Regret: 0.000001, IRP: 0.000000, Welfare: 0.230431\n",
      "2019-01-22 14:50:29,115:INFO:TEST BATCH-147: t = 3.9146, Revenue: 0.151364, Regret: 0.000020, IRP: 0.000000, Welfare: 0.226875\n",
      "2019-01-22 14:50:29,119:INFO:TEST BATCH-148: t = 3.9174, Revenue: 0.148558, Regret: 0.000000, IRP: 0.000000, Welfare: 0.223289\n",
      "2019-01-22 14:50:29,125:INFO:TEST BATCH-149: t = 3.9209, Revenue: 0.145747, Regret: 0.000006, IRP: 0.000000, Welfare: 0.219674\n",
      "2019-01-22 14:50:29,129:INFO:TEST BATCH-150: t = 3.9236, Revenue: 0.142931, Regret: 0.000004, IRP: 0.000000, Welfare: 0.216030\n",
      "2019-01-22 14:50:29,134:INFO:TEST BATCH-151: t = 3.9266, Revenue: 0.140111, Regret: 0.000008, IRP: 0.000000, Welfare: 0.212358\n",
      "2019-01-22 14:50:29,139:INFO:TEST BATCH-152: t = 3.9299, Revenue: 0.137288, Regret: 0.000000, IRP: 0.000000, Welfare: 0.208657\n",
      "2019-01-22 14:50:29,144:INFO:TEST BATCH-153: t = 3.9327, Revenue: 0.134461, Regret: 0.000007, IRP: 0.000000, Welfare: 0.204929\n",
      "2019-01-22 14:50:29,148:INFO:TEST BATCH-154: t = 3.9359, Revenue: 0.131631, Regret: 0.000000, IRP: 0.000000, Welfare: 0.201173\n",
      "2019-01-22 14:50:29,153:INFO:TEST BATCH-155: t = 3.9391, Revenue: 0.128798, Regret: 0.000000, IRP: 0.000000, Welfare: 0.197389\n",
      "2019-01-22 14:50:29,158:INFO:TEST BATCH-156: t = 3.9420, Revenue: 0.125962, Regret: 0.000000, IRP: 0.000000, Welfare: 0.193578\n",
      "2019-01-22 14:50:29,163:INFO:TEST BATCH-157: t = 3.9451, Revenue: 0.123124, Regret: 0.000000, IRP: 0.000000, Welfare: 0.189740\n",
      "2019-01-22 14:50:29,167:INFO:TEST BATCH-158: t = 3.9483, Revenue: 0.120283, Regret: 0.000029, IRP: 0.000000, Welfare: 0.185875\n",
      "2019-01-22 14:50:29,172:INFO:TEST BATCH-159: t = 3.9511, Revenue: 0.117440, Regret: 0.000000, IRP: 0.000000, Welfare: 0.181983\n",
      "2019-01-22 14:50:29,177:INFO:TEST BATCH-160: t = 3.9542, Revenue: 0.114596, Regret: 0.000011, IRP: 0.000000, Welfare: 0.178064\n",
      "2019-01-22 14:50:29,182:INFO:TEST BATCH-161: t = 3.9574, Revenue: 0.111749, Regret: 0.000002, IRP: 0.000000, Welfare: 0.174118\n",
      "2019-01-22 14:50:29,186:INFO:TEST BATCH-162: t = 3.9604, Revenue: 0.108900, Regret: 0.000002, IRP: 0.000000, Welfare: 0.170146\n",
      "2019-01-22 14:50:29,191:INFO:TEST BATCH-163: t = 3.9634, Revenue: 0.106050, Regret: 0.000000, IRP: 0.000000, Welfare: 0.166148\n",
      "2019-01-22 14:50:29,196:INFO:TEST BATCH-164: t = 3.9666, Revenue: 0.103199, Regret: 0.000000, IRP: 0.000000, Welfare: 0.162123\n",
      "2019-01-22 14:50:29,201:INFO:TEST BATCH-165: t = 3.9701, Revenue: 0.100346, Regret: 0.000002, IRP: 0.000000, Welfare: 0.158071\n",
      "2019-01-22 14:50:29,206:INFO:TEST BATCH-166: t = 3.9730, Revenue: 0.097491, Regret: 0.000000, IRP: 0.000000, Welfare: 0.153994\n",
      "2019-01-22 14:50:29,211:INFO:TEST BATCH-167: t = 3.9767, Revenue: 0.094635, Regret: 0.000002, IRP: 0.000000, Welfare: 0.149889\n",
      "2019-01-22 14:50:29,216:INFO:TEST BATCH-168: t = 3.9796, Revenue: 0.091778, Regret: 0.000000, IRP: 0.000000, Welfare: 0.145759\n",
      "2019-01-22 14:50:29,221:INFO:TEST BATCH-169: t = 3.9831, Revenue: 0.088919, Regret: 0.000000, IRP: 0.000000, Welfare: 0.141603\n",
      "2019-01-22 14:50:29,225:INFO:TEST BATCH-170: t = 3.9860, Revenue: 0.086059, Regret: 0.000000, IRP: 0.000000, Welfare: 0.137420\n",
      "2019-01-22 14:50:29,230:INFO:TEST BATCH-171: t = 3.9891, Revenue: 0.083199, Regret: 0.000000, IRP: 0.000000, Welfare: 0.133212\n",
      "2019-01-22 14:50:29,235:INFO:TEST BATCH-172: t = 3.9919, Revenue: 0.080337, Regret: 0.000000, IRP: 0.000000, Welfare: 0.128977\n",
      "2019-01-22 14:50:29,240:INFO:TEST BATCH-173: t = 3.9956, Revenue: 0.077474, Regret: 0.000000, IRP: 0.000000, Welfare: 0.124717\n",
      "2019-01-22 14:50:29,245:INFO:TEST BATCH-174: t = 3.9985, Revenue: 0.074610, Regret: 0.000000, IRP: 0.000000, Welfare: 0.120430\n",
      "2019-01-22 14:50:29,250:INFO:TEST BATCH-175: t = 4.0020, Revenue: 0.071746, Regret: 0.000000, IRP: 0.000000, Welfare: 0.116118\n",
      "2019-01-22 14:50:29,255:INFO:TEST BATCH-176: t = 4.0053, Revenue: 0.068881, Regret: 0.000000, IRP: 0.000000, Welfare: 0.111779\n",
      "2019-01-22 14:50:29,259:INFO:TEST BATCH-177: t = 4.0084, Revenue: 0.066014, Regret: 0.000000, IRP: 0.000000, Welfare: 0.107415\n",
      "2019-01-22 14:50:29,264:INFO:TEST BATCH-178: t = 4.0113, Revenue: 0.063148, Regret: 0.000000, IRP: 0.000000, Welfare: 0.103025\n",
      "2019-01-22 14:50:29,269:INFO:TEST BATCH-179: t = 4.0144, Revenue: 0.060280, Regret: 0.000000, IRP: 0.000000, Welfare: 0.098610\n",
      "2019-01-22 14:50:29,274:INFO:TEST BATCH-180: t = 4.0174, Revenue: 0.057412, Regret: 0.000000, IRP: 0.000000, Welfare: 0.094168\n",
      "2019-01-22 14:50:29,278:INFO:TEST BATCH-181: t = 4.0204, Revenue: 0.054544, Regret: 0.000000, IRP: 0.000000, Welfare: 0.089702\n",
      "2019-01-22 14:50:29,283:INFO:TEST BATCH-182: t = 4.0240, Revenue: 0.051675, Regret: 0.000000, IRP: 0.000000, Welfare: 0.085209\n",
      "2019-01-22 14:50:29,288:INFO:TEST BATCH-183: t = 4.0269, Revenue: 0.048806, Regret: 0.000000, IRP: 0.000000, Welfare: 0.080691\n",
      "2019-01-22 14:50:29,293:INFO:TEST BATCH-184: t = 4.0305, Revenue: 0.045936, Regret: 0.000000, IRP: 0.000000, Welfare: 0.076148\n",
      "2019-01-22 14:50:29,298:INFO:TEST BATCH-185: t = 4.0336, Revenue: 0.043066, Regret: 0.000000, IRP: 0.000000, Welfare: 0.071579\n",
      "2019-01-22 14:50:29,303:INFO:TEST BATCH-186: t = 4.0365, Revenue: 0.040196, Regret: 0.000000, IRP: 0.000000, Welfare: 0.066984\n",
      "2019-01-22 14:50:29,307:INFO:TEST BATCH-187: t = 4.0397, Revenue: 0.037326, Regret: 0.000000, IRP: 0.000000, Welfare: 0.062365\n",
      "2019-01-22 14:50:29,312:INFO:TEST BATCH-188: t = 4.0429, Revenue: 0.034455, Regret: 0.000000, IRP: 0.000000, Welfare: 0.057719\n",
      "2019-01-22 14:50:29,317:INFO:TEST BATCH-189: t = 4.0458, Revenue: 0.031584, Regret: 0.000000, IRP: 0.000000, Welfare: 0.053049\n",
      "2019-01-22 14:50:29,321:INFO:TEST BATCH-190: t = 4.0487, Revenue: 0.028713, Regret: 0.000000, IRP: 0.000000, Welfare: 0.048353\n",
      "2019-01-22 14:50:29,327:INFO:TEST BATCH-191: t = 4.0524, Revenue: 0.025842, Regret: 0.000000, IRP: 0.000000, Welfare: 0.043632\n",
      "2019-01-22 14:50:29,331:INFO:TEST BATCH-192: t = 4.0552, Revenue: 0.022971, Regret: 0.000000, IRP: 0.000000, Welfare: 0.038885\n",
      "2019-01-22 14:50:29,336:INFO:TEST BATCH-193: t = 4.0583, Revenue: 0.020100, Regret: 0.000000, IRP: 0.000000, Welfare: 0.034113\n",
      "2019-01-22 14:50:29,341:INFO:TEST BATCH-194: t = 4.0616, Revenue: 0.017229, Regret: 0.000000, IRP: 0.000000, Welfare: 0.029316\n"
     ]
    },
    {
     "name": "stderr",
     "output_type": "stream",
     "text": [
      "2019-01-22 14:50:29,346:INFO:TEST BATCH-195: t = 4.0645, Revenue: 0.014357, Regret: 0.000000, IRP: 0.000000, Welfare: 0.024493\n",
      "2019-01-22 14:50:29,350:INFO:TEST BATCH-196: t = 4.0676, Revenue: 0.011486, Regret: 0.000000, IRP: 0.000000, Welfare: 0.019645\n",
      "2019-01-22 14:50:29,355:INFO:TEST BATCH-197: t = 4.0709, Revenue: 0.008614, Regret: 0.000000, IRP: 0.000000, Welfare: 0.014772\n",
      "2019-01-22 14:50:29,360:INFO:TEST BATCH-198: t = 4.0738, Revenue: 0.005743, Regret: 0.000000, IRP: 0.000000, Welfare: 0.009873\n",
      "2019-01-22 14:50:29,365:INFO:TEST BATCH-199: t = 4.0769, Revenue: 0.002872, Regret: 0.000000, IRP: 0.000000, Welfare: 0.004949\n",
      "2019-01-22 14:50:29,370:INFO:TEST BATCH-200: t = 4.0801, Revenue: 0.000000, Regret: 0.000000, IRP: 0.000000, Welfare: 0.000000\n",
      "2019-01-22 14:50:29,371:INFO:TEST ALL-400000: t = 4.0801, Revenue: 0.196185, Regret: 0.000030, IRP: 0.000000, Welfare: 0.272110\n"
     ]
    },
    {
     "name": "stdout",
     "output_type": "stream",
     "text": [
      "DEBUG: xsum = 13333.000000\n"
     ]
    }
   ],
   "source": [
    "net = Net(cfg)\n",
    "generator = Generator(cfg, 'test', X_tst)\n",
    "clip_op_lambda = (lambda x: tf.assign(x, tf.clip_by_value(x, 0.0, 1.0)))\n",
    "m = Trainer(cfg, \"test\", net, clip_op_lambda)\n",
    "m.test(generator)"
   ]
  },
  {
   "cell_type": "code",
   "execution_count": 5,
   "metadata": {
    "collapsed": true
   },
   "outputs": [],
   "source": [
    "alloc = np.load(os.path.join(cfg.dir_name, \"alloc_tst_\" + str(cfg.test.restore_iter) + \".npy\")).reshape(D,D,2)\n",
    "pay = np.load(os.path.join(cfg.dir_name, \"pay_tst_\" + str(cfg.test.restore_iter) + \".npy\")).reshape(D,D,1)"
   ]
  },
  {
   "cell_type": "code",
   "execution_count": 6,
   "metadata": {
    "collapsed": true
   },
   "outputs": [],
   "source": [
    "from copy import copy\n",
    "palette = copy(plt.cm.YlOrRd)\n",
    "palette.set_over('w')\n",
    "x = np.linspace(0, 1.0, D)\n",
    "m = np.stack([v.flatten() for v in np.meshgrid(x,x)], axis = -1).reshape(D,D,2)\n",
    "mask = m.sum(-1)>1.0"
   ]
  },
  {
   "cell_type": "code",
   "execution_count": 7,
   "metadata": {},
   "outputs": [
    {
     "data": {
      "image/png": "[encoded data removed]",
      "text/plain": [
       "<matplotlib.figure.Figure at 0x2b52908bcfd0>"
      ]
     },
     "metadata": {},
     "output_type": "display_data"
    }
   ],
   "source": [
    "x1 = np.sqrt(1.0/3.0)\n",
    "points = [(x1, 0), (0, x1)]\n",
    "x = list(map(lambda x: x[0], points))\n",
    "y = list(map(lambda x: x[1], points))\n",
    "\n",
    "fig, ax = plt.subplots(ncols = 1, nrows = 1, figsize=(8,6))\n",
    "plt.plot(x, y, linewidth = 2, linestyle = '--', c='black')\n",
    "\n",
    "plt.axis([0, 1.0, 0, 1.0])\n",
    "plt.plot(x, y, linewidth = 2, linestyle = '--', c='black')\n",
    "a1 = alloc[:, :, 0]\n",
    "a1[mask] = 10.0\n",
    "img = ax.imshow(a1[::-1,:], extent=[0,1,0,1], vmin = 0.0, vmax=1.0, cmap = palette)\n",
    "\n",
    "plt.text(0.15, 0.15, s='0', color='black', fontsize='10', fontweight='bold')\n",
    "plt.text(0.4, 0.4, s='1', color='black', fontsize='10', fontweight='bold')\n",
    "\n",
    "ax.set_xlabel('$v_1$')\n",
    "ax.set_ylabel('$v_2$')\n",
    "plt.title('Prob. of allocating item 1')\n",
    "_ = plt.colorbar(img, fraction=0.046, pad=0.04)\n",
    "if save_plot:\n",
    "    fig.set_size_inches(4, 3)\n",
    "    plt.savefig(os.path.join(cfg.dir_name, 'alloc1.pdf'), bbox_inches = 'tight', pad_inches = 0.05)"
   ]
  },
  {
   "cell_type": "code",
   "execution_count": 8,
   "metadata": {},
   "outputs": [
    {
     "data": {
      "image/png": "[encoded data removed]",
      "text/plain": [
       "<matplotlib.figure.Figure at 0x2b52fe339d10>"
      ]
     },
     "metadata": {},
     "output_type": "display_data"
    }
   ],
   "source": [
    "x1 = np.sqrt(1.0/3.0)\n",
    "points = [(x1, 0), (0, x1)]\n",
    "x = list(map(lambda x: x[0], points))\n",
    "y = list(map(lambda x: x[1], points))\n",
    "\n",
    "fig, ax = plt.subplots(ncols = 1, nrows = 1, figsize=(8,6))\n",
    "\n",
    "plt.axis([0, 1.0, 0, 1.0])\n",
    "plt.plot(x, y, linewidth = 2, linestyle = '--', c='black')\n",
    "a2 = alloc[:, :, 1]\n",
    "a2[mask] = 10.0\n",
    "img = ax.imshow(a2[::-1, :], extent=[0,1,0,1], vmin = 0.0, vmax=1.0, cmap = palette)\n",
    "\n",
    "\n",
    "plt.text(0.15, 0.15, s='0', color='black', fontsize='10', fontweight='bold')\n",
    "plt.text(0.4, 0.4, s='1', color='black', fontsize='10', fontweight='bold')\n",
    "\n",
    "ax.set_xlabel('$v_1$')\n",
    "ax.set_ylabel('$v_2$')\n",
    "plt.title('Prob. of allocating item 2')\n",
    "_ = plt.colorbar(img, fraction=0.046, pad=0.04)\n",
    "if save_plot:\n",
    "    fig.set_size_inches(4, 3)\n",
    "    plt.savefig(os.path.join(cfg.dir_name, 'alloc2.pdf'), bbox_inches = 'tight', pad_inches = 0.05)"
   ]
  },
  {
   "cell_type": "code",
   "execution_count": null,
   "metadata": {
    "collapsed": true
   },
   "outputs": [],
   "source": []
  }
 ],
 "metadata": {
  "kernelspec": {
   "display_name": "Python 2",
   "language": "python",
   "name": "python2"
  },
  "language_info": {
   "codemirror_mode": {
    "name": "ipython",
    "version": 2
   },
   "file_extension": ".py",
   "mimetype": "text/x-python",
   "name": "python",
   "nbconvert_exporter": "python",
   "pygments_lexer": "ipython2",
   "version": "2.7.13"
  }
 },
 "nbformat": 4,
 "nbformat_minor": 2
}
