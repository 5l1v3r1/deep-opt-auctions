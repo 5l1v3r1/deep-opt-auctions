{
 "cells": [
  {
   "cell_type": "code",
   "execution_count": 1,
   "metadata": {
    "collapsed": true
   },
   "outputs": [],
   "source": [
    "from __future__ import absolute_import\n",
    "from __future__ import division\n",
    "from __future__ import print_function\n",
    "\n",
    "import os\n",
    "import sys\n",
    "import numpy as np\n",
    "import tensorflow as tf\n",
    "import matplotlib.pyplot as plt\n",
    "\n",
    "from nets import *\n",
    "from cfgs import *\n",
    "from data import *\n",
    "from trainer import *"
   ]
  },
  {
   "cell_type": "code",
   "execution_count": 2,
   "metadata": {},
   "outputs": [
    {
     "name": "stdout",
     "output_type": "stream",
     "text": [
      "(40401, 2)\n"
     ]
    }
   ],
   "source": [
    "%matplotlib inline\n",
    "save_plot = False\n",
    "plt.rcParams.update({'font.size': 10, 'axes.labelsize': 'x-large'})\n",
    "D = 201\n",
    "\n",
    "x = np.linspace(0, 1.0, D)\n",
    "X_tst = np.stack([v.flatten() for v in np.meshgrid(x,x)], axis = -1)\n",
    "print(X_tst.shape)\n",
    "\n",
    "cfg = unit_1x2_uniform_config.cfg\n",
    "cfg.test.batch_size = D\n",
    "cfg.test.num_batches = int(X_tst.shape[0]/cfg.test.batch_size)\n",
    "cfg.test.save_output = True"
   ]
  },
  {
   "cell_type": "code",
   "execution_count": 3,
   "metadata": {
    "collapsed": true
   },
   "outputs": [],
   "source": [
    "Net = unit_net.Net\n",
    "Generator = uniform_01_generator.Generator\n",
    "Trainer = trainer.Trainer"
   ]
  },
  {
   "cell_type": "code",
   "execution_count": 4,
   "metadata": {},
   "outputs": [
    {
     "name": "stdout",
     "output_type": "stream",
     "text": [
      "INFO:tensorflow:Restoring parameters from experiments/unit_1x2_uniform/model-400000\n"
     ]
    },
    {
     "name": "stderr",
     "output_type": "stream",
     "text": [
      "2019-01-30 01:07:25,476:INFO:Restoring parameters from experiments/unit_1x2_uniform/model-400000\n",
      "2019-01-30 01:07:29,031:INFO:TEST BATCH-0: t = 3.5205, Net_Loss: -0.246150, Revenue: 0.246150\n",
      "2019-01-30 01:07:29,035:INFO:TEST BATCH-1: t = 3.5224, Net_Loss: -0.246150, Revenue: 0.246150\n",
      "2019-01-30 01:07:29,039:INFO:TEST BATCH-2: t = 3.5243, Net_Loss: -0.246150, Revenue: 0.246150\n",
      "2019-01-30 01:07:29,043:INFO:TEST BATCH-3: t = 3.5262, Net_Loss: -0.246150, Revenue: 0.246150\n",
      "2019-01-30 01:07:29,047:INFO:TEST BATCH-4: t = 3.5281, Net_Loss: -0.246150, Revenue: 0.246150\n",
      "2019-01-30 01:07:29,051:INFO:TEST BATCH-5: t = 3.5300, Net_Loss: -0.246150, Revenue: 0.246150\n",
      "2019-01-30 01:07:29,056:INFO:TEST BATCH-6: t = 3.5328, Net_Loss: -0.246150, Revenue: 0.246150\n",
      "2019-01-30 01:07:29,061:INFO:TEST BATCH-7: t = 3.5350, Net_Loss: -0.246150, Revenue: 0.246150\n",
      "2019-01-30 01:07:29,065:INFO:TEST BATCH-8: t = 3.5371, Net_Loss: -0.246150, Revenue: 0.246150\n",
      "2019-01-30 01:07:29,069:INFO:TEST BATCH-9: t = 3.5391, Net_Loss: -0.246150, Revenue: 0.246150\n",
      "2019-01-30 01:07:29,075:INFO:TEST BATCH-10: t = 3.5411, Net_Loss: -0.246150, Revenue: 0.246150\n",
      "2019-01-30 01:07:29,081:INFO:TEST BATCH-11: t = 3.5432, Net_Loss: -0.246150, Revenue: 0.246150\n",
      "2019-01-30 01:07:29,086:INFO:TEST BATCH-12: t = 3.5465, Net_Loss: -0.246150, Revenue: 0.246150\n",
      "2019-01-30 01:07:29,091:INFO:TEST BATCH-13: t = 3.5494, Net_Loss: -0.246150, Revenue: 0.246150\n",
      "2019-01-30 01:07:29,096:INFO:TEST BATCH-14: t = 3.5519, Net_Loss: -0.246150, Revenue: 0.246150\n",
      "2019-01-30 01:07:29,101:INFO:TEST BATCH-15: t = 3.5541, Net_Loss: -0.246150, Revenue: 0.246150\n",
      "2019-01-30 01:07:29,105:INFO:TEST BATCH-16: t = 3.5561, Net_Loss: -0.246150, Revenue: 0.246150\n",
      "2019-01-30 01:07:29,109:INFO:TEST BATCH-17: t = 3.5580, Net_Loss: -0.246150, Revenue: 0.246150\n",
      "2019-01-30 01:07:29,113:INFO:TEST BATCH-18: t = 3.5598, Net_Loss: -0.246150, Revenue: 0.246150\n",
      "2019-01-30 01:07:29,117:INFO:TEST BATCH-19: t = 3.5621, Net_Loss: -0.246150, Revenue: 0.246150\n",
      "2019-01-30 01:07:29,122:INFO:TEST BATCH-20: t = 3.5641, Net_Loss: -0.246150, Revenue: 0.246150\n",
      "2019-01-30 01:07:29,126:INFO:TEST BATCH-21: t = 3.5664, Net_Loss: -0.246150, Revenue: 0.246150\n",
      "2019-01-30 01:07:29,131:INFO:TEST BATCH-22: t = 3.5684, Net_Loss: -0.246150, Revenue: 0.246150\n",
      "2019-01-30 01:07:29,136:INFO:TEST BATCH-23: t = 3.5705, Net_Loss: -0.246150, Revenue: 0.246150\n",
      "2019-01-30 01:07:29,140:INFO:TEST BATCH-24: t = 3.5728, Net_Loss: -0.246150, Revenue: 0.246150\n",
      "2019-01-30 01:07:29,145:INFO:TEST BATCH-25: t = 3.5758, Net_Loss: -0.246150, Revenue: 0.246150\n",
      "2019-01-30 01:07:29,154:INFO:TEST BATCH-26: t = 3.5836, Net_Loss: -0.246150, Revenue: 0.246150\n",
      "2019-01-30 01:07:29,158:INFO:TEST BATCH-27: t = 3.5862, Net_Loss: -0.246150, Revenue: 0.246150\n",
      "2019-01-30 01:07:29,164:INFO:TEST BATCH-28: t = 3.5919, Net_Loss: -0.246150, Revenue: 0.246150\n",
      "2019-01-30 01:07:29,169:INFO:TEST BATCH-29: t = 3.5954, Net_Loss: -0.246150, Revenue: 0.246150\n",
      "2019-01-30 01:07:29,173:INFO:TEST BATCH-30: t = 3.5983, Net_Loss: -0.246150, Revenue: 0.246150\n",
      "2019-01-30 01:07:29,178:INFO:TEST BATCH-31: t = 3.6016, Net_Loss: -0.246150, Revenue: 0.246150\n",
      "2019-01-30 01:07:29,182:INFO:TEST BATCH-32: t = 3.6041, Net_Loss: -0.246150, Revenue: 0.246150\n",
      "2019-01-30 01:07:29,187:INFO:TEST BATCH-33: t = 3.6074, Net_Loss: -0.246150, Revenue: 0.246150\n",
      "2019-01-30 01:07:29,191:INFO:TEST BATCH-34: t = 3.6113, Net_Loss: -0.246150, Revenue: 0.246150\n",
      "2019-01-30 01:07:29,196:INFO:TEST BATCH-35: t = 3.6148, Net_Loss: -0.246150, Revenue: 0.246150\n",
      "2019-01-30 01:07:29,200:INFO:TEST BATCH-36: t = 3.6180, Net_Loss: -0.246150, Revenue: 0.246150\n",
      "2019-01-30 01:07:29,204:INFO:TEST BATCH-37: t = 3.6207, Net_Loss: -0.246150, Revenue: 0.246150\n",
      "2019-01-30 01:07:29,208:INFO:TEST BATCH-38: t = 3.6234, Net_Loss: -0.246150, Revenue: 0.246150\n",
      "2019-01-30 01:07:29,212:INFO:TEST BATCH-39: t = 3.6266, Net_Loss: -0.246150, Revenue: 0.246150\n",
      "2019-01-30 01:07:29,217:INFO:TEST BATCH-40: t = 3.6289, Net_Loss: -0.246150, Revenue: 0.246150\n",
      "2019-01-30 01:07:29,222:INFO:TEST BATCH-41: t = 3.6314, Net_Loss: -0.246150, Revenue: 0.246150\n",
      "2019-01-30 01:07:29,227:INFO:TEST BATCH-42: t = 3.6345, Net_Loss: -0.246150, Revenue: 0.246150\n",
      "2019-01-30 01:07:29,232:INFO:TEST BATCH-43: t = 3.6394, Net_Loss: -0.246150, Revenue: 0.246150\n",
      "2019-01-30 01:07:29,238:INFO:TEST BATCH-44: t = 3.6439, Net_Loss: -0.246150, Revenue: 0.246150\n",
      "2019-01-30 01:07:29,245:INFO:TEST BATCH-45: t = 3.6478, Net_Loss: -0.246150, Revenue: 0.246150\n",
      "2019-01-30 01:07:29,249:INFO:TEST BATCH-46: t = 3.6510, Net_Loss: -0.246150, Revenue: 0.246150\n",
      "2019-01-30 01:07:29,252:INFO:TEST BATCH-47: t = 3.6536, Net_Loss: -0.246150, Revenue: 0.246150\n",
      "2019-01-30 01:07:29,257:INFO:TEST BATCH-48: t = 3.6565, Net_Loss: -0.246150, Revenue: 0.246150\n",
      "2019-01-30 01:07:29,260:INFO:TEST BATCH-49: t = 3.6584, Net_Loss: -0.246150, Revenue: 0.246150\n",
      "2019-01-30 01:07:29,265:INFO:TEST BATCH-50: t = 3.6618, Net_Loss: -0.246150, Revenue: 0.246150\n",
      "2019-01-30 01:07:29,270:INFO:TEST BATCH-51: t = 3.6648, Net_Loss: -0.246150, Revenue: 0.246150\n",
      "2019-01-30 01:07:29,274:INFO:TEST BATCH-52: t = 3.6677, Net_Loss: -0.246150, Revenue: 0.246150\n",
      "2019-01-30 01:07:29,279:INFO:TEST BATCH-53: t = 3.6711, Net_Loss: -0.246150, Revenue: 0.246150\n",
      "2019-01-30 01:07:29,284:INFO:TEST BATCH-54: t = 3.6754, Net_Loss: -0.246150, Revenue: 0.246150\n",
      "2019-01-30 01:07:29,289:INFO:TEST BATCH-55: t = 3.6790, Net_Loss: -0.246150, Revenue: 0.246150\n",
      "2019-01-30 01:07:29,292:INFO:TEST BATCH-56: t = 3.6818, Net_Loss: -0.246150, Revenue: 0.246150\n",
      "2019-01-30 01:07:29,297:INFO:TEST BATCH-57: t = 3.6851, Net_Loss: -0.246150, Revenue: 0.246150\n",
      "2019-01-30 01:07:29,301:INFO:TEST BATCH-58: t = 3.6885, Net_Loss: -0.246150, Revenue: 0.246150\n",
      "2019-01-30 01:07:29,306:INFO:TEST BATCH-59: t = 3.6918, Net_Loss: -0.246150, Revenue: 0.246150\n",
      "2019-01-30 01:07:29,310:INFO:TEST BATCH-60: t = 3.6947, Net_Loss: -0.246150, Revenue: 0.246150\n",
      "2019-01-30 01:07:29,314:INFO:TEST BATCH-61: t = 3.6978, Net_Loss: -0.246150, Revenue: 0.246150\n",
      "2019-01-30 01:07:29,319:INFO:TEST BATCH-62: t = 3.7012, Net_Loss: -0.246150, Revenue: 0.246150\n",
      "2019-01-30 01:07:29,323:INFO:TEST BATCH-63: t = 3.7049, Net_Loss: -0.246150, Revenue: 0.246150\n",
      "2019-01-30 01:07:29,327:INFO:TEST BATCH-64: t = 3.7081, Net_Loss: -0.246150, Revenue: 0.246150\n",
      "2019-01-30 01:07:29,331:INFO:TEST BATCH-65: t = 3.7115, Net_Loss: -0.246150, Revenue: 0.246150\n",
      "2019-01-30 01:07:29,339:INFO:TEST BATCH-66: t = 3.7180, Net_Loss: -0.246150, Revenue: 0.246150\n",
      "2019-01-30 01:07:29,344:INFO:TEST BATCH-67: t = 3.7201, Net_Loss: -0.246150, Revenue: 0.246150\n",
      "2019-01-30 01:07:29,352:INFO:TEST BATCH-68: t = 3.7260, Net_Loss: -0.246150, Revenue: 0.246150\n",
      "2019-01-30 01:07:29,362:INFO:TEST BATCH-69: t = 3.7345, Net_Loss: -0.246150, Revenue: 0.246150\n",
      "2019-01-30 01:07:29,369:INFO:TEST BATCH-70: t = 3.7385, Net_Loss: -0.246150, Revenue: 0.246150\n",
      "2019-01-30 01:07:29,374:INFO:TEST BATCH-71: t = 3.7423, Net_Loss: -0.246150, Revenue: 0.246150\n",
      "2019-01-30 01:07:29,387:INFO:TEST BATCH-72: t = 3.7543, Net_Loss: -0.246150, Revenue: 0.246150\n",
      "2019-01-30 01:07:29,392:INFO:TEST BATCH-73: t = 3.7569, Net_Loss: -0.246150, Revenue: 0.246150\n",
      "2019-01-30 01:07:29,397:INFO:TEST BATCH-74: t = 3.7614, Net_Loss: -0.246150, Revenue: 0.246150\n",
      "2019-01-30 01:07:29,403:INFO:TEST BATCH-75: t = 3.7651, Net_Loss: -0.246150, Revenue: 0.246150\n",
      "2019-01-30 01:07:29,407:INFO:TEST BATCH-76: t = 3.7672, Net_Loss: -0.246150, Revenue: 0.246150\n",
      "2019-01-30 01:07:29,412:INFO:TEST BATCH-77: t = 3.7705, Net_Loss: -0.246150, Revenue: 0.246150\n",
      "2019-01-30 01:07:29,418:INFO:TEST BATCH-78: t = 3.7729, Net_Loss: -0.246150, Revenue: 0.246150\n",
      "2019-01-30 01:07:29,423:INFO:TEST BATCH-79: t = 3.7770, Net_Loss: -0.246150, Revenue: 0.246150\n",
      "2019-01-30 01:07:29,427:INFO:TEST BATCH-80: t = 3.7805, Net_Loss: -0.246150, Revenue: 0.246150\n",
      "2019-01-30 01:07:29,431:INFO:TEST BATCH-81: t = 3.7834, Net_Loss: -0.246150, Revenue: 0.246150\n",
      "2019-01-30 01:07:29,435:INFO:TEST BATCH-82: t = 3.7859, Net_Loss: -0.246150, Revenue: 0.246150\n",
      "2019-01-30 01:07:29,441:INFO:TEST BATCH-83: t = 3.7904, Net_Loss: -0.246150, Revenue: 0.246150\n",
      "2019-01-30 01:07:29,447:INFO:TEST BATCH-84: t = 3.7939, Net_Loss: -0.246150, Revenue: 0.246150\n",
      "2019-01-30 01:07:29,451:INFO:TEST BATCH-85: t = 3.7973, Net_Loss: -0.246150, Revenue: 0.246150\n"
     ]
    },
    {
     "name": "stderr",
     "output_type": "stream",
     "text": [
      "2019-01-30 01:07:29,459:INFO:TEST BATCH-86: t = 3.8046, Net_Loss: -0.246150, Revenue: 0.246150\n",
      "2019-01-30 01:07:29,463:INFO:TEST BATCH-87: t = 3.8079, Net_Loss: -0.246150, Revenue: 0.246150\n",
      "2019-01-30 01:07:29,468:INFO:TEST BATCH-88: t = 3.8115, Net_Loss: -0.246150, Revenue: 0.246150\n",
      "2019-01-30 01:07:29,476:INFO:TEST BATCH-89: t = 3.8193, Net_Loss: -0.246150, Revenue: 0.246150\n",
      "2019-01-30 01:07:29,483:INFO:TEST BATCH-90: t = 3.8221, Net_Loss: -0.246150, Revenue: 0.246150\n",
      "2019-01-30 01:07:29,487:INFO:TEST BATCH-91: t = 3.8251, Net_Loss: -0.246150, Revenue: 0.246150\n",
      "2019-01-30 01:07:29,492:INFO:TEST BATCH-92: t = 3.8276, Net_Loss: -0.246150, Revenue: 0.246150\n",
      "2019-01-30 01:07:29,496:INFO:TEST BATCH-93: t = 3.8306, Net_Loss: -0.246150, Revenue: 0.246150\n",
      "2019-01-30 01:07:29,500:INFO:TEST BATCH-94: t = 3.8334, Net_Loss: -0.246150, Revenue: 0.246150\n",
      "2019-01-30 01:07:29,504:INFO:TEST BATCH-95: t = 3.8365, Net_Loss: -0.246150, Revenue: 0.246150\n",
      "2019-01-30 01:07:29,508:INFO:TEST BATCH-96: t = 3.8397, Net_Loss: -0.246150, Revenue: 0.246150\n",
      "2019-01-30 01:07:29,513:INFO:TEST BATCH-97: t = 3.8431, Net_Loss: -0.246150, Revenue: 0.246150\n",
      "2019-01-30 01:07:29,517:INFO:TEST BATCH-98: t = 3.8464, Net_Loss: -0.246150, Revenue: 0.246150\n",
      "2019-01-30 01:07:29,521:INFO:TEST BATCH-99: t = 3.8497, Net_Loss: -0.246150, Revenue: 0.246150\n",
      "2019-01-30 01:07:29,526:INFO:TEST BATCH-100: t = 3.8546, Net_Loss: -0.246150, Revenue: 0.246150\n",
      "2019-01-30 01:07:29,531:INFO:TEST BATCH-101: t = 3.8575, Net_Loss: -0.246150, Revenue: 0.246150\n",
      "2019-01-30 01:07:29,535:INFO:TEST BATCH-102: t = 3.8604, Net_Loss: -0.246150, Revenue: 0.246150\n",
      "2019-01-30 01:07:29,540:INFO:TEST BATCH-103: t = 3.8639, Net_Loss: -0.246150, Revenue: 0.246150\n",
      "2019-01-30 01:07:29,544:INFO:TEST BATCH-104: t = 3.8666, Net_Loss: -0.246150, Revenue: 0.246150\n",
      "2019-01-30 01:07:29,551:INFO:TEST BATCH-105: t = 3.8722, Net_Loss: -0.246150, Revenue: 0.246150\n",
      "2019-01-30 01:07:29,559:INFO:TEST BATCH-106: t = 3.8802, Net_Loss: -0.246150, Revenue: 0.246150\n",
      "2019-01-30 01:07:29,564:INFO:TEST BATCH-107: t = 3.8836, Net_Loss: -0.246150, Revenue: 0.246150\n",
      "2019-01-30 01:07:29,568:INFO:TEST BATCH-108: t = 3.8866, Net_Loss: -0.246150, Revenue: 0.246150\n",
      "2019-01-30 01:07:29,572:INFO:TEST BATCH-109: t = 3.8903, Net_Loss: -0.246150, Revenue: 0.246150\n",
      "2019-01-30 01:07:29,576:INFO:TEST BATCH-110: t = 3.8929, Net_Loss: -0.246150, Revenue: 0.246150\n",
      "2019-01-30 01:07:29,580:INFO:TEST BATCH-111: t = 3.8961, Net_Loss: -0.246150, Revenue: 0.246150\n",
      "2019-01-30 01:07:29,584:INFO:TEST BATCH-112: t = 3.8996, Net_Loss: -0.246150, Revenue: 0.246150\n",
      "2019-01-30 01:07:29,589:INFO:TEST BATCH-113: t = 3.9024, Net_Loss: -0.246150, Revenue: 0.246150\n",
      "2019-01-30 01:07:29,593:INFO:TEST BATCH-114: t = 3.9059, Net_Loss: -0.246150, Revenue: 0.246150\n",
      "2019-01-30 01:07:29,600:INFO:TEST BATCH-115: t = 3.9108, Net_Loss: -0.571268, Revenue: 0.571268\n",
      "2019-01-30 01:07:29,607:INFO:TEST BATCH-116: t = 3.9171, Net_Loss: -0.571290, Revenue: 0.571290\n",
      "2019-01-30 01:07:29,611:INFO:TEST BATCH-117: t = 3.9196, Net_Loss: -0.571313, Revenue: 0.571313\n",
      "2019-01-30 01:07:29,615:INFO:TEST BATCH-118: t = 3.9230, Net_Loss: -0.571335, Revenue: 0.571335\n",
      "2019-01-30 01:07:29,619:INFO:TEST BATCH-119: t = 3.9265, Net_Loss: -0.571358, Revenue: 0.571358\n",
      "2019-01-30 01:07:29,625:INFO:TEST BATCH-120: t = 3.9304, Net_Loss: -0.571380, Revenue: 0.571380\n",
      "2019-01-30 01:07:29,628:INFO:TEST BATCH-121: t = 3.9334, Net_Loss: -0.571403, Revenue: 0.571403\n",
      "2019-01-30 01:07:29,636:INFO:TEST BATCH-122: t = 3.9396, Net_Loss: -0.571425, Revenue: 0.571425\n",
      "2019-01-30 01:07:29,642:INFO:TEST BATCH-123: t = 3.9425, Net_Loss: -0.571447, Revenue: 0.571447\n",
      "2019-01-30 01:07:29,646:INFO:TEST BATCH-124: t = 3.9451, Net_Loss: -0.571470, Revenue: 0.571470\n",
      "2019-01-30 01:07:29,651:INFO:TEST BATCH-125: t = 3.9496, Net_Loss: -0.571492, Revenue: 0.571492\n",
      "2019-01-30 01:07:29,657:INFO:TEST BATCH-126: t = 3.9542, Net_Loss: -0.571515, Revenue: 0.571515\n",
      "2019-01-30 01:07:29,662:INFO:TEST BATCH-127: t = 3.9583, Net_Loss: -0.571537, Revenue: 0.571537\n",
      "2019-01-30 01:07:29,666:INFO:TEST BATCH-128: t = 3.9607, Net_Loss: -0.571559, Revenue: 0.571559\n",
      "2019-01-30 01:07:29,670:INFO:TEST BATCH-129: t = 3.9644, Net_Loss: -0.571582, Revenue: 0.571582\n",
      "2019-01-30 01:07:29,677:INFO:TEST BATCH-130: t = 3.9682, Net_Loss: -0.571604, Revenue: 0.571604\n",
      "2019-01-30 01:07:29,680:INFO:TEST BATCH-131: t = 3.9701, Net_Loss: -0.571627, Revenue: 0.571627\n",
      "2019-01-30 01:07:29,685:INFO:TEST BATCH-132: t = 3.9746, Net_Loss: -0.571649, Revenue: 0.571649\n",
      "2019-01-30 01:07:29,691:INFO:TEST BATCH-133: t = 3.9785, Net_Loss: -0.571672, Revenue: 0.571672\n",
      "2019-01-30 01:07:29,698:INFO:TEST BATCH-134: t = 3.9842, Net_Loss: -0.571694, Revenue: 0.571694\n",
      "2019-01-30 01:07:29,703:INFO:TEST BATCH-135: t = 3.9890, Net_Loss: -0.571716, Revenue: 0.571716\n",
      "2019-01-30 01:07:29,708:INFO:TEST BATCH-136: t = 3.9923, Net_Loss: -0.571739, Revenue: 0.571739\n",
      "2019-01-30 01:07:29,713:INFO:TEST BATCH-137: t = 3.9967, Net_Loss: -0.571761, Revenue: 0.571761\n",
      "2019-01-30 01:07:29,718:INFO:TEST BATCH-138: t = 4.0009, Net_Loss: -0.571784, Revenue: 0.571784\n",
      "2019-01-30 01:07:29,722:INFO:TEST BATCH-139: t = 4.0044, Net_Loss: -0.571806, Revenue: 0.571806\n",
      "2019-01-30 01:07:29,726:INFO:TEST BATCH-140: t = 4.0073, Net_Loss: -0.571828, Revenue: 0.571828\n",
      "2019-01-30 01:07:29,731:INFO:TEST BATCH-141: t = 4.0115, Net_Loss: -0.571851, Revenue: 0.571851\n",
      "2019-01-30 01:07:29,736:INFO:TEST BATCH-142: t = 4.0161, Net_Loss: -0.571873, Revenue: 0.571873\n",
      "2019-01-30 01:07:29,741:INFO:TEST BATCH-143: t = 4.0200, Net_Loss: -0.571896, Revenue: 0.571896\n",
      "2019-01-30 01:07:29,746:INFO:TEST BATCH-144: t = 4.0241, Net_Loss: -0.571918, Revenue: 0.571918\n",
      "2019-01-30 01:07:29,749:INFO:TEST BATCH-145: t = 4.0271, Net_Loss: -0.571940, Revenue: 0.571940\n",
      "2019-01-30 01:07:29,754:INFO:TEST BATCH-146: t = 4.0301, Net_Loss: -0.571963, Revenue: 0.571963\n",
      "2019-01-30 01:07:29,758:INFO:TEST BATCH-147: t = 4.0328, Net_Loss: -0.571985, Revenue: 0.571985\n",
      "2019-01-30 01:07:29,762:INFO:TEST BATCH-148: t = 4.0367, Net_Loss: -0.572008, Revenue: 0.572008\n",
      "2019-01-30 01:07:29,766:INFO:TEST BATCH-149: t = 4.0399, Net_Loss: -0.572030, Revenue: 0.572030\n",
      "2019-01-30 01:07:29,771:INFO:TEST BATCH-150: t = 4.0425, Net_Loss: -0.572053, Revenue: 0.572053\n",
      "2019-01-30 01:07:29,777:INFO:TEST BATCH-151: t = 4.0468, Net_Loss: -0.572075, Revenue: 0.572075\n",
      "2019-01-30 01:07:29,781:INFO:TEST BATCH-152: t = 4.0507, Net_Loss: -0.572097, Revenue: 0.572097\n",
      "2019-01-30 01:07:29,788:INFO:TEST BATCH-153: t = 4.0542, Net_Loss: -0.572120, Revenue: 0.572120\n",
      "2019-01-30 01:07:29,792:INFO:TEST BATCH-154: t = 4.0568, Net_Loss: -0.572142, Revenue: 0.572142\n",
      "2019-01-30 01:07:29,797:INFO:TEST BATCH-155: t = 4.0601, Net_Loss: -0.572165, Revenue: 0.572165\n",
      "2019-01-30 01:07:29,801:INFO:TEST BATCH-156: t = 4.0636, Net_Loss: -0.572187, Revenue: 0.572187\n",
      "2019-01-30 01:07:29,805:INFO:TEST BATCH-157: t = 4.0667, Net_Loss: -0.572209, Revenue: 0.572209\n",
      "2019-01-30 01:07:29,809:INFO:TEST BATCH-158: t = 4.0700, Net_Loss: -0.572232, Revenue: 0.572232\n",
      "2019-01-30 01:07:29,815:INFO:TEST BATCH-159: t = 4.0754, Net_Loss: -0.572254, Revenue: 0.572254\n",
      "2019-01-30 01:07:29,820:INFO:TEST BATCH-160: t = 4.0793, Net_Loss: -0.572277, Revenue: 0.572277\n",
      "2019-01-30 01:07:29,824:INFO:TEST BATCH-161: t = 4.0826, Net_Loss: -0.572299, Revenue: 0.572299\n",
      "2019-01-30 01:07:29,830:INFO:TEST BATCH-162: t = 4.0880, Net_Loss: -0.572322, Revenue: 0.572322\n",
      "2019-01-30 01:07:29,835:INFO:TEST BATCH-163: t = 4.0914, Net_Loss: -0.572344, Revenue: 0.572344\n",
      "2019-01-30 01:07:29,840:INFO:TEST BATCH-164: t = 4.0952, Net_Loss: -0.572366, Revenue: 0.572366\n",
      "2019-01-30 01:07:29,846:INFO:TEST BATCH-165: t = 4.1006, Net_Loss: -0.572389, Revenue: 0.572389\n",
      "2019-01-30 01:07:29,856:INFO:TEST BATCH-166: t = 4.1084, Net_Loss: -0.572411, Revenue: 0.572411\n",
      "2019-01-30 01:07:29,860:INFO:TEST BATCH-167: t = 4.1112, Net_Loss: -0.572434, Revenue: 0.572434\n",
      "2019-01-30 01:07:29,865:INFO:TEST BATCH-168: t = 4.1156, Net_Loss: -0.572456, Revenue: 0.572456\n",
      "2019-01-30 01:07:29,870:INFO:TEST BATCH-169: t = 4.1191, Net_Loss: -0.572478, Revenue: 0.572478\n",
      "2019-01-30 01:07:29,873:INFO:TEST BATCH-170: t = 4.1218, Net_Loss: -0.572501, Revenue: 0.572501\n",
      "2019-01-30 01:07:29,877:INFO:TEST BATCH-171: t = 4.1249, Net_Loss: -0.572523, Revenue: 0.572523\n"
     ]
    },
    {
     "name": "stderr",
     "output_type": "stream",
     "text": [
      "2019-01-30 01:07:29,880:INFO:TEST BATCH-172: t = 4.1277, Net_Loss: -0.572546, Revenue: 0.572546\n",
      "2019-01-30 01:07:29,888:INFO:TEST BATCH-173: t = 4.1344, Net_Loss: -0.572568, Revenue: 0.572568\n",
      "2019-01-30 01:07:29,892:INFO:TEST BATCH-174: t = 4.1373, Net_Loss: -0.572591, Revenue: 0.572591\n",
      "2019-01-30 01:07:29,897:INFO:TEST BATCH-175: t = 4.1420, Net_Loss: -0.572613, Revenue: 0.572613\n",
      "2019-01-30 01:07:29,900:INFO:TEST BATCH-176: t = 4.1443, Net_Loss: -0.572635, Revenue: 0.572635\n",
      "2019-01-30 01:07:29,905:INFO:TEST BATCH-177: t = 4.1481, Net_Loss: -0.572658, Revenue: 0.572658\n",
      "2019-01-30 01:07:29,910:INFO:TEST BATCH-178: t = 4.1524, Net_Loss: -0.572680, Revenue: 0.572680\n",
      "2019-01-30 01:07:29,915:INFO:TEST BATCH-179: t = 4.1562, Net_Loss: -0.572703, Revenue: 0.572703\n",
      "2019-01-30 01:07:29,920:INFO:TEST BATCH-180: t = 4.1604, Net_Loss: -0.572725, Revenue: 0.572725\n",
      "2019-01-30 01:07:29,924:INFO:TEST BATCH-181: t = 4.1640, Net_Loss: -0.572747, Revenue: 0.572747\n",
      "2019-01-30 01:07:29,928:INFO:TEST BATCH-182: t = 4.1675, Net_Loss: -0.572770, Revenue: 0.572770\n",
      "2019-01-30 01:07:29,932:INFO:TEST BATCH-183: t = 4.1709, Net_Loss: -0.572792, Revenue: 0.572792\n",
      "2019-01-30 01:07:29,937:INFO:TEST BATCH-184: t = 4.1747, Net_Loss: -0.572815, Revenue: 0.572815\n",
      "2019-01-30 01:07:29,942:INFO:TEST BATCH-185: t = 4.1789, Net_Loss: -0.572837, Revenue: 0.572837\n",
      "2019-01-30 01:07:29,947:INFO:TEST BATCH-186: t = 4.1831, Net_Loss: -0.572860, Revenue: 0.572860\n",
      "2019-01-30 01:07:29,952:INFO:TEST BATCH-187: t = 4.1873, Net_Loss: -0.572882, Revenue: 0.572882\n",
      "2019-01-30 01:07:29,956:INFO:TEST BATCH-188: t = 4.1912, Net_Loss: -0.572904, Revenue: 0.572904\n",
      "2019-01-30 01:07:29,961:INFO:TEST BATCH-189: t = 4.1955, Net_Loss: -0.572927, Revenue: 0.572927\n",
      "2019-01-30 01:07:29,965:INFO:TEST BATCH-190: t = 4.1989, Net_Loss: -0.572949, Revenue: 0.572949\n",
      "2019-01-30 01:07:29,970:INFO:TEST BATCH-191: t = 4.2026, Net_Loss: -0.572972, Revenue: 0.572972\n",
      "2019-01-30 01:07:29,975:INFO:TEST BATCH-192: t = 4.2068, Net_Loss: -0.572994, Revenue: 0.572994\n",
      "2019-01-30 01:07:29,979:INFO:TEST BATCH-193: t = 4.2097, Net_Loss: -0.573016, Revenue: 0.573016\n",
      "2019-01-30 01:07:29,984:INFO:TEST BATCH-194: t = 4.2139, Net_Loss: -0.573039, Revenue: 0.573039\n",
      "2019-01-30 01:07:29,988:INFO:TEST BATCH-195: t = 4.2179, Net_Loss: -0.573061, Revenue: 0.573061\n",
      "2019-01-30 01:07:29,993:INFO:TEST BATCH-196: t = 4.2219, Net_Loss: -0.573084, Revenue: 0.573084\n",
      "2019-01-30 01:07:29,997:INFO:TEST BATCH-197: t = 4.2254, Net_Loss: -0.573106, Revenue: 0.573106\n",
      "2019-01-30 01:07:30,002:INFO:TEST BATCH-198: t = 4.2290, Net_Loss: -0.573129, Revenue: 0.573129\n",
      "2019-01-30 01:07:30,007:INFO:TEST BATCH-199: t = 4.2338, Net_Loss: -0.573151, Revenue: 0.573151\n",
      "2019-01-30 01:07:30,011:INFO:TEST BATCH-200: t = 4.2371, Net_Loss: -0.573173, Revenue: 0.573173\n",
      "2019-01-30 01:07:30,012:INFO:TEST ALL-400000: t = 4.2371, Net_Loss: -0.385663, Revenue: 0.385663\n"
     ]
    }
   ],
   "source": [
    "net = Net(cfg, \"test\")\n",
    "generator = Generator(cfg, 'test', X_tst)\n",
    "m = Trainer(cfg, \"test\", net)\n",
    "m.test(generator)"
   ]
  },
  {
   "cell_type": "code",
   "execution_count": 5,
   "metadata": {
    "collapsed": true
   },
   "outputs": [],
   "source": [
    "alloc = np.load(os.path.join(cfg.dir_name, \"alloc_tst_\" + str(cfg.test.restore_iter) + \".npy\")).reshape(D,D,2)"
   ]
  },
  {
   "cell_type": "code",
   "execution_count": 6,
   "metadata": {},
   "outputs": [
    {
     "data": {
      "image/png": "[encoded data removed]",
      "text/plain": [
       "<matplotlib.figure.Figure at 0x2b9d03b32dd0>"
      ]
     },
     "metadata": {},
     "output_type": "display_data"
    }
   ],
   "source": [
    "x1 = np.sqrt(1.0/3.0)\n",
    "points = [(x1, 0), (x1, x1), (1.0, 1.0)]\n",
    "\n",
    "x = list(map(lambda x: x[0], points))\n",
    "y = list(map(lambda x: x[1], points))\n",
    "\n",
    "fig, ax = plt.subplots(ncols = 1, nrows = 1, figsize=(8,6))\n",
    "\n",
    "plt.plot(x, y, linewidth = 2, linestyle = '--', c='black')\n",
    "img = ax.imshow(alloc[::-1, :, 0], extent=[0,1,0,1], vmin = 0.0, vmax=1.0, cmap = 'YlOrRd')\n",
    "                    \n",
    "plt.text(0.2, 0.4, s='0', color='black', fontsize='10', fontweight='bold')\n",
    "plt.text(0.8, 0.4, s='1', color='black', fontsize='10', fontweight='bold')\n",
    "\n",
    "ax.set_xlabel('$v_1$')\n",
    "ax.set_ylabel('$v_2$')\n",
    "plt.title('Prob. of allocating item 1')\n",
    "plt.colorbar(img, fraction=0.046, pad=0.04)\n",
    "\n",
    "if save_plot:\n",
    "    fig.set_size_inches(4, 3)\n",
    "    plt.savefig(os.path.join(cfg.dir_name, 'alloc1.pdf'), bbox_inches = 'tight', pad_inches = 0.05)"
   ]
  },
  {
   "cell_type": "code",
   "execution_count": 7,
   "metadata": {},
   "outputs": [
    {
     "data": {
      "image/png": "[encoded data removed]",
      "text/plain": [
       "<matplotlib.figure.Figure at 0x2b9d6a124690>"
      ]
     },
     "metadata": {},
     "output_type": "display_data"
    }
   ],
   "source": [
    "x1 = np.sqrt(1.0/3.0)\n",
    "points = [(0.0, x1), (x1, x1), (1.0, 1.0)]\n",
    "\n",
    "x = list(map(lambda x: x[0], points))\n",
    "y = list(map(lambda x: x[1], points))\n",
    "\n",
    "\n",
    "plt.rcParams.update({'font.size': 10, 'axes.labelsize': 'x-large'})\n",
    "fig, ax = plt.subplots(ncols = 1, nrows = 1, figsize=(8,6))\n",
    "\n",
    "plt.plot(x, y, linewidth = 2, linestyle = '--', c='black')\n",
    "img = ax.imshow(alloc[::-1, :, 1], extent=[0,1,0,1], vmin = 0.0, vmax=1.0, cmap = 'YlOrRd')\n",
    "              \n",
    "plt.text(0.6, 0.4, s='0', color='black', fontsize='10', fontweight='bold')\n",
    "plt.text(0.4, 0.8, s='1', color='black', fontsize='10', fontweight='bold')\n",
    "    \n",
    "ax.set_xlabel('$v_1$')\n",
    "ax.set_ylabel('$v_2$')\n",
    "plt.title('Prob. of allocating item 2')\n",
    "plt.colorbar(img, fraction=0.046, pad=0.04)\n",
    "\n",
    "if save_plot:\n",
    "    fig.set_size_inches(4, 3)\n",
    "    plt.savefig(os.path.join(cfg.dir_name, 'alloc2.pdf'), bbox_inches = 'tight', pad_inches = 0.05)"
   ]
  },
  {
   "cell_type": "code",
   "execution_count": null,
   "metadata": {
    "collapsed": true
   },
   "outputs": [],
   "source": []
  }
 ],
 "metadata": {
  "kernelspec": {
   "display_name": "Python 2",
   "language": "python",
   "name": "python2"
  },
  "language_info": {
   "codemirror_mode": {
    "name": "ipython",
    "version": 2
   },
   "file_extension": ".py",
   "mimetype": "text/x-python",
   "name": "python",
   "nbconvert_exporter": "python",
   "pygments_lexer": "ipython2",
   "version": "2.7.13"
  }
 },
 "nbformat": 4,
 "nbformat_minor": 2
}
