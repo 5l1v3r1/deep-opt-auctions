{
 "cells": [
  {
   "cell_type": "code",
   "execution_count": 1,
   "metadata": {
    "collapsed": true
   },
   "outputs": [],
   "source": [
    "from __future__ import absolute_import\n",
    "from __future__ import division\n",
    "from __future__ import print_function\n",
    "\n",
    "import os\n",
    "import sys\n",
    "import numpy as np\n",
    "import tensorflow as tf\n",
    "import matplotlib.pyplot as plt\n",
    "\n",
    "from nets import *\n",
    "from cfgs import *\n",
    "from data import *\n",
    "from trainer import *"
   ]
  },
  {
   "cell_type": "code",
   "execution_count": 2,
   "metadata": {},
   "outputs": [
    {
     "name": "stdout",
     "output_type": "stream",
     "text": [
      "(40401, 2)\n"
     ]
    }
   ],
   "source": [
    "%matplotlib inline\n",
    "save_plot = False\n",
    "plt.rcParams.update({'font.size': 10, 'axes.labelsize': 'x-large'})\n",
    "D = 201\n",
    "\n",
    "x = np.linspace(0, 1.0, D)\n",
    "X_tst = np.stack([v.flatten() for v in np.meshgrid(x,x)], axis = -1)\n",
    "X_tst[:,0] = X_tst[:,0]*4.0\n",
    "X_tst[:,1] = X_tst[:,1]*3.0\n",
    "print(X_tst.shape)\n",
    "\n",
    "cfg = additive_1x2_uniform_04_03_config.cfg\n",
    "cfg.test.batch_size = D\n",
    "cfg.test.num_batches = int(X_tst.shape[0]/cfg.test.batch_size)\n",
    "cfg.test.save_output = True"
   ]
  },
  {
   "cell_type": "code",
   "execution_count": 3,
   "metadata": {
    "collapsed": true
   },
   "outputs": [],
   "source": [
    "Net = additive_net.Net\n",
    "Generator = uniform_04_03_generator.Generator\n",
    "Trainer = trainer.Trainer"
   ]
  },
  {
   "cell_type": "code",
   "execution_count": 4,
   "metadata": {},
   "outputs": [
    {
     "name": "stdout",
     "output_type": "stream",
     "text": [
      "INFO:tensorflow:Restoring parameters from experiments/additive_1x2_uniform_04_03/model-400000\n"
     ]
    },
    {
     "name": "stderr",
     "output_type": "stream",
     "text": [
      "2019-01-30 00:31:22,994:INFO:Restoring parameters from experiments/additive_1x2_uniform_04_03/model-400000\n",
      "2019-01-30 00:31:26,749:INFO:TEST BATCH-0: t = 3.7137, Net_Loss: -0.853173, Revenue: 0.853173\n",
      "2019-01-30 00:31:26,758:INFO:TEST BATCH-1: t = 3.7170, Net_Loss: -0.853173, Revenue: 0.853173\n",
      "2019-01-30 00:31:26,765:INFO:TEST BATCH-2: t = 3.7201, Net_Loss: -0.853173, Revenue: 0.853173\n",
      "2019-01-30 00:31:26,772:INFO:TEST BATCH-3: t = 3.7232, Net_Loss: -0.853173, Revenue: 0.853173\n",
      "2019-01-30 00:31:26,779:INFO:TEST BATCH-4: t = 3.7260, Net_Loss: -0.866934, Revenue: 0.866934\n",
      "2019-01-30 00:31:26,785:INFO:TEST BATCH-5: t = 3.7289, Net_Loss: -0.866934, Revenue: 0.866934\n",
      "2019-01-30 00:31:26,791:INFO:TEST BATCH-6: t = 3.7316, Net_Loss: -0.866934, Revenue: 0.866934\n",
      "2019-01-30 00:31:26,798:INFO:TEST BATCH-7: t = 3.7343, Net_Loss: -0.866934, Revenue: 0.866934\n",
      "2019-01-30 00:31:26,804:INFO:TEST BATCH-8: t = 3.7369, Net_Loss: -0.866934, Revenue: 0.866934\n",
      "2019-01-30 00:31:26,810:INFO:TEST BATCH-9: t = 3.7396, Net_Loss: -0.866934, Revenue: 0.866934\n",
      "2019-01-30 00:31:26,815:INFO:TEST BATCH-10: t = 3.7420, Net_Loss: -0.866934, Revenue: 0.866934\n",
      "2019-01-30 00:31:26,821:INFO:TEST BATCH-11: t = 3.7445, Net_Loss: -0.866934, Revenue: 0.866934\n",
      "2019-01-30 00:31:26,827:INFO:TEST BATCH-12: t = 3.7473, Net_Loss: -0.866934, Revenue: 0.866934\n",
      "2019-01-30 00:31:26,832:INFO:TEST BATCH-13: t = 3.7498, Net_Loss: -0.866934, Revenue: 0.866934\n",
      "2019-01-30 00:31:26,837:INFO:TEST BATCH-14: t = 3.7522, Net_Loss: -0.866934, Revenue: 0.866934\n",
      "2019-01-30 00:31:26,843:INFO:TEST BATCH-15: t = 3.7547, Net_Loss: -0.866934, Revenue: 0.866934\n",
      "2019-01-30 00:31:26,848:INFO:TEST BATCH-16: t = 3.7572, Net_Loss: -0.880695, Revenue: 0.880695\n",
      "2019-01-30 00:31:26,853:INFO:TEST BATCH-17: t = 3.7597, Net_Loss: -0.880695, Revenue: 0.880695\n",
      "2019-01-30 00:31:26,858:INFO:TEST BATCH-18: t = 3.7625, Net_Loss: -0.880695, Revenue: 0.880695\n",
      "2019-01-30 00:31:26,863:INFO:TEST BATCH-19: t = 3.7659, Net_Loss: -0.880695, Revenue: 0.880695\n",
      "2019-01-30 00:31:26,868:INFO:TEST BATCH-20: t = 3.7693, Net_Loss: -0.880695, Revenue: 0.880695\n",
      "2019-01-30 00:31:26,872:INFO:TEST BATCH-21: t = 3.7724, Net_Loss: -0.880695, Revenue: 0.880695\n",
      "2019-01-30 00:31:26,877:INFO:TEST BATCH-22: t = 3.7757, Net_Loss: -0.880695, Revenue: 0.880695\n",
      "2019-01-30 00:31:26,882:INFO:TEST BATCH-23: t = 3.7792, Net_Loss: -0.880695, Revenue: 0.880695\n",
      "2019-01-30 00:31:26,887:INFO:TEST BATCH-24: t = 3.7828, Net_Loss: -0.880695, Revenue: 0.880695\n",
      "2019-01-30 00:31:26,892:INFO:TEST BATCH-25: t = 3.7861, Net_Loss: -1.000438, Revenue: 1.000438\n",
      "2019-01-30 00:31:26,897:INFO:TEST BATCH-26: t = 3.7895, Net_Loss: -1.000438, Revenue: 1.000438\n",
      "2019-01-30 00:31:26,901:INFO:TEST BATCH-27: t = 3.7929, Net_Loss: -1.015830, Revenue: 1.015830\n",
      "2019-01-30 00:31:26,906:INFO:TEST BATCH-28: t = 3.7961, Net_Loss: -1.031221, Revenue: 1.031221\n",
      "2019-01-30 00:31:26,911:INFO:TEST BATCH-29: t = 3.7999, Net_Loss: -1.046613, Revenue: 1.046613\n",
      "2019-01-30 00:31:26,915:INFO:TEST BATCH-30: t = 3.8029, Net_Loss: -1.046613, Revenue: 1.046613\n",
      "2019-01-30 00:31:26,920:INFO:TEST BATCH-31: t = 3.8060, Net_Loss: -1.062004, Revenue: 1.062004\n",
      "2019-01-30 00:31:26,925:INFO:TEST BATCH-32: t = 3.8092, Net_Loss: -1.077395, Revenue: 1.077395\n",
      "2019-01-30 00:31:26,930:INFO:TEST BATCH-33: t = 3.8123, Net_Loss: -1.092787, Revenue: 1.092787\n",
      "2019-01-30 00:31:26,935:INFO:TEST BATCH-34: t = 3.8158, Net_Loss: -1.092787, Revenue: 1.092787\n",
      "2019-01-30 00:31:26,939:INFO:TEST BATCH-35: t = 3.8190, Net_Loss: -1.108178, Revenue: 1.108178\n",
      "2019-01-30 00:31:26,944:INFO:TEST BATCH-36: t = 3.8224, Net_Loss: -1.123569, Revenue: 1.123569\n",
      "2019-01-30 00:31:26,949:INFO:TEST BATCH-37: t = 3.8259, Net_Loss: -1.138961, Revenue: 1.138961\n",
      "2019-01-30 00:31:26,954:INFO:TEST BATCH-38: t = 3.8288, Net_Loss: -1.138961, Revenue: 1.138961\n",
      "2019-01-30 00:31:26,959:INFO:TEST BATCH-39: t = 3.8325, Net_Loss: -1.154352, Revenue: 1.154352\n",
      "2019-01-30 00:31:26,965:INFO:TEST BATCH-40: t = 3.8359, Net_Loss: -1.169743, Revenue: 1.169743\n",
      "2019-01-30 00:31:26,970:INFO:TEST BATCH-41: t = 3.8387, Net_Loss: -1.185135, Revenue: 1.185135\n",
      "2019-01-30 00:31:26,975:INFO:TEST BATCH-42: t = 3.8423, Net_Loss: -1.185135, Revenue: 1.185135\n",
      "2019-01-30 00:31:26,980:INFO:TEST BATCH-43: t = 3.8461, Net_Loss: -1.200526, Revenue: 1.200526\n",
      "2019-01-30 00:31:26,986:INFO:TEST BATCH-44: t = 3.8491, Net_Loss: -1.215917, Revenue: 1.215917\n",
      "2019-01-30 00:31:26,990:INFO:TEST BATCH-45: t = 3.8522, Net_Loss: -1.231309, Revenue: 1.231309\n",
      "2019-01-30 00:31:26,995:INFO:TEST BATCH-46: t = 3.8557, Net_Loss: -1.231309, Revenue: 1.231309\n",
      "2019-01-30 00:31:27,001:INFO:TEST BATCH-47: t = 3.8585, Net_Loss: -1.246700, Revenue: 1.246700\n",
      "2019-01-30 00:31:27,006:INFO:TEST BATCH-48: t = 3.8619, Net_Loss: -1.262092, Revenue: 1.262092\n",
      "2019-01-30 00:31:27,011:INFO:TEST BATCH-49: t = 3.8659, Net_Loss: -1.277483, Revenue: 1.277483\n",
      "2019-01-30 00:31:27,016:INFO:TEST BATCH-50: t = 3.8693, Net_Loss: -1.277483, Revenue: 1.277483\n",
      "2019-01-30 00:31:27,021:INFO:TEST BATCH-51: t = 3.8732, Net_Loss: -1.292874, Revenue: 1.292874\n",
      "2019-01-30 00:31:27,026:INFO:TEST BATCH-52: t = 3.8766, Net_Loss: -1.308265, Revenue: 1.308265\n",
      "2019-01-30 00:31:27,031:INFO:TEST BATCH-53: t = 3.8790, Net_Loss: -1.323657, Revenue: 1.323657\n",
      "2019-01-30 00:31:27,037:INFO:TEST BATCH-54: t = 3.8825, Net_Loss: -1.323657, Revenue: 1.323657\n",
      "2019-01-30 00:31:27,042:INFO:TEST BATCH-55: t = 3.8854, Net_Loss: -1.339049, Revenue: 1.339049\n",
      "2019-01-30 00:31:27,047:INFO:TEST BATCH-56: t = 3.8878, Net_Loss: -1.354440, Revenue: 1.354440\n",
      "2019-01-30 00:31:27,053:INFO:TEST BATCH-57: t = 3.8906, Net_Loss: -1.369831, Revenue: 1.369831\n",
      "2019-01-30 00:31:27,058:INFO:TEST BATCH-58: t = 3.8934, Net_Loss: -1.369831, Revenue: 1.369831\n",
      "2019-01-30 00:31:27,064:INFO:TEST BATCH-59: t = 3.8963, Net_Loss: -1.385222, Revenue: 1.385222\n",
      "2019-01-30 00:31:27,069:INFO:TEST BATCH-60: t = 3.8998, Net_Loss: -1.400614, Revenue: 1.400614\n",
      "2019-01-30 00:31:27,074:INFO:TEST BATCH-61: t = 3.9034, Net_Loss: -1.416005, Revenue: 1.416005\n",
      "2019-01-30 00:31:27,079:INFO:TEST BATCH-62: t = 3.9067, Net_Loss: -1.416005, Revenue: 1.416005\n",
      "2019-01-30 00:31:27,084:INFO:TEST BATCH-63: t = 3.9102, Net_Loss: -1.431396, Revenue: 1.431396\n",
      "2019-01-30 00:31:27,089:INFO:TEST BATCH-64: t = 3.9138, Net_Loss: -1.446788, Revenue: 1.446788\n",
      "2019-01-30 00:31:27,094:INFO:TEST BATCH-65: t = 3.9172, Net_Loss: -1.462179, Revenue: 1.462179\n",
      "2019-01-30 00:31:27,099:INFO:TEST BATCH-66: t = 3.9208, Net_Loss: -1.462179, Revenue: 1.462179\n",
      "2019-01-30 00:31:27,105:INFO:TEST BATCH-67: t = 3.9254, Net_Loss: -1.477571, Revenue: 1.477571\n",
      "2019-01-30 00:31:27,110:INFO:TEST BATCH-68: t = 3.9284, Net_Loss: -1.492962, Revenue: 1.492962\n",
      "2019-01-30 00:31:27,116:INFO:TEST BATCH-69: t = 3.9318, Net_Loss: -1.508353, Revenue: 1.508353\n",
      "2019-01-30 00:31:27,121:INFO:TEST BATCH-70: t = 3.9352, Net_Loss: -1.508353, Revenue: 1.508353\n",
      "2019-01-30 00:31:27,126:INFO:TEST BATCH-71: t = 3.9387, Net_Loss: -1.523745, Revenue: 1.523745\n",
      "2019-01-30 00:31:27,131:INFO:TEST BATCH-72: t = 3.9421, Net_Loss: -1.539136, Revenue: 1.539136\n",
      "2019-01-30 00:31:27,136:INFO:TEST BATCH-73: t = 3.9446, Net_Loss: -1.554528, Revenue: 1.554528\n",
      "2019-01-30 00:31:27,141:INFO:TEST BATCH-74: t = 3.9482, Net_Loss: -1.554528, Revenue: 1.554528\n",
      "2019-01-30 00:31:27,147:INFO:TEST BATCH-75: t = 3.9531, Net_Loss: -1.569919, Revenue: 1.569919\n",
      "2019-01-30 00:31:27,152:INFO:TEST BATCH-76: t = 3.9568, Net_Loss: -1.585310, Revenue: 1.585310\n",
      "2019-01-30 00:31:27,157:INFO:TEST BATCH-77: t = 3.9602, Net_Loss: -1.600701, Revenue: 1.600701\n",
      "2019-01-30 00:31:27,162:INFO:TEST BATCH-78: t = 3.9641, Net_Loss: -1.600701, Revenue: 1.600701\n",
      "2019-01-30 00:31:27,167:INFO:TEST BATCH-79: t = 3.9678, Net_Loss: -1.616093, Revenue: 1.616093\n",
      "2019-01-30 00:31:27,172:INFO:TEST BATCH-80: t = 3.9704, Net_Loss: -1.631484, Revenue: 1.631484\n",
      "2019-01-30 00:31:27,178:INFO:TEST BATCH-81: t = 3.9747, Net_Loss: -1.646876, Revenue: 1.646876\n",
      "2019-01-30 00:31:27,182:INFO:TEST BATCH-82: t = 3.9779, Net_Loss: -1.646876, Revenue: 1.646876\n",
      "2019-01-30 00:31:27,188:INFO:TEST BATCH-83: t = 3.9819, Net_Loss: -1.662267, Revenue: 1.662267\n",
      "2019-01-30 00:31:27,193:INFO:TEST BATCH-84: t = 3.9847, Net_Loss: -1.677658, Revenue: 1.677658\n",
      "2019-01-30 00:31:27,199:INFO:TEST BATCH-85: t = 3.9883, Net_Loss: -1.693050, Revenue: 1.693050\n"
     ]
    },
    {
     "name": "stderr",
     "output_type": "stream",
     "text": [
      "2019-01-30 00:31:27,203:INFO:TEST BATCH-86: t = 3.9918, Net_Loss: -1.693050, Revenue: 1.693050\n",
      "2019-01-30 00:31:27,208:INFO:TEST BATCH-87: t = 3.9951, Net_Loss: -1.708441, Revenue: 1.708441\n",
      "2019-01-30 00:31:27,214:INFO:TEST BATCH-88: t = 3.9990, Net_Loss: -1.723832, Revenue: 1.723832\n",
      "2019-01-30 00:31:27,219:INFO:TEST BATCH-89: t = 4.0033, Net_Loss: -1.739224, Revenue: 1.739224\n",
      "2019-01-30 00:31:27,224:INFO:TEST BATCH-90: t = 4.0070, Net_Loss: -1.739224, Revenue: 1.739224\n",
      "2019-01-30 00:31:27,229:INFO:TEST BATCH-91: t = 4.0105, Net_Loss: -1.754615, Revenue: 1.754615\n",
      "2019-01-30 00:31:27,235:INFO:TEST BATCH-92: t = 4.0155, Net_Loss: -1.770006, Revenue: 1.770006\n",
      "2019-01-30 00:31:27,240:INFO:TEST BATCH-93: t = 4.0189, Net_Loss: -1.785398, Revenue: 1.785398\n",
      "2019-01-30 00:31:27,245:INFO:TEST BATCH-94: t = 4.0230, Net_Loss: -1.785398, Revenue: 1.785398\n",
      "2019-01-30 00:31:27,250:INFO:TEST BATCH-95: t = 4.0264, Net_Loss: -1.800789, Revenue: 1.800789\n",
      "2019-01-30 00:31:27,255:INFO:TEST BATCH-96: t = 4.0289, Net_Loss: -1.816181, Revenue: 1.816181\n",
      "2019-01-30 00:31:27,261:INFO:TEST BATCH-97: t = 4.0329, Net_Loss: -1.831572, Revenue: 1.831572\n",
      "2019-01-30 00:31:27,266:INFO:TEST BATCH-98: t = 4.0365, Net_Loss: -1.831572, Revenue: 1.831572\n",
      "2019-01-30 00:31:27,271:INFO:TEST BATCH-99: t = 4.0395, Net_Loss: -1.846963, Revenue: 1.846963\n",
      "2019-01-30 00:31:27,276:INFO:TEST BATCH-100: t = 4.0432, Net_Loss: -1.862355, Revenue: 1.862355\n",
      "2019-01-30 00:31:27,281:INFO:TEST BATCH-101: t = 4.0471, Net_Loss: -1.877746, Revenue: 1.877746\n",
      "2019-01-30 00:31:27,286:INFO:TEST BATCH-102: t = 4.0507, Net_Loss: -1.877746, Revenue: 1.877746\n",
      "2019-01-30 00:31:27,291:INFO:TEST BATCH-103: t = 4.0541, Net_Loss: -1.893137, Revenue: 1.893137\n",
      "2019-01-30 00:31:27,296:INFO:TEST BATCH-104: t = 4.0579, Net_Loss: -1.908529, Revenue: 1.908529\n",
      "2019-01-30 00:31:27,302:INFO:TEST BATCH-105: t = 4.0623, Net_Loss: -1.923920, Revenue: 1.923920\n",
      "2019-01-30 00:31:27,306:INFO:TEST BATCH-106: t = 4.0655, Net_Loss: -1.923920, Revenue: 1.923920\n",
      "2019-01-30 00:31:27,312:INFO:TEST BATCH-107: t = 4.0691, Net_Loss: -1.939311, Revenue: 1.939311\n",
      "2019-01-30 00:31:27,317:INFO:TEST BATCH-108: t = 4.0726, Net_Loss: -1.954703, Revenue: 1.954703\n",
      "2019-01-30 00:31:27,322:INFO:TEST BATCH-109: t = 4.0762, Net_Loss: -1.970094, Revenue: 1.970094\n",
      "2019-01-30 00:31:27,328:INFO:TEST BATCH-110: t = 4.0802, Net_Loss: -1.970094, Revenue: 1.970094\n",
      "2019-01-30 00:31:27,333:INFO:TEST BATCH-111: t = 4.0839, Net_Loss: -1.985485, Revenue: 1.985485\n",
      "2019-01-30 00:31:27,338:INFO:TEST BATCH-112: t = 4.0874, Net_Loss: -2.000877, Revenue: 2.000877\n",
      "2019-01-30 00:31:27,343:INFO:TEST BATCH-113: t = 4.0909, Net_Loss: -2.016268, Revenue: 2.016268\n",
      "2019-01-30 00:31:27,348:INFO:TEST BATCH-114: t = 4.0947, Net_Loss: -2.016268, Revenue: 2.016268\n",
      "2019-01-30 00:31:27,354:INFO:TEST BATCH-115: t = 4.0984, Net_Loss: -2.031660, Revenue: 2.031660\n",
      "2019-01-30 00:31:27,358:INFO:TEST BATCH-116: t = 4.1017, Net_Loss: -2.047051, Revenue: 2.047051\n",
      "2019-01-30 00:31:27,364:INFO:TEST BATCH-117: t = 4.1057, Net_Loss: -2.062442, Revenue: 2.062442\n",
      "2019-01-30 00:31:27,370:INFO:TEST BATCH-118: t = 4.1097, Net_Loss: -2.062442, Revenue: 2.062442\n",
      "2019-01-30 00:31:27,375:INFO:TEST BATCH-119: t = 4.1135, Net_Loss: -2.077833, Revenue: 2.077833\n",
      "2019-01-30 00:31:27,380:INFO:TEST BATCH-120: t = 4.1176, Net_Loss: -2.093225, Revenue: 2.093225\n",
      "2019-01-30 00:31:27,386:INFO:TEST BATCH-121: t = 4.1210, Net_Loss: -2.108616, Revenue: 2.108616\n",
      "2019-01-30 00:31:27,391:INFO:TEST BATCH-122: t = 4.1246, Net_Loss: -2.108616, Revenue: 2.108616\n",
      "2019-01-30 00:31:27,397:INFO:TEST BATCH-123: t = 4.1289, Net_Loss: -2.124008, Revenue: 2.124008\n",
      "2019-01-30 00:31:27,402:INFO:TEST BATCH-124: t = 4.1317, Net_Loss: -2.139399, Revenue: 2.139399\n",
      "2019-01-30 00:31:27,408:INFO:TEST BATCH-125: t = 4.1351, Net_Loss: -2.154790, Revenue: 2.154790\n",
      "2019-01-30 00:31:27,413:INFO:TEST BATCH-126: t = 4.1383, Net_Loss: -2.154790, Revenue: 2.154790\n",
      "2019-01-30 00:31:27,419:INFO:TEST BATCH-127: t = 4.1410, Net_Loss: -2.170182, Revenue: 2.170182\n",
      "2019-01-30 00:31:27,424:INFO:TEST BATCH-128: t = 4.1445, Net_Loss: -2.185573, Revenue: 2.185573\n",
      "2019-01-30 00:31:27,430:INFO:TEST BATCH-129: t = 4.1484, Net_Loss: -2.200964, Revenue: 2.200964\n",
      "2019-01-30 00:31:27,437:INFO:TEST BATCH-130: t = 4.1546, Net_Loss: -2.250522, Revenue: 2.250522\n",
      "2019-01-30 00:31:27,442:INFO:TEST BATCH-131: t = 4.1586, Net_Loss: -2.438842, Revenue: 2.438842\n",
      "2019-01-30 00:31:27,448:INFO:TEST BATCH-132: t = 4.1628, Net_Loss: -2.617250, Revenue: 2.617250\n",
      "2019-01-30 00:31:27,453:INFO:TEST BATCH-133: t = 4.1672, Net_Loss: -2.775835, Revenue: 2.775835\n",
      "2019-01-30 00:31:27,458:INFO:TEST BATCH-134: t = 4.1709, Net_Loss: -2.775835, Revenue: 2.775835\n",
      "2019-01-30 00:31:27,464:INFO:TEST BATCH-135: t = 4.1743, Net_Loss: -2.775835, Revenue: 2.775835\n",
      "2019-01-30 00:31:27,470:INFO:TEST BATCH-136: t = 4.1778, Net_Loss: -2.775835, Revenue: 2.775835\n",
      "2019-01-30 00:31:27,476:INFO:TEST BATCH-137: t = 4.1818, Net_Loss: -2.775835, Revenue: 2.775835\n",
      "2019-01-30 00:31:27,481:INFO:TEST BATCH-138: t = 4.1849, Net_Loss: -2.775835, Revenue: 2.775835\n",
      "2019-01-30 00:31:27,486:INFO:TEST BATCH-139: t = 4.1883, Net_Loss: -2.775835, Revenue: 2.775835\n",
      "2019-01-30 00:31:27,492:INFO:TEST BATCH-140: t = 4.1924, Net_Loss: -2.775835, Revenue: 2.775835\n",
      "2019-01-30 00:31:27,498:INFO:TEST BATCH-141: t = 4.1967, Net_Loss: -2.775835, Revenue: 2.775835\n",
      "2019-01-30 00:31:27,502:INFO:TEST BATCH-142: t = 4.2003, Net_Loss: -2.775835, Revenue: 2.775835\n",
      "2019-01-30 00:31:27,507:INFO:TEST BATCH-143: t = 4.2037, Net_Loss: -2.775835, Revenue: 2.775835\n",
      "2019-01-30 00:31:27,512:INFO:TEST BATCH-144: t = 4.2072, Net_Loss: -2.775835, Revenue: 2.775835\n",
      "2019-01-30 00:31:27,518:INFO:TEST BATCH-145: t = 4.2110, Net_Loss: -2.775835, Revenue: 2.775835\n",
      "2019-01-30 00:31:27,523:INFO:TEST BATCH-146: t = 4.2146, Net_Loss: -2.775835, Revenue: 2.775835\n",
      "2019-01-30 00:31:27,528:INFO:TEST BATCH-147: t = 4.2181, Net_Loss: -2.775835, Revenue: 2.775835\n",
      "2019-01-30 00:31:27,533:INFO:TEST BATCH-148: t = 4.2215, Net_Loss: -2.775835, Revenue: 2.775835\n",
      "2019-01-30 00:31:27,538:INFO:TEST BATCH-149: t = 4.2246, Net_Loss: -2.775835, Revenue: 2.775835\n",
      "2019-01-30 00:31:27,543:INFO:TEST BATCH-150: t = 4.2276, Net_Loss: -2.775835, Revenue: 2.775835\n",
      "2019-01-30 00:31:27,548:INFO:TEST BATCH-151: t = 4.2308, Net_Loss: -2.775835, Revenue: 2.775835\n",
      "2019-01-30 00:31:27,555:INFO:TEST BATCH-152: t = 4.2350, Net_Loss: -2.775835, Revenue: 2.775835\n",
      "2019-01-30 00:31:27,558:INFO:TEST BATCH-153: t = 4.2376, Net_Loss: -2.775835, Revenue: 2.775835\n",
      "2019-01-30 00:31:27,562:INFO:TEST BATCH-154: t = 4.2393, Net_Loss: -2.775835, Revenue: 2.775835\n",
      "2019-01-30 00:31:27,565:INFO:TEST BATCH-155: t = 4.2421, Net_Loss: -2.775835, Revenue: 2.775835\n",
      "2019-01-30 00:31:27,570:INFO:TEST BATCH-156: t = 4.2454, Net_Loss: -2.775835, Revenue: 2.775835\n",
      "2019-01-30 00:31:27,573:INFO:TEST BATCH-157: t = 4.2471, Net_Loss: -2.775835, Revenue: 2.775835\n",
      "2019-01-30 00:31:27,577:INFO:TEST BATCH-158: t = 4.2502, Net_Loss: -2.775835, Revenue: 2.775835\n",
      "2019-01-30 00:31:27,580:INFO:TEST BATCH-159: t = 4.2526, Net_Loss: -2.775835, Revenue: 2.775835\n",
      "2019-01-30 00:31:27,584:INFO:TEST BATCH-160: t = 4.2550, Net_Loss: -2.775835, Revenue: 2.775835\n",
      "2019-01-30 00:31:27,588:INFO:TEST BATCH-161: t = 4.2579, Net_Loss: -2.775835, Revenue: 2.775835\n",
      "2019-01-30 00:31:27,592:INFO:TEST BATCH-162: t = 4.2616, Net_Loss: -2.775835, Revenue: 2.775835\n",
      "2019-01-30 00:31:27,596:INFO:TEST BATCH-163: t = 4.2640, Net_Loss: -2.775835, Revenue: 2.775835\n",
      "2019-01-30 00:31:27,600:INFO:TEST BATCH-164: t = 4.2669, Net_Loss: -2.775835, Revenue: 2.775835\n",
      "2019-01-30 00:31:27,603:INFO:TEST BATCH-165: t = 4.2693, Net_Loss: -2.775835, Revenue: 2.775835\n",
      "2019-01-30 00:31:27,607:INFO:TEST BATCH-166: t = 4.2719, Net_Loss: -2.775835, Revenue: 2.775835\n",
      "2019-01-30 00:31:27,611:INFO:TEST BATCH-167: t = 4.2747, Net_Loss: -2.775835, Revenue: 2.775835\n",
      "2019-01-30 00:31:27,614:INFO:TEST BATCH-168: t = 4.2772, Net_Loss: -2.775835, Revenue: 2.775835\n",
      "2019-01-30 00:31:27,617:INFO:TEST BATCH-169: t = 4.2795, Net_Loss: -2.775835, Revenue: 2.775835\n",
      "2019-01-30 00:31:27,621:INFO:TEST BATCH-170: t = 4.2825, Net_Loss: -2.775835, Revenue: 2.775835\n",
      "2019-01-30 00:31:27,625:INFO:TEST BATCH-171: t = 4.2854, Net_Loss: -2.775835, Revenue: 2.775835\n"
     ]
    },
    {
     "name": "stderr",
     "output_type": "stream",
     "text": [
      "2019-01-30 00:31:27,628:INFO:TEST BATCH-172: t = 4.2877, Net_Loss: -2.775835, Revenue: 2.775835\n",
      "2019-01-30 00:31:27,632:INFO:TEST BATCH-173: t = 4.2903, Net_Loss: -2.775835, Revenue: 2.775835\n",
      "2019-01-30 00:31:27,636:INFO:TEST BATCH-174: t = 4.2931, Net_Loss: -2.775835, Revenue: 2.775835\n",
      "2019-01-30 00:31:27,640:INFO:TEST BATCH-175: t = 4.2958, Net_Loss: -2.775835, Revenue: 2.775835\n",
      "2019-01-30 00:31:27,645:INFO:TEST BATCH-176: t = 4.2977, Net_Loss: -2.775835, Revenue: 2.775835\n",
      "2019-01-30 00:31:27,648:INFO:TEST BATCH-177: t = 4.3004, Net_Loss: -2.775835, Revenue: 2.775835\n",
      "2019-01-30 00:31:27,652:INFO:TEST BATCH-178: t = 4.3036, Net_Loss: -2.775835, Revenue: 2.775835\n",
      "2019-01-30 00:31:27,655:INFO:TEST BATCH-179: t = 4.3053, Net_Loss: -2.775835, Revenue: 2.775835\n",
      "2019-01-30 00:31:27,659:INFO:TEST BATCH-180: t = 4.3080, Net_Loss: -2.775835, Revenue: 2.775835\n",
      "2019-01-30 00:31:27,662:INFO:TEST BATCH-181: t = 4.3103, Net_Loss: -2.775835, Revenue: 2.775835\n",
      "2019-01-30 00:31:27,666:INFO:TEST BATCH-182: t = 4.3132, Net_Loss: -2.775835, Revenue: 2.775835\n",
      "2019-01-30 00:31:27,669:INFO:TEST BATCH-183: t = 4.3158, Net_Loss: -2.775835, Revenue: 2.775835\n",
      "2019-01-30 00:31:27,673:INFO:TEST BATCH-184: t = 4.3188, Net_Loss: -2.775835, Revenue: 2.775835\n",
      "2019-01-30 00:31:27,676:INFO:TEST BATCH-185: t = 4.3209, Net_Loss: -2.775835, Revenue: 2.775835\n",
      "2019-01-30 00:31:27,680:INFO:TEST BATCH-186: t = 4.3233, Net_Loss: -2.775835, Revenue: 2.775835\n",
      "2019-01-30 00:31:27,683:INFO:TEST BATCH-187: t = 4.3260, Net_Loss: -2.775835, Revenue: 2.775835\n",
      "2019-01-30 00:31:27,688:INFO:TEST BATCH-188: t = 4.3290, Net_Loss: -2.775835, Revenue: 2.775835\n",
      "2019-01-30 00:31:27,691:INFO:TEST BATCH-189: t = 4.3317, Net_Loss: -2.775835, Revenue: 2.775835\n",
      "2019-01-30 00:31:27,694:INFO:TEST BATCH-190: t = 4.3338, Net_Loss: -2.775835, Revenue: 2.775835\n",
      "2019-01-30 00:31:27,699:INFO:TEST BATCH-191: t = 4.3364, Net_Loss: -2.775835, Revenue: 2.775835\n",
      "2019-01-30 00:31:27,702:INFO:TEST BATCH-192: t = 4.3389, Net_Loss: -2.775835, Revenue: 2.775835\n",
      "2019-01-30 00:31:27,706:INFO:TEST BATCH-193: t = 4.3416, Net_Loss: -2.775835, Revenue: 2.775835\n",
      "2019-01-30 00:31:27,709:INFO:TEST BATCH-194: t = 4.3433, Net_Loss: -2.775835, Revenue: 2.775835\n",
      "2019-01-30 00:31:27,713:INFO:TEST BATCH-195: t = 4.3457, Net_Loss: -2.775835, Revenue: 2.775835\n",
      "2019-01-30 00:31:27,717:INFO:TEST BATCH-196: t = 4.3481, Net_Loss: -2.775835, Revenue: 2.775835\n",
      "2019-01-30 00:31:27,721:INFO:TEST BATCH-197: t = 4.3508, Net_Loss: -2.775835, Revenue: 2.775835\n",
      "2019-01-30 00:31:27,724:INFO:TEST BATCH-198: t = 4.3535, Net_Loss: -2.775835, Revenue: 2.775835\n",
      "2019-01-30 00:31:27,728:INFO:TEST BATCH-199: t = 4.3558, Net_Loss: -2.775835, Revenue: 2.775835\n",
      "2019-01-30 00:31:27,731:INFO:TEST BATCH-200: t = 4.3576, Net_Loss: -2.775835, Revenue: 2.775835\n",
      "2019-01-30 00:31:27,732:INFO:TEST ALL-400000: t = 4.3576, Net_Loss: -1.916811, Revenue: 1.916811\n"
     ]
    }
   ],
   "source": [
    "net = Net(cfg, \"test\")\n",
    "generator = Generator(cfg, 'test', X_tst)\n",
    "m = Trainer(cfg, \"test\", net)\n",
    "m.test(generator)"
   ]
  },
  {
   "cell_type": "code",
   "execution_count": 5,
   "metadata": {
    "collapsed": true
   },
   "outputs": [],
   "source": [
    "alloc = np.load(os.path.join(cfg.dir_name, \"alloc_tst_\" + str(cfg.test.restore_iter) + \".npy\")).reshape(D,D,2)"
   ]
  },
  {
   "cell_type": "code",
   "execution_count": 6,
   "metadata": {},
   "outputs": [
    {
     "data": {
      "image/png": "[encoded data removed]",
      "text/plain": [
       "<matplotlib.figure.Figure at 0x2b6e660e8dd0>"
      ]
     },
     "metadata": {},
     "output_type": "display_data"
    }
   ],
   "source": [
    "fig, ax = plt.subplots(ncols = 1, nrows = 1, figsize=(8,6))\n",
    "img = ax.imshow(alloc[::-1, :, 0], extent=[0,4,0,3], vmin = 0.0, vmax=1.0, cmap = 'YlOrRd', aspect=4.0/3)\n",
    "                    \n",
    "#plt.text(5, 4.5, s='0', color='black', fontsize='10', fontweight='bold')\n",
    "#plt.text(5.25, 6, s='0.5', color='black', fontsize='10', fontweight='bold')\n",
    "\n",
    "ax.set_xlabel('$v_1$')\n",
    "ax.set_ylabel('$v_2$')\n",
    "plt.title('Prob. of allocating item 1')\n",
    "plt.colorbar(img, fraction=0.046, pad=0.04)\n",
    "if save_plot:\n",
    "    fig.set_size_inches(4, 3)\n",
    "    plt.savefig(os.path.join(cfg.dir_name, 'alloc1.pdf'), bbox_inches = 'tight', pad_inches = 0.05)"
   ]
  },
  {
   "cell_type": "code",
   "execution_count": 7,
   "metadata": {},
   "outputs": [
    {
     "data": {
      "image/png": "[encoded data removed]",
      "text/plain": [
       "<matplotlib.figure.Figure at 0x2b6ecc746410>"
      ]
     },
     "metadata": {},
     "output_type": "display_data"
    }
   ],
   "source": [
    "fig, ax = plt.subplots(ncols = 1, nrows = 1, figsize=(8,6))\n",
    "img = ax.imshow(alloc[::-1, :, 1], extent=[0,4,0,3], vmin = 0.0, vmax=1.0, cmap = 'YlOrRd', aspect=4.0/3)\n",
    "                    \n",
    "#plt.text(5, 4.5, s='0', color='black', fontsize='10', fontweight='bold')\n",
    "#plt.text(5.25, 6, s='0.5', color='black', fontsize='10', fontweight='bold')\n",
    "\n",
    "ax.set_xlabel('$v_1$')\n",
    "ax.set_ylabel('$v_2$')\n",
    "plt.title('Prob. of allocating item 2')\n",
    "plt.colorbar(img, fraction=0.046, pad=0.04)\n",
    "if save_plot:\n",
    "    fig.set_size_inches(4, 3)\n",
    "    plt.savefig(os.path.join(cfg.dir_name, 'alloc2.pdf'), bbox_inches = 'tight', pad_inches = 0.05)"
   ]
  }
 ],
 "metadata": {
  "kernelspec": {
   "display_name": "Python 2",
   "language": "python",
   "name": "python2"
  },
  "language_info": {
   "codemirror_mode": {
    "name": "ipython",
    "version": 2
   },
   "file_extension": ".py",
   "mimetype": "text/x-python",
   "name": "python",
   "nbconvert_exporter": "python",
   "pygments_lexer": "ipython2",
   "version": "2.7.13"
  }
 },
 "nbformat": 4,
 "nbformat_minor": 2
}
