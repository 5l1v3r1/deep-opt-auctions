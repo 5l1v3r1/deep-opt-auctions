{
 "cells": [
  {
   "cell_type": "code",
   "execution_count": 1,
   "metadata": {
    "collapsed": true
   },
   "outputs": [],
   "source": [
    "from __future__ import absolute_import\n",
    "from __future__ import division\n",
    "from __future__ import print_function\n",
    "\n",
    "import os\n",
    "import sys\n",
    "import numpy as np\n",
    "import tensorflow as tf\n",
    "import matplotlib.pyplot as plt\n",
    "\n",
    "from nets import *\n",
    "from cfgs import *\n",
    "from data import *\n",
    "from trainer import *"
   ]
  },
  {
   "cell_type": "code",
   "execution_count": 2,
   "metadata": {},
   "outputs": [
    {
     "name": "stdout",
     "output_type": "stream",
     "text": [
      "(40401, 2)\n"
     ]
    }
   ],
   "source": [
    "%matplotlib inline\n",
    "save_plot = False\n",
    "plt.rcParams.update({'font.size': 10, 'axes.labelsize': 'x-large'})\n",
    "D = 201\n",
    "\n",
    "x = np.linspace(0, 1.0, D)\n",
    "X_tst = np.stack([v.flatten() for v in np.meshgrid(x,x)], axis = -1)\n",
    "X_tst[:,0] = X_tst[:,0] * 12.0 + 4.0\n",
    "X_tst[:,1] = X_tst[:,1] * 3.0 + 4.0\n",
    "print(X_tst.shape)\n",
    "\n",
    "cfg = additive_1x2_uniform_416_47_config.cfg\n",
    "cfg.test.batch_size = D\n",
    "cfg.test.num_batches = int(X_tst.shape[0]/cfg.test.batch_size)\n",
    "cfg.test.save_output = True"
   ]
  },
  {
   "cell_type": "code",
   "execution_count": 3,
   "metadata": {
    "collapsed": true
   },
   "outputs": [],
   "source": [
    "Net = additive_net.Net\n",
    "Generator = uniform_416_47_generator.Generator\n",
    "Trainer = trainer.Trainer"
   ]
  },
  {
   "cell_type": "code",
   "execution_count": 4,
   "metadata": {},
   "outputs": [
    {
     "name": "stdout",
     "output_type": "stream",
     "text": [
      "INFO:tensorflow:Restoring parameters from experiments/additive_1x2_uniform_416_47/model-400000\n"
     ]
    },
    {
     "name": "stderr",
     "output_type": "stream",
     "text": [
      "2019-01-30 00:43:07,517:INFO:Restoring parameters from experiments/additive_1x2_uniform_416_47/model-400000\n",
      "2019-01-30 00:43:10,831:INFO:TEST BATCH-0: t = 3.2809, Net_Loss: -7.976263, Revenue: 7.976263\n",
      "2019-01-30 00:43:10,836:INFO:TEST BATCH-1: t = 3.2827, Net_Loss: -7.976263, Revenue: 7.976263\n",
      "2019-01-30 00:43:10,840:INFO:TEST BATCH-2: t = 3.2845, Net_Loss: -7.976263, Revenue: 7.976263\n",
      "2019-01-30 00:43:10,844:INFO:TEST BATCH-3: t = 3.2864, Net_Loss: -8.036236, Revenue: 8.036236\n",
      "2019-01-30 00:43:10,848:INFO:TEST BATCH-4: t = 3.2883, Net_Loss: -8.036236, Revenue: 8.036236\n",
      "2019-01-30 00:43:10,851:INFO:TEST BATCH-5: t = 3.2901, Net_Loss: -8.076189, Revenue: 8.076189\n",
      "2019-01-30 00:43:10,855:INFO:TEST BATCH-6: t = 3.2920, Net_Loss: -8.076189, Revenue: 8.076189\n",
      "2019-01-30 00:43:10,859:INFO:TEST BATCH-7: t = 3.2938, Net_Loss: -8.116145, Revenue: 8.116145\n",
      "2019-01-30 00:43:10,863:INFO:TEST BATCH-8: t = 3.2957, Net_Loss: -8.116145, Revenue: 8.116145\n",
      "2019-01-30 00:43:10,867:INFO:TEST BATCH-9: t = 3.2975, Net_Loss: -8.156098, Revenue: 8.156098\n",
      "2019-01-30 00:43:10,871:INFO:TEST BATCH-10: t = 3.2993, Net_Loss: -8.156098, Revenue: 8.156098\n",
      "2019-01-30 00:43:10,875:INFO:TEST BATCH-11: t = 3.3011, Net_Loss: -8.196054, Revenue: 8.196054\n",
      "2019-01-30 00:43:10,879:INFO:TEST BATCH-12: t = 3.3029, Net_Loss: -8.196054, Revenue: 8.196054\n",
      "2019-01-30 00:43:10,883:INFO:TEST BATCH-13: t = 3.3049, Net_Loss: -8.236008, Revenue: 8.236008\n",
      "2019-01-30 00:43:10,887:INFO:TEST BATCH-14: t = 3.3067, Net_Loss: -8.236008, Revenue: 8.236008\n",
      "2019-01-30 00:43:10,891:INFO:TEST BATCH-15: t = 3.3086, Net_Loss: -8.275964, Revenue: 8.275964\n",
      "2019-01-30 00:43:10,895:INFO:TEST BATCH-16: t = 3.3105, Net_Loss: -8.275964, Revenue: 8.275964\n",
      "2019-01-30 00:43:10,899:INFO:TEST BATCH-17: t = 3.3124, Net_Loss: -8.315917, Revenue: 8.315917\n",
      "2019-01-30 00:43:10,903:INFO:TEST BATCH-18: t = 3.3143, Net_Loss: -8.315917, Revenue: 8.315917\n",
      "2019-01-30 00:43:10,907:INFO:TEST BATCH-19: t = 3.3162, Net_Loss: -8.355872, Revenue: 8.355872\n",
      "2019-01-30 00:43:10,911:INFO:TEST BATCH-20: t = 3.3181, Net_Loss: -8.355872, Revenue: 8.355872\n",
      "2019-01-30 00:43:10,915:INFO:TEST BATCH-21: t = 3.3199, Net_Loss: -8.395826, Revenue: 8.395826\n",
      "2019-01-30 00:43:10,919:INFO:TEST BATCH-22: t = 3.3218, Net_Loss: -8.395826, Revenue: 8.395826\n",
      "2019-01-30 00:43:10,923:INFO:TEST BATCH-23: t = 3.3237, Net_Loss: -8.435781, Revenue: 8.435781\n",
      "2019-01-30 00:43:10,927:INFO:TEST BATCH-24: t = 3.3256, Net_Loss: -8.435781, Revenue: 8.435781\n",
      "2019-01-30 00:43:10,931:INFO:TEST BATCH-25: t = 3.3275, Net_Loss: -8.475736, Revenue: 8.475736\n",
      "2019-01-30 00:43:10,935:INFO:TEST BATCH-26: t = 3.3293, Net_Loss: -8.475736, Revenue: 8.475736\n",
      "2019-01-30 00:43:10,939:INFO:TEST BATCH-27: t = 3.3312, Net_Loss: -8.515690, Revenue: 8.515690\n",
      "2019-01-30 00:43:10,943:INFO:TEST BATCH-28: t = 3.3332, Net_Loss: -8.515690, Revenue: 8.515690\n",
      "2019-01-30 00:43:10,947:INFO:TEST BATCH-29: t = 3.3350, Net_Loss: -8.555645, Revenue: 8.555645\n",
      "2019-01-30 00:43:10,951:INFO:TEST BATCH-30: t = 3.3369, Net_Loss: -8.555645, Revenue: 8.555645\n",
      "2019-01-30 00:43:10,955:INFO:TEST BATCH-31: t = 3.3394, Net_Loss: -8.595599, Revenue: 8.595599\n",
      "2019-01-30 00:43:10,959:INFO:TEST BATCH-32: t = 3.3424, Net_Loss: -8.595599, Revenue: 8.595599\n",
      "2019-01-30 00:43:10,962:INFO:TEST BATCH-33: t = 3.3451, Net_Loss: -8.635554, Revenue: 8.635554\n",
      "2019-01-30 00:43:10,966:INFO:TEST BATCH-34: t = 3.3477, Net_Loss: -8.635554, Revenue: 8.635554\n",
      "2019-01-30 00:43:10,969:INFO:TEST BATCH-35: t = 3.3503, Net_Loss: -8.675508, Revenue: 8.675508\n",
      "2019-01-30 00:43:10,972:INFO:TEST BATCH-36: t = 3.3521, Net_Loss: -8.675508, Revenue: 8.675508\n",
      "2019-01-30 00:43:10,976:INFO:TEST BATCH-37: t = 3.3545, Net_Loss: -8.715464, Revenue: 8.715464\n",
      "2019-01-30 00:43:10,980:INFO:TEST BATCH-38: t = 3.3568, Net_Loss: -8.715464, Revenue: 8.715464\n",
      "2019-01-30 00:43:10,984:INFO:TEST BATCH-39: t = 3.3596, Net_Loss: -8.755418, Revenue: 8.755418\n",
      "2019-01-30 00:43:10,987:INFO:TEST BATCH-40: t = 3.3621, Net_Loss: -8.755418, Revenue: 8.755418\n",
      "2019-01-30 00:43:10,991:INFO:TEST BATCH-41: t = 3.3645, Net_Loss: -8.795372, Revenue: 8.795372\n",
      "2019-01-30 00:43:10,994:INFO:TEST BATCH-42: t = 3.3671, Net_Loss: -8.795372, Revenue: 8.795372\n",
      "2019-01-30 00:43:10,997:INFO:TEST BATCH-43: t = 3.3693, Net_Loss: -8.835327, Revenue: 8.835327\n",
      "2019-01-30 00:43:11,001:INFO:TEST BATCH-44: t = 3.3717, Net_Loss: -8.835327, Revenue: 8.835327\n",
      "2019-01-30 00:43:11,007:INFO:TEST BATCH-45: t = 3.3766, Net_Loss: -8.875281, Revenue: 8.875281\n",
      "2019-01-30 00:43:11,011:INFO:TEST BATCH-46: t = 3.3791, Net_Loss: -8.875281, Revenue: 8.875281\n",
      "2019-01-30 00:43:11,015:INFO:TEST BATCH-47: t = 3.3816, Net_Loss: -8.915236, Revenue: 8.915236\n",
      "2019-01-30 00:43:11,018:INFO:TEST BATCH-48: t = 3.3847, Net_Loss: -8.915236, Revenue: 8.915236\n",
      "2019-01-30 00:43:11,021:INFO:TEST BATCH-49: t = 3.3870, Net_Loss: -8.955191, Revenue: 8.955191\n",
      "2019-01-30 00:43:11,025:INFO:TEST BATCH-50: t = 3.3889, Net_Loss: -8.955191, Revenue: 8.955191\n",
      "2019-01-30 00:43:11,029:INFO:TEST BATCH-51: t = 3.3914, Net_Loss: -8.995146, Revenue: 8.995146\n",
      "2019-01-30 00:43:11,032:INFO:TEST BATCH-52: t = 3.3939, Net_Loss: -8.995146, Revenue: 8.995146\n",
      "2019-01-30 00:43:11,036:INFO:TEST BATCH-53: t = 3.3971, Net_Loss: -9.035100, Revenue: 9.035100\n",
      "2019-01-30 00:43:11,040:INFO:TEST BATCH-54: t = 3.3993, Net_Loss: -9.035100, Revenue: 9.035100\n",
      "2019-01-30 00:43:11,044:INFO:TEST BATCH-55: t = 3.4026, Net_Loss: -9.075055, Revenue: 9.075055\n",
      "2019-01-30 00:43:11,048:INFO:TEST BATCH-56: t = 3.4053, Net_Loss: -9.075055, Revenue: 9.075055\n",
      "2019-01-30 00:43:11,052:INFO:TEST BATCH-57: t = 3.4087, Net_Loss: -9.115009, Revenue: 9.115009\n",
      "2019-01-30 00:43:11,056:INFO:TEST BATCH-58: t = 3.4116, Net_Loss: -9.115009, Revenue: 9.115009\n",
      "2019-01-30 00:43:11,060:INFO:TEST BATCH-59: t = 3.4149, Net_Loss: -9.154964, Revenue: 9.154964\n",
      "2019-01-30 00:43:11,064:INFO:TEST BATCH-60: t = 3.4178, Net_Loss: -9.154964, Revenue: 9.154964\n",
      "2019-01-30 00:43:11,068:INFO:TEST BATCH-61: t = 3.4204, Net_Loss: -9.194919, Revenue: 9.194919\n",
      "2019-01-30 00:43:11,072:INFO:TEST BATCH-62: t = 3.4230, Net_Loss: -9.194919, Revenue: 9.194919\n",
      "2019-01-30 00:43:11,077:INFO:TEST BATCH-63: t = 3.4263, Net_Loss: -9.234873, Revenue: 9.234873\n",
      "2019-01-30 00:43:11,080:INFO:TEST BATCH-64: t = 3.4288, Net_Loss: -9.234873, Revenue: 9.234873\n",
      "2019-01-30 00:43:11,084:INFO:TEST BATCH-65: t = 3.4312, Net_Loss: -9.274828, Revenue: 9.274828\n",
      "2019-01-30 00:43:11,087:INFO:TEST BATCH-66: t = 3.4338, Net_Loss: -9.274828, Revenue: 9.274828\n",
      "2019-01-30 00:43:11,091:INFO:TEST BATCH-67: t = 3.4363, Net_Loss: -9.314782, Revenue: 9.314782\n",
      "2019-01-30 00:43:11,095:INFO:TEST BATCH-68: t = 3.4396, Net_Loss: -9.314782, Revenue: 9.314782\n",
      "2019-01-30 00:43:11,099:INFO:TEST BATCH-69: t = 3.4428, Net_Loss: -9.354737, Revenue: 9.354737\n",
      "2019-01-30 00:43:11,104:INFO:TEST BATCH-70: t = 3.4459, Net_Loss: -9.354737, Revenue: 9.354737\n",
      "2019-01-30 00:43:11,107:INFO:TEST BATCH-71: t = 3.4484, Net_Loss: -9.394691, Revenue: 9.394691\n",
      "2019-01-30 00:43:11,111:INFO:TEST BATCH-72: t = 3.4516, Net_Loss: -9.394691, Revenue: 9.394691\n",
      "2019-01-30 00:43:11,115:INFO:TEST BATCH-73: t = 3.4539, Net_Loss: -9.434647, Revenue: 9.434647\n",
      "2019-01-30 00:43:11,119:INFO:TEST BATCH-74: t = 3.4564, Net_Loss: -9.434647, Revenue: 9.434647\n",
      "2019-01-30 00:43:11,123:INFO:TEST BATCH-75: t = 3.4588, Net_Loss: -9.474600, Revenue: 9.474600\n",
      "2019-01-30 00:43:11,127:INFO:TEST BATCH-76: t = 3.4606, Net_Loss: -9.474600, Revenue: 9.474600\n",
      "2019-01-30 00:43:11,130:INFO:TEST BATCH-77: t = 3.4631, Net_Loss: -9.514554, Revenue: 9.514554\n",
      "2019-01-30 00:43:11,134:INFO:TEST BATCH-78: t = 3.4650, Net_Loss: -9.514554, Revenue: 9.514554\n",
      "2019-01-30 00:43:11,138:INFO:TEST BATCH-79: t = 3.4668, Net_Loss: -9.554509, Revenue: 9.554509\n",
      "2019-01-30 00:43:11,142:INFO:TEST BATCH-80: t = 3.4695, Net_Loss: -9.554509, Revenue: 9.554509\n",
      "2019-01-30 00:43:11,146:INFO:TEST BATCH-81: t = 3.4713, Net_Loss: -9.594463, Revenue: 9.594463\n",
      "2019-01-30 00:43:11,152:INFO:TEST BATCH-82: t = 3.4747, Net_Loss: -9.594463, Revenue: 9.594463\n",
      "2019-01-30 00:43:11,156:INFO:TEST BATCH-83: t = 3.4777, Net_Loss: -9.634418, Revenue: 9.634418\n",
      "2019-01-30 00:43:11,159:INFO:TEST BATCH-84: t = 3.4803, Net_Loss: -9.634418, Revenue: 9.634418\n",
      "2019-01-30 00:43:11,163:INFO:TEST BATCH-85: t = 3.4831, Net_Loss: -9.674373, Revenue: 9.674373\n"
     ]
    },
    {
     "name": "stderr",
     "output_type": "stream",
     "text": [
      "2019-01-30 00:43:11,167:INFO:TEST BATCH-86: t = 3.4860, Net_Loss: -9.674373, Revenue: 9.674373\n",
      "2019-01-30 00:43:11,171:INFO:TEST BATCH-87: t = 3.4886, Net_Loss: -9.714327, Revenue: 9.714327\n",
      "2019-01-30 00:43:11,176:INFO:TEST BATCH-88: t = 3.4909, Net_Loss: -9.714327, Revenue: 9.714327\n",
      "2019-01-30 00:43:11,181:INFO:TEST BATCH-89: t = 3.4944, Net_Loss: -9.754282, Revenue: 9.754282\n",
      "2019-01-30 00:43:11,184:INFO:TEST BATCH-90: t = 3.4969, Net_Loss: -9.794236, Revenue: 9.794236\n",
      "2019-01-30 00:43:11,188:INFO:TEST BATCH-91: t = 3.5000, Net_Loss: -9.794236, Revenue: 9.794236\n",
      "2019-01-30 00:43:11,193:INFO:TEST BATCH-92: t = 3.5037, Net_Loss: -9.834191, Revenue: 9.834191\n",
      "2019-01-30 00:43:11,196:INFO:TEST BATCH-93: t = 3.5055, Net_Loss: -9.834191, Revenue: 9.834191\n",
      "2019-01-30 00:43:11,200:INFO:TEST BATCH-94: t = 3.5078, Net_Loss: -9.874146, Revenue: 9.874146\n",
      "2019-01-30 00:43:11,206:INFO:TEST BATCH-95: t = 3.5108, Net_Loss: -9.874146, Revenue: 9.874146\n",
      "2019-01-30 00:43:11,208:INFO:TEST BATCH-96: t = 3.5129, Net_Loss: -9.914101, Revenue: 9.914101\n",
      "2019-01-30 00:43:11,212:INFO:TEST BATCH-97: t = 3.5158, Net_Loss: -9.914101, Revenue: 9.914101\n",
      "2019-01-30 00:43:11,216:INFO:TEST BATCH-98: t = 3.5185, Net_Loss: -9.954055, Revenue: 9.954055\n",
      "2019-01-30 00:43:11,219:INFO:TEST BATCH-99: t = 3.5210, Net_Loss: -9.954055, Revenue: 9.954055\n",
      "2019-01-30 00:43:11,223:INFO:TEST BATCH-100: t = 3.5239, Net_Loss: -9.994010, Revenue: 9.994010\n",
      "2019-01-30 00:43:11,228:INFO:TEST BATCH-101: t = 3.5280, Net_Loss: -9.994010, Revenue: 9.994010\n",
      "2019-01-30 00:43:11,231:INFO:TEST BATCH-102: t = 3.5300, Net_Loss: -10.033964, Revenue: 10.033964\n",
      "2019-01-30 00:43:11,235:INFO:TEST BATCH-103: t = 3.5325, Net_Loss: -10.033964, Revenue: 10.033964\n",
      "2019-01-30 00:43:11,239:INFO:TEST BATCH-104: t = 3.5343, Net_Loss: -10.073918, Revenue: 10.073918\n",
      "2019-01-30 00:43:11,244:INFO:TEST BATCH-105: t = 3.5372, Net_Loss: -10.073918, Revenue: 10.073918\n",
      "2019-01-30 00:43:11,248:INFO:TEST BATCH-106: t = 3.5397, Net_Loss: -10.113873, Revenue: 10.113873\n",
      "2019-01-30 00:43:11,251:INFO:TEST BATCH-107: t = 3.5419, Net_Loss: -10.113873, Revenue: 10.113873\n",
      "2019-01-30 00:43:11,254:INFO:TEST BATCH-108: t = 3.5444, Net_Loss: -10.153828, Revenue: 10.153828\n",
      "2019-01-30 00:43:11,258:INFO:TEST BATCH-109: t = 3.5469, Net_Loss: -10.153828, Revenue: 10.153828\n",
      "2019-01-30 00:43:11,262:INFO:TEST BATCH-110: t = 3.5502, Net_Loss: -10.193783, Revenue: 10.193783\n",
      "2019-01-30 00:43:11,265:INFO:TEST BATCH-111: t = 3.5526, Net_Loss: -10.193783, Revenue: 10.193783\n",
      "2019-01-30 00:43:11,270:INFO:TEST BATCH-112: t = 3.5559, Net_Loss: -10.233737, Revenue: 10.233737\n",
      "2019-01-30 00:43:11,274:INFO:TEST BATCH-113: t = 3.5587, Net_Loss: -10.233737, Revenue: 10.233737\n",
      "2019-01-30 00:43:11,278:INFO:TEST BATCH-114: t = 3.5619, Net_Loss: -10.273692, Revenue: 10.273692\n",
      "2019-01-30 00:43:11,282:INFO:TEST BATCH-115: t = 3.5654, Net_Loss: -10.273692, Revenue: 10.273692\n",
      "2019-01-30 00:43:11,285:INFO:TEST BATCH-116: t = 3.5678, Net_Loss: -10.313646, Revenue: 10.313646\n",
      "2019-01-30 00:43:11,289:INFO:TEST BATCH-117: t = 3.5706, Net_Loss: -10.313646, Revenue: 10.313646\n",
      "2019-01-30 00:43:11,292:INFO:TEST BATCH-118: t = 3.5729, Net_Loss: -10.353601, Revenue: 10.353601\n",
      "2019-01-30 00:43:11,296:INFO:TEST BATCH-119: t = 3.5754, Net_Loss: -10.353601, Revenue: 10.353601\n",
      "2019-01-30 00:43:11,300:INFO:TEST BATCH-120: t = 3.5784, Net_Loss: -10.393556, Revenue: 10.393556\n",
      "2019-01-30 00:43:11,304:INFO:TEST BATCH-121: t = 3.5808, Net_Loss: -10.393556, Revenue: 10.393556\n",
      "2019-01-30 00:43:11,308:INFO:TEST BATCH-122: t = 3.5837, Net_Loss: -10.433510, Revenue: 10.433510\n",
      "2019-01-30 00:43:11,311:INFO:TEST BATCH-123: t = 3.5865, Net_Loss: -10.433510, Revenue: 10.433510\n",
      "2019-01-30 00:43:11,315:INFO:TEST BATCH-124: t = 3.5892, Net_Loss: -10.473465, Revenue: 10.473465\n",
      "2019-01-30 00:43:11,318:INFO:TEST BATCH-125: t = 3.5912, Net_Loss: -10.473465, Revenue: 10.473465\n",
      "2019-01-30 00:43:11,321:INFO:TEST BATCH-126: t = 3.5935, Net_Loss: -10.513419, Revenue: 10.513419\n",
      "2019-01-30 00:43:11,325:INFO:TEST BATCH-127: t = 3.5953, Net_Loss: -10.513419, Revenue: 10.513419\n",
      "2019-01-30 00:43:11,330:INFO:TEST BATCH-128: t = 3.5981, Net_Loss: -10.553374, Revenue: 10.553374\n",
      "2019-01-30 00:43:11,333:INFO:TEST BATCH-129: t = 3.6005, Net_Loss: -10.553374, Revenue: 10.553374\n",
      "2019-01-30 00:43:11,337:INFO:TEST BATCH-130: t = 3.6031, Net_Loss: -10.593328, Revenue: 10.593328\n",
      "2019-01-30 00:43:11,341:INFO:TEST BATCH-131: t = 3.6067, Net_Loss: -10.593328, Revenue: 10.593328\n",
      "2019-01-30 00:43:11,344:INFO:TEST BATCH-132: t = 3.6092, Net_Loss: -10.633284, Revenue: 10.633284\n",
      "2019-01-30 00:43:11,348:INFO:TEST BATCH-133: t = 3.6111, Net_Loss: -10.633284, Revenue: 10.633284\n",
      "2019-01-30 00:43:11,352:INFO:TEST BATCH-134: t = 3.6137, Net_Loss: -10.673238, Revenue: 10.673238\n",
      "2019-01-30 00:43:11,355:INFO:TEST BATCH-135: t = 3.6162, Net_Loss: -10.673238, Revenue: 10.673238\n",
      "2019-01-30 00:43:11,360:INFO:TEST BATCH-136: t = 3.6194, Net_Loss: -10.713193, Revenue: 10.713193\n",
      "2019-01-30 00:43:11,364:INFO:TEST BATCH-137: t = 3.6222, Net_Loss: -10.713193, Revenue: 10.713193\n",
      "2019-01-30 00:43:11,367:INFO:TEST BATCH-138: t = 3.6251, Net_Loss: -10.713193, Revenue: 10.713193\n",
      "2019-01-30 00:43:11,371:INFO:TEST BATCH-139: t = 3.6279, Net_Loss: -10.713193, Revenue: 10.713193\n",
      "2019-01-30 00:43:11,374:INFO:TEST BATCH-140: t = 3.6301, Net_Loss: -10.713193, Revenue: 10.713193\n",
      "2019-01-30 00:43:11,378:INFO:TEST BATCH-141: t = 3.6330, Net_Loss: -10.713193, Revenue: 10.713193\n",
      "2019-01-30 00:43:11,381:INFO:TEST BATCH-142: t = 3.6357, Net_Loss: -10.713193, Revenue: 10.713193\n",
      "2019-01-30 00:43:11,386:INFO:TEST BATCH-143: t = 3.6390, Net_Loss: -10.713193, Revenue: 10.713193\n",
      "2019-01-30 00:43:11,389:INFO:TEST BATCH-144: t = 3.6412, Net_Loss: -10.713193, Revenue: 10.713193\n",
      "2019-01-30 00:43:11,392:INFO:TEST BATCH-145: t = 3.6433, Net_Loss: -10.713193, Revenue: 10.713193\n",
      "2019-01-30 00:43:11,397:INFO:TEST BATCH-146: t = 3.6456, Net_Loss: -10.713193, Revenue: 10.713193\n",
      "2019-01-30 00:43:11,400:INFO:TEST BATCH-147: t = 3.6480, Net_Loss: -10.713193, Revenue: 10.713193\n",
      "2019-01-30 00:43:11,405:INFO:TEST BATCH-148: t = 3.6507, Net_Loss: -10.713193, Revenue: 10.713193\n",
      "2019-01-30 00:43:11,408:INFO:TEST BATCH-149: t = 3.6525, Net_Loss: -10.713193, Revenue: 10.713193\n",
      "2019-01-30 00:43:11,413:INFO:TEST BATCH-150: t = 3.6558, Net_Loss: -10.713193, Revenue: 10.713193\n",
      "2019-01-30 00:43:11,416:INFO:TEST BATCH-151: t = 3.6586, Net_Loss: -10.713193, Revenue: 10.713193\n",
      "2019-01-30 00:43:11,420:INFO:TEST BATCH-152: t = 3.6611, Net_Loss: -10.713193, Revenue: 10.713193\n",
      "2019-01-30 00:43:11,424:INFO:TEST BATCH-153: t = 3.6640, Net_Loss: -10.713193, Revenue: 10.713193\n",
      "2019-01-30 00:43:11,427:INFO:TEST BATCH-154: t = 3.6668, Net_Loss: -10.713193, Revenue: 10.713193\n",
      "2019-01-30 00:43:11,431:INFO:TEST BATCH-155: t = 3.6695, Net_Loss: -10.713193, Revenue: 10.713193\n",
      "2019-01-30 00:43:11,435:INFO:TEST BATCH-156: t = 3.6724, Net_Loss: -10.713193, Revenue: 10.713193\n",
      "2019-01-30 00:43:11,439:INFO:TEST BATCH-157: t = 3.6751, Net_Loss: -10.713193, Revenue: 10.713193\n",
      "2019-01-30 00:43:11,442:INFO:TEST BATCH-158: t = 3.6776, Net_Loss: -10.713193, Revenue: 10.713193\n",
      "2019-01-30 00:43:11,447:INFO:TEST BATCH-159: t = 3.6810, Net_Loss: -10.713193, Revenue: 10.713193\n",
      "2019-01-30 00:43:11,451:INFO:TEST BATCH-160: t = 3.6838, Net_Loss: -10.713193, Revenue: 10.713193\n",
      "2019-01-30 00:43:11,453:INFO:TEST BATCH-161: t = 3.6857, Net_Loss: -10.713193, Revenue: 10.713193\n",
      "2019-01-30 00:43:11,457:INFO:TEST BATCH-162: t = 3.6882, Net_Loss: -10.713193, Revenue: 10.713193\n",
      "2019-01-30 00:43:11,461:INFO:TEST BATCH-163: t = 3.6906, Net_Loss: -10.713193, Revenue: 10.713193\n",
      "2019-01-30 00:43:11,466:INFO:TEST BATCH-164: t = 3.6936, Net_Loss: -10.713193, Revenue: 10.713193\n",
      "2019-01-30 00:43:11,468:INFO:TEST BATCH-165: t = 3.6954, Net_Loss: -10.713193, Revenue: 10.713193\n",
      "2019-01-30 00:43:11,472:INFO:TEST BATCH-166: t = 3.6972, Net_Loss: -10.713193, Revenue: 10.713193\n",
      "2019-01-30 00:43:11,476:INFO:TEST BATCH-167: t = 3.6996, Net_Loss: -10.713193, Revenue: 10.713193\n",
      "2019-01-30 00:43:11,479:INFO:TEST BATCH-168: t = 3.7014, Net_Loss: -10.713193, Revenue: 10.713193\n",
      "2019-01-30 00:43:11,483:INFO:TEST BATCH-169: t = 3.7038, Net_Loss: -10.713193, Revenue: 10.713193\n",
      "2019-01-30 00:43:11,487:INFO:TEST BATCH-170: t = 3.7070, Net_Loss: -10.713193, Revenue: 10.713193\n"
     ]
    },
    {
     "name": "stderr",
     "output_type": "stream",
     "text": [
      "2019-01-30 00:43:11,491:INFO:TEST BATCH-171: t = 3.7106, Net_Loss: -10.713193, Revenue: 10.713193\n",
      "2019-01-30 00:43:11,494:INFO:TEST BATCH-172: t = 3.7124, Net_Loss: -10.713193, Revenue: 10.713193\n",
      "2019-01-30 00:43:11,498:INFO:TEST BATCH-173: t = 3.7154, Net_Loss: -10.713193, Revenue: 10.713193\n",
      "2019-01-30 00:43:11,502:INFO:TEST BATCH-174: t = 3.7182, Net_Loss: -10.713193, Revenue: 10.713193\n",
      "2019-01-30 00:43:11,505:INFO:TEST BATCH-175: t = 3.7211, Net_Loss: -10.713193, Revenue: 10.713193\n",
      "2019-01-30 00:43:11,510:INFO:TEST BATCH-176: t = 3.7243, Net_Loss: -10.713193, Revenue: 10.713193\n",
      "2019-01-30 00:43:11,514:INFO:TEST BATCH-177: t = 3.7271, Net_Loss: -10.713193, Revenue: 10.713193\n",
      "2019-01-30 00:43:11,517:INFO:TEST BATCH-178: t = 3.7289, Net_Loss: -10.713193, Revenue: 10.713193\n",
      "2019-01-30 00:43:11,522:INFO:TEST BATCH-179: t = 3.7315, Net_Loss: -10.713193, Revenue: 10.713193\n",
      "2019-01-30 00:43:11,525:INFO:TEST BATCH-180: t = 3.7342, Net_Loss: -10.713193, Revenue: 10.713193\n",
      "2019-01-30 00:43:11,534:INFO:TEST BATCH-181: t = 3.7423, Net_Loss: -10.713193, Revenue: 10.713193\n",
      "2019-01-30 00:43:11,538:INFO:TEST BATCH-182: t = 3.7452, Net_Loss: -10.713193, Revenue: 10.713193\n",
      "2019-01-30 00:43:11,542:INFO:TEST BATCH-183: t = 3.7484, Net_Loss: -10.713193, Revenue: 10.713193\n",
      "2019-01-30 00:43:11,545:INFO:TEST BATCH-184: t = 3.7507, Net_Loss: -10.713193, Revenue: 10.713193\n",
      "2019-01-30 00:43:11,549:INFO:TEST BATCH-185: t = 3.7534, Net_Loss: -10.713193, Revenue: 10.713193\n",
      "2019-01-30 00:43:11,553:INFO:TEST BATCH-186: t = 3.7566, Net_Loss: -10.713193, Revenue: 10.713193\n",
      "2019-01-30 00:43:11,556:INFO:TEST BATCH-187: t = 3.7589, Net_Loss: -10.713193, Revenue: 10.713193\n",
      "2019-01-30 00:43:11,560:INFO:TEST BATCH-188: t = 3.7625, Net_Loss: -10.713193, Revenue: 10.713193\n",
      "2019-01-30 00:43:11,564:INFO:TEST BATCH-189: t = 3.7652, Net_Loss: -10.713193, Revenue: 10.713193\n",
      "2019-01-30 00:43:11,568:INFO:TEST BATCH-190: t = 3.7681, Net_Loss: -10.713193, Revenue: 10.713193\n",
      "2019-01-30 00:43:11,572:INFO:TEST BATCH-191: t = 3.7710, Net_Loss: -10.713193, Revenue: 10.713193\n",
      "2019-01-30 00:43:11,576:INFO:TEST BATCH-192: t = 3.7745, Net_Loss: -10.713193, Revenue: 10.713193\n",
      "2019-01-30 00:43:11,579:INFO:TEST BATCH-193: t = 3.7769, Net_Loss: -10.713193, Revenue: 10.713193\n",
      "2019-01-30 00:43:11,584:INFO:TEST BATCH-194: t = 3.7802, Net_Loss: -10.713193, Revenue: 10.713193\n",
      "2019-01-30 00:43:11,588:INFO:TEST BATCH-195: t = 3.7836, Net_Loss: -10.713193, Revenue: 10.713193\n",
      "2019-01-30 00:43:11,591:INFO:TEST BATCH-196: t = 3.7853, Net_Loss: -10.713193, Revenue: 10.713193\n",
      "2019-01-30 00:43:11,595:INFO:TEST BATCH-197: t = 3.7883, Net_Loss: -10.713193, Revenue: 10.713193\n",
      "2019-01-30 00:43:11,598:INFO:TEST BATCH-198: t = 3.7911, Net_Loss: -10.713193, Revenue: 10.713193\n",
      "2019-01-30 00:43:11,602:INFO:TEST BATCH-199: t = 3.7939, Net_Loss: -10.713193, Revenue: 10.713193\n",
      "2019-01-30 00:43:11,606:INFO:TEST BATCH-200: t = 3.7967, Net_Loss: -10.713193, Revenue: 10.713193\n",
      "2019-01-30 00:43:11,606:INFO:TEST ALL-400000: t = 3.7967, Net_Loss: -9.771476, Revenue: 9.771476\n"
     ]
    }
   ],
   "source": [
    "net = Net(cfg, \"test\")\n",
    "generator = Generator(cfg, 'test', X_tst)\n",
    "m = Trainer(cfg, \"test\", net)\n",
    "m.test(generator)"
   ]
  },
  {
   "cell_type": "code",
   "execution_count": 5,
   "metadata": {
    "collapsed": true
   },
   "outputs": [],
   "source": [
    "alloc = np.load(os.path.join(cfg.dir_name, \"alloc_tst_\" + str(cfg.test.restore_iter) + \".npy\")).reshape(D,D,2)"
   ]
  },
  {
   "cell_type": "code",
   "execution_count": 6,
   "metadata": {},
   "outputs": [
    {
     "data": {
      "image/png": "[encoded data removed]",
      "text/plain": [
       "<matplotlib.figure.Figure at 0x2b82c83b1dd0>"
      ]
     },
     "metadata": {},
     "output_type": "display_data"
    }
   ],
   "source": [
    "points = [(4, 6), (8, 4), (8, 7)]\n",
    "x = list(map(lambda x: x[0], points))\n",
    "y = list(map(lambda x: x[1], points))\n",
    "        \n",
    "fig, ax = plt.subplots(ncols = 1, nrows = 1, figsize=(8,6))\n",
    "\n",
    "plt.plot(x, y, linewidth = 2, linestyle = '--', c='black')\n",
    "img = ax.imshow(alloc[::-1, :, 0], extent=[4,16,4,7], vmin = 0.0, vmax=1.0, cmap = 'YlOrRd', aspect=4)\n",
    "                    \n",
    "plt.text(5, 4.5, s='0', color='black', fontsize='10', fontweight='bold')\n",
    "plt.text(5.25, 6, s='0.5', color='black', fontsize='10', fontweight='bold')\n",
    "plt.text(11.5, 5.5, s='1', color='black', fontsize='10', fontweight='bold')\n",
    "\n",
    "ax.set_xlabel('$v_1$')\n",
    "ax.set_ylabel('$v_2$')\n",
    "plt.title('Prob. of allocating item 1')\n",
    "plt.colorbar(img, fraction=0.046, pad=0.04)\n",
    "if save_plot:\n",
    "    fig.set_size_inches(4, 3)\n",
    "    plt.savefig(os.path.join(cfg.dir_name, 'alloc1.pdf'), bbox_inches = 'tight', pad_inches = 0.05)"
   ]
  },
  {
   "cell_type": "code",
   "execution_count": 7,
   "metadata": {},
   "outputs": [
    {
     "data": {
      "image/png": "[encoded data removed]",
      "text/plain": [
       "<matplotlib.figure.Figure at 0x2b832ea02650>"
      ]
     },
     "metadata": {},
     "output_type": "display_data"
    }
   ],
   "source": [
    "points = [(4, 6), (8, 4)]\n",
    "\n",
    "x = list(map(lambda x: x[0], points))\n",
    "y = list(map(lambda x: x[1], points))\n",
    "        \n",
    "fig, ax = plt.subplots(ncols = 1, nrows = 1, figsize=(8,6))\n",
    "\n",
    "plt.plot(x, y, linewidth = 2, linestyle = '--', c='black')\n",
    "img = ax.imshow(alloc[::-1, :, 1], extent=[4,16,4,7], vmin = 0.0, vmax=1.0, cmap = 'YlOrRd', aspect=4)\n",
    "                    \n",
    "plt.text(5, 4.5, s='0', color='black', fontsize='10', fontweight='bold')\n",
    "plt.text(11.5, 5.5, s='1', color='black', fontsize='10', fontweight='bold')\n",
    "\n",
    "ax.set_xlabel('$v_1$')\n",
    "ax.set_ylabel('$v_2$')\n",
    "plt.title('Prob. of allocating item 2')\n",
    "plt.colorbar(img, fraction=0.046, pad=0.04)\n",
    "if save_plot:\n",
    "    fig.set_size_inches(4, 3)\n",
    "    plt.savefig(os.path.join(cfg.dir_name, 'alloc2.pdf'), bbox_inches = 'tight', pad_inches = 0.05)"
   ]
  },
  {
   "cell_type": "code",
   "execution_count": null,
   "metadata": {
    "collapsed": true
   },
   "outputs": [],
   "source": []
  }
 ],
 "metadata": {
  "kernelspec": {
   "display_name": "Python 2",
   "language": "python",
   "name": "python2"
  },
  "language_info": {
   "codemirror_mode": {
    "name": "ipython",
    "version": 2
   },
   "file_extension": ".py",
   "mimetype": "text/x-python",
   "name": "python",
   "nbconvert_exporter": "python",
   "pygments_lexer": "ipython2",
   "version": "2.7.13"
  }
 },
 "nbformat": 4,
 "nbformat_minor": 2
}
