{
 "cells": [
  {
   "cell_type": "code",
   "execution_count": 1,
   "metadata": {
    "collapsed": true
   },
   "outputs": [],
   "source": [
    "from __future__ import absolute_import\n",
    "from __future__ import division\n",
    "from __future__ import print_function\n",
    "\n",
    "import os\n",
    "import sys\n",
    "import numpy as np\n",
    "import tensorflow as tf\n",
    "import matplotlib.pyplot as plt\n",
    "\n",
    "from nets import *\n",
    "from cfgs import *\n",
    "from data import *\n",
    "from trainer import *"
   ]
  },
  {
   "cell_type": "code",
   "execution_count": 2,
   "metadata": {},
   "outputs": [
    {
     "name": "stdout",
     "output_type": "stream",
     "text": [
      "(10201, 2)\n"
     ]
    }
   ],
   "source": [
    "%matplotlib inline\n",
    "save_plot = False\n",
    "plt.rcParams.update({'font.size': 10, 'axes.labelsize': 'x-large'})\n",
    "D = 101\n",
    "\n",
    "x = np.linspace(0, 1.0, D)\n",
    "X_tst = np.stack([v.flatten() for v in np.meshgrid(x,x)], axis = -1)\n",
    "print(X_tst.shape)\n",
    "\n",
    "cfg = additive_1x2_uniform_config.cfg\n",
    "cfg.test.batch_size = D\n",
    "cfg.test.num_batches = int(X_tst.shape[0]/cfg.test.batch_size)\n",
    "cfg.test.save_output = True"
   ]
  },
  {
   "cell_type": "code",
   "execution_count": 3,
   "metadata": {
    "collapsed": true
   },
   "outputs": [],
   "source": [
    "Net = additive_net.Net\n",
    "Generator = uniform_01_generator.Generator\n",
    "Trainer = trainer.Trainer"
   ]
  },
  {
   "cell_type": "code",
   "execution_count": 4,
   "metadata": {},
   "outputs": [
    {
     "name": "stdout",
     "output_type": "stream",
     "text": [
      "INFO:tensorflow:Restoring parameters from experiments/additive_1x2_uniform/model-400000\n"
     ]
    },
    {
     "name": "stderr",
     "output_type": "stream",
     "text": [
      "2019-01-30 02:24:14,822:INFO:Restoring parameters from experiments/additive_1x2_uniform/model-400000\n",
      "2019-01-30 02:24:18,633:INFO:TEST BATCH-0: t = 3.7691, Net_Loss: -0.222798, Revenue: 0.222798\n",
      "2019-01-30 02:24:18,641:INFO:TEST BATCH-1: t = 3.7721, Net_Loss: -0.222798, Revenue: 0.222798\n",
      "2019-01-30 02:24:18,648:INFO:TEST BATCH-2: t = 3.7749, Net_Loss: -0.222798, Revenue: 0.222798\n",
      "2019-01-30 02:24:18,654:INFO:TEST BATCH-3: t = 3.7776, Net_Loss: -0.222798, Revenue: 0.222798\n",
      "2019-01-30 02:24:18,661:INFO:TEST BATCH-4: t = 3.7803, Net_Loss: -0.222798, Revenue: 0.222798\n",
      "2019-01-30 02:24:18,667:INFO:TEST BATCH-5: t = 3.7828, Net_Loss: -0.222798, Revenue: 0.222798\n",
      "2019-01-30 02:24:18,673:INFO:TEST BATCH-6: t = 3.7853, Net_Loss: -0.222798, Revenue: 0.222798\n",
      "2019-01-30 02:24:18,678:INFO:TEST BATCH-7: t = 3.7877, Net_Loss: -0.222798, Revenue: 0.222798\n",
      "2019-01-30 02:24:18,684:INFO:TEST BATCH-8: t = 3.7901, Net_Loss: -0.222798, Revenue: 0.222798\n",
      "2019-01-30 02:24:18,689:INFO:TEST BATCH-9: t = 3.7924, Net_Loss: -0.222798, Revenue: 0.222798\n",
      "2019-01-30 02:24:18,695:INFO:TEST BATCH-10: t = 3.7948, Net_Loss: -0.229351, Revenue: 0.229351\n",
      "2019-01-30 02:24:18,700:INFO:TEST BATCH-11: t = 3.7970, Net_Loss: -0.229351, Revenue: 0.229351\n",
      "2019-01-30 02:24:18,705:INFO:TEST BATCH-12: t = 3.7993, Net_Loss: -0.229351, Revenue: 0.229351\n",
      "2019-01-30 02:24:18,710:INFO:TEST BATCH-13: t = 3.8015, Net_Loss: -0.229351, Revenue: 0.229351\n",
      "2019-01-30 02:24:18,715:INFO:TEST BATCH-14: t = 3.8037, Net_Loss: -0.229351, Revenue: 0.229351\n",
      "2019-01-30 02:24:18,720:INFO:TEST BATCH-15: t = 3.8059, Net_Loss: -0.229351, Revenue: 0.229351\n",
      "2019-01-30 02:24:18,725:INFO:TEST BATCH-16: t = 3.8081, Net_Loss: -0.229351, Revenue: 0.229351\n",
      "2019-01-30 02:24:18,730:INFO:TEST BATCH-17: t = 3.8103, Net_Loss: -0.229351, Revenue: 0.229351\n",
      "2019-01-30 02:24:18,735:INFO:TEST BATCH-18: t = 3.8134, Net_Loss: -0.229351, Revenue: 0.229351\n",
      "2019-01-30 02:24:18,740:INFO:TEST BATCH-19: t = 3.8161, Net_Loss: -0.229351, Revenue: 0.229351\n",
      "2019-01-30 02:24:18,744:INFO:TEST BATCH-20: t = 3.8192, Net_Loss: -0.229351, Revenue: 0.229351\n",
      "2019-01-30 02:24:18,749:INFO:TEST BATCH-21: t = 3.8225, Net_Loss: -0.298683, Revenue: 0.298683\n",
      "2019-01-30 02:24:18,753:INFO:TEST BATCH-22: t = 3.8252, Net_Loss: -0.307217, Revenue: 0.307217\n",
      "2019-01-30 02:24:18,757:INFO:TEST BATCH-23: t = 3.8282, Net_Loss: -0.315751, Revenue: 0.315751\n",
      "2019-01-30 02:24:18,762:INFO:TEST BATCH-24: t = 3.8309, Net_Loss: -0.324284, Revenue: 0.324284\n",
      "2019-01-30 02:24:18,766:INFO:TEST BATCH-25: t = 3.8336, Net_Loss: -0.332818, Revenue: 0.332818\n",
      "2019-01-30 02:24:18,771:INFO:TEST BATCH-26: t = 3.8368, Net_Loss: -0.341352, Revenue: 0.341352\n",
      "2019-01-30 02:24:18,776:INFO:TEST BATCH-27: t = 3.8400, Net_Loss: -0.349886, Revenue: 0.349886\n",
      "2019-01-30 02:24:18,780:INFO:TEST BATCH-28: t = 3.8431, Net_Loss: -0.358420, Revenue: 0.358420\n",
      "2019-01-30 02:24:18,784:INFO:TEST BATCH-29: t = 3.8462, Net_Loss: -0.366953, Revenue: 0.366953\n",
      "2019-01-30 02:24:18,789:INFO:TEST BATCH-30: t = 3.8494, Net_Loss: -0.375487, Revenue: 0.375487\n",
      "2019-01-30 02:24:18,793:INFO:TEST BATCH-31: t = 3.8521, Net_Loss: -0.384021, Revenue: 0.384021\n",
      "2019-01-30 02:24:18,797:INFO:TEST BATCH-32: t = 3.8548, Net_Loss: -0.392555, Revenue: 0.392555\n",
      "2019-01-30 02:24:18,802:INFO:TEST BATCH-33: t = 3.8578, Net_Loss: -0.401089, Revenue: 0.401089\n",
      "2019-01-30 02:24:18,806:INFO:TEST BATCH-34: t = 3.8610, Net_Loss: -0.409622, Revenue: 0.409622\n",
      "2019-01-30 02:24:18,811:INFO:TEST BATCH-35: t = 3.8636, Net_Loss: -0.418156, Revenue: 0.418156\n",
      "2019-01-30 02:24:18,815:INFO:TEST BATCH-36: t = 3.8665, Net_Loss: -0.426690, Revenue: 0.426690\n",
      "2019-01-30 02:24:18,820:INFO:TEST BATCH-37: t = 3.8699, Net_Loss: -0.435224, Revenue: 0.435224\n",
      "2019-01-30 02:24:18,824:INFO:TEST BATCH-38: t = 3.8725, Net_Loss: -0.443758, Revenue: 0.443758\n",
      "2019-01-30 02:24:18,829:INFO:TEST BATCH-39: t = 3.8755, Net_Loss: -0.452291, Revenue: 0.452291\n",
      "2019-01-30 02:24:18,833:INFO:TEST BATCH-40: t = 3.8782, Net_Loss: -0.460825, Revenue: 0.460825\n",
      "2019-01-30 02:24:18,838:INFO:TEST BATCH-41: t = 3.8804, Net_Loss: -0.469359, Revenue: 0.469359\n",
      "2019-01-30 02:24:18,843:INFO:TEST BATCH-42: t = 3.8827, Net_Loss: -0.477893, Revenue: 0.477893\n",
      "2019-01-30 02:24:18,847:INFO:TEST BATCH-43: t = 3.8855, Net_Loss: -0.486427, Revenue: 0.486427\n",
      "2019-01-30 02:24:18,852:INFO:TEST BATCH-44: t = 3.8876, Net_Loss: -0.494960, Revenue: 0.494960\n",
      "2019-01-30 02:24:18,857:INFO:TEST BATCH-45: t = 3.8907, Net_Loss: -0.503494, Revenue: 0.503494\n",
      "2019-01-30 02:24:18,863:INFO:TEST BATCH-46: t = 3.8950, Net_Loss: -0.512028, Revenue: 0.512028\n",
      "2019-01-30 02:24:18,867:INFO:TEST BATCH-47: t = 3.8977, Net_Loss: -0.520562, Revenue: 0.520562\n",
      "2019-01-30 02:24:18,871:INFO:TEST BATCH-48: t = 3.9012, Net_Loss: -0.529096, Revenue: 0.529096\n",
      "2019-01-30 02:24:18,876:INFO:TEST BATCH-49: t = 3.9038, Net_Loss: -0.537629, Revenue: 0.537629\n",
      "2019-01-30 02:24:18,881:INFO:TEST BATCH-50: t = 3.9072, Net_Loss: -0.546163, Revenue: 0.546163\n",
      "2019-01-30 02:24:18,886:INFO:TEST BATCH-51: t = 3.9109, Net_Loss: -0.554697, Revenue: 0.554697\n",
      "2019-01-30 02:24:18,890:INFO:TEST BATCH-52: t = 3.9137, Net_Loss: -0.563231, Revenue: 0.563231\n",
      "2019-01-30 02:24:18,895:INFO:TEST BATCH-53: t = 3.9168, Net_Loss: -0.571765, Revenue: 0.571765\n",
      "2019-01-30 02:24:18,899:INFO:TEST BATCH-54: t = 3.9194, Net_Loss: -0.580298, Revenue: 0.580298\n",
      "2019-01-30 02:24:18,904:INFO:TEST BATCH-55: t = 3.9216, Net_Loss: -0.588832, Revenue: 0.588832\n",
      "2019-01-30 02:24:18,910:INFO:TEST BATCH-56: t = 3.9255, Net_Loss: -0.597366, Revenue: 0.597366\n",
      "2019-01-30 02:24:18,915:INFO:TEST BATCH-57: t = 3.9282, Net_Loss: -0.605900, Revenue: 0.605900\n",
      "2019-01-30 02:24:18,920:INFO:TEST BATCH-58: t = 3.9316, Net_Loss: -0.614434, Revenue: 0.614434\n",
      "2019-01-30 02:24:18,925:INFO:TEST BATCH-59: t = 3.9351, Net_Loss: -0.622967, Revenue: 0.622967\n",
      "2019-01-30 02:24:18,929:INFO:TEST BATCH-60: t = 3.9381, Net_Loss: -0.631501, Revenue: 0.631501\n",
      "2019-01-30 02:24:18,934:INFO:TEST BATCH-61: t = 3.9408, Net_Loss: -0.640035, Revenue: 0.640035\n",
      "2019-01-30 02:24:18,939:INFO:TEST BATCH-62: t = 3.9439, Net_Loss: -0.648569, Revenue: 0.648569\n",
      "2019-01-30 02:24:18,945:INFO:TEST BATCH-63: t = 3.9480, Net_Loss: -0.657103, Revenue: 0.657103\n",
      "2019-01-30 02:24:18,950:INFO:TEST BATCH-64: t = 3.9514, Net_Loss: -0.665636, Revenue: 0.665636\n",
      "2019-01-30 02:24:18,955:INFO:TEST BATCH-65: t = 3.9558, Net_Loss: -0.674170, Revenue: 0.674170\n",
      "2019-01-30 02:24:18,959:INFO:TEST BATCH-66: t = 3.9585, Net_Loss: -0.682704, Revenue: 0.682704\n",
      "2019-01-30 02:24:18,964:INFO:TEST BATCH-67: t = 3.9616, Net_Loss: -0.691238, Revenue: 0.691238\n",
      "2019-01-30 02:24:18,968:INFO:TEST BATCH-68: t = 3.9644, Net_Loss: -0.699772, Revenue: 0.699772\n",
      "2019-01-30 02:24:18,973:INFO:TEST BATCH-69: t = 3.9678, Net_Loss: -0.708305, Revenue: 0.708305\n",
      "2019-01-30 02:24:18,979:INFO:TEST BATCH-70: t = 3.9704, Net_Loss: -0.819375, Revenue: 0.819375\n",
      "2019-01-30 02:24:18,984:INFO:TEST BATCH-71: t = 3.9733, Net_Loss: -0.833259, Revenue: 0.833259\n",
      "2019-01-30 02:24:18,989:INFO:TEST BATCH-72: t = 3.9762, Net_Loss: -0.833259, Revenue: 0.833259\n",
      "2019-01-30 02:24:18,994:INFO:TEST BATCH-73: t = 3.9789, Net_Loss: -0.833259, Revenue: 0.833259\n",
      "2019-01-30 02:24:18,999:INFO:TEST BATCH-74: t = 3.9815, Net_Loss: -0.833259, Revenue: 0.833259\n",
      "2019-01-30 02:24:19,004:INFO:TEST BATCH-75: t = 3.9854, Net_Loss: -0.833259, Revenue: 0.833259\n",
      "2019-01-30 02:24:19,009:INFO:TEST BATCH-76: t = 3.9896, Net_Loss: -0.833259, Revenue: 0.833259\n",
      "2019-01-30 02:24:19,013:INFO:TEST BATCH-77: t = 3.9927, Net_Loss: -0.833259, Revenue: 0.833259\n",
      "2019-01-30 02:24:19,018:INFO:TEST BATCH-78: t = 3.9961, Net_Loss: -0.833259, Revenue: 0.833259\n",
      "2019-01-30 02:24:19,023:INFO:TEST BATCH-79: t = 3.9988, Net_Loss: -0.833259, Revenue: 0.833259\n",
      "2019-01-30 02:24:19,028:INFO:TEST BATCH-80: t = 4.0015, Net_Loss: -0.833259, Revenue: 0.833259\n",
      "2019-01-30 02:24:19,033:INFO:TEST BATCH-81: t = 4.0042, Net_Loss: -0.833259, Revenue: 0.833259\n",
      "2019-01-30 02:24:19,039:INFO:TEST BATCH-82: t = 4.0077, Net_Loss: -0.833259, Revenue: 0.833259\n",
      "2019-01-30 02:24:19,044:INFO:TEST BATCH-83: t = 4.0112, Net_Loss: -0.833259, Revenue: 0.833259\n",
      "2019-01-30 02:24:19,048:INFO:TEST BATCH-84: t = 4.0143, Net_Loss: -0.833259, Revenue: 0.833259\n",
      "2019-01-30 02:24:19,054:INFO:TEST BATCH-85: t = 4.0173, Net_Loss: -0.833259, Revenue: 0.833259\n"
     ]
    },
    {
     "name": "stderr",
     "output_type": "stream",
     "text": [
      "2019-01-30 02:24:19,059:INFO:TEST BATCH-86: t = 4.0209, Net_Loss: -0.833259, Revenue: 0.833259\n",
      "2019-01-30 02:24:19,063:INFO:TEST BATCH-87: t = 4.0239, Net_Loss: -0.833259, Revenue: 0.833259\n",
      "2019-01-30 02:24:19,068:INFO:TEST BATCH-88: t = 4.0273, Net_Loss: -0.833259, Revenue: 0.833259\n",
      "2019-01-30 02:24:19,074:INFO:TEST BATCH-89: t = 4.0311, Net_Loss: -0.833259, Revenue: 0.833259\n",
      "2019-01-30 02:24:19,078:INFO:TEST BATCH-90: t = 4.0342, Net_Loss: -0.833259, Revenue: 0.833259\n",
      "2019-01-30 02:24:19,083:INFO:TEST BATCH-91: t = 4.0377, Net_Loss: -0.833259, Revenue: 0.833259\n",
      "2019-01-30 02:24:19,088:INFO:TEST BATCH-92: t = 4.0418, Net_Loss: -0.833259, Revenue: 0.833259\n",
      "2019-01-30 02:24:19,092:INFO:TEST BATCH-93: t = 4.0447, Net_Loss: -0.833259, Revenue: 0.833259\n",
      "2019-01-30 02:24:19,097:INFO:TEST BATCH-94: t = 4.0480, Net_Loss: -0.833259, Revenue: 0.833259\n",
      "2019-01-30 02:24:19,102:INFO:TEST BATCH-95: t = 4.0512, Net_Loss: -0.833259, Revenue: 0.833259\n",
      "2019-01-30 02:24:19,107:INFO:TEST BATCH-96: t = 4.0543, Net_Loss: -0.833259, Revenue: 0.833259\n",
      "2019-01-30 02:24:19,113:INFO:TEST BATCH-97: t = 4.0583, Net_Loss: -0.833259, Revenue: 0.833259\n",
      "2019-01-30 02:24:19,117:INFO:TEST BATCH-98: t = 4.0614, Net_Loss: -0.833259, Revenue: 0.833259\n",
      "2019-01-30 02:24:19,122:INFO:TEST BATCH-99: t = 4.0648, Net_Loss: -0.833259, Revenue: 0.833259\n",
      "2019-01-30 02:24:19,127:INFO:TEST BATCH-100: t = 4.0678, Net_Loss: -0.833259, Revenue: 0.833259\n",
      "2019-01-30 02:24:19,128:INFO:TEST ALL-400000: t = 4.0678, Net_Loss: -0.546923, Revenue: 0.546923\n"
     ]
    }
   ],
   "source": [
    "net = Net(cfg, \"test\")\n",
    "generator = Generator(cfg, 'test', X_tst)\n",
    "m = Trainer(cfg, \"test\", net)\n",
    "m.test(generator)"
   ]
  },
  {
   "cell_type": "code",
   "execution_count": 11,
   "metadata": {
    "collapsed": true
   },
   "outputs": [],
   "source": [
    "alloc = np.load(os.path.join(cfg.dir_name, \"alloc_tst_\" + str(cfg.test.restore_iter) + \".npy\")).reshape(D,D,2)\n",
    "pay = np.load(os.path.join(cfg.dir_name, \"pay_tst_\" + str(cfg.test.restore_iter) + \".npy\")).reshape(D,D)"
   ]
  },
  {
   "cell_type": "code",
   "execution_count": 6,
   "metadata": {},
   "outputs": [
    {
     "data": {
      "image/png": "[encoded data removed]",
      "text/plain": [
       "<matplotlib.figure.Figure at 0x2b2563358410>"
      ]
     },
     "metadata": {},
     "output_type": "display_data"
    }
   ],
   "source": [
    "x1 = (2.0 - np.sqrt(2.0))/3.0\n",
    "x2 = 2.0/3.0\n",
    "points = [(x1, 1.0), (x1, x2), (x2, x1), (x2, 0)]\n",
    "x = list(map(lambda x: x[0], points))\n",
    "y = list(map(lambda x: x[1], points))\n",
    "\n",
    "\n",
    "fig, ax = plt.subplots(ncols = 1, nrows = 1, figsize = (8,6))\n",
    "\n",
    "plt.plot(x, y, linewidth = 2, linestyle = '--', c='black')\n",
    "img = ax.imshow(alloc[::-1, :, 0], extent=[0,1,0,1], vmin = 0.0, vmax=1.0, cmap = 'YlOrRd')\n",
    "                    \n",
    "plt.text(0.25, 0.25, s='0', color='black', fontsize='10', fontweight='bold')\n",
    "plt.text(0.65, 0.65, s='1', color='black', fontsize='10', fontweight='bold')\n",
    "\n",
    "ax.set_xlabel('$v_1$')\n",
    "ax.set_ylabel('$v_2$')\n",
    "plt.title('Prob. of allocating item 1')\n",
    "_ = plt.colorbar(img, fraction=0.046, pad=0.04)\n",
    "\n",
    "if save_plot:\n",
    "    fig.set_size_inches(4, 3)\n",
    "    plt.savefig(os.path.join(cfg.dir_name, 'alloc1.pdf'), bbox_inches = 'tight', pad_inches = 0.05)"
   ]
  },
  {
   "cell_type": "code",
   "execution_count": 7,
   "metadata": {},
   "outputs": [
    {
     "data": {
      "image/png": "[encoded data removed]",
      "text/plain": [
       "<matplotlib.figure.Figure at 0x2b24fcca8dd0>"
      ]
     },
     "metadata": {},
     "output_type": "display_data"
    }
   ],
   "source": [
    "x1 = (2.0 - np.sqrt(2.0))/3.0\n",
    "x2 = 2.0/3.0\n",
    "points = [(0.0, x2), (x1, x2), (x2, x1), (1.0, x1)]\n",
    "\n",
    "x = list(map(lambda x: x[0], points))\n",
    "y = list(map(lambda x: x[1], points))\n",
    "\n",
    "plt.rcParams.update({'font.size': 10, 'axes.labelsize': 'x-large'})\n",
    "fig, ax = plt.subplots(ncols = 1, nrows = 1, figsize = (8,6))\n",
    "\n",
    "plt.plot(x, y, linewidth = 2, linestyle = '--', c='black')\n",
    "img = ax.imshow(alloc[::-1, :, 1], extent=[0,1,0,1], vmin = 0.0, vmax=1.0, cmap = 'YlOrRd')\n",
    "              \n",
    "plt.text(0.25, 0.25, s='0', color='black', fontsize='10', fontweight='bold')\n",
    "plt.text(0.65, 0.65, s='1', color='black', fontsize='10', fontweight='bold')\n",
    "    \n",
    "ax.set_xlabel('$v_1$')\n",
    "ax.set_ylabel('$v_2$')\n",
    "plt.title('Prob. of allocating item 2')\n",
    "_ = plt.colorbar(img, fraction=0.046, pad=0.04)\n",
    "\n",
    "if save_plot:\n",
    "    fig.set_size_inches(4, 3)\n",
    "    plt.savefig(os.path.join(cfg.dir_name, 'alloc2.pdf'), bbox_inches = 'tight', pad_inches = 0.05)"
   ]
  }
 ],
 "metadata": {
  "kernelspec": {
   "display_name": "Python 2",
   "language": "python",
   "name": "python2"
  },
  "language_info": {
   "codemirror_mode": {
    "name": "ipython",
    "version": 2
   },
   "file_extension": ".py",
   "mimetype": "text/x-python",
   "name": "python",
   "nbconvert_exporter": "python",
   "pygments_lexer": "ipython2",
   "version": "2.7.13"
  }
 },
 "nbformat": 4,
 "nbformat_minor": 2
}
