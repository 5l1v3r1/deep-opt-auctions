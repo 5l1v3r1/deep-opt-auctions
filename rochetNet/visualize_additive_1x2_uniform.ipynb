{
 "cells": [
  {
   "cell_type": "code",
   "execution_count": 1,
   "metadata": {
    "collapsed": true
   },
   "outputs": [],
   "source": [
    "from __future__ import absolute_import\n",
    "from __future__ import division\n",
    "from __future__ import print_function\n",
    "\n",
    "import os\n",
    "import sys\n",
    "import numpy as np\n",
    "import tensorflow as tf\n",
    "import matplotlib.pyplot as plt\n",
    "\n",
    "from nets import *\n",
    "from cfgs import *\n",
    "from data import *\n",
    "from trainer import *"
   ]
  },
  {
   "cell_type": "code",
   "execution_count": 2,
   "metadata": {},
   "outputs": [
    {
     "name": "stdout",
     "output_type": "stream",
     "text": [
      "(10201, 2)\n"
     ]
    }
   ],
   "source": [
    "%matplotlib inline\n",
    "save_plot = False\n",
    "plt.rcParams.update({'font.size': 10, 'axes.labelsize': 'x-large'})\n",
    "D = 101\n",
    "\n",
    "x = np.linspace(0, 1.0, D)\n",
    "X_tst = np.stack([v.flatten() for v in np.meshgrid(x,x)], axis = -1)\n",
    "print(X_tst.shape)\n",
    "\n",
    "cfg = additive_1x2_uniform_config.cfg\n",
    "cfg.test.batch_size = D\n",
    "cfg.test.num_batches = int(X_tst.shape[0]/cfg.test.batch_size)\n",
    "cfg.test.save_output = True"
   ]
  },
  {
   "cell_type": "code",
   "execution_count": 3,
   "metadata": {
    "collapsed": true
   },
   "outputs": [],
   "source": [
    "Net = additive_net.Net\n",
    "Generator = uniform_01_generator.Generator\n",
    "Trainer = trainer.Trainer"
   ]
  },
  {
   "cell_type": "code",
   "execution_count": 4,
   "metadata": {},
   "outputs": [
    {
     "name": "stdout",
     "output_type": "stream",
     "text": [
      "INFO:tensorflow:Restoring parameters from experiments/additive_1x2_uniform/model-400000\n"
     ]
    },
    {
     "name": "stderr",
     "output_type": "stream",
     "text": [
      "2019-01-29 22:32:15,209:INFO:Restoring parameters from experiments/additive_1x2_uniform/model-400000\n",
      "2019-01-29 22:32:18,988:INFO:TEST BATCH-0: t = 3.7209, Net_Loss: -0.219386, Revenue: 0.219386, IRP: 0.000000\n",
      "2019-01-29 22:32:18,992:INFO:TEST BATCH-1: t = 3.7226, Net_Loss: -0.219386, Revenue: 0.219386, IRP: 0.000000\n",
      "2019-01-29 22:32:18,996:INFO:TEST BATCH-2: t = 3.7243, Net_Loss: -0.219386, Revenue: 0.219386, IRP: 0.000000\n",
      "2019-01-29 22:32:19,000:INFO:TEST BATCH-3: t = 3.7260, Net_Loss: -0.219386, Revenue: 0.219386, IRP: 0.000000\n",
      "2019-01-29 22:32:19,003:INFO:TEST BATCH-4: t = 3.7276, Net_Loss: -0.219386, Revenue: 0.219386, IRP: 0.000000\n",
      "2019-01-29 22:32:19,007:INFO:TEST BATCH-5: t = 3.7293, Net_Loss: -0.219386, Revenue: 0.219386, IRP: 0.000000\n",
      "2019-01-29 22:32:19,011:INFO:TEST BATCH-6: t = 3.7310, Net_Loss: -0.219386, Revenue: 0.219386, IRP: 0.000000\n",
      "2019-01-29 22:32:19,014:INFO:TEST BATCH-7: t = 3.7327, Net_Loss: -0.219386, Revenue: 0.219386, IRP: 0.000000\n",
      "2019-01-29 22:32:19,018:INFO:TEST BATCH-8: t = 3.7344, Net_Loss: -0.219386, Revenue: 0.219386, IRP: 0.000000\n",
      "2019-01-29 22:32:19,023:INFO:TEST BATCH-9: t = 3.7361, Net_Loss: -0.226034, Revenue: 0.226034, IRP: 0.000000\n",
      "2019-01-29 22:32:19,027:INFO:TEST BATCH-10: t = 3.7378, Net_Loss: -0.226034, Revenue: 0.226034, IRP: 0.000000\n",
      "2019-01-29 22:32:19,030:INFO:TEST BATCH-11: t = 3.7396, Net_Loss: -0.226034, Revenue: 0.226034, IRP: 0.000000\n",
      "2019-01-29 22:32:19,034:INFO:TEST BATCH-12: t = 3.7413, Net_Loss: -0.226034, Revenue: 0.226034, IRP: 0.000000\n",
      "2019-01-29 22:32:19,038:INFO:TEST BATCH-13: t = 3.7430, Net_Loss: -0.226034, Revenue: 0.226034, IRP: 0.000000\n",
      "2019-01-29 22:32:19,042:INFO:TEST BATCH-14: t = 3.7447, Net_Loss: -0.226034, Revenue: 0.226034, IRP: 0.000000\n",
      "2019-01-29 22:32:19,045:INFO:TEST BATCH-15: t = 3.7464, Net_Loss: -0.226034, Revenue: 0.226034, IRP: 0.000000\n",
      "2019-01-29 22:32:19,049:INFO:TEST BATCH-16: t = 3.7481, Net_Loss: -0.226034, Revenue: 0.226034, IRP: 0.000000\n",
      "2019-01-29 22:32:19,053:INFO:TEST BATCH-17: t = 3.7498, Net_Loss: -0.226034, Revenue: 0.226034, IRP: 0.000000\n",
      "2019-01-29 22:32:19,056:INFO:TEST BATCH-18: t = 3.7514, Net_Loss: -0.226034, Revenue: 0.226034, IRP: 0.000000\n",
      "2019-01-29 22:32:19,060:INFO:TEST BATCH-19: t = 3.7532, Net_Loss: -0.226034, Revenue: 0.226034, IRP: 0.000000\n",
      "2019-01-29 22:32:19,064:INFO:TEST BATCH-20: t = 3.7549, Net_Loss: -0.226034, Revenue: 0.226034, IRP: 0.000000\n",
      "2019-01-29 22:32:19,068:INFO:TEST BATCH-21: t = 3.7566, Net_Loss: -0.226034, Revenue: 0.226034, IRP: 0.000000\n",
      "2019-01-29 22:32:19,071:INFO:TEST BATCH-22: t = 3.7583, Net_Loss: -0.226034, Revenue: 0.226034, IRP: 0.000000\n",
      "2019-01-29 22:32:19,075:INFO:TEST BATCH-23: t = 3.7600, Net_Loss: -0.307770, Revenue: 0.307770, IRP: 0.000000\n",
      "2019-01-29 22:32:19,079:INFO:TEST BATCH-24: t = 3.7617, Net_Loss: -0.316564, Revenue: 0.316564, IRP: 0.000000\n",
      "2019-01-29 22:32:19,082:INFO:TEST BATCH-25: t = 3.7634, Net_Loss: -0.325357, Revenue: 0.325357, IRP: 0.000000\n",
      "2019-01-29 22:32:19,086:INFO:TEST BATCH-26: t = 3.7651, Net_Loss: -0.334150, Revenue: 0.334150, IRP: 0.000000\n",
      "2019-01-29 22:32:19,090:INFO:TEST BATCH-27: t = 3.7667, Net_Loss: -0.342944, Revenue: 0.342944, IRP: 0.000000\n",
      "2019-01-29 22:32:19,093:INFO:TEST BATCH-28: t = 3.7685, Net_Loss: -0.351737, Revenue: 0.351737, IRP: 0.000000\n",
      "2019-01-29 22:32:19,097:INFO:TEST BATCH-29: t = 3.7703, Net_Loss: -0.360531, Revenue: 0.360531, IRP: 0.000000\n",
      "2019-01-29 22:32:19,101:INFO:TEST BATCH-30: t = 3.7723, Net_Loss: -0.369324, Revenue: 0.369324, IRP: 0.000000\n",
      "2019-01-29 22:32:19,105:INFO:TEST BATCH-31: t = 3.7741, Net_Loss: -0.378118, Revenue: 0.378118, IRP: 0.000000\n",
      "2019-01-29 22:32:19,108:INFO:TEST BATCH-32: t = 3.7766, Net_Loss: -0.386911, Revenue: 0.386911, IRP: 0.000000\n",
      "2019-01-29 22:32:19,112:INFO:TEST BATCH-33: t = 3.7794, Net_Loss: -0.395704, Revenue: 0.395704, IRP: 0.000000\n",
      "2019-01-29 22:32:19,116:INFO:TEST BATCH-34: t = 3.7816, Net_Loss: -0.404498, Revenue: 0.404498, IRP: 0.000000\n",
      "2019-01-29 22:32:19,119:INFO:TEST BATCH-35: t = 3.7834, Net_Loss: -0.413291, Revenue: 0.413291, IRP: 0.000000\n",
      "2019-01-29 22:32:19,122:INFO:TEST BATCH-36: t = 3.7858, Net_Loss: -0.422085, Revenue: 0.422085, IRP: 0.000000\n",
      "2019-01-29 22:32:19,125:INFO:TEST BATCH-37: t = 3.7879, Net_Loss: -0.430878, Revenue: 0.430878, IRP: 0.000000\n",
      "2019-01-29 22:32:19,129:INFO:TEST BATCH-38: t = 3.7900, Net_Loss: -0.439672, Revenue: 0.439672, IRP: 0.000000\n",
      "2019-01-29 22:32:19,133:INFO:TEST BATCH-39: t = 3.7923, Net_Loss: -0.448465, Revenue: 0.448465, IRP: 0.000000\n",
      "2019-01-29 22:32:19,136:INFO:TEST BATCH-40: t = 3.7947, Net_Loss: -0.457258, Revenue: 0.457258, IRP: 0.000000\n",
      "2019-01-29 22:32:19,139:INFO:TEST BATCH-41: t = 3.7967, Net_Loss: -0.466052, Revenue: 0.466052, IRP: 0.000000\n",
      "2019-01-29 22:32:19,143:INFO:TEST BATCH-42: t = 3.7992, Net_Loss: -0.474845, Revenue: 0.474845, IRP: 0.000000\n",
      "2019-01-29 22:32:19,146:INFO:TEST BATCH-43: t = 3.8015, Net_Loss: -0.483639, Revenue: 0.483639, IRP: 0.000000\n",
      "2019-01-29 22:32:19,150:INFO:TEST BATCH-44: t = 3.8036, Net_Loss: -0.492432, Revenue: 0.492432, IRP: 0.000000\n",
      "2019-01-29 22:32:19,153:INFO:TEST BATCH-45: t = 3.8061, Net_Loss: -0.501226, Revenue: 0.501226, IRP: 0.000000\n",
      "2019-01-29 22:32:19,156:INFO:TEST BATCH-46: t = 3.8084, Net_Loss: -0.510019, Revenue: 0.510019, IRP: 0.000000\n",
      "2019-01-29 22:32:19,160:INFO:TEST BATCH-47: t = 3.8106, Net_Loss: -0.518812, Revenue: 0.518812, IRP: 0.000000\n",
      "2019-01-29 22:32:19,163:INFO:TEST BATCH-48: t = 3.8129, Net_Loss: -0.527606, Revenue: 0.527606, IRP: 0.000000\n",
      "2019-01-29 22:32:19,166:INFO:TEST BATCH-49: t = 3.8153, Net_Loss: -0.536399, Revenue: 0.536399, IRP: 0.000000\n",
      "2019-01-29 22:32:19,170:INFO:TEST BATCH-50: t = 3.8179, Net_Loss: -0.545193, Revenue: 0.545193, IRP: 0.000000\n",
      "2019-01-29 22:32:19,173:INFO:TEST BATCH-51: t = 3.8202, Net_Loss: -0.553986, Revenue: 0.553986, IRP: 0.000000\n",
      "2019-01-29 22:32:19,176:INFO:TEST BATCH-52: t = 3.8223, Net_Loss: -0.562780, Revenue: 0.562780, IRP: 0.000000\n",
      "2019-01-29 22:32:19,179:INFO:TEST BATCH-53: t = 3.8240, Net_Loss: -0.571573, Revenue: 0.571573, IRP: 0.000000\n",
      "2019-01-29 22:32:19,183:INFO:TEST BATCH-54: t = 3.8264, Net_Loss: -0.580367, Revenue: 0.580367, IRP: 0.000000\n",
      "2019-01-29 22:32:19,186:INFO:TEST BATCH-55: t = 3.8291, Net_Loss: -0.589160, Revenue: 0.589160, IRP: 0.000000\n",
      "2019-01-29 22:32:19,190:INFO:TEST BATCH-56: t = 3.8319, Net_Loss: -0.597953, Revenue: 0.597953, IRP: 0.000000\n",
      "2019-01-29 22:32:19,194:INFO:TEST BATCH-57: t = 3.8355, Net_Loss: -0.606747, Revenue: 0.606747, IRP: 0.000000\n",
      "2019-01-29 22:32:19,199:INFO:TEST BATCH-58: t = 3.8380, Net_Loss: -0.615540, Revenue: 0.615540, IRP: 0.000000\n",
      "2019-01-29 22:32:19,203:INFO:TEST BATCH-59: t = 3.8402, Net_Loss: -0.624334, Revenue: 0.624334, IRP: 0.000000\n",
      "2019-01-29 22:32:19,207:INFO:TEST BATCH-60: t = 3.8419, Net_Loss: -0.633127, Revenue: 0.633127, IRP: 0.000000\n",
      "2019-01-29 22:32:19,210:INFO:TEST BATCH-61: t = 3.8442, Net_Loss: -0.641921, Revenue: 0.641921, IRP: 0.000000\n",
      "2019-01-29 22:32:19,214:INFO:TEST BATCH-62: t = 3.8460, Net_Loss: -0.650714, Revenue: 0.650714, IRP: 0.000000\n",
      "2019-01-29 22:32:19,218:INFO:TEST BATCH-63: t = 3.8484, Net_Loss: -0.659507, Revenue: 0.659507, IRP: 0.000000\n",
      "2019-01-29 22:32:19,221:INFO:TEST BATCH-64: t = 3.8508, Net_Loss: -0.668301, Revenue: 0.668301, IRP: 0.000000\n",
      "2019-01-29 22:32:19,226:INFO:TEST BATCH-65: t = 3.8531, Net_Loss: -0.707424, Revenue: 0.707424, IRP: 0.000000\n",
      "2019-01-29 22:32:19,230:INFO:TEST BATCH-66: t = 3.8554, Net_Loss: -0.831314, Revenue: 0.831314, IRP: 0.000000\n",
      "2019-01-29 22:32:19,233:INFO:TEST BATCH-67: t = 3.8575, Net_Loss: -0.831314, Revenue: 0.831314, IRP: 0.000000\n",
      "2019-01-29 22:32:19,238:INFO:TEST BATCH-68: t = 3.8605, Net_Loss: -0.831314, Revenue: 0.831314, IRP: 0.000000\n",
      "2019-01-29 22:32:19,242:INFO:TEST BATCH-69: t = 3.8636, Net_Loss: -0.831314, Revenue: 0.831314, IRP: 0.000000\n",
      "2019-01-29 22:32:19,246:INFO:TEST BATCH-70: t = 3.8661, Net_Loss: -0.831314, Revenue: 0.831314, IRP: 0.000000\n",
      "2019-01-29 22:32:19,249:INFO:TEST BATCH-71: t = 3.8687, Net_Loss: -0.831314, Revenue: 0.831314, IRP: 0.000000\n",
      "2019-01-29 22:32:19,253:INFO:TEST BATCH-72: t = 3.8712, Net_Loss: -0.831314, Revenue: 0.831314, IRP: 0.000000\n",
      "2019-01-29 22:32:19,257:INFO:TEST BATCH-73: t = 3.8742, Net_Loss: -0.831314, Revenue: 0.831314, IRP: 0.000000\n"
     ]
    },
    {
     "name": "stderr",
     "output_type": "stream",
     "text": [
      "2019-01-29 22:32:19,261:INFO:TEST BATCH-74: t = 3.8775, Net_Loss: -0.831314, Revenue: 0.831314, IRP: 0.000000\n",
      "2019-01-29 22:32:19,264:INFO:TEST BATCH-75: t = 3.8800, Net_Loss: -0.831314, Revenue: 0.831314, IRP: 0.000000\n",
      "2019-01-29 22:32:19,268:INFO:TEST BATCH-76: t = 3.8834, Net_Loss: -0.831314, Revenue: 0.831314, IRP: 0.000000\n",
      "2019-01-29 22:32:19,272:INFO:TEST BATCH-77: t = 3.8863, Net_Loss: -0.831314, Revenue: 0.831314, IRP: 0.000000\n",
      "2019-01-29 22:32:19,275:INFO:TEST BATCH-78: t = 3.8889, Net_Loss: -0.831314, Revenue: 0.831314, IRP: 0.000000\n",
      "2019-01-29 22:32:19,280:INFO:TEST BATCH-79: t = 3.8925, Net_Loss: -0.831314, Revenue: 0.831314, IRP: 0.000000\n",
      "2019-01-29 22:32:19,283:INFO:TEST BATCH-80: t = 3.8952, Net_Loss: -0.831314, Revenue: 0.831314, IRP: 0.000000\n",
      "2019-01-29 22:32:19,287:INFO:TEST BATCH-81: t = 3.8979, Net_Loss: -0.831314, Revenue: 0.831314, IRP: 0.000000\n",
      "2019-01-29 22:32:19,290:INFO:TEST BATCH-82: t = 3.9004, Net_Loss: -0.831314, Revenue: 0.831314, IRP: 0.000000\n",
      "2019-01-29 22:32:19,295:INFO:TEST BATCH-83: t = 3.9038, Net_Loss: -0.831314, Revenue: 0.831314, IRP: 0.000000\n",
      "2019-01-29 22:32:19,298:INFO:TEST BATCH-84: t = 3.9062, Net_Loss: -0.831314, Revenue: 0.831314, IRP: 0.000000\n",
      "2019-01-29 22:32:19,301:INFO:TEST BATCH-85: t = 3.9090, Net_Loss: -0.831314, Revenue: 0.831314, IRP: 0.000000\n",
      "2019-01-29 22:32:19,305:INFO:TEST BATCH-86: t = 3.9118, Net_Loss: -0.831314, Revenue: 0.831314, IRP: 0.000000\n",
      "2019-01-29 22:32:19,309:INFO:TEST BATCH-87: t = 3.9152, Net_Loss: -0.831314, Revenue: 0.831314, IRP: 0.000000\n",
      "2019-01-29 22:32:19,313:INFO:TEST BATCH-88: t = 3.9178, Net_Loss: -0.831314, Revenue: 0.831314, IRP: 0.000000\n",
      "2019-01-29 22:32:19,317:INFO:TEST BATCH-89: t = 3.9215, Net_Loss: -0.831314, Revenue: 0.831314, IRP: 0.000000\n",
      "2019-01-29 22:32:19,320:INFO:TEST BATCH-90: t = 3.9239, Net_Loss: -0.831314, Revenue: 0.831314, IRP: 0.000000\n",
      "2019-01-29 22:32:19,324:INFO:TEST BATCH-91: t = 3.9269, Net_Loss: -0.831314, Revenue: 0.831314, IRP: 0.000000\n",
      "2019-01-29 22:32:19,327:INFO:TEST BATCH-92: t = 3.9293, Net_Loss: -0.831314, Revenue: 0.831314, IRP: 0.000000\n",
      "2019-01-29 22:32:19,331:INFO:TEST BATCH-93: t = 3.9318, Net_Loss: -0.831314, Revenue: 0.831314, IRP: 0.000000\n",
      "2019-01-29 22:32:19,334:INFO:TEST BATCH-94: t = 3.9346, Net_Loss: -0.831314, Revenue: 0.831314, IRP: 0.000000\n",
      "2019-01-29 22:32:19,338:INFO:TEST BATCH-95: t = 3.9363, Net_Loss: -0.831314, Revenue: 0.831314, IRP: 0.000000\n",
      "2019-01-29 22:32:19,344:INFO:TEST BATCH-96: t = 3.9398, Net_Loss: -0.831314, Revenue: 0.831314, IRP: 0.000000\n",
      "2019-01-29 22:32:19,347:INFO:TEST BATCH-97: t = 3.9424, Net_Loss: -0.831314, Revenue: 0.831314, IRP: 0.000000\n",
      "2019-01-29 22:32:19,350:INFO:TEST BATCH-98: t = 3.9449, Net_Loss: -0.831314, Revenue: 0.831314, IRP: 0.000000\n",
      "2019-01-29 22:32:19,354:INFO:TEST BATCH-99: t = 3.9473, Net_Loss: -0.831314, Revenue: 0.831314, IRP: 0.000000\n",
      "2019-01-29 22:32:19,357:INFO:TEST BATCH-100: t = 3.9495, Net_Loss: -0.831314, Revenue: 0.831314, IRP: 0.000000\n",
      "2019-01-29 22:32:19,360:INFO:TEST ALL-400000: t = 3.9495, Net_Loss: -0.548909, Revenue: 0.548909, IRP: 0.000000\n"
     ]
    }
   ],
   "source": [
    "net = Net(cfg, \"test\")\n",
    "generator = Generator(cfg, 'test', X_tst)\n",
    "m = Trainer(cfg, \"test\", net)\n",
    "m.test(generator)"
   ]
  },
  {
   "cell_type": "code",
   "execution_count": 5,
   "metadata": {
    "collapsed": true
   },
   "outputs": [],
   "source": [
    "alloc = np.load(os.path.join(cfg.dir_name, \"alloc_tst_\" + str(cfg.test.restore_iter) + \".npy\")).reshape(D,D,2)"
   ]
  },
  {
   "cell_type": "code",
   "execution_count": 6,
   "metadata": {},
   "outputs": [
    {
     "data": {
      "image/png": "[encoded data removed]",
      "text/plain": [
       "<matplotlib.figure.Figure at 0x2b7e5d801110>"
      ]
     },
     "metadata": {},
     "output_type": "display_data"
    }
   ],
   "source": [
    "x1 = (2.0 - np.sqrt(2.0))/3.0\n",
    "x2 = 2.0/3.0\n",
    "points = [(x1, 1.0), (x1, x2), (x2, x1), (x2, 0)]\n",
    "x = list(map(lambda x: x[0], points))\n",
    "y = list(map(lambda x: x[1], points))\n",
    "\n",
    "\n",
    "fig, ax = plt.subplots(ncols = 1, nrows = 1, figsize = (8,6))\n",
    "\n",
    "plt.plot(x, y, linewidth = 2, linestyle = '--', c='black')\n",
    "img = ax.imshow(alloc[::-1, :, 0], extent=[0,1,0,1], vmin = 0.0, vmax=1.0, cmap = 'YlOrRd')\n",
    "                    \n",
    "plt.text(0.25, 0.25, s='0', color='black', fontsize='10', fontweight='bold')\n",
    "plt.text(0.65, 0.65, s='1', color='black', fontsize='10', fontweight='bold')\n",
    "\n",
    "ax.set_xlabel('$v_1$')\n",
    "ax.set_ylabel('$v_2$')\n",
    "plt.title('Prob. of allocating item 1')\n",
    "_ = plt.colorbar(img, fraction=0.046, pad=0.04)\n",
    "\n",
    "if save_plot:\n",
    "    fig.set_size_inches(4, 3)\n",
    "    plt.savefig(os.path.join(cfg.dir_name, 'alloc1.pdf'), bbox_inches = 'tight', pad_inches = 0.05)"
   ]
  },
  {
   "cell_type": "code",
   "execution_count": 7,
   "metadata": {},
   "outputs": [
    {
     "data": {
      "image/png": "[encoded data removed]",
      "text/plain": [
       "<matplotlib.figure.Figure at 0x2b7e5d7e9c50>"
      ]
     },
     "metadata": {},
     "output_type": "display_data"
    }
   ],
   "source": [
    "x1 = (2.0 - np.sqrt(2.0))/3.0\n",
    "x2 = 2.0/3.0\n",
    "points = [(0.0, x2), (x1, x2), (x2, x1), (1.0, x1)]\n",
    "\n",
    "x = list(map(lambda x: x[0], points))\n",
    "y = list(map(lambda x: x[1], points))\n",
    "\n",
    "plt.rcParams.update({'font.size': 10, 'axes.labelsize': 'x-large'})\n",
    "fig, ax = plt.subplots(ncols = 1, nrows = 1, figsize = (8,6))\n",
    "\n",
    "plt.plot(x, y, linewidth = 2, linestyle = '--', c='black')\n",
    "img = ax.imshow(alloc[::-1, :, 1], extent=[0,1,0,1], vmin = 0.0, vmax=1.0, cmap = 'YlOrRd')\n",
    "              \n",
    "plt.text(0.25, 0.25, s='0', color='black', fontsize='10', fontweight='bold')\n",
    "plt.text(0.65, 0.65, s='1', color='black', fontsize='10', fontweight='bold')\n",
    "    \n",
    "ax.set_xlabel('$v_1$')\n",
    "ax.set_ylabel('$v_2$')\n",
    "plt.title('Prob. of allocating item 2')\n",
    "_ = plt.colorbar(img, fraction=0.046, pad=0.04)\n",
    "\n",
    "if save_plot:\n",
    "    fig.set_size_inches(4, 3)\n",
    "    plt.savefig(os.path.join(cfg.dir_name, 'alloc2.pdf'), bbox_inches = 'tight', pad_inches = 0.05)"
   ]
  },
  {
   "cell_type": "code",
   "execution_count": null,
   "metadata": {
    "collapsed": true
   },
   "outputs": [],
   "source": []
  }
 ],
 "metadata": {
  "kernelspec": {
   "display_name": "Python 2",
   "language": "python",
   "name": "python2"
  },
  "language_info": {
   "codemirror_mode": {
    "name": "ipython",
    "version": 2
   },
   "file_extension": ".py",
   "mimetype": "text/x-python",
   "name": "python",
   "nbconvert_exporter": "python",
   "pygments_lexer": "ipython2",
   "version": "2.7.13"
  }
 },
 "nbformat": 4,
 "nbformat_minor": 2
}
