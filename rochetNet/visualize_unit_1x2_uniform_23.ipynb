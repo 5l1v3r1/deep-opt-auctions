{
 "cells": [
  {
   "cell_type": "code",
   "execution_count": 1,
   "metadata": {
    "collapsed": true
   },
   "outputs": [],
   "source": [
    "from __future__ import absolute_import\n",
    "from __future__ import division\n",
    "from __future__ import print_function\n",
    "\n",
    "import os\n",
    "import sys\n",
    "import numpy as np\n",
    "import tensorflow as tf\n",
    "import matplotlib.pyplot as plt\n",
    "\n",
    "from nets import *\n",
    "from cfgs import *\n",
    "from data import *\n",
    "from trainer import *"
   ]
  },
  {
   "cell_type": "code",
   "execution_count": 2,
   "metadata": {},
   "outputs": [
    {
     "name": "stdout",
     "output_type": "stream",
     "text": [
      "(40401, 2)\n"
     ]
    }
   ],
   "source": [
    "%matplotlib inline\n",
    "save_plot = False\n",
    "plt.rcParams.update({'font.size': 10, 'axes.labelsize': 'x-large'})\n",
    "D = 201\n",
    "\n",
    "x = np.linspace(0, 1.0, D)\n",
    "X_tst = np.stack([v.flatten() for v in np.meshgrid(x,x)], axis = -1) + 2.0\n",
    "print(X_tst.shape)\n",
    "\n",
    "cfg = unit_1x2_uniform_23_config.cfg\n",
    "cfg.test.batch_size = D\n",
    "cfg.test.num_batches = int(X_tst.shape[0]/cfg.test.batch_size)\n",
    "cfg.test.save_output = True"
   ]
  },
  {
   "cell_type": "code",
   "execution_count": 3,
   "metadata": {
    "collapsed": true
   },
   "outputs": [],
   "source": [
    "Net = unit_net.Net\n",
    "Generator = uniform_23_generator.Generator\n",
    "Trainer = trainer.Trainer"
   ]
  },
  {
   "cell_type": "code",
   "execution_count": 4,
   "metadata": {},
   "outputs": [
    {
     "name": "stdout",
     "output_type": "stream",
     "text": [
      "INFO:tensorflow:Restoring parameters from experiments/unit_1x2_uniform_23/model-400000\n"
     ]
    },
    {
     "name": "stderr",
     "output_type": "stream",
     "text": [
      "2019-01-30 01:21:28,078:INFO:Restoring parameters from experiments/unit_1x2_uniform_23/model-400000\n",
      "2019-01-30 01:21:31,461:INFO:TEST BATCH-0: t = 3.3549, Net_Loss: -1.747721, Revenue: 1.747721\n",
      "2019-01-30 01:21:31,465:INFO:TEST BATCH-1: t = 3.3570, Net_Loss: -1.757418, Revenue: 1.757418\n",
      "2019-01-30 01:21:31,470:INFO:TEST BATCH-2: t = 3.3590, Net_Loss: -1.767115, Revenue: 1.767115\n",
      "2019-01-30 01:21:31,473:INFO:TEST BATCH-3: t = 3.3609, Net_Loss: -1.776813, Revenue: 1.776813\n",
      "2019-01-30 01:21:31,477:INFO:TEST BATCH-4: t = 3.3628, Net_Loss: -1.786510, Revenue: 1.786510\n",
      "2019-01-30 01:21:31,481:INFO:TEST BATCH-5: t = 3.3648, Net_Loss: -1.796207, Revenue: 1.796207\n",
      "2019-01-30 01:21:31,485:INFO:TEST BATCH-6: t = 3.3668, Net_Loss: -1.805904, Revenue: 1.805904\n",
      "2019-01-30 01:21:31,490:INFO:TEST BATCH-7: t = 3.3688, Net_Loss: -1.815601, Revenue: 1.815601\n",
      "2019-01-30 01:21:31,493:INFO:TEST BATCH-8: t = 3.3707, Net_Loss: -1.825298, Revenue: 1.825298\n",
      "2019-01-30 01:21:31,497:INFO:TEST BATCH-9: t = 3.3726, Net_Loss: -1.834996, Revenue: 1.834996\n",
      "2019-01-30 01:21:31,501:INFO:TEST BATCH-10: t = 3.3745, Net_Loss: -1.844693, Revenue: 1.844693\n",
      "2019-01-30 01:21:31,505:INFO:TEST BATCH-11: t = 3.3766, Net_Loss: -1.854390, Revenue: 1.854390\n",
      "2019-01-30 01:21:31,509:INFO:TEST BATCH-12: t = 3.3785, Net_Loss: -1.864087, Revenue: 1.864087\n",
      "2019-01-30 01:21:31,513:INFO:TEST BATCH-13: t = 3.3805, Net_Loss: -1.873784, Revenue: 1.873784\n",
      "2019-01-30 01:21:31,517:INFO:TEST BATCH-14: t = 3.3823, Net_Loss: -1.883482, Revenue: 1.883482\n",
      "2019-01-30 01:21:31,521:INFO:TEST BATCH-15: t = 3.3843, Net_Loss: -1.893179, Revenue: 1.893179\n",
      "2019-01-30 01:21:31,525:INFO:TEST BATCH-16: t = 3.3862, Net_Loss: -1.902876, Revenue: 1.902876\n",
      "2019-01-30 01:21:31,529:INFO:TEST BATCH-17: t = 3.3882, Net_Loss: -1.912573, Revenue: 1.912573\n",
      "2019-01-30 01:21:31,533:INFO:TEST BATCH-18: t = 3.3901, Net_Loss: -1.922271, Revenue: 1.922271\n",
      "2019-01-30 01:21:31,537:INFO:TEST BATCH-19: t = 3.3920, Net_Loss: -1.931968, Revenue: 1.931968\n",
      "2019-01-30 01:21:31,541:INFO:TEST BATCH-20: t = 3.3938, Net_Loss: -1.941665, Revenue: 1.941665\n",
      "2019-01-30 01:21:31,545:INFO:TEST BATCH-21: t = 3.3961, Net_Loss: -1.951362, Revenue: 1.951362\n",
      "2019-01-30 01:21:31,549:INFO:TEST BATCH-22: t = 3.3980, Net_Loss: -1.961059, Revenue: 1.961059\n",
      "2019-01-30 01:21:31,553:INFO:TEST BATCH-23: t = 3.3999, Net_Loss: -1.970756, Revenue: 1.970756\n",
      "2019-01-30 01:21:31,557:INFO:TEST BATCH-24: t = 3.4017, Net_Loss: -1.980454, Revenue: 1.980454\n",
      "2019-01-30 01:21:31,561:INFO:TEST BATCH-25: t = 3.4037, Net_Loss: -1.990151, Revenue: 1.990151\n",
      "2019-01-30 01:21:31,565:INFO:TEST BATCH-26: t = 3.4056, Net_Loss: -1.999848, Revenue: 1.999848\n",
      "2019-01-30 01:21:31,569:INFO:TEST BATCH-27: t = 3.4075, Net_Loss: -2.009546, Revenue: 2.009546\n",
      "2019-01-30 01:21:31,573:INFO:TEST BATCH-28: t = 3.4094, Net_Loss: -2.019243, Revenue: 2.019243\n",
      "2019-01-30 01:21:31,577:INFO:TEST BATCH-29: t = 3.4113, Net_Loss: -2.028940, Revenue: 2.028940\n",
      "2019-01-30 01:21:31,581:INFO:TEST BATCH-30: t = 3.4140, Net_Loss: -2.038637, Revenue: 2.038637\n",
      "2019-01-30 01:21:31,585:INFO:TEST BATCH-31: t = 3.4164, Net_Loss: -2.048335, Revenue: 2.048335\n",
      "2019-01-30 01:21:31,588:INFO:TEST BATCH-32: t = 3.4186, Net_Loss: -2.058032, Revenue: 2.058032\n",
      "2019-01-30 01:21:31,592:INFO:TEST BATCH-33: t = 3.4212, Net_Loss: -2.067729, Revenue: 2.067729\n",
      "2019-01-30 01:21:31,596:INFO:TEST BATCH-34: t = 3.4238, Net_Loss: -2.077426, Revenue: 2.077426\n",
      "2019-01-30 01:21:31,602:INFO:TEST BATCH-35: t = 3.4290, Net_Loss: -2.087123, Revenue: 2.087123\n",
      "2019-01-30 01:21:31,605:INFO:TEST BATCH-36: t = 3.4317, Net_Loss: -2.096820, Revenue: 2.096820\n",
      "2019-01-30 01:21:31,610:INFO:TEST BATCH-37: t = 3.4359, Net_Loss: -2.106518, Revenue: 2.106518\n",
      "2019-01-30 01:21:31,615:INFO:TEST BATCH-38: t = 3.4392, Net_Loss: -2.116215, Revenue: 2.116215\n",
      "2019-01-30 01:21:31,619:INFO:TEST BATCH-39: t = 3.4418, Net_Loss: -2.125912, Revenue: 2.125912\n",
      "2019-01-30 01:21:31,623:INFO:TEST BATCH-40: t = 3.4448, Net_Loss: -2.135609, Revenue: 2.135609\n",
      "2019-01-30 01:21:31,626:INFO:TEST BATCH-41: t = 3.4473, Net_Loss: -2.145307, Revenue: 2.145307\n",
      "2019-01-30 01:21:31,630:INFO:TEST BATCH-42: t = 3.4494, Net_Loss: -2.155004, Revenue: 2.155004\n",
      "2019-01-30 01:21:31,634:INFO:TEST BATCH-43: t = 3.4517, Net_Loss: -2.164701, Revenue: 2.164701\n",
      "2019-01-30 01:21:31,637:INFO:TEST BATCH-44: t = 3.4538, Net_Loss: -2.174398, Revenue: 2.174398\n",
      "2019-01-30 01:21:31,641:INFO:TEST BATCH-45: t = 3.4564, Net_Loss: -2.184095, Revenue: 2.184095\n",
      "2019-01-30 01:21:31,645:INFO:TEST BATCH-46: t = 3.4590, Net_Loss: -2.183288, Revenue: 2.183288\n",
      "2019-01-30 01:21:31,649:INFO:TEST BATCH-47: t = 3.4615, Net_Loss: -2.182481, Revenue: 2.182481\n",
      "2019-01-30 01:21:31,652:INFO:TEST BATCH-48: t = 3.4645, Net_Loss: -2.181673, Revenue: 2.181673\n",
      "2019-01-30 01:21:31,656:INFO:TEST BATCH-49: t = 3.4669, Net_Loss: -2.180866, Revenue: 2.180866\n",
      "2019-01-30 01:21:31,664:INFO:TEST BATCH-50: t = 3.4742, Net_Loss: -2.180058, Revenue: 2.180058\n",
      "2019-01-30 01:21:31,669:INFO:TEST BATCH-51: t = 3.4769, Net_Loss: -2.179251, Revenue: 2.179251\n",
      "2019-01-30 01:21:31,675:INFO:TEST BATCH-52: t = 3.4816, Net_Loss: -2.178443, Revenue: 2.178443\n",
      "2019-01-30 01:21:31,680:INFO:TEST BATCH-53: t = 3.4855, Net_Loss: -2.177636, Revenue: 2.177636\n",
      "2019-01-30 01:21:31,683:INFO:TEST BATCH-54: t = 3.4878, Net_Loss: -2.176829, Revenue: 2.176829\n",
      "2019-01-30 01:21:31,688:INFO:TEST BATCH-55: t = 3.4910, Net_Loss: -2.176021, Revenue: 2.176021\n",
      "2019-01-30 01:21:31,691:INFO:TEST BATCH-56: t = 3.4931, Net_Loss: -2.175214, Revenue: 2.175214\n",
      "2019-01-30 01:21:31,694:INFO:TEST BATCH-57: t = 3.4952, Net_Loss: -2.174407, Revenue: 2.174407\n",
      "2019-01-30 01:21:31,699:INFO:TEST BATCH-58: t = 3.4981, Net_Loss: -2.173599, Revenue: 2.173599\n",
      "2019-01-30 01:21:31,703:INFO:TEST BATCH-59: t = 3.5013, Net_Loss: -2.172791, Revenue: 2.172791\n",
      "2019-01-30 01:21:31,707:INFO:TEST BATCH-60: t = 3.5048, Net_Loss: -2.171984, Revenue: 2.171984\n",
      "2019-01-30 01:21:31,710:INFO:TEST BATCH-61: t = 3.5070, Net_Loss: -2.171177, Revenue: 2.171177\n",
      "2019-01-30 01:21:31,715:INFO:TEST BATCH-62: t = 3.5109, Net_Loss: -2.170369, Revenue: 2.170369\n",
      "2019-01-30 01:21:31,719:INFO:TEST BATCH-63: t = 3.5136, Net_Loss: -2.169562, Revenue: 2.169562\n",
      "2019-01-30 01:21:31,723:INFO:TEST BATCH-64: t = 3.5170, Net_Loss: -2.168755, Revenue: 2.168755\n",
      "2019-01-30 01:21:31,727:INFO:TEST BATCH-65: t = 3.5197, Net_Loss: -2.167947, Revenue: 2.167947\n",
      "2019-01-30 01:21:31,731:INFO:TEST BATCH-66: t = 3.5229, Net_Loss: -2.167962, Revenue: 2.167962\n",
      "2019-01-30 01:21:31,735:INFO:TEST BATCH-67: t = 3.5255, Net_Loss: -2.167976, Revenue: 2.167976\n",
      "2019-01-30 01:21:31,739:INFO:TEST BATCH-68: t = 3.5284, Net_Loss: -2.167990, Revenue: 2.167990\n",
      "2019-01-30 01:21:31,744:INFO:TEST BATCH-69: t = 3.5312, Net_Loss: -2.168005, Revenue: 2.168005\n",
      "2019-01-30 01:21:31,747:INFO:TEST BATCH-70: t = 3.5331, Net_Loss: -2.168020, Revenue: 2.168020\n",
      "2019-01-30 01:21:31,752:INFO:TEST BATCH-71: t = 3.5351, Net_Loss: -2.168035, Revenue: 2.168035\n",
      "2019-01-30 01:21:31,756:INFO:TEST BATCH-72: t = 3.5369, Net_Loss: -2.168049, Revenue: 2.168049\n",
      "2019-01-30 01:21:31,761:INFO:TEST BATCH-73: t = 3.5396, Net_Loss: -2.168064, Revenue: 2.168064\n",
      "2019-01-30 01:21:31,765:INFO:TEST BATCH-74: t = 3.5418, Net_Loss: -2.168078, Revenue: 2.168078\n",
      "2019-01-30 01:21:31,768:INFO:TEST BATCH-75: t = 3.5438, Net_Loss: -2.168092, Revenue: 2.168092\n",
      "2019-01-30 01:21:31,773:INFO:TEST BATCH-76: t = 3.5463, Net_Loss: -2.168107, Revenue: 2.168107\n",
      "2019-01-30 01:21:31,777:INFO:TEST BATCH-77: t = 3.5492, Net_Loss: -2.168122, Revenue: 2.168122\n",
      "2019-01-30 01:21:31,780:INFO:TEST BATCH-78: t = 3.5514, Net_Loss: -2.168136, Revenue: 2.168136\n",
      "2019-01-30 01:21:31,785:INFO:TEST BATCH-79: t = 3.5543, Net_Loss: -2.168151, Revenue: 2.168151\n",
      "2019-01-30 01:21:31,789:INFO:TEST BATCH-80: t = 3.5573, Net_Loss: -2.168166, Revenue: 2.168166\n",
      "2019-01-30 01:21:31,794:INFO:TEST BATCH-81: t = 3.5609, Net_Loss: -2.168180, Revenue: 2.168180\n",
      "2019-01-30 01:21:31,797:INFO:TEST BATCH-82: t = 3.5638, Net_Loss: -2.168195, Revenue: 2.168195\n",
      "2019-01-30 01:21:31,801:INFO:TEST BATCH-83: t = 3.5667, Net_Loss: -2.168209, Revenue: 2.168209\n",
      "2019-01-30 01:21:31,815:INFO:TEST BATCH-84: t = 3.5786, Net_Loss: -2.168224, Revenue: 2.168224\n",
      "2019-01-30 01:21:31,819:INFO:TEST BATCH-85: t = 3.5814, Net_Loss: -2.168238, Revenue: 2.168238\n"
     ]
    },
    {
     "name": "stderr",
     "output_type": "stream",
     "text": [
      "2019-01-30 01:21:31,822:INFO:TEST BATCH-86: t = 3.5844, Net_Loss: -2.168253, Revenue: 2.168253\n",
      "2019-01-30 01:21:31,826:INFO:TEST BATCH-87: t = 3.5876, Net_Loss: -2.168267, Revenue: 2.168267\n",
      "2019-01-30 01:21:31,830:INFO:TEST BATCH-88: t = 3.5903, Net_Loss: -2.168282, Revenue: 2.168282\n",
      "2019-01-30 01:21:31,834:INFO:TEST BATCH-89: t = 3.5939, Net_Loss: -2.168296, Revenue: 2.168296\n",
      "2019-01-30 01:21:31,838:INFO:TEST BATCH-90: t = 3.5970, Net_Loss: -2.168311, Revenue: 2.168311\n",
      "2019-01-30 01:21:31,843:INFO:TEST BATCH-91: t = 3.6014, Net_Loss: -2.168325, Revenue: 2.168325\n",
      "2019-01-30 01:21:31,846:INFO:TEST BATCH-92: t = 3.6035, Net_Loss: -2.168340, Revenue: 2.168340\n",
      "2019-01-30 01:21:31,851:INFO:TEST BATCH-93: t = 3.6072, Net_Loss: -2.168355, Revenue: 2.168355\n",
      "2019-01-30 01:21:31,854:INFO:TEST BATCH-94: t = 3.6102, Net_Loss: -2.168370, Revenue: 2.168370\n",
      "2019-01-30 01:21:31,858:INFO:TEST BATCH-95: t = 3.6126, Net_Loss: -2.168383, Revenue: 2.168383\n",
      "2019-01-30 01:21:31,861:INFO:TEST BATCH-96: t = 3.6155, Net_Loss: -2.168398, Revenue: 2.168398\n",
      "2019-01-30 01:21:31,865:INFO:TEST BATCH-97: t = 3.6187, Net_Loss: -2.168413, Revenue: 2.168413\n",
      "2019-01-30 01:21:31,869:INFO:TEST BATCH-98: t = 3.6217, Net_Loss: -2.168427, Revenue: 2.168427\n",
      "2019-01-30 01:21:31,873:INFO:TEST BATCH-99: t = 3.6246, Net_Loss: -2.168442, Revenue: 2.168442\n",
      "2019-01-30 01:21:31,877:INFO:TEST BATCH-100: t = 3.6276, Net_Loss: -2.168457, Revenue: 2.168457\n",
      "2019-01-30 01:21:31,881:INFO:TEST BATCH-101: t = 3.6309, Net_Loss: -2.168471, Revenue: 2.168471\n",
      "2019-01-30 01:21:31,885:INFO:TEST BATCH-102: t = 3.6339, Net_Loss: -2.168485, Revenue: 2.168485\n",
      "2019-01-30 01:21:31,889:INFO:TEST BATCH-103: t = 3.6373, Net_Loss: -2.168500, Revenue: 2.168500\n",
      "2019-01-30 01:21:31,892:INFO:TEST BATCH-104: t = 3.6402, Net_Loss: -2.168515, Revenue: 2.168515\n",
      "2019-01-30 01:21:31,896:INFO:TEST BATCH-105: t = 3.6431, Net_Loss: -2.168529, Revenue: 2.168529\n",
      "2019-01-30 01:21:31,901:INFO:TEST BATCH-106: t = 3.6474, Net_Loss: -2.168544, Revenue: 2.168544\n",
      "2019-01-30 01:21:31,905:INFO:TEST BATCH-107: t = 3.6508, Net_Loss: -2.168558, Revenue: 2.168558\n",
      "2019-01-30 01:21:31,908:INFO:TEST BATCH-108: t = 3.6533, Net_Loss: -2.168573, Revenue: 2.168573\n",
      "2019-01-30 01:21:31,913:INFO:TEST BATCH-109: t = 3.6568, Net_Loss: -2.168587, Revenue: 2.168587\n",
      "2019-01-30 01:21:31,917:INFO:TEST BATCH-110: t = 3.6606, Net_Loss: -2.168602, Revenue: 2.168602\n",
      "2019-01-30 01:21:31,920:INFO:TEST BATCH-111: t = 3.6632, Net_Loss: -2.168616, Revenue: 2.168616\n",
      "2019-01-30 01:21:31,924:INFO:TEST BATCH-112: t = 3.6663, Net_Loss: -2.168631, Revenue: 2.168631\n",
      "2019-01-30 01:21:31,928:INFO:TEST BATCH-113: t = 3.6695, Net_Loss: -2.168646, Revenue: 2.168646\n",
      "2019-01-30 01:21:31,933:INFO:TEST BATCH-114: t = 3.6734, Net_Loss: -2.168660, Revenue: 2.168660\n",
      "2019-01-30 01:21:31,936:INFO:TEST BATCH-115: t = 3.6757, Net_Loss: -2.168674, Revenue: 2.168674\n",
      "2019-01-30 01:21:31,940:INFO:TEST BATCH-116: t = 3.6788, Net_Loss: -2.168689, Revenue: 2.168689\n",
      "2019-01-30 01:21:31,945:INFO:TEST BATCH-117: t = 3.6831, Net_Loss: -2.168704, Revenue: 2.168704\n",
      "2019-01-30 01:21:31,948:INFO:TEST BATCH-118: t = 3.6861, Net_Loss: -2.168718, Revenue: 2.168718\n",
      "2019-01-30 01:21:31,952:INFO:TEST BATCH-119: t = 3.6893, Net_Loss: -2.168733, Revenue: 2.168733\n",
      "2019-01-30 01:21:31,957:INFO:TEST BATCH-120: t = 3.6926, Net_Loss: -2.168748, Revenue: 2.168748\n",
      "2019-01-30 01:21:31,961:INFO:TEST BATCH-121: t = 3.6952, Net_Loss: -2.168762, Revenue: 2.168762\n",
      "2019-01-30 01:21:31,966:INFO:TEST BATCH-122: t = 3.6997, Net_Loss: -2.168776, Revenue: 2.168776\n",
      "2019-01-30 01:21:31,970:INFO:TEST BATCH-123: t = 3.7035, Net_Loss: -2.168791, Revenue: 2.168791\n",
      "2019-01-30 01:21:31,973:INFO:TEST BATCH-124: t = 3.7055, Net_Loss: -2.168805, Revenue: 2.168805\n",
      "2019-01-30 01:21:31,977:INFO:TEST BATCH-125: t = 3.7085, Net_Loss: -2.168820, Revenue: 2.168820\n",
      "2019-01-30 01:21:31,981:INFO:TEST BATCH-126: t = 3.7124, Net_Loss: -2.168835, Revenue: 2.168835\n",
      "2019-01-30 01:21:31,984:INFO:TEST BATCH-127: t = 3.7143, Net_Loss: -2.168849, Revenue: 2.168849\n",
      "2019-01-30 01:21:31,990:INFO:TEST BATCH-128: t = 3.7193, Net_Loss: -2.168864, Revenue: 2.168864\n",
      "2019-01-30 01:21:31,993:INFO:TEST BATCH-129: t = 3.7220, Net_Loss: -2.168879, Revenue: 2.168879\n",
      "2019-01-30 01:21:31,996:INFO:TEST BATCH-130: t = 3.7248, Net_Loss: -2.168893, Revenue: 2.168893\n",
      "2019-01-30 01:21:32,000:INFO:TEST BATCH-131: t = 3.7278, Net_Loss: -2.168907, Revenue: 2.168907\n",
      "2019-01-30 01:21:32,003:INFO:TEST BATCH-132: t = 3.7305, Net_Loss: -2.168922, Revenue: 2.168922\n",
      "2019-01-30 01:21:32,008:INFO:TEST BATCH-133: t = 3.7340, Net_Loss: -2.168937, Revenue: 2.168937\n",
      "2019-01-30 01:21:32,011:INFO:TEST BATCH-134: t = 3.7370, Net_Loss: -2.168951, Revenue: 2.168951\n",
      "2019-01-30 01:21:32,015:INFO:TEST BATCH-135: t = 3.7401, Net_Loss: -2.168965, Revenue: 2.168965\n",
      "2019-01-30 01:21:32,019:INFO:TEST BATCH-136: t = 3.7437, Net_Loss: -2.169788, Revenue: 2.169788\n",
      "2019-01-30 01:21:32,023:INFO:TEST BATCH-137: t = 3.7464, Net_Loss: -2.170610, Revenue: 2.170610\n",
      "2019-01-30 01:21:32,027:INFO:TEST BATCH-138: t = 3.7500, Net_Loss: -2.171431, Revenue: 2.171431\n",
      "2019-01-30 01:21:32,031:INFO:TEST BATCH-139: t = 3.7538, Net_Loss: -2.172254, Revenue: 2.172254\n",
      "2019-01-30 01:21:32,035:INFO:TEST BATCH-140: t = 3.7566, Net_Loss: -2.173076, Revenue: 2.173076\n",
      "2019-01-30 01:21:32,039:INFO:TEST BATCH-141: t = 3.7601, Net_Loss: -2.173897, Revenue: 2.173897\n",
      "2019-01-30 01:21:32,043:INFO:TEST BATCH-142: t = 3.7631, Net_Loss: -2.174719, Revenue: 2.174719\n",
      "2019-01-30 01:21:32,047:INFO:TEST BATCH-143: t = 3.7668, Net_Loss: -2.175542, Revenue: 2.175542\n",
      "2019-01-30 01:21:32,052:INFO:TEST BATCH-144: t = 3.7705, Net_Loss: -2.176363, Revenue: 2.176363\n",
      "2019-01-30 01:21:32,054:INFO:TEST BATCH-145: t = 3.7725, Net_Loss: -2.177185, Revenue: 2.177185\n",
      "2019-01-30 01:21:32,059:INFO:TEST BATCH-146: t = 3.7762, Net_Loss: -2.178007, Revenue: 2.178007\n",
      "2019-01-30 01:21:32,063:INFO:TEST BATCH-147: t = 3.7799, Net_Loss: -2.178829, Revenue: 2.178829\n",
      "2019-01-30 01:21:32,067:INFO:TEST BATCH-148: t = 3.7831, Net_Loss: -2.179651, Revenue: 2.179651\n",
      "2019-01-30 01:21:32,071:INFO:TEST BATCH-149: t = 3.7865, Net_Loss: -2.180473, Revenue: 2.180473\n",
      "2019-01-30 01:21:32,075:INFO:TEST BATCH-150: t = 3.7895, Net_Loss: -2.181295, Revenue: 2.181295\n",
      "2019-01-30 01:21:32,078:INFO:TEST BATCH-151: t = 3.7925, Net_Loss: -2.182117, Revenue: 2.182117\n",
      "2019-01-30 01:21:32,083:INFO:TEST BATCH-152: t = 3.7961, Net_Loss: -2.182939, Revenue: 2.182939\n",
      "2019-01-30 01:21:32,086:INFO:TEST BATCH-153: t = 3.7991, Net_Loss: -2.183761, Revenue: 2.183761\n",
      "2019-01-30 01:21:32,090:INFO:TEST BATCH-154: t = 3.8024, Net_Loss: -2.184583, Revenue: 2.184583\n",
      "2019-01-30 01:21:32,094:INFO:TEST BATCH-155: t = 3.8056, Net_Loss: -2.185405, Revenue: 2.185405\n",
      "2019-01-30 01:21:32,097:INFO:TEST BATCH-156: t = 3.8083, Net_Loss: -2.186227, Revenue: 2.186227\n",
      "2019-01-30 01:21:32,102:INFO:TEST BATCH-157: t = 3.8118, Net_Loss: -2.187049, Revenue: 2.187049\n",
      "2019-01-30 01:21:32,106:INFO:TEST BATCH-158: t = 3.8157, Net_Loss: -2.187871, Revenue: 2.187871\n",
      "2019-01-30 01:21:32,110:INFO:TEST BATCH-159: t = 3.8188, Net_Loss: -2.188693, Revenue: 2.188693\n",
      "2019-01-30 01:21:32,114:INFO:TEST BATCH-160: t = 3.8222, Net_Loss: -2.189515, Revenue: 2.189515\n",
      "2019-01-30 01:21:32,118:INFO:TEST BATCH-161: t = 3.8255, Net_Loss: -2.190336, Revenue: 2.190336\n",
      "2019-01-30 01:21:32,122:INFO:TEST BATCH-162: t = 3.8287, Net_Loss: -2.191159, Revenue: 2.191159\n",
      "2019-01-30 01:21:32,126:INFO:TEST BATCH-163: t = 3.8324, Net_Loss: -2.191981, Revenue: 2.191981\n",
      "2019-01-30 01:21:32,130:INFO:TEST BATCH-164: t = 3.8349, Net_Loss: -2.192802, Revenue: 2.192802\n",
      "2019-01-30 01:21:32,134:INFO:TEST BATCH-165: t = 3.8381, Net_Loss: -2.193624, Revenue: 2.193624\n",
      "2019-01-30 01:21:32,138:INFO:TEST BATCH-166: t = 3.8415, Net_Loss: -2.194447, Revenue: 2.194447\n",
      "2019-01-30 01:21:32,142:INFO:TEST BATCH-167: t = 3.8449, Net_Loss: -2.195268, Revenue: 2.195268\n",
      "2019-01-30 01:21:32,145:INFO:TEST BATCH-168: t = 3.8479, Net_Loss: -2.196090, Revenue: 2.196090\n",
      "2019-01-30 01:21:32,149:INFO:TEST BATCH-169: t = 3.8508, Net_Loss: -2.196913, Revenue: 2.196913\n",
      "2019-01-30 01:21:32,153:INFO:TEST BATCH-170: t = 3.8542, Net_Loss: -2.197734, Revenue: 2.197734\n",
      "2019-01-30 01:21:32,156:INFO:TEST BATCH-171: t = 3.8569, Net_Loss: -2.198556, Revenue: 2.198556\n"
     ]
    },
    {
     "name": "stderr",
     "output_type": "stream",
     "text": [
      "2019-01-30 01:21:32,160:INFO:TEST BATCH-172: t = 3.8600, Net_Loss: -2.199378, Revenue: 2.199378\n",
      "2019-01-30 01:21:32,163:INFO:TEST BATCH-173: t = 3.8626, Net_Loss: -2.200200, Revenue: 2.200200\n",
      "2019-01-30 01:21:32,168:INFO:TEST BATCH-174: t = 3.8661, Net_Loss: -2.201022, Revenue: 2.201022\n",
      "2019-01-30 01:21:32,171:INFO:TEST BATCH-175: t = 3.8691, Net_Loss: -2.201844, Revenue: 2.201844\n",
      "2019-01-30 01:21:32,176:INFO:TEST BATCH-176: t = 3.8732, Net_Loss: -2.202666, Revenue: 2.202666\n",
      "2019-01-30 01:21:32,179:INFO:TEST BATCH-177: t = 3.8759, Net_Loss: -2.203488, Revenue: 2.203488\n",
      "2019-01-30 01:21:32,185:INFO:TEST BATCH-178: t = 3.8805, Net_Loss: -2.204310, Revenue: 2.204310\n",
      "2019-01-30 01:21:32,187:INFO:TEST BATCH-179: t = 3.8826, Net_Loss: -2.205132, Revenue: 2.205132\n",
      "2019-01-30 01:21:32,191:INFO:TEST BATCH-180: t = 3.8856, Net_Loss: -2.205954, Revenue: 2.205954\n",
      "2019-01-30 01:21:32,196:INFO:TEST BATCH-181: t = 3.8893, Net_Loss: -2.206776, Revenue: 2.206776\n",
      "2019-01-30 01:21:32,200:INFO:TEST BATCH-182: t = 3.8927, Net_Loss: -2.207598, Revenue: 2.207598\n",
      "2019-01-30 01:21:32,203:INFO:TEST BATCH-183: t = 3.8952, Net_Loss: -2.208420, Revenue: 2.208420\n",
      "2019-01-30 01:21:32,206:INFO:TEST BATCH-184: t = 3.8977, Net_Loss: -2.209242, Revenue: 2.209242\n",
      "2019-01-30 01:21:32,212:INFO:TEST BATCH-185: t = 3.9026, Net_Loss: -2.210063, Revenue: 2.210063\n",
      "2019-01-30 01:21:32,215:INFO:TEST BATCH-186: t = 3.9058, Net_Loss: -2.210886, Revenue: 2.210886\n",
      "2019-01-30 01:21:32,219:INFO:TEST BATCH-187: t = 3.9091, Net_Loss: -2.211707, Revenue: 2.211707\n",
      "2019-01-30 01:21:32,223:INFO:TEST BATCH-188: t = 3.9122, Net_Loss: -2.212529, Revenue: 2.212529\n",
      "2019-01-30 01:21:32,226:INFO:TEST BATCH-189: t = 3.9142, Net_Loss: -2.213351, Revenue: 2.213351\n",
      "2019-01-30 01:21:32,230:INFO:TEST BATCH-190: t = 3.9177, Net_Loss: -2.214174, Revenue: 2.214174\n",
      "2019-01-30 01:21:32,234:INFO:TEST BATCH-191: t = 3.9214, Net_Loss: -2.214995, Revenue: 2.214995\n",
      "2019-01-30 01:21:32,238:INFO:TEST BATCH-192: t = 3.9244, Net_Loss: -2.215818, Revenue: 2.215818\n",
      "2019-01-30 01:21:32,242:INFO:TEST BATCH-193: t = 3.9277, Net_Loss: -2.216639, Revenue: 2.216639\n",
      "2019-01-30 01:21:32,246:INFO:TEST BATCH-194: t = 3.9313, Net_Loss: -2.217461, Revenue: 2.217461\n",
      "2019-01-30 01:21:32,250:INFO:TEST BATCH-195: t = 3.9347, Net_Loss: -2.218283, Revenue: 2.218283\n",
      "2019-01-30 01:21:32,255:INFO:TEST BATCH-196: t = 3.9392, Net_Loss: -2.219105, Revenue: 2.219105\n",
      "2019-01-30 01:21:32,259:INFO:TEST BATCH-197: t = 3.9429, Net_Loss: -2.219927, Revenue: 2.219927\n",
      "2019-01-30 01:21:32,263:INFO:TEST BATCH-198: t = 3.9463, Net_Loss: -2.220749, Revenue: 2.220749\n",
      "2019-01-30 01:21:32,266:INFO:TEST BATCH-199: t = 3.9484, Net_Loss: -2.221571, Revenue: 2.221571\n",
      "2019-01-30 01:21:32,270:INFO:TEST BATCH-200: t = 3.9523, Net_Loss: -2.222393, Revenue: 2.222393\n",
      "2019-01-30 01:21:32,271:INFO:TEST ALL-400000: t = 3.9523, Net_Loss: -2.131753, Revenue: 2.131753\n"
     ]
    }
   ],
   "source": [
    "net = Net(cfg, \"test\")\n",
    "generator = Generator(cfg, 'test', X_tst)\n",
    "m = Trainer(cfg, \"test\", net)\n",
    "m.test(generator)"
   ]
  },
  {
   "cell_type": "code",
   "execution_count": 5,
   "metadata": {
    "collapsed": true
   },
   "outputs": [],
   "source": [
    "alloc = np.load(os.path.join(cfg.dir_name, \"alloc_tst_\" + str(cfg.test.restore_iter) + \".npy\")).reshape(D,D,2)"
   ]
  },
  {
   "cell_type": "code",
   "execution_count": 6,
   "metadata": {},
   "outputs": [
    {
     "data": {
      "image/png": "[encoded data removed]",
      "text/plain": [
       "<matplotlib.figure.Figure at 0x2b45daf1cdd0>"
      ]
     },
     "metadata": {},
     "output_type": "display_data"
    }
   ],
   "source": [
    "x1 = 4.0/3.0 + np.sqrt(4.0 + 3.0/2.0)/3.0\n",
    "points1 = [(3.0 - 1.0/3.0, 3.0), (2.0, 2.0 + 1.0/3.0)]                    \n",
    "points2 = [(2.0, 2 * x1 - 2.0), (2 * x1 - 2.0, 2.0)]                 \n",
    "points3 = [(2.0 + 1.0/3.0, 2.0), (3.0, 3.0 - 1.0/3.0)]\n",
    "\n",
    "x_1 = list(map(lambda x: x[0], points1))\n",
    "y_1 = list(map(lambda x: x[1], points1))\n",
    "x_2 = list(map(lambda x: x[0], points2))\n",
    "y_2 = list(map(lambda x: x[1], points2))\n",
    "x_3 = list(map(lambda x: x[0], points3))\n",
    "y_3 = list(map(lambda x: x[1], points3))\n",
    "\n",
    "plt.rcParams.update({'font.size': 10, 'axes.labelsize': 'x-large'})\n",
    "fig, ax = plt.subplots(ncols = 1, nrows = 1, figsize = (8,6))\n",
    "ax.plot(x_1, y_1, linewidth = 2, linestyle = '--', color='black')\n",
    "ax.plot(x_2, y_2, linewidth = 2, linestyle = '--', color='black')\n",
    "ax.plot(x_3, y_3, linewidth = 2, linestyle = '--', color='black')\n",
    "img = ax.imshow(alloc[::-1, :, 0], extent=[2,3,2,3], vmin = 0.0, vmax=1.0, cmap = 'YlOrRd')\n",
    "\n",
    "plt.text(2.2, 2.8, s='0', color='black', fontsize='10', fontweight='bold')\n",
    "plt.text(2.05, 2.05, s='0', color='black', fontsize='10', fontweight='bold')\n",
    "plt.text(2.5, 2.5, s='0.5', color='black', fontsize='10', fontweight='bold')\n",
    "plt.text(2.8, 2.2, s='1', color='black', fontsize='10', fontweight='bold')\n",
    "                    \n",
    "ax.set_xlabel('$v_1$')\n",
    "ax.set_ylabel('$v_2$')\n",
    "plt.title('Prob. of allocating item 1')\n",
    "if save_plot:\n",
    "    fig.set_size_inches(4, 3)\n",
    "    plt.savefig(os.path.join(cfg.dir_name, 'alloc1.pdf'), bbox_inches = 'tight', pad_inches = 0.05)"
   ]
  },
  {
   "cell_type": "code",
   "execution_count": 7,
   "metadata": {},
   "outputs": [
    {
     "data": {
      "image/png": "[encoded data removed]",
      "text/plain": [
       "<matplotlib.figure.Figure at 0x2b46414f6a10>"
      ]
     },
     "metadata": {},
     "output_type": "display_data"
    }
   ],
   "source": [
    "x1 = 4.0/3.0 + np.sqrt(4.0 + 3.0/2.0)/3.0\n",
    "points1 = [(3.0 - 1.0/3.0, 3.0), (2.0, 2.0 + 1.0/3.0)]\n",
    "points2 = [(2.0, 2 * x1 - 2.0), (2 * x1 - 2.0, 2.0)]\n",
    "points3 = [(2.0 + 1.0/3.0, 2.0), (3.0, 3.0 - 1.0/3.0)]\n",
    "\n",
    "x_1 = list(map(lambda x: x[0], points1))\n",
    "y_1 = list(map(lambda x: x[1], points1))\n",
    "x_2 = list(map(lambda x: x[0], points2))\n",
    "y_2 = list(map(lambda x: x[1], points2))\n",
    "x_3 = list(map(lambda x: x[0], points3))\n",
    "y_3 = list(map(lambda x: x[1], points3))\n",
    "\n",
    "plt.rcParams.update({'font.size': 10, 'axes.labelsize': 'x-large'})\n",
    "fig, ax = plt.subplots(ncols = 1, nrows = 1, figsize = (8,6))\n",
    "\n",
    "ax.plot(x_1, y_1, linewidth = 2, linestyle = '--', color='black')\n",
    "ax.plot(x_2, y_2, linewidth = 2, linestyle = '--', color='black')\n",
    "ax.plot(x_3, y_3, linewidth = 2, linestyle = '--', color='black')\n",
    "img = ax.imshow(alloc[::-1, :, 1], extent=[2,3,2,3], vmin = 0.0, vmax=1.0, cmap = 'YlOrRd')\n",
    "\n",
    "plt.text(2.2, 2.8, s='1', color='black', fontsize='10', fontweight='bold')\n",
    "plt.text(2.05, 2.05, s='0', color='black', fontsize='10', fontweight='bold')\n",
    "plt.text(2.5, 2.5, s='0.5', color='black', fontsize='10', fontweight='bold')\n",
    "plt.text(2.8, 2.2, s='0', color='black', fontsize='10', fontweight='bold')\n",
    "                    \n",
    "ax.set_xlabel('$v_1$')\n",
    "ax.set_ylabel('$v_2$')\n",
    "plt.title('Prob. of allocating item 2')\n",
    "\n",
    "_ = plt.colorbar(img, fraction=0.046, pad=0.04)\n",
    "if save_plot:\n",
    "    fig.set_size_inches(4, 3)\n",
    "    plt.savefig(os.path.join(cfg.dir_name, 'alloc2.pdf'), bbox_inches = 'tight', pad_inches = 0.05)"
   ]
  },
  {
   "cell_type": "code",
   "execution_count": null,
   "metadata": {
    "collapsed": true
   },
   "outputs": [],
   "source": []
  }
 ],
 "metadata": {
  "kernelspec": {
   "display_name": "Python 2",
   "language": "python",
   "name": "python2"
  },
  "language_info": {
   "codemirror_mode": {
    "name": "ipython",
    "version": 2
   },
   "file_extension": ".py",
   "mimetype": "text/x-python",
   "name": "python",
   "nbconvert_exporter": "python",
   "pygments_lexer": "ipython2",
   "version": "2.7.13"
  }
 },
 "nbformat": 4,
 "nbformat_minor": 2
}
