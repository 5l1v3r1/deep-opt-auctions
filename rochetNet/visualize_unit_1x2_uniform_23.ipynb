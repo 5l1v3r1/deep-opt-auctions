{
 "cells": [
  {
   "cell_type": "code",
   "execution_count": 1,
   "metadata": {
    "collapsed": true
   },
   "outputs": [],
   "source": [
    "from __future__ import absolute_import\n",
    "from __future__ import division\n",
    "from __future__ import print_function\n",
    "\n",
    "import os\n",
    "import sys\n",
    "import numpy as np\n",
    "import tensorflow as tf\n",
    "import matplotlib.pyplot as plt\n",
    "\n",
    "from nets import *\n",
    "from cfgs import *\n",
    "from data import *\n",
    "from trainer import *"
   ]
  },
  {
   "cell_type": "code",
   "execution_count": 2,
   "metadata": {},
   "outputs": [
    {
     "name": "stdout",
     "output_type": "stream",
     "text": [
      "(40401, 2)\n"
     ]
    }
   ],
   "source": [
    "%matplotlib inline\n",
    "save_plot = True\n",
    "plt.rcParams.update({'font.size': 10, 'axes.labelsize': 'x-large'})\n",
    "D = 201\n",
    "\n",
    "x = np.linspace(0, 1.0, D)\n",
    "X_tst = np.stack([v.flatten() for v in np.meshgrid(x,x)], axis = -1) + 2.0\n",
    "print(X_tst.shape)\n",
    "\n",
    "cfg = unit_1x2_uniform_23_config.cfg\n",
    "cfg.test.batch_size = D\n",
    "cfg.test.num_batches = int(X_tst.shape[0]/cfg.test.batch_size)\n",
    "cfg.test.save_output = True"
   ]
  },
  {
   "cell_type": "code",
   "execution_count": 3,
   "metadata": {
    "collapsed": true
   },
   "outputs": [],
   "source": [
    "Net = unit_net.Net\n",
    "Generator = uniform_23_generator.Generator\n",
    "Trainer = trainer.Trainer"
   ]
  },
  {
   "cell_type": "code",
   "execution_count": 4,
   "metadata": {},
   "outputs": [
    {
     "name": "stdout",
     "output_type": "stream",
     "text": [
      "INFO:tensorflow:Restoring parameters from experiments/unit_1x2_uniform_23/model-400000\n"
     ]
    },
    {
     "name": "stderr",
     "output_type": "stream",
     "text": [
      "2019-01-31 16:31:48,378:INFO:Restoring parameters from experiments/unit_1x2_uniform_23/model-400000\n",
      "2019-01-31 16:31:51,759:INFO:TEST BATCH-0: t = 3.2618, Net_Loss: -1.747721, Revenue: 1.747721\n",
      "2019-01-31 16:31:51,764:INFO:TEST BATCH-1: t = 3.2636, Net_Loss: -1.757418, Revenue: 1.757418\n",
      "2019-01-31 16:31:51,767:INFO:TEST BATCH-2: t = 3.2653, Net_Loss: -1.767115, Revenue: 1.767115\n",
      "2019-01-31 16:31:51,771:INFO:TEST BATCH-3: t = 3.2671, Net_Loss: -1.776813, Revenue: 1.776813\n",
      "2019-01-31 16:31:51,774:INFO:TEST BATCH-4: t = 3.2688, Net_Loss: -1.786510, Revenue: 1.786510\n",
      "2019-01-31 16:31:51,780:INFO:TEST BATCH-5: t = 3.2720, Net_Loss: -1.796207, Revenue: 1.796207\n",
      "2019-01-31 16:31:51,786:INFO:TEST BATCH-6: t = 3.2753, Net_Loss: -1.805904, Revenue: 1.805904\n",
      "2019-01-31 16:31:51,789:INFO:TEST BATCH-7: t = 3.2770, Net_Loss: -1.815601, Revenue: 1.815601\n",
      "2019-01-31 16:31:51,795:INFO:TEST BATCH-8: t = 3.2805, Net_Loss: -1.825298, Revenue: 1.825298\n",
      "2019-01-31 16:31:51,804:INFO:TEST BATCH-9: t = 3.2867, Net_Loss: -1.834996, Revenue: 1.834996\n",
      "2019-01-31 16:31:51,807:INFO:TEST BATCH-10: t = 3.2884, Net_Loss: -1.844693, Revenue: 1.844693\n",
      "2019-01-31 16:31:51,811:INFO:TEST BATCH-11: t = 3.2904, Net_Loss: -1.854390, Revenue: 1.854390\n",
      "2019-01-31 16:31:51,816:INFO:TEST BATCH-12: t = 3.2937, Net_Loss: -1.864087, Revenue: 1.864087\n",
      "2019-01-31 16:31:51,824:INFO:TEST BATCH-13: t = 3.2987, Net_Loss: -1.873784, Revenue: 1.873784\n",
      "2019-01-31 16:31:51,828:INFO:TEST BATCH-14: t = 3.3007, Net_Loss: -1.883482, Revenue: 1.883482\n",
      "2019-01-31 16:31:51,831:INFO:TEST BATCH-15: t = 3.3024, Net_Loss: -1.893179, Revenue: 1.893179\n",
      "2019-01-31 16:31:51,836:INFO:TEST BATCH-16: t = 3.3051, Net_Loss: -1.902876, Revenue: 1.902876\n",
      "2019-01-31 16:31:51,844:INFO:TEST BATCH-17: t = 3.3114, Net_Loss: -1.912573, Revenue: 1.912573\n",
      "2019-01-31 16:31:51,848:INFO:TEST BATCH-18: t = 3.3131, Net_Loss: -1.922271, Revenue: 1.922271\n",
      "2019-01-31 16:31:51,852:INFO:TEST BATCH-19: t = 3.3151, Net_Loss: -1.931968, Revenue: 1.931968\n",
      "2019-01-31 16:31:51,858:INFO:TEST BATCH-20: t = 3.3189, Net_Loss: -1.941665, Revenue: 1.941665\n",
      "2019-01-31 16:31:51,864:INFO:TEST BATCH-21: t = 3.3222, Net_Loss: -1.951362, Revenue: 1.951362\n",
      "2019-01-31 16:31:51,868:INFO:TEST BATCH-22: t = 3.3240, Net_Loss: -1.961059, Revenue: 1.961059\n",
      "2019-01-31 16:31:51,872:INFO:TEST BATCH-23: t = 3.3260, Net_Loss: -1.970756, Revenue: 1.970756\n",
      "2019-01-31 16:31:51,877:INFO:TEST BATCH-24: t = 3.3294, Net_Loss: -1.980454, Revenue: 1.980454\n",
      "2019-01-31 16:31:51,882:INFO:TEST BATCH-25: t = 3.3322, Net_Loss: -1.990151, Revenue: 1.990151\n",
      "2019-01-31 16:31:51,886:INFO:TEST BATCH-26: t = 3.3341, Net_Loss: -1.999848, Revenue: 1.999848\n",
      "2019-01-31 16:31:51,892:INFO:TEST BATCH-27: t = 3.3375, Net_Loss: -2.009546, Revenue: 2.009546\n",
      "2019-01-31 16:31:51,896:INFO:TEST BATCH-28: t = 3.3404, Net_Loss: -2.019243, Revenue: 2.019243\n",
      "2019-01-31 16:31:51,900:INFO:TEST BATCH-29: t = 3.3422, Net_Loss: -2.028940, Revenue: 2.028940\n",
      "2019-01-31 16:31:51,906:INFO:TEST BATCH-30: t = 3.3465, Net_Loss: -2.038637, Revenue: 2.038637\n",
      "2019-01-31 16:31:51,911:INFO:TEST BATCH-31: t = 3.3500, Net_Loss: -2.048335, Revenue: 2.048335\n",
      "2019-01-31 16:31:51,915:INFO:TEST BATCH-32: t = 3.3532, Net_Loss: -2.058032, Revenue: 2.058032\n",
      "2019-01-31 16:31:51,920:INFO:TEST BATCH-33: t = 3.3570, Net_Loss: -2.067729, Revenue: 2.067729\n",
      "2019-01-31 16:31:51,925:INFO:TEST BATCH-34: t = 3.3601, Net_Loss: -2.077426, Revenue: 2.077426\n",
      "2019-01-31 16:31:51,928:INFO:TEST BATCH-35: t = 3.3626, Net_Loss: -2.087123, Revenue: 2.087123\n",
      "2019-01-31 16:31:51,939:INFO:TEST BATCH-36: t = 3.3706, Net_Loss: -2.096820, Revenue: 2.096820\n",
      "2019-01-31 16:31:51,947:INFO:TEST BATCH-37: t = 3.3778, Net_Loss: -2.106518, Revenue: 2.106518\n",
      "2019-01-31 16:31:51,952:INFO:TEST BATCH-38: t = 3.3820, Net_Loss: -2.116215, Revenue: 2.116215\n",
      "2019-01-31 16:31:51,958:INFO:TEST BATCH-39: t = 3.3876, Net_Loss: -2.125912, Revenue: 2.125912\n",
      "2019-01-31 16:31:51,962:INFO:TEST BATCH-40: t = 3.3914, Net_Loss: -2.135609, Revenue: 2.135609\n",
      "2019-01-31 16:31:51,970:INFO:TEST BATCH-41: t = 3.3972, Net_Loss: -2.145307, Revenue: 2.145307\n",
      "2019-01-31 16:31:51,975:INFO:TEST BATCH-42: t = 3.4014, Net_Loss: -2.155004, Revenue: 2.155004\n",
      "2019-01-31 16:31:51,983:INFO:TEST BATCH-43: t = 3.4088, Net_Loss: -2.164701, Revenue: 2.164701\n",
      "2019-01-31 16:31:51,990:INFO:TEST BATCH-44: t = 3.4145, Net_Loss: -2.174398, Revenue: 2.174398\n",
      "2019-01-31 16:31:51,996:INFO:TEST BATCH-45: t = 3.4203, Net_Loss: -2.184095, Revenue: 2.184095\n",
      "2019-01-31 16:31:52,001:INFO:TEST BATCH-46: t = 3.4244, Net_Loss: -2.183288, Revenue: 2.183288\n",
      "2019-01-31 16:31:52,010:INFO:TEST BATCH-47: t = 3.4324, Net_Loss: -2.182481, Revenue: 2.182481\n",
      "2019-01-31 16:31:52,016:INFO:TEST BATCH-48: t = 3.4367, Net_Loss: -2.181673, Revenue: 2.181673\n",
      "2019-01-31 16:31:52,023:INFO:TEST BATCH-49: t = 3.4425, Net_Loss: -2.180866, Revenue: 2.180866\n",
      "2019-01-31 16:31:52,028:INFO:TEST BATCH-50: t = 3.4464, Net_Loss: -2.180058, Revenue: 2.180058\n",
      "2019-01-31 16:31:52,046:INFO:TEST BATCH-51: t = 3.4634, Net_Loss: -2.179251, Revenue: 2.179251\n",
      "2019-01-31 16:31:52,054:INFO:TEST BATCH-52: t = 3.4715, Net_Loss: -2.178443, Revenue: 2.178443\n",
      "2019-01-31 16:31:52,059:INFO:TEST BATCH-53: t = 3.4753, Net_Loss: -2.177636, Revenue: 2.177636\n",
      "2019-01-31 16:31:52,063:INFO:TEST BATCH-54: t = 3.4786, Net_Loss: -2.176829, Revenue: 2.176829\n",
      "2019-01-31 16:31:52,071:INFO:TEST BATCH-55: t = 3.4858, Net_Loss: -2.176021, Revenue: 2.176021\n",
      "2019-01-31 16:31:52,074:INFO:TEST BATCH-56: t = 3.4885, Net_Loss: -2.175214, Revenue: 2.175214\n",
      "2019-01-31 16:31:52,080:INFO:TEST BATCH-57: t = 3.4940, Net_Loss: -2.174407, Revenue: 2.174407\n",
      "2019-01-31 16:31:52,087:INFO:TEST BATCH-58: t = 3.5002, Net_Loss: -2.173599, Revenue: 2.173599\n",
      "2019-01-31 16:31:52,093:INFO:TEST BATCH-59: t = 3.5054, Net_Loss: -2.172791, Revenue: 2.172791\n",
      "2019-01-31 16:31:52,100:INFO:TEST BATCH-60: t = 3.5125, Net_Loss: -2.171984, Revenue: 2.171984\n",
      "2019-01-31 16:31:52,107:INFO:TEST BATCH-61: t = 3.5184, Net_Loss: -2.171177, Revenue: 2.171177\n",
      "2019-01-31 16:31:52,114:INFO:TEST BATCH-62: t = 3.5249, Net_Loss: -2.170369, Revenue: 2.170369\n",
      "2019-01-31 16:31:52,120:INFO:TEST BATCH-63: t = 3.5300, Net_Loss: -2.169562, Revenue: 2.169562\n",
      "2019-01-31 16:31:52,127:INFO:TEST BATCH-64: t = 3.5367, Net_Loss: -2.168755, Revenue: 2.168755\n",
      "2019-01-31 16:31:52,132:INFO:TEST BATCH-65: t = 3.5416, Net_Loss: -2.167947, Revenue: 2.167947\n",
      "2019-01-31 16:31:52,139:INFO:TEST BATCH-66: t = 3.5481, Net_Loss: -2.167962, Revenue: 2.167962\n",
      "2019-01-31 16:31:52,143:INFO:TEST BATCH-67: t = 3.5515, Net_Loss: -2.167976, Revenue: 2.167976\n",
      "2019-01-31 16:31:52,152:INFO:TEST BATCH-68: t = 3.5594, Net_Loss: -2.167990, Revenue: 2.167990\n",
      "2019-01-31 16:31:52,157:INFO:TEST BATCH-69: t = 3.5640, Net_Loss: -2.168005, Revenue: 2.168005\n",
      "2019-01-31 16:31:52,166:INFO:TEST BATCH-70: t = 3.5723, Net_Loss: -2.168020, Revenue: 2.168020\n",
      "2019-01-31 16:31:52,172:INFO:TEST BATCH-71: t = 3.5775, Net_Loss: -2.168035, Revenue: 2.168035\n",
      "2019-01-31 16:31:52,179:INFO:TEST BATCH-72: t = 3.5842, Net_Loss: -2.168049, Revenue: 2.168049\n",
      "2019-01-31 16:31:52,186:INFO:TEST BATCH-73: t = 3.5910, Net_Loss: -2.168064, Revenue: 2.168064\n",
      "2019-01-31 16:31:52,192:INFO:TEST BATCH-74: t = 3.5966, Net_Loss: -2.168078, Revenue: 2.168078\n",
      "2019-01-31 16:31:52,199:INFO:TEST BATCH-75: t = 3.6027, Net_Loss: -2.168092, Revenue: 2.168092\n",
      "2019-01-31 16:31:52,207:INFO:TEST BATCH-76: t = 3.6103, Net_Loss: -2.168107, Revenue: 2.168107\n",
      "2019-01-31 16:31:52,212:INFO:TEST BATCH-77: t = 3.6147, Net_Loss: -2.168122, Revenue: 2.168122\n",
      "2019-01-31 16:31:52,221:INFO:TEST BATCH-78: t = 3.6227, Net_Loss: -2.168136, Revenue: 2.168136\n",
      "2019-01-31 16:31:52,229:INFO:TEST BATCH-79: t = 3.6307, Net_Loss: -2.168151, Revenue: 2.168151\n",
      "2019-01-31 16:31:52,234:INFO:TEST BATCH-80: t = 3.6344, Net_Loss: -2.168166, Revenue: 2.168166\n",
      "2019-01-31 16:31:52,240:INFO:TEST BATCH-81: t = 3.6402, Net_Loss: -2.168180, Revenue: 2.168180\n",
      "2019-01-31 16:31:52,246:INFO:TEST BATCH-82: t = 3.6458, Net_Loss: -2.168195, Revenue: 2.168195\n",
      "2019-01-31 16:31:52,254:INFO:TEST BATCH-83: t = 3.6526, Net_Loss: -2.168209, Revenue: 2.168209\n",
      "2019-01-31 16:31:52,258:INFO:TEST BATCH-84: t = 3.6555, Net_Loss: -2.168224, Revenue: 2.168224\n",
      "2019-01-31 16:31:52,265:INFO:TEST BATCH-85: t = 3.6613, Net_Loss: -2.168238, Revenue: 2.168238\n"
     ]
    },
    {
     "name": "stderr",
     "output_type": "stream",
     "text": [
      "2019-01-31 16:31:52,273:INFO:TEST BATCH-86: t = 3.6681, Net_Loss: -2.168253, Revenue: 2.168253\n",
      "2019-01-31 16:31:52,278:INFO:TEST BATCH-87: t = 3.6725, Net_Loss: -2.168267, Revenue: 2.168267\n",
      "2019-01-31 16:31:52,287:INFO:TEST BATCH-88: t = 3.6814, Net_Loss: -2.168282, Revenue: 2.168282\n",
      "2019-01-31 16:31:52,294:INFO:TEST BATCH-89: t = 3.6874, Net_Loss: -2.168296, Revenue: 2.168296\n",
      "2019-01-31 16:31:52,299:INFO:TEST BATCH-90: t = 3.6919, Net_Loss: -2.168311, Revenue: 2.168311\n",
      "2019-01-31 16:31:52,306:INFO:TEST BATCH-91: t = 3.6987, Net_Loss: -2.168325, Revenue: 2.168325\n",
      "2019-01-31 16:31:52,310:INFO:TEST BATCH-92: t = 3.7014, Net_Loss: -2.168340, Revenue: 2.168340\n",
      "2019-01-31 16:31:52,316:INFO:TEST BATCH-93: t = 3.7063, Net_Loss: -2.168355, Revenue: 2.168355\n",
      "2019-01-31 16:31:52,323:INFO:TEST BATCH-94: t = 3.7131, Net_Loss: -2.168370, Revenue: 2.168370\n",
      "2019-01-31 16:31:52,327:INFO:TEST BATCH-95: t = 3.7159, Net_Loss: -2.168383, Revenue: 2.168383\n",
      "2019-01-31 16:31:52,331:INFO:TEST BATCH-96: t = 3.7196, Net_Loss: -2.168398, Revenue: 2.168398\n",
      "2019-01-31 16:31:52,338:INFO:TEST BATCH-97: t = 3.7260, Net_Loss: -2.168413, Revenue: 2.168413\n",
      "2019-01-31 16:31:52,344:INFO:TEST BATCH-98: t = 3.7311, Net_Loss: -2.168427, Revenue: 2.168427\n",
      "2019-01-31 16:31:52,351:INFO:TEST BATCH-99: t = 3.7377, Net_Loss: -2.168442, Revenue: 2.168442\n",
      "2019-01-31 16:31:52,357:INFO:TEST BATCH-100: t = 3.7430, Net_Loss: -2.168457, Revenue: 2.168457\n",
      "2019-01-31 16:31:52,362:INFO:TEST BATCH-101: t = 3.7468, Net_Loss: -2.168471, Revenue: 2.168471\n",
      "2019-01-31 16:31:52,366:INFO:TEST BATCH-102: t = 3.7507, Net_Loss: -2.168485, Revenue: 2.168485\n",
      "2019-01-31 16:31:52,375:INFO:TEST BATCH-103: t = 3.7590, Net_Loss: -2.168500, Revenue: 2.168500\n",
      "2019-01-31 16:31:52,379:INFO:TEST BATCH-104: t = 3.7618, Net_Loss: -2.168515, Revenue: 2.168515\n",
      "2019-01-31 16:31:52,384:INFO:TEST BATCH-105: t = 3.7661, Net_Loss: -2.168529, Revenue: 2.168529\n",
      "2019-01-31 16:31:52,392:INFO:TEST BATCH-106: t = 3.7736, Net_Loss: -2.168544, Revenue: 2.168544\n",
      "2019-01-31 16:31:52,395:INFO:TEST BATCH-107: t = 3.7764, Net_Loss: -2.168558, Revenue: 2.168558\n",
      "2019-01-31 16:31:52,402:INFO:TEST BATCH-108: t = 3.7819, Net_Loss: -2.168573, Revenue: 2.168573\n",
      "2019-01-31 16:31:52,409:INFO:TEST BATCH-109: t = 3.7885, Net_Loss: -2.168587, Revenue: 2.168587\n",
      "2019-01-31 16:31:52,415:INFO:TEST BATCH-110: t = 3.7938, Net_Loss: -2.168602, Revenue: 2.168602\n",
      "2019-01-31 16:31:52,423:INFO:TEST BATCH-111: t = 3.8011, Net_Loss: -2.168616, Revenue: 2.168616\n",
      "2019-01-31 16:31:52,427:INFO:TEST BATCH-112: t = 3.8047, Net_Loss: -2.168631, Revenue: 2.168631\n",
      "2019-01-31 16:31:52,436:INFO:TEST BATCH-113: t = 3.8130, Net_Loss: -2.168646, Revenue: 2.168646\n",
      "2019-01-31 16:31:52,439:INFO:TEST BATCH-114: t = 3.8159, Net_Loss: -2.168660, Revenue: 2.168660\n",
      "2019-01-31 16:31:52,445:INFO:TEST BATCH-115: t = 3.8209, Net_Loss: -2.168674, Revenue: 2.168674\n",
      "2019-01-31 16:31:52,454:INFO:TEST BATCH-116: t = 3.8278, Net_Loss: -2.168689, Revenue: 2.168689\n",
      "2019-01-31 16:31:52,457:INFO:TEST BATCH-117: t = 3.8306, Net_Loss: -2.168704, Revenue: 2.168704\n",
      "2019-01-31 16:31:52,462:INFO:TEST BATCH-118: t = 3.8350, Net_Loss: -2.168718, Revenue: 2.168718\n",
      "2019-01-31 16:31:52,471:INFO:TEST BATCH-119: t = 3.8429, Net_Loss: -2.168733, Revenue: 2.168733\n",
      "2019-01-31 16:31:52,478:INFO:TEST BATCH-120: t = 3.8491, Net_Loss: -2.168748, Revenue: 2.168748\n",
      "2019-01-31 16:31:52,483:INFO:TEST BATCH-121: t = 3.8542, Net_Loss: -2.168762, Revenue: 2.168762\n",
      "2019-01-31 16:31:52,491:INFO:TEST BATCH-122: t = 3.8610, Net_Loss: -2.168776, Revenue: 2.168776\n",
      "2019-01-31 16:31:52,495:INFO:TEST BATCH-123: t = 3.8642, Net_Loss: -2.168791, Revenue: 2.168791\n",
      "2019-01-31 16:31:52,500:INFO:TEST BATCH-124: t = 3.8689, Net_Loss: -2.168805, Revenue: 2.168805\n",
      "2019-01-31 16:31:52,508:INFO:TEST BATCH-125: t = 3.8762, Net_Loss: -2.168820, Revenue: 2.168820\n",
      "2019-01-31 16:31:52,513:INFO:TEST BATCH-126: t = 3.8802, Net_Loss: -2.168835, Revenue: 2.168835\n",
      "2019-01-31 16:31:52,520:INFO:TEST BATCH-127: t = 3.8869, Net_Loss: -2.168849, Revenue: 2.168849\n",
      "2019-01-31 16:31:52,525:INFO:TEST BATCH-128: t = 3.8916, Net_Loss: -2.168864, Revenue: 2.168864\n",
      "2019-01-31 16:31:52,533:INFO:TEST BATCH-129: t = 3.8973, Net_Loss: -2.168879, Revenue: 2.168879\n",
      "2019-01-31 16:31:52,537:INFO:TEST BATCH-130: t = 3.9008, Net_Loss: -2.168893, Revenue: 2.168893\n",
      "2019-01-31 16:31:52,541:INFO:TEST BATCH-131: t = 3.9043, Net_Loss: -2.168907, Revenue: 2.168907\n",
      "2019-01-31 16:31:52,550:INFO:TEST BATCH-132: t = 3.9128, Net_Loss: -2.168922, Revenue: 2.168922\n",
      "2019-01-31 16:31:52,556:INFO:TEST BATCH-133: t = 3.9179, Net_Loss: -2.168937, Revenue: 2.168937\n",
      "2019-01-31 16:31:52,561:INFO:TEST BATCH-134: t = 3.9210, Net_Loss: -2.168951, Revenue: 2.168951\n",
      "2019-01-31 16:31:52,567:INFO:TEST BATCH-135: t = 3.9258, Net_Loss: -2.168965, Revenue: 2.168965\n",
      "2019-01-31 16:31:52,575:INFO:TEST BATCH-136: t = 3.9327, Net_Loss: -2.169788, Revenue: 2.169788\n",
      "2019-01-31 16:31:52,578:INFO:TEST BATCH-137: t = 3.9355, Net_Loss: -2.170610, Revenue: 2.170610\n",
      "2019-01-31 16:31:52,583:INFO:TEST BATCH-138: t = 3.9389, Net_Loss: -2.171431, Revenue: 2.171431\n",
      "2019-01-31 16:31:52,592:INFO:TEST BATCH-139: t = 3.9464, Net_Loss: -2.172254, Revenue: 2.172254\n",
      "2019-01-31 16:31:52,598:INFO:TEST BATCH-140: t = 3.9518, Net_Loss: -2.173076, Revenue: 2.173076\n",
      "2019-01-31 16:31:52,603:INFO:TEST BATCH-141: t = 3.9562, Net_Loss: -2.173897, Revenue: 2.173897\n",
      "2019-01-31 16:31:52,606:INFO:TEST BATCH-142: t = 3.9589, Net_Loss: -2.174719, Revenue: 2.174719\n",
      "2019-01-31 16:31:52,612:INFO:TEST BATCH-143: t = 3.9638, Net_Loss: -2.175542, Revenue: 2.175542\n",
      "2019-01-31 16:31:52,620:INFO:TEST BATCH-144: t = 3.9712, Net_Loss: -2.176363, Revenue: 2.176363\n",
      "2019-01-31 16:31:52,624:INFO:TEST BATCH-145: t = 3.9743, Net_Loss: -2.177185, Revenue: 2.177185\n",
      "2019-01-31 16:31:52,629:INFO:TEST BATCH-146: t = 3.9794, Net_Loss: -2.178007, Revenue: 2.178007\n",
      "2019-01-31 16:31:52,634:INFO:TEST BATCH-147: t = 3.9834, Net_Loss: -2.178829, Revenue: 2.178829\n",
      "2019-01-31 16:31:52,638:INFO:TEST BATCH-148: t = 3.9865, Net_Loss: -2.179651, Revenue: 2.179651\n",
      "2019-01-31 16:31:52,644:INFO:TEST BATCH-149: t = 3.9922, Net_Loss: -2.180473, Revenue: 2.180473\n",
      "2019-01-31 16:31:52,648:INFO:TEST BATCH-150: t = 3.9960, Net_Loss: -2.181295, Revenue: 2.181295\n",
      "2019-01-31 16:31:52,652:INFO:TEST BATCH-151: t = 3.9989, Net_Loss: -2.182117, Revenue: 2.182117\n",
      "2019-01-31 16:31:52,658:INFO:TEST BATCH-152: t = 4.0038, Net_Loss: -2.182939, Revenue: 2.182939\n",
      "2019-01-31 16:31:52,664:INFO:TEST BATCH-153: t = 4.0098, Net_Loss: -2.183761, Revenue: 2.183761\n",
      "2019-01-31 16:31:52,671:INFO:TEST BATCH-154: t = 4.0163, Net_Loss: -2.184583, Revenue: 2.184583\n",
      "2019-01-31 16:31:52,677:INFO:TEST BATCH-155: t = 4.0217, Net_Loss: -2.185405, Revenue: 2.185405\n",
      "2019-01-31 16:31:52,682:INFO:TEST BATCH-156: t = 4.0250, Net_Loss: -2.186227, Revenue: 2.186227\n",
      "2019-01-31 16:31:52,686:INFO:TEST BATCH-157: t = 4.0286, Net_Loss: -2.187049, Revenue: 2.187049\n",
      "2019-01-31 16:31:52,694:INFO:TEST BATCH-158: t = 4.0361, Net_Loss: -2.187871, Revenue: 2.187871\n",
      "2019-01-31 16:31:52,701:INFO:TEST BATCH-159: t = 4.0415, Net_Loss: -2.188693, Revenue: 2.188693\n",
      "2019-01-31 16:31:52,705:INFO:TEST BATCH-160: t = 4.0452, Net_Loss: -2.189515, Revenue: 2.189515\n",
      "2019-01-31 16:31:52,710:INFO:TEST BATCH-161: t = 4.0493, Net_Loss: -2.190336, Revenue: 2.190336\n",
      "2019-01-31 16:31:52,717:INFO:TEST BATCH-162: t = 4.0563, Net_Loss: -2.191159, Revenue: 2.191159\n",
      "2019-01-31 16:31:52,723:INFO:TEST BATCH-163: t = 4.0613, Net_Loss: -2.191981, Revenue: 2.191981\n",
      "2019-01-31 16:31:52,731:INFO:TEST BATCH-164: t = 4.0691, Net_Loss: -2.192802, Revenue: 2.192802\n",
      "2019-01-31 16:31:52,740:INFO:TEST BATCH-165: t = 4.0758, Net_Loss: -2.193624, Revenue: 2.193624\n",
      "2019-01-31 16:31:52,744:INFO:TEST BATCH-166: t = 4.0789, Net_Loss: -2.194447, Revenue: 2.194447\n",
      "2019-01-31 16:31:52,749:INFO:TEST BATCH-167: t = 4.0834, Net_Loss: -2.195268, Revenue: 2.195268\n",
      "2019-01-31 16:31:52,757:INFO:TEST BATCH-168: t = 4.0902, Net_Loss: -2.196090, Revenue: 2.196090\n",
      "2019-01-31 16:31:52,761:INFO:TEST BATCH-169: t = 4.0929, Net_Loss: -2.196913, Revenue: 2.196913\n",
      "2019-01-31 16:31:52,766:INFO:TEST BATCH-170: t = 4.0972, Net_Loss: -2.197734, Revenue: 2.197734\n",
      "2019-01-31 16:31:52,773:INFO:TEST BATCH-171: t = 4.1043, Net_Loss: -2.198556, Revenue: 2.198556\n"
     ]
    },
    {
     "name": "stderr",
     "output_type": "stream",
     "text": [
      "2019-01-31 16:31:52,777:INFO:TEST BATCH-172: t = 4.1071, Net_Loss: -2.199378, Revenue: 2.199378\n",
      "2019-01-31 16:31:52,782:INFO:TEST BATCH-173: t = 4.1114, Net_Loss: -2.200200, Revenue: 2.200200\n",
      "2019-01-31 16:31:52,790:INFO:TEST BATCH-174: t = 4.1181, Net_Loss: -2.201022, Revenue: 2.201022\n",
      "2019-01-31 16:31:52,793:INFO:TEST BATCH-175: t = 4.1212, Net_Loss: -2.201844, Revenue: 2.201844\n",
      "2019-01-31 16:31:52,799:INFO:TEST BATCH-176: t = 4.1258, Net_Loss: -2.202666, Revenue: 2.202666\n",
      "2019-01-31 16:31:52,807:INFO:TEST BATCH-177: t = 4.1332, Net_Loss: -2.203488, Revenue: 2.203488\n",
      "2019-01-31 16:31:52,810:INFO:TEST BATCH-178: t = 4.1361, Net_Loss: -2.204310, Revenue: 2.204310\n",
      "2019-01-31 16:31:52,815:INFO:TEST BATCH-179: t = 4.1400, Net_Loss: -2.205132, Revenue: 2.205132\n",
      "2019-01-31 16:31:52,824:INFO:TEST BATCH-180: t = 4.1487, Net_Loss: -2.205954, Revenue: 2.205954\n",
      "2019-01-31 16:31:52,831:INFO:TEST BATCH-181: t = 4.1549, Net_Loss: -2.206776, Revenue: 2.206776\n",
      "2019-01-31 16:31:52,835:INFO:TEST BATCH-182: t = 4.1588, Net_Loss: -2.207598, Revenue: 2.207598\n",
      "2019-01-31 16:31:52,840:INFO:TEST BATCH-183: t = 4.1629, Net_Loss: -2.208420, Revenue: 2.208420\n",
      "2019-01-31 16:31:52,847:INFO:TEST BATCH-184: t = 4.1695, Net_Loss: -2.209242, Revenue: 2.209242\n",
      "2019-01-31 16:31:52,855:INFO:TEST BATCH-185: t = 4.1755, Net_Loss: -2.210063, Revenue: 2.210063\n",
      "2019-01-31 16:31:52,863:INFO:TEST BATCH-186: t = 4.1830, Net_Loss: -2.210886, Revenue: 2.210886\n",
      "2019-01-31 16:31:52,866:INFO:TEST BATCH-187: t = 4.1848, Net_Loss: -2.211707, Revenue: 2.211707\n",
      "2019-01-31 16:31:52,872:INFO:TEST BATCH-188: t = 4.1900, Net_Loss: -2.212529, Revenue: 2.212529\n",
      "2019-01-31 16:31:52,880:INFO:TEST BATCH-189: t = 4.1970, Net_Loss: -2.213351, Revenue: 2.213351\n",
      "2019-01-31 16:31:52,884:INFO:TEST BATCH-190: t = 4.2005, Net_Loss: -2.214174, Revenue: 2.214174\n",
      "2019-01-31 16:31:52,893:INFO:TEST BATCH-191: t = 4.2092, Net_Loss: -2.214995, Revenue: 2.214995\n",
      "2019-01-31 16:31:52,899:INFO:TEST BATCH-192: t = 4.2132, Net_Loss: -2.215818, Revenue: 2.215818\n",
      "2019-01-31 16:31:52,904:INFO:TEST BATCH-193: t = 4.2164, Net_Loss: -2.216639, Revenue: 2.216639\n",
      "2019-01-31 16:31:52,912:INFO:TEST BATCH-194: t = 4.2213, Net_Loss: -2.217461, Revenue: 2.217461\n",
      "2019-01-31 16:31:52,920:INFO:TEST BATCH-195: t = 4.2284, Net_Loss: -2.218283, Revenue: 2.218283\n",
      "2019-01-31 16:31:52,924:INFO:TEST BATCH-196: t = 4.2325, Net_Loss: -2.219105, Revenue: 2.219105\n",
      "2019-01-31 16:31:52,932:INFO:TEST BATCH-197: t = 4.2394, Net_Loss: -2.219927, Revenue: 2.219927\n",
      "2019-01-31 16:31:52,938:INFO:TEST BATCH-198: t = 4.2446, Net_Loss: -2.220749, Revenue: 2.220749\n",
      "2019-01-31 16:31:52,946:INFO:TEST BATCH-199: t = 4.2518, Net_Loss: -2.221571, Revenue: 2.221571\n",
      "2019-01-31 16:31:52,950:INFO:TEST BATCH-200: t = 4.2546, Net_Loss: -2.222393, Revenue: 2.222393\n",
      "2019-01-31 16:31:52,951:INFO:TEST ALL-400000: t = 4.2546, Net_Loss: -2.131753, Revenue: 2.131753\n"
     ]
    }
   ],
   "source": [
    "net = Net(cfg, \"test\")\n",
    "generator = Generator(cfg, 'test', X_tst)\n",
    "m = Trainer(cfg, \"test\", net)\n",
    "m.test(generator)"
   ]
  },
  {
   "cell_type": "code",
   "execution_count": 5,
   "metadata": {
    "collapsed": true
   },
   "outputs": [],
   "source": [
    "alloc = np.load(os.path.join(cfg.dir_name, \"alloc_tst_\" + str(cfg.test.restore_iter) + \".npy\")).reshape(D,D,2)"
   ]
  },
  {
   "cell_type": "code",
   "execution_count": 6,
   "metadata": {},
   "outputs": [
    {
     "data": {
      "image/png": "[encoded data removed]",
      "text/plain": [
       "<matplotlib.figure.Figure at 0x2b2e3d80a250>"
      ]
     },
     "metadata": {},
     "output_type": "display_data"
    }
   ],
   "source": [
    "x1 = 4.0/3.0 + np.sqrt(4.0 + 3.0/2.0)/3.0\n",
    "points1 = [(3.0 - 1.0/3.0, 3.0), (2.0, 2.0 + 1.0/3.0)]                    \n",
    "points2 = [(2.0, 2 * x1 - 2.0), (2 * x1 - 2.0, 2.0)]                 \n",
    "points3 = [(2.0 + 1.0/3.0, 2.0), (3.0, 3.0 - 1.0/3.0)]\n",
    "\n",
    "x_1 = list(map(lambda x: x[0], points1))\n",
    "y_1 = list(map(lambda x: x[1], points1))\n",
    "x_2 = list(map(lambda x: x[0], points2))\n",
    "y_2 = list(map(lambda x: x[1], points2))\n",
    "x_3 = list(map(lambda x: x[0], points3))\n",
    "y_3 = list(map(lambda x: x[1], points3))\n",
    "\n",
    "plt.rcParams.update({'font.size': 10, 'axes.labelsize': 'x-large'})\n",
    "fig, ax = plt.subplots(ncols = 1, nrows = 1, figsize = (8,6))\n",
    "ax.plot(x_1, y_1, linewidth = 2, linestyle = '--', color='black')\n",
    "ax.plot(x_2, y_2, linewidth = 2, linestyle = '--', color='black')\n",
    "ax.plot(x_3, y_3, linewidth = 2, linestyle = '--', color='black')\n",
    "img = ax.imshow(alloc[::-1, :, 0], extent=[2,3,2,3], vmin = 0.0, vmax=1.0, cmap = 'YlOrRd')\n",
    "\n",
    "plt.text(2.2, 2.8, s='0', color='black', fontsize='10', fontweight='bold')\n",
    "plt.text(2.05, 2.05, s='0', color='black', fontsize='10', fontweight='bold')\n",
    "plt.text(2.5, 2.5, s='0.5', color='black', fontsize='10', fontweight='bold')\n",
    "plt.text(2.8, 2.2, s='1', color='black', fontsize='10', fontweight='bold')\n",
    "                    \n",
    "ax.set_xlabel('$v_1$')\n",
    "ax.set_ylabel('$v_2$')\n",
    "plt.title('Prob. of allocating item 1')\n",
    "if save_plot:\n",
    "    fig.set_size_inches(4, 3)\n",
    "    plt.savefig(os.path.join(cfg.dir_name, 'alloc1.pdf'), bbox_inches = 'tight', pad_inches = 0.05)"
   ]
  },
  {
   "cell_type": "code",
   "execution_count": 7,
   "metadata": {},
   "outputs": [
    {
     "data": {
      "image/png": "[encoded data removed]",
      "text/plain": [
       "<matplotlib.figure.Figure at 0x2b2dd7305d90>"
      ]
     },
     "metadata": {},
     "output_type": "display_data"
    }
   ],
   "source": [
    "x1 = 4.0/3.0 + np.sqrt(4.0 + 3.0/2.0)/3.0\n",
    "points1 = [(3.0 - 1.0/3.0, 3.0), (2.0, 2.0 + 1.0/3.0)]\n",
    "points2 = [(2.0, 2 * x1 - 2.0), (2 * x1 - 2.0, 2.0)]\n",
    "points3 = [(2.0 + 1.0/3.0, 2.0), (3.0, 3.0 - 1.0/3.0)]\n",
    "\n",
    "x_1 = list(map(lambda x: x[0], points1))\n",
    "y_1 = list(map(lambda x: x[1], points1))\n",
    "x_2 = list(map(lambda x: x[0], points2))\n",
    "y_2 = list(map(lambda x: x[1], points2))\n",
    "x_3 = list(map(lambda x: x[0], points3))\n",
    "y_3 = list(map(lambda x: x[1], points3))\n",
    "\n",
    "plt.rcParams.update({'font.size': 10, 'axes.labelsize': 'x-large'})\n",
    "fig, ax = plt.subplots(ncols = 1, nrows = 1, figsize = (8,6))\n",
    "\n",
    "ax.plot(x_1, y_1, linewidth = 2, linestyle = '--', color='black')\n",
    "ax.plot(x_2, y_2, linewidth = 2, linestyle = '--', color='black')\n",
    "ax.plot(x_3, y_3, linewidth = 2, linestyle = '--', color='black')\n",
    "img = ax.imshow(alloc[::-1, :, 1], extent=[2,3,2,3], vmin = 0.0, vmax=1.0, cmap = 'YlOrRd')\n",
    "\n",
    "plt.text(2.2, 2.8, s='1', color='black', fontsize='10', fontweight='bold')\n",
    "plt.text(2.05, 2.05, s='0', color='black', fontsize='10', fontweight='bold')\n",
    "plt.text(2.5, 2.5, s='0.5', color='black', fontsize='10', fontweight='bold')\n",
    "plt.text(2.8, 2.2, s='0', color='black', fontsize='10', fontweight='bold')\n",
    "                    \n",
    "ax.set_xlabel('$v_1$')\n",
    "ax.set_ylabel('$v_2$')\n",
    "plt.title('Prob. of allocating item 2')\n",
    "\n",
    "_ = plt.colorbar(img, fraction=0.046, pad=0.04)\n",
    "if save_plot:\n",
    "    fig.set_size_inches(4, 3)\n",
    "    plt.savefig(os.path.join(cfg.dir_name, 'alloc2.pdf'), bbox_inches = 'tight', pad_inches = 0.05)"
   ]
  },
  {
   "cell_type": "code",
   "execution_count": null,
   "metadata": {
    "collapsed": true
   },
   "outputs": [],
   "source": []
  }
 ],
 "metadata": {
  "kernelspec": {
   "display_name": "Python 2",
   "language": "python",
   "name": "python2"
  },
  "language_info": {
   "codemirror_mode": {
    "name": "ipython",
    "version": 2
   },
   "file_extension": ".py",
   "mimetype": "text/x-python",
   "name": "python",
   "nbconvert_exporter": "python",
   "pygments_lexer": "ipython2",
   "version": "2.7.13"
  }
 },
 "nbformat": 4,
 "nbformat_minor": 2
}
