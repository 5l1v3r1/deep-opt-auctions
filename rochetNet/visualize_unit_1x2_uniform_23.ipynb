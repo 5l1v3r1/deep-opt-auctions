{
 "cells": [
  {
   "cell_type": "code",
   "execution_count": 1,
   "metadata": {
    "collapsed": true
   },
   "outputs": [],
   "source": [
    "from __future__ import absolute_import\n",
    "from __future__ import division\n",
    "from __future__ import print_function\n",
    "\n",
    "import os\n",
    "import sys\n",
    "import numpy as np\n",
    "import tensorflow as tf\n",
    "import matplotlib.pyplot as plt\n",
    "\n",
    "from nets import *\n",
    "from cfgs import *\n",
    "from data import *\n",
    "from trainer import *"
   ]
  },
  {
   "cell_type": "code",
   "execution_count": 2,
   "metadata": {},
   "outputs": [
    {
     "name": "stdout",
     "output_type": "stream",
     "text": [
      "(40401, 2)\n"
     ]
    }
   ],
   "source": [
    "%matplotlib inline\n",
    "save_plot = True\n",
    "plt.rcParams.update({'font.size': 10, 'axes.labelsize': 'x-large'})\n",
    "D = 201\n",
    "\n",
    "x = np.linspace(0, 1.0, D)\n",
    "X_tst = np.stack([v.flatten() for v in np.meshgrid(x,x)], axis = -1) + 2.0\n",
    "print(X_tst.shape)\n",
    "\n",
    "cfg = unit_1x2_uniform_23_config.cfg\n",
    "cfg.test.batch_size = D\n",
    "cfg.test.num_batches = int(X_tst.shape[0]/cfg.test.batch_size)\n",
    "cfg.test.save_output = True"
   ]
  },
  {
   "cell_type": "code",
   "execution_count": 3,
   "metadata": {
    "collapsed": true
   },
   "outputs": [],
   "source": [
    "Net = unit_net.Net\n",
    "Generator = uniform_23_generator.Generator\n",
    "Trainer = trainer.Trainer"
   ]
  },
  {
   "cell_type": "code",
   "execution_count": 4,
   "metadata": {},
   "outputs": [
    {
     "name": "stdout",
     "output_type": "stream",
     "text": [
      "INFO:tensorflow:Restoring parameters from experiments/unit_1x2_uniform_23/model-200000\n"
     ]
    },
    {
     "name": "stderr",
     "output_type": "stream",
     "text": [
      "2019-02-02 16:20:04,912:INFO:Restoring parameters from experiments/unit_1x2_uniform_23/model-200000\n",
      "2019-02-02 16:20:08,086:INFO:TEST ALL-200000: t = 3.1459, Net_Loss: -2.130732, Revenue: 2.130732\n"
     ]
    }
   ],
   "source": [
    "net = Net(cfg, \"test\")\n",
    "generator = Generator(cfg, 'test', X_tst)\n",
    "m = Trainer(cfg, \"test\", net)\n",
    "m.test(generator)"
   ]
  },
  {
   "cell_type": "code",
   "execution_count": 5,
   "metadata": {
    "collapsed": true
   },
   "outputs": [],
   "source": [
    "alloc = np.load(os.path.join(cfg.dir_name, \"alloc_tst_\" + str(cfg.test.restore_iter) + \".npy\")).reshape(D,D,2)"
   ]
  },
  {
   "cell_type": "code",
   "execution_count": 6,
   "metadata": {},
   "outputs": [
    {
     "data": {
      "image/png": "[encoded data removed]",
      "text/plain": [
       "<matplotlib.figure.Figure at 0x2ae189977d90>"
      ]
     },
     "metadata": {},
     "output_type": "display_data"
    }
   ],
   "source": [
    "x1 = 4.0/3.0 + np.sqrt(4.0 + 3.0/2.0)/3.0\n",
    "points1 = [(3.0 - 1.0/3.0, 3.0), (2.0, 2.0 + 1.0/3.0)]                    \n",
    "points2 = [(2.0, 2 * x1 - 2.0), (2 * x1 - 2.0, 2.0)]                 \n",
    "points3 = [(2.0 + 1.0/3.0, 2.0), (3.0, 3.0 - 1.0/3.0)]\n",
    "\n",
    "x_1 = list(map(lambda x: x[0], points1))\n",
    "y_1 = list(map(lambda x: x[1], points1))\n",
    "x_2 = list(map(lambda x: x[0], points2))\n",
    "y_2 = list(map(lambda x: x[1], points2))\n",
    "x_3 = list(map(lambda x: x[0], points3))\n",
    "y_3 = list(map(lambda x: x[1], points3))\n",
    "\n",
    "plt.rcParams.update({'font.size': 10, 'axes.labelsize': 'x-large'})\n",
    "fig, ax = plt.subplots(ncols = 1, nrows = 1, figsize = (8,6))\n",
    "ax.plot(x_1, y_1, linewidth = 2, linestyle = '--', color='black')\n",
    "ax.plot(x_2, y_2, linewidth = 2, linestyle = '--', color='black')\n",
    "ax.plot(x_3, y_3, linewidth = 2, linestyle = '--', color='black')\n",
    "img = ax.imshow(alloc[::-1, :, 0], extent=[2,3,2,3], vmin = 0.0, vmax=1.0, cmap = 'YlOrRd')\n",
    "\n",
    "plt.text(2.2, 2.8, s='0', color='black', fontsize='10', fontweight='bold')\n",
    "plt.text(2.05, 2.05, s='0', color='black', fontsize='10', fontweight='bold')\n",
    "plt.text(2.5, 2.5, s='0.5', color='black', fontsize='10', fontweight='bold')\n",
    "plt.text(2.8, 2.2, s='1', color='black', fontsize='10', fontweight='bold')\n",
    "                    \n",
    "ax.set_xlabel('$v_1$')\n",
    "ax.set_ylabel('$v_2$')\n",
    "plt.title('Prob. of allocating item 1')\n",
    "if save_plot:\n",
    "    fig.set_size_inches(4, 3)\n",
    "    plt.savefig(os.path.join(cfg.dir_name, 'alloc1.pdf'), bbox_inches = 'tight', pad_inches = 0.05)"
   ]
  },
  {
   "cell_type": "code",
   "execution_count": 7,
   "metadata": {},
   "outputs": [
    {
     "data": {
      "image/png": "[encoded data removed]",
      "text/plain": [
       "<matplotlib.figure.Figure at 0x2ae1eff50a50>"
      ]
     },
     "metadata": {},
     "output_type": "display_data"
    }
   ],
   "source": [
    "x1 = 4.0/3.0 + np.sqrt(4.0 + 3.0/2.0)/3.0\n",
    "points1 = [(3.0 - 1.0/3.0, 3.0), (2.0, 2.0 + 1.0/3.0)]\n",
    "points2 = [(2.0, 2 * x1 - 2.0), (2 * x1 - 2.0, 2.0)]\n",
    "points3 = [(2.0 + 1.0/3.0, 2.0), (3.0, 3.0 - 1.0/3.0)]\n",
    "\n",
    "x_1 = list(map(lambda x: x[0], points1))\n",
    "y_1 = list(map(lambda x: x[1], points1))\n",
    "x_2 = list(map(lambda x: x[0], points2))\n",
    "y_2 = list(map(lambda x: x[1], points2))\n",
    "x_3 = list(map(lambda x: x[0], points3))\n",
    "y_3 = list(map(lambda x: x[1], points3))\n",
    "\n",
    "plt.rcParams.update({'font.size': 10, 'axes.labelsize': 'x-large'})\n",
    "fig, ax = plt.subplots(ncols = 1, nrows = 1, figsize = (8,6))\n",
    "\n",
    "ax.plot(x_1, y_1, linewidth = 2, linestyle = '--', color='black')\n",
    "ax.plot(x_2, y_2, linewidth = 2, linestyle = '--', color='black')\n",
    "ax.plot(x_3, y_3, linewidth = 2, linestyle = '--', color='black')\n",
    "img = ax.imshow(alloc[::-1, :, 1], extent=[2,3,2,3], vmin = 0.0, vmax=1.0, cmap = 'YlOrRd')\n",
    "\n",
    "plt.text(2.2, 2.8, s='1', color='black', fontsize='10', fontweight='bold')\n",
    "plt.text(2.05, 2.05, s='0', color='black', fontsize='10', fontweight='bold')\n",
    "plt.text(2.5, 2.5, s='0.5', color='black', fontsize='10', fontweight='bold')\n",
    "plt.text(2.8, 2.2, s='0', color='black', fontsize='10', fontweight='bold')\n",
    "                    \n",
    "ax.set_xlabel('$v_1$')\n",
    "ax.set_ylabel('$v_2$')\n",
    "plt.title('Prob. of allocating item 2')\n",
    "\n",
    "_ = plt.colorbar(img, fraction=0.046, pad=0.04)\n",
    "if save_plot:\n",
    "    fig.set_size_inches(4, 3)\n",
    "    plt.savefig(os.path.join(cfg.dir_name, 'alloc2.pdf'), bbox_inches = 'tight', pad_inches = 0.05)"
   ]
  },
  {
   "cell_type": "code",
   "execution_count": null,
   "metadata": {
    "collapsed": true
   },
   "outputs": [],
   "source": []
  }
 ],
 "metadata": {
  "kernelspec": {
   "display_name": "Python 2",
   "language": "python",
   "name": "python2"
  },
  "language_info": {
   "codemirror_mode": {
    "name": "ipython",
    "version": 2
   },
   "file_extension": ".py",
   "mimetype": "text/x-python",
   "name": "python",
   "nbconvert_exporter": "python",
   "pygments_lexer": "ipython2",
   "version": "2.7.13"
  }
 },
 "nbformat": 4,
 "nbformat_minor": 2
}
