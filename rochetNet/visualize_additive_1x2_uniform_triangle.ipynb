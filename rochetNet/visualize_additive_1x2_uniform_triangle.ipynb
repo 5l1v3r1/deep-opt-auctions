{
 "cells": [
  {
   "cell_type": "code",
   "execution_count": 1,
   "metadata": {
    "collapsed": true
   },
   "outputs": [],
   "source": [
    "from __future__ import absolute_import\n",
    "from __future__ import division\n",
    "from __future__ import print_function\n",
    "\n",
    "import os\n",
    "import sys\n",
    "import numpy as np\n",
    "import tensorflow as tf\n",
    "import matplotlib.pyplot as plt\n",
    "\n",
    "from nets import *\n",
    "from cfgs import *\n",
    "from data import *\n",
    "from trainer import *"
   ]
  },
  {
   "cell_type": "code",
   "execution_count": 2,
   "metadata": {},
   "outputs": [
    {
     "name": "stdout",
     "output_type": "stream",
     "text": [
      "(40401, 2)\n"
     ]
    }
   ],
   "source": [
    "%matplotlib inline\n",
    "save_plot = False\n",
    "plt.rcParams.update({'font.size': 10, 'axes.labelsize': 'x-large'})\n",
    "D = 201\n",
    "\n",
    "x = np.linspace(0, 1.0, D)\n",
    "X_tst = np.stack([v.flatten() for v in np.meshgrid(x,x)], axis = -1)\n",
    "X_tst[np.where(X_tst.sum(-1) >= 1)] = 0.0\n",
    "print(X_tst.shape)\n",
    "\n",
    "cfg = additive_1x2_uniform_triangle_config.cfg\n",
    "cfg.test.batch_size = D\n",
    "cfg.test.num_batches = int(X_tst.shape[0]/cfg.test.batch_size)\n",
    "cfg.test.save_output = True"
   ]
  },
  {
   "cell_type": "code",
   "execution_count": 3,
   "metadata": {
    "collapsed": true
   },
   "outputs": [],
   "source": [
    "Net = additive_net.Net\n",
    "Generator = uniform_triangle_01_generator.Generator\n",
    "Trainer = trainer.Trainer"
   ]
  },
  {
   "cell_type": "code",
   "execution_count": 4,
   "metadata": {},
   "outputs": [
    {
     "name": "stdout",
     "output_type": "stream",
     "text": [
      "INFO:tensorflow:Restoring parameters from experiments/additive_1x2_uniform_triangle/model-400000\n"
     ]
    },
    {
     "name": "stderr",
     "output_type": "stream",
     "text": [
      "2019-01-30 00:54:56,442:INFO:Restoring parameters from experiments/additive_1x2_uniform_triangle/model-400000\n",
      "2019-01-30 00:55:00,246:INFO:TEST BATCH-0: t = 3.7586, Net_Loss: -0.243743, Revenue: 0.243743\n",
      "2019-01-30 00:55:00,254:INFO:TEST BATCH-1: t = 3.7618, Net_Loss: -0.243743, Revenue: 0.243743\n",
      "2019-01-30 00:55:00,261:INFO:TEST BATCH-2: t = 3.7648, Net_Loss: -0.243743, Revenue: 0.243743\n",
      "2019-01-30 00:55:00,267:INFO:TEST BATCH-3: t = 3.7678, Net_Loss: -0.243743, Revenue: 0.243743\n",
      "2019-01-30 00:55:00,274:INFO:TEST BATCH-4: t = 3.7706, Net_Loss: -0.243743, Revenue: 0.243743\n",
      "2019-01-30 00:55:00,280:INFO:TEST BATCH-5: t = 3.7733, Net_Loss: -0.243743, Revenue: 0.243743\n",
      "2019-01-30 00:55:00,286:INFO:TEST BATCH-6: t = 3.7761, Net_Loss: -0.243743, Revenue: 0.243743\n",
      "2019-01-30 00:55:00,293:INFO:TEST BATCH-7: t = 3.7788, Net_Loss: -0.243743, Revenue: 0.243743\n",
      "2019-01-30 00:55:00,299:INFO:TEST BATCH-8: t = 3.7814, Net_Loss: -0.243743, Revenue: 0.243743\n",
      "2019-01-30 00:55:00,305:INFO:TEST BATCH-9: t = 3.7840, Net_Loss: -0.243743, Revenue: 0.243743\n",
      "2019-01-30 00:55:00,311:INFO:TEST BATCH-10: t = 3.7866, Net_Loss: -0.243743, Revenue: 0.243743\n",
      "2019-01-30 00:55:00,316:INFO:TEST BATCH-11: t = 3.7890, Net_Loss: -0.243743, Revenue: 0.243743\n",
      "2019-01-30 00:55:00,322:INFO:TEST BATCH-12: t = 3.7915, Net_Loss: -0.243743, Revenue: 0.243743\n",
      "2019-01-30 00:55:00,327:INFO:TEST BATCH-13: t = 3.7940, Net_Loss: -0.243743, Revenue: 0.243743\n",
      "2019-01-30 00:55:00,332:INFO:TEST BATCH-14: t = 3.7965, Net_Loss: -0.243743, Revenue: 0.243743\n",
      "2019-01-30 00:55:00,338:INFO:TEST BATCH-15: t = 3.7989, Net_Loss: -0.243743, Revenue: 0.243743\n",
      "2019-01-30 00:55:00,343:INFO:TEST BATCH-16: t = 3.8014, Net_Loss: -0.243743, Revenue: 0.243743\n",
      "2019-01-30 00:55:00,348:INFO:TEST BATCH-17: t = 3.8038, Net_Loss: -0.243743, Revenue: 0.243743\n",
      "2019-01-30 00:55:00,354:INFO:TEST BATCH-18: t = 3.8070, Net_Loss: -0.243743, Revenue: 0.243743\n",
      "2019-01-30 00:55:00,359:INFO:TEST BATCH-19: t = 3.8099, Net_Loss: -0.243743, Revenue: 0.243743\n",
      "2019-01-30 00:55:00,364:INFO:TEST BATCH-20: t = 3.8134, Net_Loss: -0.243743, Revenue: 0.243743\n",
      "2019-01-30 00:55:00,368:INFO:TEST BATCH-21: t = 3.8165, Net_Loss: -0.243743, Revenue: 0.243743\n",
      "2019-01-30 00:55:00,373:INFO:TEST BATCH-22: t = 3.8198, Net_Loss: -0.243743, Revenue: 0.243743\n",
      "2019-01-30 00:55:00,378:INFO:TEST BATCH-23: t = 3.8231, Net_Loss: -0.243743, Revenue: 0.243743\n",
      "2019-01-30 00:55:00,382:INFO:TEST BATCH-24: t = 3.8264, Net_Loss: -0.243743, Revenue: 0.243743\n",
      "2019-01-30 00:55:00,387:INFO:TEST BATCH-25: t = 3.8298, Net_Loss: -0.243743, Revenue: 0.243743\n",
      "2019-01-30 00:55:00,392:INFO:TEST BATCH-26: t = 3.8330, Net_Loss: -0.243743, Revenue: 0.243743\n",
      "2019-01-30 00:55:00,397:INFO:TEST BATCH-27: t = 3.8363, Net_Loss: -0.243743, Revenue: 0.243743\n",
      "2019-01-30 00:55:00,401:INFO:TEST BATCH-28: t = 3.8386, Net_Loss: -0.243743, Revenue: 0.243743\n",
      "2019-01-30 00:55:00,406:INFO:TEST BATCH-29: t = 3.8418, Net_Loss: -0.243743, Revenue: 0.243743\n",
      "2019-01-30 00:55:00,410:INFO:TEST BATCH-30: t = 3.8446, Net_Loss: -0.243743, Revenue: 0.243743\n",
      "2019-01-30 00:55:00,416:INFO:TEST BATCH-31: t = 3.8481, Net_Loss: -0.243743, Revenue: 0.243743\n",
      "2019-01-30 00:55:00,420:INFO:TEST BATCH-32: t = 3.8509, Net_Loss: -0.243743, Revenue: 0.243743\n",
      "2019-01-30 00:55:00,425:INFO:TEST BATCH-33: t = 3.8542, Net_Loss: -0.243743, Revenue: 0.243743\n",
      "2019-01-30 00:55:00,430:INFO:TEST BATCH-34: t = 3.8577, Net_Loss: -0.243743, Revenue: 0.243743\n",
      "2019-01-30 00:55:00,435:INFO:TEST BATCH-35: t = 3.8606, Net_Loss: -0.243743, Revenue: 0.243743\n",
      "2019-01-30 00:55:00,439:INFO:TEST BATCH-36: t = 3.8630, Net_Loss: -0.243743, Revenue: 0.243743\n",
      "2019-01-30 00:55:00,444:INFO:TEST BATCH-37: t = 3.8665, Net_Loss: -0.243743, Revenue: 0.243743\n",
      "2019-01-30 00:55:00,449:INFO:TEST BATCH-38: t = 3.8697, Net_Loss: -0.243743, Revenue: 0.243743\n",
      "2019-01-30 00:55:00,454:INFO:TEST BATCH-39: t = 3.8738, Net_Loss: -0.243743, Revenue: 0.243743\n",
      "2019-01-30 00:55:00,459:INFO:TEST BATCH-40: t = 3.8774, Net_Loss: -0.243743, Revenue: 0.243743\n",
      "2019-01-30 00:55:00,465:INFO:TEST BATCH-41: t = 3.8807, Net_Loss: -0.243743, Revenue: 0.243743\n",
      "2019-01-30 00:55:00,470:INFO:TEST BATCH-42: t = 3.8846, Net_Loss: -0.243743, Revenue: 0.243743\n",
      "2019-01-30 00:55:00,476:INFO:TEST BATCH-43: t = 3.8884, Net_Loss: -0.243743, Revenue: 0.243743\n",
      "2019-01-30 00:55:00,481:INFO:TEST BATCH-44: t = 3.8922, Net_Loss: -0.243743, Revenue: 0.243743\n",
      "2019-01-30 00:55:00,485:INFO:TEST BATCH-45: t = 3.8946, Net_Loss: -0.243743, Revenue: 0.243743\n",
      "2019-01-30 00:55:00,491:INFO:TEST BATCH-46: t = 3.8978, Net_Loss: -0.243743, Revenue: 0.243743\n",
      "2019-01-30 00:55:00,496:INFO:TEST BATCH-47: t = 3.9006, Net_Loss: -0.243743, Revenue: 0.243743\n",
      "2019-01-30 00:55:00,501:INFO:TEST BATCH-48: t = 3.9040, Net_Loss: -0.243743, Revenue: 0.243743\n",
      "2019-01-30 00:55:00,507:INFO:TEST BATCH-49: t = 3.9086, Net_Loss: -0.243743, Revenue: 0.243743\n",
      "2019-01-30 00:55:00,512:INFO:TEST BATCH-50: t = 3.9124, Net_Loss: -0.243743, Revenue: 0.243743\n",
      "2019-01-30 00:55:00,517:INFO:TEST BATCH-51: t = 3.9158, Net_Loss: -0.243743, Revenue: 0.243743\n",
      "2019-01-30 00:55:00,522:INFO:TEST BATCH-52: t = 3.9187, Net_Loss: -0.243743, Revenue: 0.243743\n",
      "2019-01-30 00:55:00,526:INFO:TEST BATCH-53: t = 3.9217, Net_Loss: -0.243743, Revenue: 0.243743\n",
      "2019-01-30 00:55:00,531:INFO:TEST BATCH-54: t = 3.9249, Net_Loss: -0.243743, Revenue: 0.243743\n",
      "2019-01-30 00:55:00,537:INFO:TEST BATCH-55: t = 3.9273, Net_Loss: -0.243743, Revenue: 0.243743\n",
      "2019-01-30 00:55:00,543:INFO:TEST BATCH-56: t = 3.9300, Net_Loss: -0.243743, Revenue: 0.243743\n",
      "2019-01-30 00:55:00,548:INFO:TEST BATCH-57: t = 3.9330, Net_Loss: -0.243743, Revenue: 0.243743\n",
      "2019-01-30 00:55:00,553:INFO:TEST BATCH-58: t = 3.9353, Net_Loss: -0.243743, Revenue: 0.243743\n",
      "2019-01-30 00:55:00,559:INFO:TEST BATCH-59: t = 3.9381, Net_Loss: -0.243743, Revenue: 0.243743\n",
      "2019-01-30 00:55:00,564:INFO:TEST BATCH-60: t = 3.9409, Net_Loss: -0.243743, Revenue: 0.243743\n",
      "2019-01-30 00:55:00,568:INFO:TEST BATCH-61: t = 3.9433, Net_Loss: -0.243743, Revenue: 0.243743\n",
      "2019-01-30 00:55:00,574:INFO:TEST BATCH-62: t = 3.9466, Net_Loss: -0.243743, Revenue: 0.243743\n",
      "2019-01-30 00:55:00,580:INFO:TEST BATCH-63: t = 3.9512, Net_Loss: -0.243743, Revenue: 0.243743\n",
      "2019-01-30 00:55:00,584:INFO:TEST BATCH-64: t = 3.9543, Net_Loss: -0.243743, Revenue: 0.243743\n",
      "2019-01-30 00:55:00,589:INFO:TEST BATCH-65: t = 3.9576, Net_Loss: -0.243743, Revenue: 0.243743\n",
      "2019-01-30 00:55:00,595:INFO:TEST BATCH-66: t = 3.9615, Net_Loss: -0.243743, Revenue: 0.243743\n",
      "2019-01-30 00:55:00,601:INFO:TEST BATCH-67: t = 3.9650, Net_Loss: -0.243743, Revenue: 0.243743\n",
      "2019-01-30 00:55:00,606:INFO:TEST BATCH-68: t = 3.9683, Net_Loss: -0.243743, Revenue: 0.243743\n",
      "2019-01-30 00:55:00,612:INFO:TEST BATCH-69: t = 3.9716, Net_Loss: -0.243743, Revenue: 0.243743\n",
      "2019-01-30 00:55:00,617:INFO:TEST BATCH-70: t = 3.9755, Net_Loss: -0.243743, Revenue: 0.243743\n",
      "2019-01-30 00:55:00,622:INFO:TEST BATCH-71: t = 3.9790, Net_Loss: -0.243743, Revenue: 0.243743\n",
      "2019-01-30 00:55:00,627:INFO:TEST BATCH-72: t = 3.9827, Net_Loss: -0.243743, Revenue: 0.243743\n",
      "2019-01-30 00:55:00,632:INFO:TEST BATCH-73: t = 3.9857, Net_Loss: -0.243743, Revenue: 0.243743\n",
      "2019-01-30 00:55:00,638:INFO:TEST BATCH-74: t = 3.9887, Net_Loss: -0.243743, Revenue: 0.243743\n",
      "2019-01-30 00:55:00,644:INFO:TEST BATCH-75: t = 3.9923, Net_Loss: -0.243743, Revenue: 0.243743\n",
      "2019-01-30 00:55:00,649:INFO:TEST BATCH-76: t = 3.9957, Net_Loss: -0.243743, Revenue: 0.243743\n",
      "2019-01-30 00:55:00,655:INFO:TEST BATCH-77: t = 3.9997, Net_Loss: -0.243743, Revenue: 0.243743\n",
      "2019-01-30 00:55:00,660:INFO:TEST BATCH-78: t = 4.0034, Net_Loss: -0.243743, Revenue: 0.243743\n",
      "2019-01-30 00:55:00,666:INFO:TEST BATCH-79: t = 4.0073, Net_Loss: -0.243743, Revenue: 0.243743\n",
      "2019-01-30 00:55:00,671:INFO:TEST BATCH-80: t = 4.0107, Net_Loss: -0.243743, Revenue: 0.243743\n",
      "2019-01-30 00:55:00,676:INFO:TEST BATCH-81: t = 4.0142, Net_Loss: -0.243743, Revenue: 0.243743\n",
      "2019-01-30 00:55:00,681:INFO:TEST BATCH-82: t = 4.0176, Net_Loss: -0.243743, Revenue: 0.243743\n",
      "2019-01-30 00:55:00,687:INFO:TEST BATCH-83: t = 4.0215, Net_Loss: -0.243743, Revenue: 0.243743\n",
      "2019-01-30 00:55:00,693:INFO:TEST BATCH-84: t = 4.0251, Net_Loss: -0.243743, Revenue: 0.243743\n",
      "2019-01-30 00:55:00,698:INFO:TEST BATCH-85: t = 4.0285, Net_Loss: -0.243743, Revenue: 0.243743\n"
     ]
    },
    {
     "name": "stderr",
     "output_type": "stream",
     "text": [
      "2019-01-30 00:55:00,704:INFO:TEST BATCH-86: t = 4.0321, Net_Loss: -0.243743, Revenue: 0.243743\n",
      "2019-01-30 00:55:00,709:INFO:TEST BATCH-87: t = 4.0357, Net_Loss: -0.243743, Revenue: 0.243743\n",
      "2019-01-30 00:55:00,714:INFO:TEST BATCH-88: t = 4.0397, Net_Loss: -0.243743, Revenue: 0.243743\n",
      "2019-01-30 00:55:00,719:INFO:TEST BATCH-89: t = 4.0432, Net_Loss: -0.243743, Revenue: 0.243743\n",
      "2019-01-30 00:55:00,725:INFO:TEST BATCH-90: t = 4.0475, Net_Loss: -0.243743, Revenue: 0.243743\n",
      "2019-01-30 00:55:00,731:INFO:TEST BATCH-91: t = 4.0510, Net_Loss: -0.243743, Revenue: 0.243743\n",
      "2019-01-30 00:55:00,735:INFO:TEST BATCH-92: t = 4.0544, Net_Loss: -0.243743, Revenue: 0.243743\n",
      "2019-01-30 00:55:00,740:INFO:TEST BATCH-93: t = 4.0578, Net_Loss: -0.243743, Revenue: 0.243743\n",
      "2019-01-30 00:55:00,746:INFO:TEST BATCH-94: t = 4.0617, Net_Loss: -0.243743, Revenue: 0.243743\n",
      "2019-01-30 00:55:00,750:INFO:TEST BATCH-95: t = 4.0653, Net_Loss: -0.243743, Revenue: 0.243743\n",
      "2019-01-30 00:55:00,757:INFO:TEST BATCH-96: t = 4.0698, Net_Loss: -0.243743, Revenue: 0.243743\n",
      "2019-01-30 00:55:00,762:INFO:TEST BATCH-97: t = 4.0738, Net_Loss: -0.243743, Revenue: 0.243743\n",
      "2019-01-30 00:55:00,768:INFO:TEST BATCH-98: t = 4.0783, Net_Loss: -0.243743, Revenue: 0.243743\n",
      "2019-01-30 00:55:00,772:INFO:TEST BATCH-99: t = 4.0819, Net_Loss: -0.243743, Revenue: 0.243743\n",
      "2019-01-30 00:55:00,777:INFO:TEST BATCH-100: t = 4.0850, Net_Loss: -0.243743, Revenue: 0.243743\n",
      "2019-01-30 00:55:00,782:INFO:TEST BATCH-101: t = 4.0884, Net_Loss: -0.243743, Revenue: 0.243743\n",
      "2019-01-30 00:55:00,787:INFO:TEST BATCH-102: t = 4.0919, Net_Loss: -0.243743, Revenue: 0.243743\n",
      "2019-01-30 00:55:00,793:INFO:TEST BATCH-103: t = 4.0960, Net_Loss: -0.243743, Revenue: 0.243743\n",
      "2019-01-30 00:55:00,797:INFO:TEST BATCH-104: t = 4.0995, Net_Loss: -0.243743, Revenue: 0.243743\n",
      "2019-01-30 00:55:00,802:INFO:TEST BATCH-105: t = 4.1030, Net_Loss: -0.243743, Revenue: 0.243743\n",
      "2019-01-30 00:55:00,807:INFO:TEST BATCH-106: t = 4.1065, Net_Loss: -0.243743, Revenue: 0.243743\n",
      "2019-01-30 00:55:00,813:INFO:TEST BATCH-107: t = 4.1105, Net_Loss: -0.243743, Revenue: 0.243743\n",
      "2019-01-30 00:55:00,818:INFO:TEST BATCH-108: t = 4.1137, Net_Loss: -0.243743, Revenue: 0.243743\n",
      "2019-01-30 00:55:00,822:INFO:TEST BATCH-109: t = 4.1167, Net_Loss: -0.243743, Revenue: 0.243743\n",
      "2019-01-30 00:55:00,828:INFO:TEST BATCH-110: t = 4.1204, Net_Loss: -0.243743, Revenue: 0.243743\n",
      "2019-01-30 00:55:00,832:INFO:TEST BATCH-111: t = 4.1238, Net_Loss: -0.243743, Revenue: 0.243743\n",
      "2019-01-30 00:55:00,838:INFO:TEST BATCH-112: t = 4.1270, Net_Loss: -0.243743, Revenue: 0.243743\n",
      "2019-01-30 00:55:00,843:INFO:TEST BATCH-113: t = 4.1304, Net_Loss: -0.243743, Revenue: 0.243743\n",
      "2019-01-30 00:55:00,849:INFO:TEST BATCH-114: t = 4.1334, Net_Loss: -0.243743, Revenue: 0.243743\n",
      "2019-01-30 00:55:00,854:INFO:TEST BATCH-115: t = 4.1365, Net_Loss: -0.240909, Revenue: 0.240909\n",
      "2019-01-30 00:55:00,859:INFO:TEST BATCH-116: t = 4.1395, Net_Loss: -0.238074, Revenue: 0.238074\n",
      "2019-01-30 00:55:00,864:INFO:TEST BATCH-117: t = 4.1431, Net_Loss: -0.235240, Revenue: 0.235240\n",
      "2019-01-30 00:55:00,869:INFO:TEST BATCH-118: t = 4.1472, Net_Loss: -0.232406, Revenue: 0.232406\n",
      "2019-01-30 00:55:00,875:INFO:TEST BATCH-119: t = 4.1510, Net_Loss: -0.229572, Revenue: 0.229572\n",
      "2019-01-30 00:55:00,879:INFO:TEST BATCH-120: t = 4.1540, Net_Loss: -0.226738, Revenue: 0.226738\n",
      "2019-01-30 00:55:00,884:INFO:TEST BATCH-121: t = 4.1581, Net_Loss: -0.223903, Revenue: 0.223903\n",
      "2019-01-30 00:55:00,890:INFO:TEST BATCH-122: t = 4.1624, Net_Loss: -0.221069, Revenue: 0.221069\n",
      "2019-01-30 00:55:00,894:INFO:TEST BATCH-123: t = 4.1657, Net_Loss: -0.218235, Revenue: 0.218235\n",
      "2019-01-30 00:55:00,899:INFO:TEST BATCH-124: t = 4.1696, Net_Loss: -0.215401, Revenue: 0.215401\n",
      "2019-01-30 00:55:00,904:INFO:TEST BATCH-125: t = 4.1723, Net_Loss: -0.212566, Revenue: 0.212566\n",
      "2019-01-30 00:55:00,910:INFO:TEST BATCH-126: t = 4.1760, Net_Loss: -0.209732, Revenue: 0.209732\n",
      "2019-01-30 00:55:00,915:INFO:TEST BATCH-127: t = 4.1799, Net_Loss: -0.206898, Revenue: 0.206898\n",
      "2019-01-30 00:55:00,920:INFO:TEST BATCH-128: t = 4.1838, Net_Loss: -0.204064, Revenue: 0.204064\n",
      "2019-01-30 00:55:00,925:INFO:TEST BATCH-129: t = 4.1872, Net_Loss: -0.201230, Revenue: 0.201230\n",
      "2019-01-30 00:55:00,930:INFO:TEST BATCH-130: t = 4.1904, Net_Loss: -0.198395, Revenue: 0.198395\n",
      "2019-01-30 00:55:00,935:INFO:TEST BATCH-131: t = 4.1933, Net_Loss: -0.195561, Revenue: 0.195561\n",
      "2019-01-30 00:55:00,941:INFO:TEST BATCH-132: t = 4.1970, Net_Loss: -0.192727, Revenue: 0.192727\n",
      "2019-01-30 00:55:00,945:INFO:TEST BATCH-133: t = 4.2006, Net_Loss: -0.189893, Revenue: 0.189893\n",
      "2019-01-30 00:55:00,950:INFO:TEST BATCH-134: t = 4.2039, Net_Loss: -0.187059, Revenue: 0.187059\n",
      "2019-01-30 00:55:00,956:INFO:TEST BATCH-135: t = 4.2073, Net_Loss: -0.184224, Revenue: 0.184224\n",
      "2019-01-30 00:55:00,960:INFO:TEST BATCH-136: t = 4.2105, Net_Loss: -0.181390, Revenue: 0.181390\n",
      "2019-01-30 00:55:00,966:INFO:TEST BATCH-137: t = 4.2140, Net_Loss: -0.178556, Revenue: 0.178556\n",
      "2019-01-30 00:55:00,971:INFO:TEST BATCH-138: t = 4.2173, Net_Loss: -0.175722, Revenue: 0.175722\n",
      "2019-01-30 00:55:00,976:INFO:TEST BATCH-139: t = 4.2201, Net_Loss: -0.172887, Revenue: 0.172887\n",
      "2019-01-30 00:55:00,982:INFO:TEST BATCH-140: t = 4.2230, Net_Loss: -0.170053, Revenue: 0.170053\n",
      "2019-01-30 00:55:00,987:INFO:TEST BATCH-141: t = 4.2264, Net_Loss: -0.167219, Revenue: 0.167219\n",
      "2019-01-30 00:55:00,991:INFO:TEST BATCH-142: t = 4.2289, Net_Loss: -0.164385, Revenue: 0.164385\n",
      "2019-01-30 00:55:00,996:INFO:TEST BATCH-143: t = 4.2324, Net_Loss: -0.161551, Revenue: 0.161551\n",
      "2019-01-30 00:55:01,001:INFO:TEST BATCH-144: t = 4.2357, Net_Loss: -0.158716, Revenue: 0.158716\n",
      "2019-01-30 00:55:01,006:INFO:TEST BATCH-145: t = 4.2385, Net_Loss: -0.155882, Revenue: 0.155882\n",
      "2019-01-30 00:55:01,011:INFO:TEST BATCH-146: t = 4.2417, Net_Loss: -0.153048, Revenue: 0.153048\n",
      "2019-01-30 00:55:01,016:INFO:TEST BATCH-147: t = 4.2445, Net_Loss: -0.150214, Revenue: 0.150214\n",
      "2019-01-30 00:55:01,021:INFO:TEST BATCH-148: t = 4.2478, Net_Loss: -0.147379, Revenue: 0.147379\n",
      "2019-01-30 00:55:01,026:INFO:TEST BATCH-149: t = 4.2510, Net_Loss: -0.144545, Revenue: 0.144545\n",
      "2019-01-30 00:55:01,032:INFO:TEST BATCH-150: t = 4.2545, Net_Loss: -0.141711, Revenue: 0.141711\n",
      "2019-01-30 00:55:01,037:INFO:TEST BATCH-151: t = 4.2574, Net_Loss: -0.138877, Revenue: 0.138877\n",
      "2019-01-30 00:55:01,041:INFO:TEST BATCH-152: t = 4.2602, Net_Loss: -0.136043, Revenue: 0.136043\n",
      "2019-01-30 00:55:01,046:INFO:TEST BATCH-153: t = 4.2635, Net_Loss: -0.133208, Revenue: 0.133208\n",
      "2019-01-30 00:55:01,051:INFO:TEST BATCH-154: t = 4.2671, Net_Loss: -0.130374, Revenue: 0.130374\n",
      "2019-01-30 00:55:01,057:INFO:TEST BATCH-155: t = 4.2707, Net_Loss: -0.127540, Revenue: 0.127540\n",
      "2019-01-30 00:55:01,062:INFO:TEST BATCH-156: t = 4.2744, Net_Loss: -0.124706, Revenue: 0.124706\n",
      "2019-01-30 00:55:01,068:INFO:TEST BATCH-157: t = 4.2777, Net_Loss: -0.121871, Revenue: 0.121871\n",
      "2019-01-30 00:55:01,072:INFO:TEST BATCH-158: t = 4.2811, Net_Loss: -0.119037, Revenue: 0.119037\n",
      "2019-01-30 00:55:01,078:INFO:TEST BATCH-159: t = 4.2843, Net_Loss: -0.116203, Revenue: 0.116203\n",
      "2019-01-30 00:55:01,083:INFO:TEST BATCH-160: t = 4.2873, Net_Loss: -0.113369, Revenue: 0.113369\n",
      "2019-01-30 00:55:01,089:INFO:TEST BATCH-161: t = 4.2902, Net_Loss: -0.110535, Revenue: 0.110535\n",
      "2019-01-30 00:55:01,093:INFO:TEST BATCH-162: t = 4.2932, Net_Loss: -0.107700, Revenue: 0.107700\n",
      "2019-01-30 00:55:01,097:INFO:TEST BATCH-163: t = 4.2956, Net_Loss: -0.104866, Revenue: 0.104866\n",
      "2019-01-30 00:55:01,100:INFO:TEST BATCH-164: t = 4.2979, Net_Loss: -0.102032, Revenue: 0.102032\n",
      "2019-01-30 00:55:01,103:INFO:TEST BATCH-165: t = 4.3003, Net_Loss: -0.099198, Revenue: 0.099198\n",
      "2019-01-30 00:55:01,107:INFO:TEST BATCH-166: t = 4.3032, Net_Loss: -0.096363, Revenue: 0.096363\n",
      "2019-01-30 00:55:01,110:INFO:TEST BATCH-167: t = 4.3060, Net_Loss: -0.093529, Revenue: 0.093529\n",
      "2019-01-30 00:55:01,114:INFO:TEST BATCH-168: t = 4.3077, Net_Loss: -0.090695, Revenue: 0.090695\n",
      "2019-01-30 00:55:01,118:INFO:TEST BATCH-169: t = 4.3098, Net_Loss: -0.087861, Revenue: 0.087861\n",
      "2019-01-30 00:55:01,122:INFO:TEST BATCH-170: t = 4.3131, Net_Loss: -0.085027, Revenue: 0.085027\n",
      "2019-01-30 00:55:01,125:INFO:TEST BATCH-171: t = 4.3156, Net_Loss: -0.082192, Revenue: 0.082192\n"
     ]
    },
    {
     "name": "stderr",
     "output_type": "stream",
     "text": [
      "2019-01-30 00:55:01,129:INFO:TEST BATCH-172: t = 4.3185, Net_Loss: -0.079358, Revenue: 0.079358\n",
      "2019-01-30 00:55:01,133:INFO:TEST BATCH-173: t = 4.3208, Net_Loss: -0.076524, Revenue: 0.076524\n",
      "2019-01-30 00:55:01,136:INFO:TEST BATCH-174: t = 4.3232, Net_Loss: -0.073690, Revenue: 0.073690\n",
      "2019-01-30 00:55:01,139:INFO:TEST BATCH-175: t = 4.3259, Net_Loss: -0.070855, Revenue: 0.070855\n",
      "2019-01-30 00:55:01,143:INFO:TEST BATCH-176: t = 4.3282, Net_Loss: -0.068021, Revenue: 0.068021\n",
      "2019-01-30 00:55:01,147:INFO:TEST BATCH-177: t = 4.3310, Net_Loss: -0.065187, Revenue: 0.065187\n",
      "2019-01-30 00:55:01,151:INFO:TEST BATCH-178: t = 4.3339, Net_Loss: -0.062353, Revenue: 0.062353\n",
      "2019-01-30 00:55:01,154:INFO:TEST BATCH-179: t = 4.3363, Net_Loss: -0.059519, Revenue: 0.059519\n",
      "2019-01-30 00:55:01,158:INFO:TEST BATCH-180: t = 4.3393, Net_Loss: -0.056684, Revenue: 0.056684\n",
      "2019-01-30 00:55:01,161:INFO:TEST BATCH-181: t = 4.3420, Net_Loss: -0.053850, Revenue: 0.053850\n",
      "2019-01-30 00:55:01,164:INFO:TEST BATCH-182: t = 4.3440, Net_Loss: -0.051016, Revenue: 0.051016\n",
      "2019-01-30 00:55:01,168:INFO:TEST BATCH-183: t = 4.3466, Net_Loss: -0.048182, Revenue: 0.048182\n",
      "2019-01-30 00:55:01,172:INFO:TEST BATCH-184: t = 4.3497, Net_Loss: -0.045348, Revenue: 0.045348\n",
      "2019-01-30 00:55:01,175:INFO:TEST BATCH-185: t = 4.3521, Net_Loss: -0.042513, Revenue: 0.042513\n",
      "2019-01-30 00:55:01,179:INFO:TEST BATCH-186: t = 4.3546, Net_Loss: -0.039679, Revenue: 0.039679\n",
      "2019-01-30 00:55:01,183:INFO:TEST BATCH-187: t = 4.3574, Net_Loss: -0.036845, Revenue: 0.036845\n",
      "2019-01-30 00:55:01,186:INFO:TEST BATCH-188: t = 4.3597, Net_Loss: -0.034011, Revenue: 0.034011\n",
      "2019-01-30 00:55:01,189:INFO:TEST BATCH-189: t = 4.3615, Net_Loss: -0.031176, Revenue: 0.031176\n",
      "2019-01-30 00:55:01,193:INFO:TEST BATCH-190: t = 4.3639, Net_Loss: -0.028342, Revenue: 0.028342\n",
      "2019-01-30 00:55:01,196:INFO:TEST BATCH-191: t = 4.3661, Net_Loss: -0.025508, Revenue: 0.025508\n",
      "2019-01-30 00:55:01,199:INFO:TEST BATCH-192: t = 4.3678, Net_Loss: -0.022674, Revenue: 0.022674\n",
      "2019-01-30 00:55:01,203:INFO:TEST BATCH-193: t = 4.3706, Net_Loss: -0.019840, Revenue: 0.019840\n",
      "2019-01-30 00:55:01,206:INFO:TEST BATCH-194: t = 4.3723, Net_Loss: -0.017005, Revenue: 0.017005\n",
      "2019-01-30 00:55:01,210:INFO:TEST BATCH-195: t = 4.3751, Net_Loss: -0.014171, Revenue: 0.014171\n",
      "2019-01-30 00:55:01,213:INFO:TEST BATCH-196: t = 4.3777, Net_Loss: -0.011337, Revenue: 0.011337\n",
      "2019-01-30 00:55:01,216:INFO:TEST BATCH-197: t = 4.3801, Net_Loss: -0.008503, Revenue: 0.008503\n",
      "2019-01-30 00:55:01,220:INFO:TEST BATCH-198: t = 4.3827, Net_Loss: -0.005668, Revenue: 0.005668\n",
      "2019-01-30 00:55:01,224:INFO:TEST BATCH-199: t = 4.3855, Net_Loss: -0.002834, Revenue: 0.002834\n",
      "2019-01-30 00:55:01,228:INFO:TEST BATCH-200: t = 4.3885, Net_Loss: -0.000000, Revenue: 0.000000\n",
      "2019-01-30 00:55:01,229:INFO:TEST ALL-400000: t = 4.3885, Net_Loss: -0.190993, Revenue: 0.190993\n"
     ]
    }
   ],
   "source": [
    "net = Net(cfg, \"test\")\n",
    "generator = Generator(cfg, 'test', X_tst)\n",
    "m = Trainer(cfg, \"test\", net)\n",
    "m.test(generator)"
   ]
  },
  {
   "cell_type": "code",
   "execution_count": 5,
   "metadata": {
    "collapsed": true
   },
   "outputs": [],
   "source": [
    "alloc = np.load(os.path.join(cfg.dir_name, \"alloc_tst_\" + str(cfg.test.restore_iter) + \".npy\")).reshape(D,D,2)"
   ]
  },
  {
   "cell_type": "code",
   "execution_count": 6,
   "metadata": {
    "collapsed": true
   },
   "outputs": [],
   "source": [
    "from copy import copy\n",
    "palette = copy(plt.cm.YlOrRd)\n",
    "palette.set_over('w')\n",
    "x = np.linspace(0, 1.0, D)\n",
    "m = np.stack([v.flatten() for v in np.meshgrid(x,x)], axis = -1).reshape(D,D,2)\n",
    "mask = m.sum(-1)>1.0"
   ]
  },
  {
   "cell_type": "code",
   "execution_count": 7,
   "metadata": {},
   "outputs": [
    {
     "data": {
      "image/png": "[encoded data removed]",
      "text/plain": [
       "<matplotlib.figure.Figure at 0x2b9a14b4f650>"
      ]
     },
     "metadata": {},
     "output_type": "display_data"
    }
   ],
   "source": [
    "x1 = np.sqrt(1/3)\n",
    "points = [(x1, 0), (0, x1)]\n",
    "x = list(map(lambda x: x[0], points))\n",
    "y = list(map(lambda x: x[1], points))\n",
    "\n",
    "fig, ax = plt.subplots(ncols = 1, nrows = 1, figsize=(8,6))\n",
    "plt.plot(x, y, linewidth = 2, linestyle = '--', c='black')\n",
    "\n",
    "plt.axis([0, 1.0, 0, 1.0])\n",
    "plt.plot(x, y, linewidth = 2, linestyle = '--', c='black')\n",
    "a1 = alloc[:, :, 0]\n",
    "a1[mask] = 10.0\n",
    "img = ax.imshow(a1[::-1,:], extent=[0,1,0,1], vmin = 0.0, vmax=1.0, cmap = palette)\n",
    "\n",
    "plt.text(0.15, 0.15, s='0', color='black', fontsize='10', fontweight='bold')\n",
    "plt.text(0.4, 0.4, s='1', color='black', fontsize='10', fontweight='bold')\n",
    "\n",
    "ax.set_xlabel('$v_1$')\n",
    "ax.set_ylabel('$v_2$')\n",
    "plt.title('Prob. of allocating item 1')\n",
    "_ = plt.colorbar(img, fraction=0.046, pad=0.04)\n",
    "if save_plot:\n",
    "    fig.set_size_inches(4, 3)\n",
    "    plt.savefig(os.path.join(cfg.dir_name, 'alloc1.pdf'), bbox_inches = 'tight', pad_inches = 0.05)"
   ]
  },
  {
   "cell_type": "code",
   "execution_count": 8,
   "metadata": {},
   "outputs": [
    {
     "data": {
      "image/png": "[encoded data removed]",
      "text/plain": [
       "<matplotlib.figure.Figure at 0x2b9a14b4fd90>"
      ]
     },
     "metadata": {},
     "output_type": "display_data"
    }
   ],
   "source": [
    "x1 = np.sqrt(1/3)\n",
    "points = [(x1, 0), (0, x1)]\n",
    "x = list(map(lambda x: x[0], points))\n",
    "y = list(map(lambda x: x[1], points))\n",
    "\n",
    "fig, ax = plt.subplots(ncols = 1, nrows = 1, figsize=(8,6))\n",
    "\n",
    "plt.axis([0, 1.0, 0, 1.0])\n",
    "plt.plot(x, y, linewidth = 2, linestyle = '--', c='black')\n",
    "a2 = alloc[:, :, 1]\n",
    "a2[mask] = 10.0\n",
    "img = ax.imshow(a2[::-1, :], extent=[0,1,0,1], vmin = 0.0, vmax=1.0, cmap = palette)\n",
    "\n",
    "\n",
    "plt.text(0.15, 0.15, s='0', color='black', fontsize='10', fontweight='bold')\n",
    "plt.text(0.4, 0.4, s='1', color='black', fontsize='10', fontweight='bold')\n",
    "\n",
    "ax.set_xlabel('$v_1$')\n",
    "ax.set_ylabel('$v_2$')\n",
    "plt.title('Prob. of allocating item 2')\n",
    "_ = plt.colorbar(img, fraction=0.046, pad=0.04)\n",
    "if save_plot:\n",
    "    fig.set_size_inches(4, 3)\n",
    "    plt.savefig(os.path.join(cfg.dir_name, 'alloc2.pdf'), bbox_inches = 'tight', pad_inches = 0.05)"
   ]
  }
 ],
 "metadata": {
  "kernelspec": {
   "display_name": "Python 2",
   "language": "python",
   "name": "python2"
  },
  "language_info": {
   "codemirror_mode": {
    "name": "ipython",
    "version": 2
   },
   "file_extension": ".py",
   "mimetype": "text/x-python",
   "name": "python",
   "nbconvert_exporter": "python",
   "pygments_lexer": "ipython2",
   "version": "2.7.13"
  }
 },
 "nbformat": 4,
 "nbformat_minor": 2
}
