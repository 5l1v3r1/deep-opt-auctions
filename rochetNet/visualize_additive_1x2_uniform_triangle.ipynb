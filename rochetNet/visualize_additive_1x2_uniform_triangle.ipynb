{
 "cells": [
  {
   "cell_type": "code",
   "execution_count": 1,
   "metadata": {
    "collapsed": true
   },
   "outputs": [],
   "source": [
    "from __future__ import absolute_import\n",
    "from __future__ import division\n",
    "from __future__ import print_function\n",
    "\n",
    "import os\n",
    "import sys\n",
    "import numpy as np\n",
    "import tensorflow as tf\n",
    "import matplotlib.pyplot as plt\n",
    "\n",
    "from nets import *\n",
    "from cfgs import *\n",
    "from data import *\n",
    "from trainer import *"
   ]
  },
  {
   "cell_type": "code",
   "execution_count": 12,
   "metadata": {},
   "outputs": [
    {
     "name": "stdout",
     "output_type": "stream",
     "text": [
      "(40401, 2)\n"
     ]
    }
   ],
   "source": [
    "%matplotlib inline\n",
    "save_plot = True\n",
    "plt.rcParams.update({'font.size': 10, 'axes.labelsize': 'x-large'})\n",
    "D = 201\n",
    "\n",
    "x = np.linspace(0, 1.0, D)\n",
    "X_tst = np.stack([v.flatten() for v in np.meshgrid(x,x)], axis = -1)\n",
    "X_tst[np.where(X_tst.sum(-1) >= 1)] = 0.0\n",
    "print(X_tst.shape)\n",
    "\n",
    "cfg = additive_1x2_uniform_triangle_config.cfg\n",
    "cfg.test.batch_size = D\n",
    "cfg.test.num_batches = int(X_tst.shape[0]/cfg.test.batch_size)\n",
    "cfg.test.save_output = True"
   ]
  },
  {
   "cell_type": "code",
   "execution_count": 3,
   "metadata": {
    "collapsed": true
   },
   "outputs": [],
   "source": [
    "Net = additive_net.Net\n",
    "Generator = uniform_triangle_01_generator.Generator\n",
    "Trainer = trainer.Trainer"
   ]
  },
  {
   "cell_type": "code",
   "execution_count": 4,
   "metadata": {},
   "outputs": [
    {
     "name": "stdout",
     "output_type": "stream",
     "text": [
      "INFO:tensorflow:Restoring parameters from experiments/additive_1x2_uniform_triangle/model-400000\n"
     ]
    },
    {
     "name": "stderr",
     "output_type": "stream",
     "text": [
      "2019-01-31 16:29:13,836:INFO:Restoring parameters from experiments/additive_1x2_uniform_triangle/model-400000\n",
      "2019-01-31 16:29:17,182:INFO:TEST BATCH-0: t = 3.2213, Net_Loss: -0.243743, Revenue: 0.243743\n",
      "2019-01-31 16:29:17,188:INFO:TEST BATCH-1: t = 3.2248, Net_Loss: -0.243743, Revenue: 0.243743\n",
      "2019-01-31 16:29:17,196:INFO:TEST BATCH-2: t = 3.2296, Net_Loss: -0.243743, Revenue: 0.243743\n",
      "2019-01-31 16:29:17,200:INFO:TEST BATCH-3: t = 3.2312, Net_Loss: -0.243743, Revenue: 0.243743\n",
      "2019-01-31 16:29:17,204:INFO:TEST BATCH-4: t = 3.2340, Net_Loss: -0.243743, Revenue: 0.243743\n",
      "2019-01-31 16:29:17,213:INFO:TEST BATCH-5: t = 3.2409, Net_Loss: -0.243743, Revenue: 0.243743\n",
      "2019-01-31 16:29:17,217:INFO:TEST BATCH-6: t = 3.2425, Net_Loss: -0.243743, Revenue: 0.243743\n",
      "2019-01-31 16:29:17,220:INFO:TEST BATCH-7: t = 3.2444, Net_Loss: -0.243743, Revenue: 0.243743\n",
      "2019-01-31 16:29:17,224:INFO:TEST BATCH-8: t = 3.2465, Net_Loss: -0.243743, Revenue: 0.243743\n",
      "2019-01-31 16:29:17,234:INFO:TEST BATCH-9: t = 3.2532, Net_Loss: -0.243743, Revenue: 0.243743\n",
      "2019-01-31 16:29:17,238:INFO:TEST BATCH-10: t = 3.2551, Net_Loss: -0.243743, Revenue: 0.243743\n",
      "2019-01-31 16:29:17,241:INFO:TEST BATCH-11: t = 3.2567, Net_Loss: -0.243743, Revenue: 0.243743\n",
      "2019-01-31 16:29:17,246:INFO:TEST BATCH-12: t = 3.2594, Net_Loss: -0.243743, Revenue: 0.243743\n",
      "2019-01-31 16:29:17,254:INFO:TEST BATCH-13: t = 3.2654, Net_Loss: -0.243743, Revenue: 0.243743\n",
      "2019-01-31 16:29:17,258:INFO:TEST BATCH-14: t = 3.2673, Net_Loss: -0.243743, Revenue: 0.243743\n",
      "2019-01-31 16:29:17,261:INFO:TEST BATCH-15: t = 3.2689, Net_Loss: -0.243743, Revenue: 0.243743\n",
      "2019-01-31 16:29:17,267:INFO:TEST BATCH-16: t = 3.2723, Net_Loss: -0.243743, Revenue: 0.243743\n",
      "2019-01-31 16:29:17,275:INFO:TEST BATCH-17: t = 3.2779, Net_Loss: -0.243743, Revenue: 0.243743\n",
      "2019-01-31 16:29:17,278:INFO:TEST BATCH-18: t = 3.2798, Net_Loss: -0.243743, Revenue: 0.243743\n",
      "2019-01-31 16:29:17,282:INFO:TEST BATCH-19: t = 3.2814, Net_Loss: -0.243743, Revenue: 0.243743\n",
      "2019-01-31 16:29:17,287:INFO:TEST BATCH-20: t = 3.2850, Net_Loss: -0.243743, Revenue: 0.243743\n",
      "2019-01-31 16:29:17,294:INFO:TEST BATCH-21: t = 3.2880, Net_Loss: -0.243743, Revenue: 0.243743\n",
      "2019-01-31 16:29:17,297:INFO:TEST BATCH-22: t = 3.2896, Net_Loss: -0.243743, Revenue: 0.243743\n",
      "2019-01-31 16:29:17,301:INFO:TEST BATCH-23: t = 3.2915, Net_Loss: -0.243743, Revenue: 0.243743\n",
      "2019-01-31 16:29:17,309:INFO:TEST BATCH-24: t = 3.2976, Net_Loss: -0.243743, Revenue: 0.243743\n",
      "2019-01-31 16:29:17,314:INFO:TEST BATCH-25: t = 3.3002, Net_Loss: -0.243743, Revenue: 0.243743\n",
      "2019-01-31 16:29:17,321:INFO:TEST BATCH-26: t = 3.3058, Net_Loss: -0.243743, Revenue: 0.243743\n",
      "2019-01-31 16:29:17,327:INFO:TEST BATCH-27: t = 3.3099, Net_Loss: -0.243743, Revenue: 0.243743\n",
      "2019-01-31 16:29:17,335:INFO:TEST BATCH-28: t = 3.3159, Net_Loss: -0.243743, Revenue: 0.243743\n",
      "2019-01-31 16:29:17,339:INFO:TEST BATCH-29: t = 3.3175, Net_Loss: -0.243743, Revenue: 0.243743\n",
      "2019-01-31 16:29:17,343:INFO:TEST BATCH-30: t = 3.3198, Net_Loss: -0.243743, Revenue: 0.243743\n",
      "2019-01-31 16:29:17,350:INFO:TEST BATCH-31: t = 3.3248, Net_Loss: -0.243743, Revenue: 0.243743\n",
      "2019-01-31 16:29:17,355:INFO:TEST BATCH-32: t = 3.3287, Net_Loss: -0.243743, Revenue: 0.243743\n",
      "2019-01-31 16:29:17,363:INFO:TEST BATCH-33: t = 3.3347, Net_Loss: -0.243743, Revenue: 0.243743\n",
      "2019-01-31 16:29:17,367:INFO:TEST BATCH-34: t = 3.3364, Net_Loss: -0.243743, Revenue: 0.243743\n",
      "2019-01-31 16:29:17,371:INFO:TEST BATCH-35: t = 3.3387, Net_Loss: -0.243743, Revenue: 0.243743\n",
      "2019-01-31 16:29:17,377:INFO:TEST BATCH-36: t = 3.3433, Net_Loss: -0.243743, Revenue: 0.243743\n",
      "2019-01-31 16:29:17,383:INFO:TEST BATCH-37: t = 3.3480, Net_Loss: -0.243743, Revenue: 0.243743\n",
      "2019-01-31 16:29:17,391:INFO:TEST BATCH-38: t = 3.3551, Net_Loss: -0.243743, Revenue: 0.243743\n",
      "2019-01-31 16:29:17,395:INFO:TEST BATCH-39: t = 3.3578, Net_Loss: -0.243743, Revenue: 0.243743\n",
      "2019-01-31 16:29:17,399:INFO:TEST BATCH-40: t = 3.3617, Net_Loss: -0.243743, Revenue: 0.243743\n",
      "2019-01-31 16:29:17,408:INFO:TEST BATCH-41: t = 3.3688, Net_Loss: -0.243743, Revenue: 0.243743\n",
      "2019-01-31 16:29:17,411:INFO:TEST BATCH-42: t = 3.3716, Net_Loss: -0.243743, Revenue: 0.243743\n",
      "2019-01-31 16:29:17,416:INFO:TEST BATCH-43: t = 3.3758, Net_Loss: -0.243743, Revenue: 0.243743\n",
      "2019-01-31 16:29:17,424:INFO:TEST BATCH-44: t = 3.3821, Net_Loss: -0.243743, Revenue: 0.243743\n",
      "2019-01-31 16:29:17,430:INFO:TEST BATCH-45: t = 3.3875, Net_Loss: -0.243743, Revenue: 0.243743\n",
      "2019-01-31 16:29:17,438:INFO:TEST BATCH-46: t = 3.3952, Net_Loss: -0.243743, Revenue: 0.243743\n",
      "2019-01-31 16:29:17,442:INFO:TEST BATCH-47: t = 3.3984, Net_Loss: -0.243743, Revenue: 0.243743\n",
      "2019-01-31 16:29:17,447:INFO:TEST BATCH-48: t = 3.4024, Net_Loss: -0.243743, Revenue: 0.243743\n",
      "2019-01-31 16:29:17,454:INFO:TEST BATCH-49: t = 3.4086, Net_Loss: -0.243743, Revenue: 0.243743\n",
      "2019-01-31 16:29:17,459:INFO:TEST BATCH-50: t = 3.4134, Net_Loss: -0.243743, Revenue: 0.243743\n",
      "2019-01-31 16:29:17,468:INFO:TEST BATCH-51: t = 3.4209, Net_Loss: -0.243743, Revenue: 0.243743\n",
      "2019-01-31 16:29:17,471:INFO:TEST BATCH-52: t = 3.4236, Net_Loss: -0.243743, Revenue: 0.243743\n",
      "2019-01-31 16:29:17,476:INFO:TEST BATCH-53: t = 3.4277, Net_Loss: -0.243743, Revenue: 0.243743\n",
      "2019-01-31 16:29:17,483:INFO:TEST BATCH-54: t = 3.4347, Net_Loss: -0.243743, Revenue: 0.243743\n",
      "2019-01-31 16:29:17,487:INFO:TEST BATCH-55: t = 3.4378, Net_Loss: -0.243743, Revenue: 0.243743\n",
      "2019-01-31 16:29:17,492:INFO:TEST BATCH-56: t = 3.4422, Net_Loss: -0.243743, Revenue: 0.243743\n",
      "2019-01-31 16:29:17,500:INFO:TEST BATCH-57: t = 3.4493, Net_Loss: -0.243743, Revenue: 0.243743\n",
      "2019-01-31 16:29:17,503:INFO:TEST BATCH-58: t = 3.4521, Net_Loss: -0.243743, Revenue: 0.243743\n",
      "2019-01-31 16:29:17,508:INFO:TEST BATCH-59: t = 3.4563, Net_Loss: -0.243743, Revenue: 0.243743\n",
      "2019-01-31 16:29:17,517:INFO:TEST BATCH-60: t = 3.4634, Net_Loss: -0.243743, Revenue: 0.243743\n",
      "2019-01-31 16:29:17,520:INFO:TEST BATCH-61: t = 3.4661, Net_Loss: -0.243743, Revenue: 0.243743\n",
      "2019-01-31 16:29:17,525:INFO:TEST BATCH-62: t = 3.4699, Net_Loss: -0.243743, Revenue: 0.243743\n",
      "2019-01-31 16:29:17,533:INFO:TEST BATCH-63: t = 3.4770, Net_Loss: -0.243743, Revenue: 0.243743\n",
      "2019-01-31 16:29:17,538:INFO:TEST BATCH-64: t = 3.4814, Net_Loss: -0.243743, Revenue: 0.243743\n",
      "2019-01-31 16:29:17,546:INFO:TEST BATCH-65: t = 3.4883, Net_Loss: -0.243743, Revenue: 0.243743\n",
      "2019-01-31 16:29:17,551:INFO:TEST BATCH-66: t = 3.4928, Net_Loss: -0.243743, Revenue: 0.243743\n",
      "2019-01-31 16:29:17,559:INFO:TEST BATCH-67: t = 3.4998, Net_Loss: -0.243743, Revenue: 0.243743\n",
      "2019-01-31 16:29:17,562:INFO:TEST BATCH-68: t = 3.5025, Net_Loss: -0.243743, Revenue: 0.243743\n",
      "2019-01-31 16:29:17,568:INFO:TEST BATCH-69: t = 3.5072, Net_Loss: -0.243743, Revenue: 0.243743\n",
      "2019-01-31 16:29:17,576:INFO:TEST BATCH-70: t = 3.5143, Net_Loss: -0.243743, Revenue: 0.243743\n",
      "2019-01-31 16:29:17,579:INFO:TEST BATCH-71: t = 3.5171, Net_Loss: -0.243743, Revenue: 0.243743\n",
      "2019-01-31 16:29:17,585:INFO:TEST BATCH-72: t = 3.5219, Net_Loss: -0.243743, Revenue: 0.243743\n",
      "2019-01-31 16:29:17,592:INFO:TEST BATCH-73: t = 3.5290, Net_Loss: -0.243743, Revenue: 0.243743\n",
      "2019-01-31 16:29:17,597:INFO:TEST BATCH-74: t = 3.5326, Net_Loss: -0.243743, Revenue: 0.243743\n",
      "2019-01-31 16:29:17,602:INFO:TEST BATCH-75: t = 3.5373, Net_Loss: -0.243743, Revenue: 0.243743\n",
      "2019-01-31 16:29:17,610:INFO:TEST BATCH-76: t = 3.5450, Net_Loss: -0.243743, Revenue: 0.243743\n",
      "2019-01-31 16:29:17,616:INFO:TEST BATCH-77: t = 3.5490, Net_Loss: -0.243743, Revenue: 0.243743\n",
      "2019-01-31 16:29:17,623:INFO:TEST BATCH-78: t = 3.5563, Net_Loss: -0.243743, Revenue: 0.243743\n",
      "2019-01-31 16:29:17,627:INFO:TEST BATCH-79: t = 3.5591, Net_Loss: -0.243743, Revenue: 0.243743\n",
      "2019-01-31 16:29:17,632:INFO:TEST BATCH-80: t = 3.5633, Net_Loss: -0.243743, Revenue: 0.243743\n",
      "2019-01-31 16:29:17,639:INFO:TEST BATCH-81: t = 3.5694, Net_Loss: -0.243743, Revenue: 0.243743\n",
      "2019-01-31 16:29:17,644:INFO:TEST BATCH-82: t = 3.5738, Net_Loss: -0.243743, Revenue: 0.243743\n",
      "2019-01-31 16:29:17,652:INFO:TEST BATCH-83: t = 3.5816, Net_Loss: -0.243743, Revenue: 0.243743\n",
      "2019-01-31 16:29:17,655:INFO:TEST BATCH-84: t = 3.5844, Net_Loss: -0.243743, Revenue: 0.243743\n",
      "2019-01-31 16:29:17,660:INFO:TEST BATCH-85: t = 3.5885, Net_Loss: -0.243743, Revenue: 0.243743\n"
     ]
    },
    {
     "name": "stderr",
     "output_type": "stream",
     "text": [
      "2019-01-31 16:29:17,669:INFO:TEST BATCH-86: t = 3.5966, Net_Loss: -0.243743, Revenue: 0.243743\n",
      "2019-01-31 16:29:17,673:INFO:TEST BATCH-87: t = 3.6001, Net_Loss: -0.243743, Revenue: 0.243743\n",
      "2019-01-31 16:29:17,678:INFO:TEST BATCH-88: t = 3.6043, Net_Loss: -0.243743, Revenue: 0.243743\n",
      "2019-01-31 16:29:17,686:INFO:TEST BATCH-89: t = 3.6118, Net_Loss: -0.243743, Revenue: 0.243743\n",
      "2019-01-31 16:29:17,691:INFO:TEST BATCH-90: t = 3.6157, Net_Loss: -0.243743, Revenue: 0.243743\n",
      "2019-01-31 16:29:17,699:INFO:TEST BATCH-91: t = 3.6226, Net_Loss: -0.243743, Revenue: 0.243743\n",
      "2019-01-31 16:29:17,703:INFO:TEST BATCH-92: t = 3.6254, Net_Loss: -0.243743, Revenue: 0.243743\n",
      "2019-01-31 16:29:17,709:INFO:TEST BATCH-93: t = 3.6304, Net_Loss: -0.243743, Revenue: 0.243743\n",
      "2019-01-31 16:29:17,717:INFO:TEST BATCH-94: t = 3.6382, Net_Loss: -0.243743, Revenue: 0.243743\n",
      "2019-01-31 16:29:17,721:INFO:TEST BATCH-95: t = 3.6415, Net_Loss: -0.243743, Revenue: 0.243743\n",
      "2019-01-31 16:29:17,727:INFO:TEST BATCH-96: t = 3.6468, Net_Loss: -0.243743, Revenue: 0.243743\n",
      "2019-01-31 16:29:17,735:INFO:TEST BATCH-97: t = 3.6541, Net_Loss: -0.243743, Revenue: 0.243743\n",
      "2019-01-31 16:29:17,740:INFO:TEST BATCH-98: t = 3.6582, Net_Loss: -0.243743, Revenue: 0.243743\n",
      "2019-01-31 16:29:17,746:INFO:TEST BATCH-99: t = 3.6641, Net_Loss: -0.243743, Revenue: 0.243743\n",
      "2019-01-31 16:29:17,752:INFO:TEST BATCH-100: t = 3.6694, Net_Loss: -0.243743, Revenue: 0.243743\n",
      "2019-01-31 16:29:17,760:INFO:TEST BATCH-101: t = 3.6765, Net_Loss: -0.243743, Revenue: 0.243743\n",
      "2019-01-31 16:29:17,764:INFO:TEST BATCH-102: t = 3.6800, Net_Loss: -0.243743, Revenue: 0.243743\n",
      "2019-01-31 16:29:17,769:INFO:TEST BATCH-103: t = 3.6839, Net_Loss: -0.243743, Revenue: 0.243743\n",
      "2019-01-31 16:29:17,775:INFO:TEST BATCH-104: t = 3.6898, Net_Loss: -0.243743, Revenue: 0.243743\n",
      "2019-01-31 16:29:17,781:INFO:TEST BATCH-105: t = 3.6944, Net_Loss: -0.243743, Revenue: 0.243743\n",
      "2019-01-31 16:29:17,788:INFO:TEST BATCH-106: t = 3.7014, Net_Loss: -0.243743, Revenue: 0.243743\n",
      "2019-01-31 16:29:17,792:INFO:TEST BATCH-107: t = 3.7041, Net_Loss: -0.243743, Revenue: 0.243743\n",
      "2019-01-31 16:29:17,796:INFO:TEST BATCH-108: t = 3.7075, Net_Loss: -0.243743, Revenue: 0.243743\n",
      "2019-01-31 16:29:17,803:INFO:TEST BATCH-109: t = 3.7137, Net_Loss: -0.243743, Revenue: 0.243743\n",
      "2019-01-31 16:29:17,809:INFO:TEST BATCH-110: t = 3.7183, Net_Loss: -0.243743, Revenue: 0.243743\n",
      "2019-01-31 16:29:17,817:INFO:TEST BATCH-111: t = 3.7257, Net_Loss: -0.243743, Revenue: 0.243743\n",
      "2019-01-31 16:29:17,820:INFO:TEST BATCH-112: t = 3.7284, Net_Loss: -0.243743, Revenue: 0.243743\n",
      "2019-01-31 16:29:17,824:INFO:TEST BATCH-113: t = 3.7318, Net_Loss: -0.243743, Revenue: 0.243743\n",
      "2019-01-31 16:29:17,832:INFO:TEST BATCH-114: t = 3.7394, Net_Loss: -0.243743, Revenue: 0.243743\n",
      "2019-01-31 16:29:17,838:INFO:TEST BATCH-115: t = 3.7440, Net_Loss: -0.240909, Revenue: 0.240909\n",
      "2019-01-31 16:29:17,846:INFO:TEST BATCH-116: t = 3.7512, Net_Loss: -0.238074, Revenue: 0.238074\n",
      "2019-01-31 16:29:17,849:INFO:TEST BATCH-117: t = 3.7540, Net_Loss: -0.235240, Revenue: 0.235240\n",
      "2019-01-31 16:29:17,854:INFO:TEST BATCH-118: t = 3.7580, Net_Loss: -0.232406, Revenue: 0.232406\n",
      "2019-01-31 16:29:17,861:INFO:TEST BATCH-119: t = 3.7631, Net_Loss: -0.229572, Revenue: 0.229572\n",
      "2019-01-31 16:29:17,868:INFO:TEST BATCH-120: t = 3.7692, Net_Loss: -0.226738, Revenue: 0.226738\n",
      "2019-01-31 16:29:17,872:INFO:TEST BATCH-121: t = 3.7727, Net_Loss: -0.223903, Revenue: 0.223903\n",
      "2019-01-31 16:29:17,879:INFO:TEST BATCH-122: t = 3.7796, Net_Loss: -0.221069, Revenue: 0.221069\n",
      "2019-01-31 16:29:17,883:INFO:TEST BATCH-123: t = 3.7827, Net_Loss: -0.218235, Revenue: 0.218235\n",
      "2019-01-31 16:29:17,889:INFO:TEST BATCH-124: t = 3.7878, Net_Loss: -0.215401, Revenue: 0.215401\n",
      "2019-01-31 16:29:17,896:INFO:TEST BATCH-125: t = 3.7945, Net_Loss: -0.212566, Revenue: 0.212566\n",
      "2019-01-31 16:29:17,900:INFO:TEST BATCH-126: t = 3.7980, Net_Loss: -0.209732, Revenue: 0.209732\n",
      "2019-01-31 16:29:17,905:INFO:TEST BATCH-127: t = 3.8017, Net_Loss: -0.206898, Revenue: 0.206898\n",
      "2019-01-31 16:29:17,912:INFO:TEST BATCH-128: t = 3.8086, Net_Loss: -0.204064, Revenue: 0.204064\n",
      "2019-01-31 16:29:17,918:INFO:TEST BATCH-129: t = 3.8136, Net_Loss: -0.201230, Revenue: 0.201230\n",
      "2019-01-31 16:29:17,926:INFO:TEST BATCH-130: t = 3.8213, Net_Loss: -0.198395, Revenue: 0.198395\n",
      "2019-01-31 16:29:17,930:INFO:TEST BATCH-131: t = 3.8244, Net_Loss: -0.195561, Revenue: 0.195561\n",
      "2019-01-31 16:29:17,935:INFO:TEST BATCH-132: t = 3.8287, Net_Loss: -0.192727, Revenue: 0.192727\n",
      "2019-01-31 16:29:17,943:INFO:TEST BATCH-133: t = 3.8356, Net_Loss: -0.189893, Revenue: 0.189893\n",
      "2019-01-31 16:29:17,947:INFO:TEST BATCH-134: t = 3.8391, Net_Loss: -0.187059, Revenue: 0.187059\n",
      "2019-01-31 16:29:17,952:INFO:TEST BATCH-135: t = 3.8430, Net_Loss: -0.184224, Revenue: 0.184224\n",
      "2019-01-31 16:29:17,958:INFO:TEST BATCH-136: t = 3.8490, Net_Loss: -0.181390, Revenue: 0.181390\n",
      "2019-01-31 16:29:17,974:INFO:TEST BATCH-137: t = 3.8638, Net_Loss: -0.178556, Revenue: 0.178556\n",
      "2019-01-31 16:29:17,983:INFO:TEST BATCH-138: t = 3.8709, Net_Loss: -0.175722, Revenue: 0.175722\n",
      "2019-01-31 16:29:17,986:INFO:TEST BATCH-139: t = 3.8738, Net_Loss: -0.172887, Revenue: 0.172887\n",
      "2019-01-31 16:29:17,993:INFO:TEST BATCH-140: t = 3.8797, Net_Loss: -0.170053, Revenue: 0.170053\n",
      "2019-01-31 16:29:18,001:INFO:TEST BATCH-141: t = 3.8869, Net_Loss: -0.167219, Revenue: 0.167219\n",
      "2019-01-31 16:29:18,004:INFO:TEST BATCH-142: t = 3.8900, Net_Loss: -0.164385, Revenue: 0.164385\n",
      "2019-01-31 16:29:18,009:INFO:TEST BATCH-143: t = 3.8940, Net_Loss: -0.161551, Revenue: 0.161551\n",
      "2019-01-31 16:29:18,016:INFO:TEST BATCH-144: t = 3.9000, Net_Loss: -0.158716, Revenue: 0.158716\n",
      "2019-01-31 16:29:18,022:INFO:TEST BATCH-145: t = 3.9047, Net_Loss: -0.155882, Revenue: 0.155882\n",
      "2019-01-31 16:29:18,029:INFO:TEST BATCH-146: t = 3.9118, Net_Loss: -0.153048, Revenue: 0.153048\n",
      "2019-01-31 16:29:18,033:INFO:TEST BATCH-147: t = 3.9148, Net_Loss: -0.150214, Revenue: 0.150214\n",
      "2019-01-31 16:29:18,037:INFO:TEST BATCH-148: t = 3.9184, Net_Loss: -0.147379, Revenue: 0.147379\n",
      "2019-01-31 16:29:18,045:INFO:TEST BATCH-149: t = 3.9252, Net_Loss: -0.144545, Revenue: 0.144545\n",
      "2019-01-31 16:29:18,050:INFO:TEST BATCH-150: t = 3.9286, Net_Loss: -0.141711, Revenue: 0.141711\n",
      "2019-01-31 16:29:18,054:INFO:TEST BATCH-151: t = 3.9320, Net_Loss: -0.138877, Revenue: 0.138877\n",
      "2019-01-31 16:29:18,060:INFO:TEST BATCH-152: t = 3.9376, Net_Loss: -0.136043, Revenue: 0.136043\n",
      "2019-01-31 16:29:18,066:INFO:TEST BATCH-153: t = 3.9427, Net_Loss: -0.133208, Revenue: 0.133208\n",
      "2019-01-31 16:29:18,075:INFO:TEST BATCH-154: t = 3.9498, Net_Loss: -0.130374, Revenue: 0.130374\n",
      "2019-01-31 16:29:18,078:INFO:TEST BATCH-155: t = 3.9527, Net_Loss: -0.127540, Revenue: 0.127540\n",
      "2019-01-31 16:29:18,083:INFO:TEST BATCH-156: t = 3.9564, Net_Loss: -0.124706, Revenue: 0.124706\n",
      "2019-01-31 16:29:18,090:INFO:TEST BATCH-157: t = 3.9627, Net_Loss: -0.121871, Revenue: 0.121871\n",
      "2019-01-31 16:29:18,096:INFO:TEST BATCH-158: t = 3.9675, Net_Loss: -0.119037, Revenue: 0.119037\n",
      "2019-01-31 16:29:18,104:INFO:TEST BATCH-159: t = 3.9746, Net_Loss: -0.116203, Revenue: 0.116203\n",
      "2019-01-31 16:29:18,108:INFO:TEST BATCH-160: t = 3.9775, Net_Loss: -0.113369, Revenue: 0.113369\n",
      "2019-01-31 16:29:18,114:INFO:TEST BATCH-161: t = 3.9826, Net_Loss: -0.110535, Revenue: 0.110535\n",
      "2019-01-31 16:29:18,122:INFO:TEST BATCH-162: t = 3.9905, Net_Loss: -0.107700, Revenue: 0.107700\n",
      "2019-01-31 16:29:18,126:INFO:TEST BATCH-163: t = 3.9935, Net_Loss: -0.104866, Revenue: 0.104866\n",
      "2019-01-31 16:29:18,131:INFO:TEST BATCH-164: t = 3.9982, Net_Loss: -0.102032, Revenue: 0.102032\n",
      "2019-01-31 16:29:18,148:INFO:TEST BATCH-165: t = 4.0147, Net_Loss: -0.099198, Revenue: 0.099198\n",
      "2019-01-31 16:29:18,155:INFO:TEST BATCH-166: t = 4.0208, Net_Loss: -0.096363, Revenue: 0.096363\n",
      "2019-01-31 16:29:18,165:INFO:TEST BATCH-167: t = 4.0298, Net_Loss: -0.093529, Revenue: 0.093529\n",
      "2019-01-31 16:29:18,169:INFO:TEST BATCH-168: t = 4.0335, Net_Loss: -0.090695, Revenue: 0.090695\n",
      "2019-01-31 16:29:18,176:INFO:TEST BATCH-169: t = 4.0393, Net_Loss: -0.087861, Revenue: 0.087861\n",
      "2019-01-31 16:29:18,181:INFO:TEST BATCH-170: t = 4.0444, Net_Loss: -0.085027, Revenue: 0.085027\n",
      "2019-01-31 16:29:18,190:INFO:TEST BATCH-171: t = 4.0517, Net_Loss: -0.082192, Revenue: 0.082192\n"
     ]
    },
    {
     "name": "stderr",
     "output_type": "stream",
     "text": [
      "2019-01-31 16:29:18,194:INFO:TEST BATCH-172: t = 4.0545, Net_Loss: -0.079358, Revenue: 0.079358\n",
      "2019-01-31 16:29:18,197:INFO:TEST BATCH-173: t = 4.0566, Net_Loss: -0.076524, Revenue: 0.076524\n",
      "2019-01-31 16:29:18,202:INFO:TEST BATCH-174: t = 4.0618, Net_Loss: -0.073690, Revenue: 0.073690\n",
      "2019-01-31 16:29:18,208:INFO:TEST BATCH-175: t = 4.0668, Net_Loss: -0.070855, Revenue: 0.070855\n",
      "2019-01-31 16:29:18,215:INFO:TEST BATCH-176: t = 4.0720, Net_Loss: -0.068021, Revenue: 0.068021\n",
      "2019-01-31 16:29:18,222:INFO:TEST BATCH-177: t = 4.0781, Net_Loss: -0.065187, Revenue: 0.065187\n",
      "2019-01-31 16:29:18,227:INFO:TEST BATCH-178: t = 4.0824, Net_Loss: -0.062353, Revenue: 0.062353\n",
      "2019-01-31 16:29:18,235:INFO:TEST BATCH-179: t = 4.0900, Net_Loss: -0.059519, Revenue: 0.059519\n",
      "2019-01-31 16:29:18,239:INFO:TEST BATCH-180: t = 4.0932, Net_Loss: -0.056684, Revenue: 0.056684\n",
      "2019-01-31 16:29:18,246:INFO:TEST BATCH-181: t = 4.0993, Net_Loss: -0.053850, Revenue: 0.053850\n",
      "2019-01-31 16:29:18,249:INFO:TEST BATCH-182: t = 4.1018, Net_Loss: -0.051016, Revenue: 0.051016\n",
      "2019-01-31 16:29:18,253:INFO:TEST BATCH-183: t = 4.1046, Net_Loss: -0.048182, Revenue: 0.048182\n",
      "2019-01-31 16:29:18,260:INFO:TEST BATCH-184: t = 4.1103, Net_Loss: -0.045348, Revenue: 0.045348\n",
      "2019-01-31 16:29:18,264:INFO:TEST BATCH-185: t = 4.1138, Net_Loss: -0.042513, Revenue: 0.042513\n",
      "2019-01-31 16:29:18,272:INFO:TEST BATCH-186: t = 4.1212, Net_Loss: -0.039679, Revenue: 0.039679\n",
      "2019-01-31 16:29:18,278:INFO:TEST BATCH-187: t = 4.1266, Net_Loss: -0.036845, Revenue: 0.036845\n",
      "2019-01-31 16:29:18,285:INFO:TEST BATCH-188: t = 4.1329, Net_Loss: -0.034011, Revenue: 0.034011\n",
      "2019-01-31 16:29:18,290:INFO:TEST BATCH-189: t = 4.1368, Net_Loss: -0.031176, Revenue: 0.031176\n",
      "2019-01-31 16:29:18,297:INFO:TEST BATCH-190: t = 4.1430, Net_Loss: -0.028342, Revenue: 0.028342\n",
      "2019-01-31 16:29:18,300:INFO:TEST BATCH-191: t = 4.1454, Net_Loss: -0.025508, Revenue: 0.025508\n",
      "2019-01-31 16:29:18,305:INFO:TEST BATCH-192: t = 4.1500, Net_Loss: -0.022674, Revenue: 0.022674\n",
      "2019-01-31 16:29:18,313:INFO:TEST BATCH-193: t = 4.1573, Net_Loss: -0.019840, Revenue: 0.019840\n",
      "2019-01-31 16:29:18,317:INFO:TEST BATCH-194: t = 4.1604, Net_Loss: -0.017005, Revenue: 0.017005\n",
      "2019-01-31 16:29:18,324:INFO:TEST BATCH-195: t = 4.1662, Net_Loss: -0.014171, Revenue: 0.014171\n",
      "2019-01-31 16:29:18,331:INFO:TEST BATCH-196: t = 4.1729, Net_Loss: -0.011337, Revenue: 0.011337\n",
      "2019-01-31 16:29:18,337:INFO:TEST BATCH-197: t = 4.1778, Net_Loss: -0.008503, Revenue: 0.008503\n",
      "2019-01-31 16:29:18,340:INFO:TEST BATCH-198: t = 4.1805, Net_Loss: -0.005668, Revenue: 0.005668\n",
      "2019-01-31 16:29:18,344:INFO:TEST BATCH-199: t = 4.1844, Net_Loss: -0.002834, Revenue: 0.002834\n",
      "2019-01-31 16:29:18,352:INFO:TEST BATCH-200: t = 4.1908, Net_Loss: -0.000000, Revenue: 0.000000\n",
      "2019-01-31 16:29:18,352:INFO:TEST ALL-400000: t = 4.1908, Net_Loss: -0.190993, Revenue: 0.190993\n"
     ]
    }
   ],
   "source": [
    "net = Net(cfg, \"test\")\n",
    "generator = Generator(cfg, 'test', X_tst)\n",
    "m = Trainer(cfg, \"test\", net)\n",
    "m.test(generator)"
   ]
  },
  {
   "cell_type": "code",
   "execution_count": 5,
   "metadata": {
    "collapsed": true
   },
   "outputs": [],
   "source": [
    "alloc = np.load(os.path.join(cfg.dir_name, \"alloc_tst_\" + str(cfg.test.restore_iter) + \".npy\")).reshape(D,D,2)"
   ]
  },
  {
   "cell_type": "code",
   "execution_count": 6,
   "metadata": {
    "collapsed": true
   },
   "outputs": [],
   "source": [
    "from copy import copy\n",
    "palette = copy(plt.cm.YlOrRd)\n",
    "palette.set_over('w')\n",
    "x = np.linspace(0, 1.0, D)\n",
    "m = np.stack([v.flatten() for v in np.meshgrid(x,x)], axis = -1).reshape(D,D,2)\n",
    "mask = m.sum(-1)>1.0"
   ]
  },
  {
   "cell_type": "code",
   "execution_count": 13,
   "metadata": {},
   "outputs": [
    {
     "data": {
      "image/png": "[encoded data removed]",
      "text/plain": [
       "<matplotlib.figure.Figure at 0x2ae4fed7acd0>"
      ]
     },
     "metadata": {},
     "output_type": "display_data"
    }
   ],
   "source": [
    "x1 = np.sqrt(1/3)\n",
    "points = [(x1, 0), (0, x1)]\n",
    "x = list(map(lambda x: x[0], points))\n",
    "y = list(map(lambda x: x[1], points))\n",
    "\n",
    "fig, ax = plt.subplots(ncols = 1, nrows = 1, figsize=(8,6))\n",
    "plt.plot(x, y, linewidth = 2, linestyle = '--', c='black')\n",
    "\n",
    "plt.axis([0, 1.0, 0, 1.0])\n",
    "plt.plot(x, y, linewidth = 2, linestyle = '--', c='black')\n",
    "a1 = alloc[:, :, 0]\n",
    "a1[mask] = 10.0\n",
    "img = ax.imshow(a1[::-1,:], extent=[0,1,0,1], vmin = 0.0, vmax=1.0, cmap = palette)\n",
    "\n",
    "plt.text(0.15, 0.15, s='0', color='black', fontsize='10', fontweight='bold')\n",
    "plt.text(0.4, 0.4, s='1', color='black', fontsize='10', fontweight='bold')\n",
    "\n",
    "ax.set_xlabel('$v_1$')\n",
    "ax.set_ylabel('$v_2$')\n",
    "plt.title('Prob. of allocating item 1')\n",
    "_ = plt.colorbar(img, fraction=0.046, pad=0.04)\n",
    "if save_plot:\n",
    "    fig.set_size_inches(4, 3)\n",
    "    plt.savefig(os.path.join(cfg.dir_name, 'alloc1.pdf'), bbox_inches = 'tight', pad_inches = 0.05)"
   ]
  },
  {
   "cell_type": "code",
   "execution_count": 14,
   "metadata": {},
   "outputs": [
    {
     "data": {
      "image/png": "[encoded data removed]",
      "text/plain": [
       "<matplotlib.figure.Figure at 0x2ae4e781bc90>"
      ]
     },
     "metadata": {},
     "output_type": "display_data"
    }
   ],
   "source": [
    "x1 = np.sqrt(1/3)\n",
    "points = [(x1, 0), (0, x1)]\n",
    "x = list(map(lambda x: x[0], points))\n",
    "y = list(map(lambda x: x[1], points))\n",
    "\n",
    "fig, ax = plt.subplots(ncols = 1, nrows = 1, figsize=(8,6))\n",
    "\n",
    "plt.axis([0, 1.0, 0, 1.0])\n",
    "plt.plot(x, y, linewidth = 2, linestyle = '--', c='black')\n",
    "a2 = alloc[:, :, 1]\n",
    "a2[mask] = 10.0\n",
    "img = ax.imshow(a2[::-1, :], extent=[0,1,0,1], vmin = 0.0, vmax=1.0, cmap = palette)\n",
    "\n",
    "\n",
    "plt.text(0.15, 0.15, s='0', color='black', fontsize='10', fontweight='bold')\n",
    "plt.text(0.4, 0.4, s='1', color='black', fontsize='10', fontweight='bold')\n",
    "\n",
    "ax.set_xlabel('$v_1$')\n",
    "ax.set_ylabel('$v_2$')\n",
    "plt.title('Prob. of allocating item 2')\n",
    "_ = plt.colorbar(img, fraction=0.046, pad=0.04)\n",
    "if save_plot:\n",
    "    fig.set_size_inches(4, 3)\n",
    "    plt.savefig(os.path.join(cfg.dir_name, 'alloc2.pdf'), bbox_inches = 'tight', pad_inches = 0.05)"
   ]
  },
  {
   "cell_type": "code",
   "execution_count": null,
   "metadata": {
    "collapsed": true
   },
   "outputs": [],
   "source": []
  }
 ],
 "metadata": {
  "kernelspec": {
   "display_name": "Python 2",
   "language": "python",
   "name": "python2"
  },
  "language_info": {
   "codemirror_mode": {
    "name": "ipython",
    "version": 2
   },
   "file_extension": ".py",
   "mimetype": "text/x-python",
   "name": "python",
   "nbconvert_exporter": "python",
   "pygments_lexer": "ipython2",
   "version": "2.7.13"
  }
 },
 "nbformat": 4,
 "nbformat_minor": 2
}
